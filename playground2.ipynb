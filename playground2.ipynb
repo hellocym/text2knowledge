{
 "cells": [
  {
   "cell_type": "markdown",
   "metadata": {},
   "source": [
    "# 读取数据集"
   ]
  },
  {
   "cell_type": "markdown",
   "metadata": {},
   "source": [
    "biored读取"
   ]
  },
  {
   "cell_type": "code",
   "execution_count": 1,
   "metadata": {},
   "outputs": [
    {
     "name": "stderr",
     "output_type": "stream",
     "text": [
      "/Users/harrychen/Projects/text2knowledge/.conda/lib/python3.11/site-packages/tqdm/auto.py:21: TqdmWarning: IProgress not found. Please update jupyter and ipywidgets. See https://ipywidgets.readthedocs.io/en/stable/user_install.html\n",
      "  from .autonotebook import tqdm as notebook_tqdm\n"
     ]
    }
   ],
   "source": [
    "from datasets import load_dataset\n",
    "datas = load_dataset(\"bigbio/biored\")"
   ]
  },
  {
   "cell_type": "markdown",
   "metadata": {},
   "source": [
    "抽取实体"
   ]
  },
  {
   "cell_type": "code",
   "execution_count": 4,
   "metadata": {},
   "outputs": [],
   "source": [
    "import json\n",
    "import os, sys\n",
    "import contextlib\n",
    "from text2knowledge.strategy1 import extract_concepts\n",
    "\n",
    "\n",
    "model_name = 'qwen2.5-7b-instruct-1m'\n",
    "# base_url = 'http://100.64.0.70:1234/v1'\n",
    "base_url = 'http://192.168.31.58:1234/v1'\n",
    "\n",
    "i = 4\n",
    "while i < len(datas['test']):\n",
    "    data = datas['test'][i]\n",
    "    pmid = data['pmid']\n",
    "    passages = data['passages']\n",
    "    entities = data['entities']\n",
    "    abstract = passages[1]['text'][0]\n",
    "    abstract_offset = passages[1]['offsets'][0]\n",
    "    metadata = {\n",
    "        'pmid': pmid,\n",
    "        'type': 'abstract',\n",
    "    }\n",
    "\n",
    "    #with open(os.devnull, \"w\") as f, contextlib.redirect_stdout(f):\n",
    "    entities_extracted = extract_concepts(abstract, model=model_name, metadata=metadata, base_url=base_url)\n",
    "    \n",
    "    if entities_extracted:\n",
    "        disease_entities_extracted = [e for e in entities_extracted if e['category'] == 'Disease']\n",
    "        # print(disease_entities_extracted)\n",
    "        entities_str = json.dumps(entities_extracted, indent=4)\n",
    "        # print(entities_str)\n",
    "    else:\n",
    "        print(\"No entities found.\")\n",
    "    break"
   ]
  },
  {
   "cell_type": "code",
   "execution_count": 5,
   "metadata": {},
   "outputs": [
    {
     "data": {
      "text/plain": [
       "[{'entity': 'Deoxyguanosine kinase deficiency',\n",
       "  'confidence': 5,\n",
       "  'category': 'Disease',\n",
       "  'pmid': '19394258',\n",
       "  'type': 'abstract'},\n",
       " {'entity': 'DGUOK gene',\n",
       "  'confidence': 5,\n",
       "  'category': 'Gene',\n",
       "  'pmid': '19394258',\n",
       "  'type': 'abstract'},\n",
       " {'entity': 'dGK',\n",
       "  'confidence': 5,\n",
       "  'category': 'Protein',\n",
       "  'pmid': '19394258',\n",
       "  'type': 'abstract'},\n",
       " {'entity': 'mitochondrial DNA depletion',\n",
       "  'confidence': 5,\n",
       "  'category': 'Disease',\n",
       "  'pmid': '19394258',\n",
       "  'type': 'abstract'},\n",
       " {'entity': 'hepatocerebral phenotype',\n",
       "  'confidence': 4,\n",
       "  'category': 'Anatomy',\n",
       "  'pmid': '19394258',\n",
       "  'type': 'abstract'},\n",
       " {'entity': 'DGUOK homozygous mutation (c.444-62C>A)',\n",
       "  'confidence': 5,\n",
       "  'category': 'MolecularFunction',\n",
       "  'pmid': '19394258',\n",
       "  'type': 'abstract'},\n",
       " {'entity': 'cryptic splice site',\n",
       "  'confidence': 4,\n",
       "  'category': 'Anatomy',\n",
       "  'pmid': '19394258',\n",
       "  'type': 'abstract'},\n",
       " {'entity': 'dGK kinase domain',\n",
       "  'confidence': 5,\n",
       "  'category': 'Protein',\n",
       "  'pmid': '19394258',\n",
       "  'type': 'abstract'}]"
      ]
     },
     "execution_count": 5,
     "metadata": {},
     "output_type": "execute_result"
    }
   ],
   "source": [
    "entities_extracted"
   ]
  },
  {
   "cell_type": "markdown",
   "metadata": {},
   "source": [
    "抽取关系"
   ]
  },
  {
   "cell_type": "code",
   "execution_count": 9,
   "metadata": {},
   "outputs": [
    {
     "name": "stdout",
     "output_type": "stream",
     "text": [
      "Entities saved to ./extracted/biored/test_0.json\n",
      "Entities saved to ./extracted/biored/test_1.json\n",
      "Entities saved to ./extracted/biored/test_2.json\n",
      "Entities saved to ./extracted/biored/test_3.json\n",
      "Entities saved to ./extracted/biored/test_4.json\n",
      "Entities saved to ./extracted/biored/test_5.json\n",
      "No entities found.\n",
      "No entities found.\n",
      "No entities found.\n"
     ]
    },
    {
     "ename": "KeyboardInterrupt",
     "evalue": "",
     "output_type": "error",
     "traceback": [
      "\u001b[31m---------------------------------------------------------------------------\u001b[39m",
      "\u001b[31mKeyboardInterrupt\u001b[39m                         Traceback (most recent call last)",
      "\u001b[36mCell\u001b[39m\u001b[36m \u001b[39m\u001b[32mIn[9]\u001b[39m\u001b[32m, line 24\u001b[39m\n\u001b[32m     18\u001b[39m metadata = {\n\u001b[32m     19\u001b[39m     \u001b[33m'\u001b[39m\u001b[33mpmid\u001b[39m\u001b[33m'\u001b[39m: pmid,\n\u001b[32m     20\u001b[39m     \u001b[33m'\u001b[39m\u001b[33mtype\u001b[39m\u001b[33m'\u001b[39m: \u001b[33m'\u001b[39m\u001b[33mabstract\u001b[39m\u001b[33m'\u001b[39m,\n\u001b[32m     21\u001b[39m }\n\u001b[32m     23\u001b[39m \u001b[38;5;28;01mwith\u001b[39;00m \u001b[38;5;28mopen\u001b[39m(os.devnull, \u001b[33m\"\u001b[39m\u001b[33mw\u001b[39m\u001b[33m\"\u001b[39m) \u001b[38;5;28;01mas\u001b[39;00m f, contextlib.redirect_stdout(f):\n\u001b[32m---> \u001b[39m\u001b[32m24\u001b[39m     relations_extracted = \u001b[43mgraph_prompt\u001b[49m\u001b[43m(\u001b[49m\u001b[43mabstract\u001b[49m\u001b[43m,\u001b[49m\u001b[43m \u001b[49m\u001b[43mmodel\u001b[49m\u001b[43m=\u001b[49m\u001b[43mmodel_name\u001b[49m\u001b[43m,\u001b[49m\u001b[43m \u001b[49m\u001b[43mmetadata\u001b[49m\u001b[43m=\u001b[49m\u001b[43mmetadata\u001b[49m\u001b[43m,\u001b[49m\u001b[43m \u001b[49m\u001b[43mbase_url\u001b[49m\u001b[43m=\u001b[49m\u001b[43mbase_url\u001b[49m\u001b[43m)\u001b[49m\n\u001b[32m     26\u001b[39m \u001b[38;5;28;01mif\u001b[39;00m relations_extracted:\n\u001b[32m     27\u001b[39m     \u001b[38;5;66;03m# disease_entities_extracted = [e for e in entities_extracted if e['category'] == 'Disease']\u001b[39;00m\n\u001b[32m     28\u001b[39m     \u001b[38;5;66;03m# print(disease_entities_extracted)\u001b[39;00m\n\u001b[32m     29\u001b[39m     entities_str = json.dumps(relations_extracted, indent=\u001b[32m4\u001b[39m)\n",
      "\u001b[36mFile \u001b[39m\u001b[32m~/Projects/text2knowledge/text2knowledge/strategy1.py:39\u001b[39m, in \u001b[36mgraph_prompt\u001b[39m\u001b[34m(input, metadata, model, base_url)\u001b[39m\n\u001b[32m     37\u001b[39m USER_PROMPT = \u001b[33mf\u001b[39m\u001b[33m\"\u001b[39m\u001b[38;5;132;01m{\u001b[39;00mRELATION_EXTRACTION_PROMPT_TEMPLATE\u001b[38;5;132;01m}\u001b[39;00m\u001b[38;5;130;01m\\n\u001b[39;00m\u001b[38;5;130;01m\\n\u001b[39;00m\u001b[33mcontext: ```\u001b[39m\u001b[38;5;132;01m{\u001b[39;00m\u001b[38;5;28minput\u001b[39m\u001b[38;5;132;01m}\u001b[39;00m\u001b[33m``` \u001b[39m\u001b[38;5;130;01m\\n\u001b[39;00m\u001b[38;5;130;01m\\n\u001b[39;00m\u001b[33m output: \u001b[39m\u001b[33m\"\u001b[39m\n\u001b[32m     38\u001b[39m \u001b[38;5;66;03m# with open(os.devnull, \"w\") as f, contextlib.redirect_stdout(f):\u001b[39;00m\n\u001b[32m---> \u001b[39m\u001b[32m39\u001b[39m response, _ = \u001b[43mclient\u001b[49m\u001b[43m.\u001b[49m\u001b[43mgenerate\u001b[49m\u001b[43m(\u001b[49m\u001b[43mmodel_name\u001b[49m\u001b[43m=\u001b[49m\u001b[43mmodel\u001b[49m\u001b[43m,\u001b[49m\u001b[43m \u001b[49m\u001b[43mprompt\u001b[49m\u001b[43m=\u001b[49m\u001b[43mUSER_PROMPT\u001b[49m\u001b[43m,\u001b[49m\u001b[43m \u001b[49m\u001b[43mbase_url\u001b[49m\u001b[43m=\u001b[49m\u001b[43mbase_url\u001b[49m\u001b[43m)\u001b[49m\n\u001b[32m     40\u001b[39m response = response[response.index(\u001b[33m'\u001b[39m\u001b[33m[\u001b[39m\u001b[33m'\u001b[39m):response.rindex(\u001b[33m'\u001b[39m\u001b[33m]\u001b[39m\u001b[33m'\u001b[39m)+\u001b[32m1\u001b[39m]\n\u001b[32m     41\u001b[39m \u001b[38;5;66;03m# print(response)\u001b[39;00m\n",
      "\u001b[36mFile \u001b[39m\u001b[32m~/Projects/text2knowledge/text2knowledge/openai/client.py:28\u001b[39m, in \u001b[36mgenerate\u001b[39m\u001b[34m(model_name, prompt, system, temperature, max_tokens, stream, base_url)\u001b[39m\n\u001b[32m     16\u001b[39m payload = {\n\u001b[32m     17\u001b[39m     \u001b[33m\"\u001b[39m\u001b[33mmodel\u001b[39m\u001b[33m\"\u001b[39m: model_name,\n\u001b[32m     18\u001b[39m     \u001b[33m\"\u001b[39m\u001b[33mmessages\u001b[39m\u001b[33m\"\u001b[39m: messages,\n\u001b[32m   (...)\u001b[39m\u001b[32m     21\u001b[39m     \u001b[33m\"\u001b[39m\u001b[33mstream\u001b[39m\u001b[33m\"\u001b[39m: stream\n\u001b[32m     22\u001b[39m }\n\u001b[32m     24\u001b[39m headers = {\n\u001b[32m     25\u001b[39m     \u001b[33m\"\u001b[39m\u001b[33mContent-Type\u001b[39m\u001b[33m\"\u001b[39m: \u001b[33m\"\u001b[39m\u001b[33mapplication/json\u001b[39m\u001b[33m\"\u001b[39m\n\u001b[32m     26\u001b[39m }\n\u001b[32m---> \u001b[39m\u001b[32m28\u001b[39m response = \u001b[43mrequests\u001b[49m\u001b[43m.\u001b[49m\u001b[43mpost\u001b[49m\u001b[43m(\u001b[49m\u001b[43murl\u001b[49m\u001b[43m,\u001b[49m\u001b[43m \u001b[49m\u001b[43mjson\u001b[49m\u001b[43m=\u001b[49m\u001b[43mpayload\u001b[49m\u001b[43m,\u001b[49m\u001b[43m \u001b[49m\u001b[43mheaders\u001b[49m\u001b[43m=\u001b[49m\u001b[43mheaders\u001b[49m\u001b[43m)\u001b[49m\n\u001b[32m     29\u001b[39m response.raise_for_status()\n\u001b[32m     31\u001b[39m \u001b[38;5;28;01mif\u001b[39;00m stream:\n",
      "\u001b[36mFile \u001b[39m\u001b[32m~/Projects/text2knowledge/.conda/lib/python3.11/site-packages/requests/api.py:115\u001b[39m, in \u001b[36mpost\u001b[39m\u001b[34m(url, data, json, **kwargs)\u001b[39m\n\u001b[32m    103\u001b[39m \u001b[38;5;28;01mdef\u001b[39;00m\u001b[38;5;250m \u001b[39m\u001b[34mpost\u001b[39m(url, data=\u001b[38;5;28;01mNone\u001b[39;00m, json=\u001b[38;5;28;01mNone\u001b[39;00m, **kwargs):\n\u001b[32m    104\u001b[39m \u001b[38;5;250m    \u001b[39m\u001b[33mr\u001b[39m\u001b[33;03m\"\"\"Sends a POST request.\u001b[39;00m\n\u001b[32m    105\u001b[39m \n\u001b[32m    106\u001b[39m \u001b[33;03m    :param url: URL for the new :class:`Request` object.\u001b[39;00m\n\u001b[32m   (...)\u001b[39m\u001b[32m    112\u001b[39m \u001b[33;03m    :rtype: requests.Response\u001b[39;00m\n\u001b[32m    113\u001b[39m \u001b[33;03m    \"\"\"\u001b[39;00m\n\u001b[32m--> \u001b[39m\u001b[32m115\u001b[39m     \u001b[38;5;28;01mreturn\u001b[39;00m \u001b[43mrequest\u001b[49m\u001b[43m(\u001b[49m\u001b[33;43m\"\u001b[39;49m\u001b[33;43mpost\u001b[39;49m\u001b[33;43m\"\u001b[39;49m\u001b[43m,\u001b[49m\u001b[43m \u001b[49m\u001b[43murl\u001b[49m\u001b[43m,\u001b[49m\u001b[43m \u001b[49m\u001b[43mdata\u001b[49m\u001b[43m=\u001b[49m\u001b[43mdata\u001b[49m\u001b[43m,\u001b[49m\u001b[43m \u001b[49m\u001b[43mjson\u001b[49m\u001b[43m=\u001b[49m\u001b[43mjson\u001b[49m\u001b[43m,\u001b[49m\u001b[43m \u001b[49m\u001b[43m*\u001b[49m\u001b[43m*\u001b[49m\u001b[43mkwargs\u001b[49m\u001b[43m)\u001b[49m\n",
      "\u001b[36mFile \u001b[39m\u001b[32m~/Projects/text2knowledge/.conda/lib/python3.11/site-packages/requests/api.py:59\u001b[39m, in \u001b[36mrequest\u001b[39m\u001b[34m(method, url, **kwargs)\u001b[39m\n\u001b[32m     55\u001b[39m \u001b[38;5;66;03m# By using the 'with' statement we are sure the session is closed, thus we\u001b[39;00m\n\u001b[32m     56\u001b[39m \u001b[38;5;66;03m# avoid leaving sockets open which can trigger a ResourceWarning in some\u001b[39;00m\n\u001b[32m     57\u001b[39m \u001b[38;5;66;03m# cases, and look like a memory leak in others.\u001b[39;00m\n\u001b[32m     58\u001b[39m \u001b[38;5;28;01mwith\u001b[39;00m sessions.Session() \u001b[38;5;28;01mas\u001b[39;00m session:\n\u001b[32m---> \u001b[39m\u001b[32m59\u001b[39m     \u001b[38;5;28;01mreturn\u001b[39;00m \u001b[43msession\u001b[49m\u001b[43m.\u001b[49m\u001b[43mrequest\u001b[49m\u001b[43m(\u001b[49m\u001b[43mmethod\u001b[49m\u001b[43m=\u001b[49m\u001b[43mmethod\u001b[49m\u001b[43m,\u001b[49m\u001b[43m \u001b[49m\u001b[43murl\u001b[49m\u001b[43m=\u001b[49m\u001b[43murl\u001b[49m\u001b[43m,\u001b[49m\u001b[43m \u001b[49m\u001b[43m*\u001b[49m\u001b[43m*\u001b[49m\u001b[43mkwargs\u001b[49m\u001b[43m)\u001b[49m\n",
      "\u001b[36mFile \u001b[39m\u001b[32m~/Projects/text2knowledge/.conda/lib/python3.11/site-packages/requests/sessions.py:589\u001b[39m, in \u001b[36mSession.request\u001b[39m\u001b[34m(self, method, url, params, data, headers, cookies, files, auth, timeout, allow_redirects, proxies, hooks, stream, verify, cert, json)\u001b[39m\n\u001b[32m    584\u001b[39m send_kwargs = {\n\u001b[32m    585\u001b[39m     \u001b[33m\"\u001b[39m\u001b[33mtimeout\u001b[39m\u001b[33m\"\u001b[39m: timeout,\n\u001b[32m    586\u001b[39m     \u001b[33m\"\u001b[39m\u001b[33mallow_redirects\u001b[39m\u001b[33m\"\u001b[39m: allow_redirects,\n\u001b[32m    587\u001b[39m }\n\u001b[32m    588\u001b[39m send_kwargs.update(settings)\n\u001b[32m--> \u001b[39m\u001b[32m589\u001b[39m resp = \u001b[38;5;28;43mself\u001b[39;49m\u001b[43m.\u001b[49m\u001b[43msend\u001b[49m\u001b[43m(\u001b[49m\u001b[43mprep\u001b[49m\u001b[43m,\u001b[49m\u001b[43m \u001b[49m\u001b[43m*\u001b[49m\u001b[43m*\u001b[49m\u001b[43msend_kwargs\u001b[49m\u001b[43m)\u001b[49m\n\u001b[32m    591\u001b[39m \u001b[38;5;28;01mreturn\u001b[39;00m resp\n",
      "\u001b[36mFile \u001b[39m\u001b[32m~/Projects/text2knowledge/.conda/lib/python3.11/site-packages/requests/sessions.py:703\u001b[39m, in \u001b[36mSession.send\u001b[39m\u001b[34m(self, request, **kwargs)\u001b[39m\n\u001b[32m    700\u001b[39m start = preferred_clock()\n\u001b[32m    702\u001b[39m \u001b[38;5;66;03m# Send the request\u001b[39;00m\n\u001b[32m--> \u001b[39m\u001b[32m703\u001b[39m r = \u001b[43madapter\u001b[49m\u001b[43m.\u001b[49m\u001b[43msend\u001b[49m\u001b[43m(\u001b[49m\u001b[43mrequest\u001b[49m\u001b[43m,\u001b[49m\u001b[43m \u001b[49m\u001b[43m*\u001b[49m\u001b[43m*\u001b[49m\u001b[43mkwargs\u001b[49m\u001b[43m)\u001b[49m\n\u001b[32m    705\u001b[39m \u001b[38;5;66;03m# Total elapsed time of the request (approximately)\u001b[39;00m\n\u001b[32m    706\u001b[39m elapsed = preferred_clock() - start\n",
      "\u001b[36mFile \u001b[39m\u001b[32m~/Projects/text2knowledge/.conda/lib/python3.11/site-packages/requests/adapters.py:667\u001b[39m, in \u001b[36mHTTPAdapter.send\u001b[39m\u001b[34m(self, request, stream, timeout, verify, cert, proxies)\u001b[39m\n\u001b[32m    664\u001b[39m     timeout = TimeoutSauce(connect=timeout, read=timeout)\n\u001b[32m    666\u001b[39m \u001b[38;5;28;01mtry\u001b[39;00m:\n\u001b[32m--> \u001b[39m\u001b[32m667\u001b[39m     resp = \u001b[43mconn\u001b[49m\u001b[43m.\u001b[49m\u001b[43murlopen\u001b[49m\u001b[43m(\u001b[49m\n\u001b[32m    668\u001b[39m \u001b[43m        \u001b[49m\u001b[43mmethod\u001b[49m\u001b[43m=\u001b[49m\u001b[43mrequest\u001b[49m\u001b[43m.\u001b[49m\u001b[43mmethod\u001b[49m\u001b[43m,\u001b[49m\n\u001b[32m    669\u001b[39m \u001b[43m        \u001b[49m\u001b[43murl\u001b[49m\u001b[43m=\u001b[49m\u001b[43murl\u001b[49m\u001b[43m,\u001b[49m\n\u001b[32m    670\u001b[39m \u001b[43m        \u001b[49m\u001b[43mbody\u001b[49m\u001b[43m=\u001b[49m\u001b[43mrequest\u001b[49m\u001b[43m.\u001b[49m\u001b[43mbody\u001b[49m\u001b[43m,\u001b[49m\n\u001b[32m    671\u001b[39m \u001b[43m        \u001b[49m\u001b[43mheaders\u001b[49m\u001b[43m=\u001b[49m\u001b[43mrequest\u001b[49m\u001b[43m.\u001b[49m\u001b[43mheaders\u001b[49m\u001b[43m,\u001b[49m\n\u001b[32m    672\u001b[39m \u001b[43m        \u001b[49m\u001b[43mredirect\u001b[49m\u001b[43m=\u001b[49m\u001b[38;5;28;43;01mFalse\u001b[39;49;00m\u001b[43m,\u001b[49m\n\u001b[32m    673\u001b[39m \u001b[43m        \u001b[49m\u001b[43massert_same_host\u001b[49m\u001b[43m=\u001b[49m\u001b[38;5;28;43;01mFalse\u001b[39;49;00m\u001b[43m,\u001b[49m\n\u001b[32m    674\u001b[39m \u001b[43m        \u001b[49m\u001b[43mpreload_content\u001b[49m\u001b[43m=\u001b[49m\u001b[38;5;28;43;01mFalse\u001b[39;49;00m\u001b[43m,\u001b[49m\n\u001b[32m    675\u001b[39m \u001b[43m        \u001b[49m\u001b[43mdecode_content\u001b[49m\u001b[43m=\u001b[49m\u001b[38;5;28;43;01mFalse\u001b[39;49;00m\u001b[43m,\u001b[49m\n\u001b[32m    676\u001b[39m \u001b[43m        \u001b[49m\u001b[43mretries\u001b[49m\u001b[43m=\u001b[49m\u001b[38;5;28;43mself\u001b[39;49m\u001b[43m.\u001b[49m\u001b[43mmax_retries\u001b[49m\u001b[43m,\u001b[49m\n\u001b[32m    677\u001b[39m \u001b[43m        \u001b[49m\u001b[43mtimeout\u001b[49m\u001b[43m=\u001b[49m\u001b[43mtimeout\u001b[49m\u001b[43m,\u001b[49m\n\u001b[32m    678\u001b[39m \u001b[43m        \u001b[49m\u001b[43mchunked\u001b[49m\u001b[43m=\u001b[49m\u001b[43mchunked\u001b[49m\u001b[43m,\u001b[49m\n\u001b[32m    679\u001b[39m \u001b[43m    \u001b[49m\u001b[43m)\u001b[49m\n\u001b[32m    681\u001b[39m \u001b[38;5;28;01mexcept\u001b[39;00m (ProtocolError, \u001b[38;5;167;01mOSError\u001b[39;00m) \u001b[38;5;28;01mas\u001b[39;00m err:\n\u001b[32m    682\u001b[39m     \u001b[38;5;28;01mraise\u001b[39;00m \u001b[38;5;167;01mConnectionError\u001b[39;00m(err, request=request)\n",
      "\u001b[36mFile \u001b[39m\u001b[32m~/Projects/text2knowledge/.conda/lib/python3.11/site-packages/urllib3/connectionpool.py:787\u001b[39m, in \u001b[36mHTTPConnectionPool.urlopen\u001b[39m\u001b[34m(self, method, url, body, headers, retries, redirect, assert_same_host, timeout, pool_timeout, release_conn, chunked, body_pos, preload_content, decode_content, **response_kw)\u001b[39m\n\u001b[32m    784\u001b[39m response_conn = conn \u001b[38;5;28;01mif\u001b[39;00m \u001b[38;5;129;01mnot\u001b[39;00m release_conn \u001b[38;5;28;01melse\u001b[39;00m \u001b[38;5;28;01mNone\u001b[39;00m\n\u001b[32m    786\u001b[39m \u001b[38;5;66;03m# Make the request on the HTTPConnection object\u001b[39;00m\n\u001b[32m--> \u001b[39m\u001b[32m787\u001b[39m response = \u001b[38;5;28;43mself\u001b[39;49m\u001b[43m.\u001b[49m\u001b[43m_make_request\u001b[49m\u001b[43m(\u001b[49m\n\u001b[32m    788\u001b[39m \u001b[43m    \u001b[49m\u001b[43mconn\u001b[49m\u001b[43m,\u001b[49m\n\u001b[32m    789\u001b[39m \u001b[43m    \u001b[49m\u001b[43mmethod\u001b[49m\u001b[43m,\u001b[49m\n\u001b[32m    790\u001b[39m \u001b[43m    \u001b[49m\u001b[43murl\u001b[49m\u001b[43m,\u001b[49m\n\u001b[32m    791\u001b[39m \u001b[43m    \u001b[49m\u001b[43mtimeout\u001b[49m\u001b[43m=\u001b[49m\u001b[43mtimeout_obj\u001b[49m\u001b[43m,\u001b[49m\n\u001b[32m    792\u001b[39m \u001b[43m    \u001b[49m\u001b[43mbody\u001b[49m\u001b[43m=\u001b[49m\u001b[43mbody\u001b[49m\u001b[43m,\u001b[49m\n\u001b[32m    793\u001b[39m \u001b[43m    \u001b[49m\u001b[43mheaders\u001b[49m\u001b[43m=\u001b[49m\u001b[43mheaders\u001b[49m\u001b[43m,\u001b[49m\n\u001b[32m    794\u001b[39m \u001b[43m    \u001b[49m\u001b[43mchunked\u001b[49m\u001b[43m=\u001b[49m\u001b[43mchunked\u001b[49m\u001b[43m,\u001b[49m\n\u001b[32m    795\u001b[39m \u001b[43m    \u001b[49m\u001b[43mretries\u001b[49m\u001b[43m=\u001b[49m\u001b[43mretries\u001b[49m\u001b[43m,\u001b[49m\n\u001b[32m    796\u001b[39m \u001b[43m    \u001b[49m\u001b[43mresponse_conn\u001b[49m\u001b[43m=\u001b[49m\u001b[43mresponse_conn\u001b[49m\u001b[43m,\u001b[49m\n\u001b[32m    797\u001b[39m \u001b[43m    \u001b[49m\u001b[43mpreload_content\u001b[49m\u001b[43m=\u001b[49m\u001b[43mpreload_content\u001b[49m\u001b[43m,\u001b[49m\n\u001b[32m    798\u001b[39m \u001b[43m    \u001b[49m\u001b[43mdecode_content\u001b[49m\u001b[43m=\u001b[49m\u001b[43mdecode_content\u001b[49m\u001b[43m,\u001b[49m\n\u001b[32m    799\u001b[39m \u001b[43m    \u001b[49m\u001b[43m*\u001b[49m\u001b[43m*\u001b[49m\u001b[43mresponse_kw\u001b[49m\u001b[43m,\u001b[49m\n\u001b[32m    800\u001b[39m \u001b[43m\u001b[49m\u001b[43m)\u001b[49m\n\u001b[32m    802\u001b[39m \u001b[38;5;66;03m# Everything went great!\u001b[39;00m\n\u001b[32m    803\u001b[39m clean_exit = \u001b[38;5;28;01mTrue\u001b[39;00m\n",
      "\u001b[36mFile \u001b[39m\u001b[32m~/Projects/text2knowledge/.conda/lib/python3.11/site-packages/urllib3/connectionpool.py:534\u001b[39m, in \u001b[36mHTTPConnectionPool._make_request\u001b[39m\u001b[34m(self, conn, method, url, body, headers, retries, timeout, chunked, response_conn, preload_content, decode_content, enforce_content_length)\u001b[39m\n\u001b[32m    532\u001b[39m \u001b[38;5;66;03m# Receive the response from the server\u001b[39;00m\n\u001b[32m    533\u001b[39m \u001b[38;5;28;01mtry\u001b[39;00m:\n\u001b[32m--> \u001b[39m\u001b[32m534\u001b[39m     response = \u001b[43mconn\u001b[49m\u001b[43m.\u001b[49m\u001b[43mgetresponse\u001b[49m\u001b[43m(\u001b[49m\u001b[43m)\u001b[49m\n\u001b[32m    535\u001b[39m \u001b[38;5;28;01mexcept\u001b[39;00m (BaseSSLError, \u001b[38;5;167;01mOSError\u001b[39;00m) \u001b[38;5;28;01mas\u001b[39;00m e:\n\u001b[32m    536\u001b[39m     \u001b[38;5;28mself\u001b[39m._raise_timeout(err=e, url=url, timeout_value=read_timeout)\n",
      "\u001b[36mFile \u001b[39m\u001b[32m~/Projects/text2knowledge/.conda/lib/python3.11/site-packages/urllib3/connection.py:516\u001b[39m, in \u001b[36mHTTPConnection.getresponse\u001b[39m\u001b[34m(self)\u001b[39m\n\u001b[32m    513\u001b[39m _shutdown = \u001b[38;5;28mgetattr\u001b[39m(\u001b[38;5;28mself\u001b[39m.sock, \u001b[33m\"\u001b[39m\u001b[33mshutdown\u001b[39m\u001b[33m\"\u001b[39m, \u001b[38;5;28;01mNone\u001b[39;00m)\n\u001b[32m    515\u001b[39m \u001b[38;5;66;03m# Get the response from http.client.HTTPConnection\u001b[39;00m\n\u001b[32m--> \u001b[39m\u001b[32m516\u001b[39m httplib_response = \u001b[38;5;28;43msuper\u001b[39;49m\u001b[43m(\u001b[49m\u001b[43m)\u001b[49m\u001b[43m.\u001b[49m\u001b[43mgetresponse\u001b[49m\u001b[43m(\u001b[49m\u001b[43m)\u001b[49m\n\u001b[32m    518\u001b[39m \u001b[38;5;28;01mtry\u001b[39;00m:\n\u001b[32m    519\u001b[39m     assert_header_parsing(httplib_response.msg)\n",
      "\u001b[36mFile \u001b[39m\u001b[32m~/Projects/text2knowledge/.conda/lib/python3.11/http/client.py:1395\u001b[39m, in \u001b[36mHTTPConnection.getresponse\u001b[39m\u001b[34m(self)\u001b[39m\n\u001b[32m   1393\u001b[39m \u001b[38;5;28;01mtry\u001b[39;00m:\n\u001b[32m   1394\u001b[39m     \u001b[38;5;28;01mtry\u001b[39;00m:\n\u001b[32m-> \u001b[39m\u001b[32m1395\u001b[39m         \u001b[43mresponse\u001b[49m\u001b[43m.\u001b[49m\u001b[43mbegin\u001b[49m\u001b[43m(\u001b[49m\u001b[43m)\u001b[49m\n\u001b[32m   1396\u001b[39m     \u001b[38;5;28;01mexcept\u001b[39;00m \u001b[38;5;167;01mConnectionError\u001b[39;00m:\n\u001b[32m   1397\u001b[39m         \u001b[38;5;28mself\u001b[39m.close()\n",
      "\u001b[36mFile \u001b[39m\u001b[32m~/Projects/text2knowledge/.conda/lib/python3.11/http/client.py:325\u001b[39m, in \u001b[36mHTTPResponse.begin\u001b[39m\u001b[34m(self)\u001b[39m\n\u001b[32m    323\u001b[39m \u001b[38;5;66;03m# read until we get a non-100 response\u001b[39;00m\n\u001b[32m    324\u001b[39m \u001b[38;5;28;01mwhile\u001b[39;00m \u001b[38;5;28;01mTrue\u001b[39;00m:\n\u001b[32m--> \u001b[39m\u001b[32m325\u001b[39m     version, status, reason = \u001b[38;5;28;43mself\u001b[39;49m\u001b[43m.\u001b[49m\u001b[43m_read_status\u001b[49m\u001b[43m(\u001b[49m\u001b[43m)\u001b[49m\n\u001b[32m    326\u001b[39m     \u001b[38;5;28;01mif\u001b[39;00m status != CONTINUE:\n\u001b[32m    327\u001b[39m         \u001b[38;5;28;01mbreak\u001b[39;00m\n",
      "\u001b[36mFile \u001b[39m\u001b[32m~/Projects/text2knowledge/.conda/lib/python3.11/http/client.py:286\u001b[39m, in \u001b[36mHTTPResponse._read_status\u001b[39m\u001b[34m(self)\u001b[39m\n\u001b[32m    285\u001b[39m \u001b[38;5;28;01mdef\u001b[39;00m\u001b[38;5;250m \u001b[39m\u001b[34m_read_status\u001b[39m(\u001b[38;5;28mself\u001b[39m):\n\u001b[32m--> \u001b[39m\u001b[32m286\u001b[39m     line = \u001b[38;5;28mstr\u001b[39m(\u001b[38;5;28mself\u001b[39m.fp.readline(_MAXLINE + \u001b[32m1\u001b[39m), \u001b[33m\"\u001b[39m\u001b[33miso-8859-1\u001b[39m\u001b[33m\"\u001b[39m)\n\u001b[32m    287\u001b[39m     \u001b[38;5;28;01mif\u001b[39;00m \u001b[38;5;28mlen\u001b[39m(line) > _MAXLINE:\n\u001b[32m    288\u001b[39m         \u001b[38;5;28;01mraise\u001b[39;00m LineTooLong(\u001b[33m\"\u001b[39m\u001b[33mstatus line\u001b[39m\u001b[33m\"\u001b[39m)\n",
      "\u001b[36mFile \u001b[39m\u001b[32m~/Projects/text2knowledge/.conda/lib/python3.11/socket.py:718\u001b[39m, in \u001b[36mSocketIO.readinto\u001b[39m\u001b[34m(self, b)\u001b[39m\n\u001b[32m    716\u001b[39m \u001b[38;5;28;01mwhile\u001b[39;00m \u001b[38;5;28;01mTrue\u001b[39;00m:\n\u001b[32m    717\u001b[39m     \u001b[38;5;28;01mtry\u001b[39;00m:\n\u001b[32m--> \u001b[39m\u001b[32m718\u001b[39m         \u001b[38;5;28;01mreturn\u001b[39;00m \u001b[38;5;28;43mself\u001b[39;49m\u001b[43m.\u001b[49m\u001b[43m_sock\u001b[49m\u001b[43m.\u001b[49m\u001b[43mrecv_into\u001b[49m\u001b[43m(\u001b[49m\u001b[43mb\u001b[49m\u001b[43m)\u001b[49m\n\u001b[32m    719\u001b[39m     \u001b[38;5;28;01mexcept\u001b[39;00m timeout:\n\u001b[32m    720\u001b[39m         \u001b[38;5;28mself\u001b[39m._timeout_occurred = \u001b[38;5;28;01mTrue\u001b[39;00m\n",
      "\u001b[31mKeyboardInterrupt\u001b[39m: "
     ]
    }
   ],
   "source": [
    "import json\n",
    "import os, sys\n",
    "import contextlib\n",
    "from text2knowledge.strategy1 import graph_prompt\n",
    "\n",
    "model_name = 'qwen2.5-7b-instruct-1m'\n",
    "# base_url = 'http://100.64.0.70:1234/v1'\n",
    "base_url = 'http://192.168.31.58:1234/v1'\n",
    "\n",
    "i = 0\n",
    "while i < len(datas['test']):\n",
    "    data = datas['test'][i]\n",
    "    pmid = data['pmid']\n",
    "    passages = data['passages']\n",
    "    relations = data['relations']\n",
    "    abstract = passages[1]['text'][0]\n",
    "    abstract_offset = passages[1]['offsets'][0]\n",
    "    metadata = {\n",
    "        'pmid': pmid,\n",
    "        'type': 'abstract',\n",
    "    }\n",
    "\n",
    "    with open(os.devnull, \"w\") as f, contextlib.redirect_stdout(f):\n",
    "        relations_extracted = graph_prompt(abstract, model=model_name, metadata=metadata, base_url=base_url)\n",
    "    \n",
    "    if relations_extracted:\n",
    "        # disease_entities_extracted = [e for e in entities_extracted if e['category'] == 'Disease']\n",
    "        # print(disease_entities_extracted)\n",
    "        entities_str = json.dumps(relations_extracted, indent=4)\n",
    "        save_path = f'./extracted/biored/test_{i}.json'\n",
    "        with open(save_path, 'w') as f:\n",
    "            f.write(entities_str)\n",
    "        print(f\"Entities saved to {save_path}\")\n",
    "        # print(entities_str)\n",
    "    else:\n",
    "        print(\"No entities found.\")\n",
    "    # break\n",
    "    i += 1\n",
    "    # if i >= 6:\n",
    "    #     break"
   ]
  },
  {
   "cell_type": "code",
   "execution_count": 8,
   "metadata": {},
   "outputs": [
    {
     "data": {
      "text/plain": [
       "[{'source_name': 'Autism spectrum disorders (ASDs)',\n",
       "  'source_type': 'Disease',\n",
       "  'target_name': 'increased rates of anxiety',\n",
       "  'target_type': 'Condition',\n",
       "  'relation_type': 'BioMedGPS::AssociatedWith::Disease:Symptom',\n",
       "  'key_sentence': 'Autism spectrum disorders (ASDs) are heterogeneous disorders presenting with increased rates of anxiety.',\n",
       "  'pmid': '19565319',\n",
       "  'type': 'abstract'},\n",
       " {'source_name': 'ADORA2A',\n",
       "  'source_type': 'Gene',\n",
       "  'target_name': 'panic disorder',\n",
       "  'target_type': 'Disease',\n",
       "  'relation_type': 'BioMedGPS::AssociatedWith::Gene:Disease',\n",
       "  'key_sentence': 'The adenosine A(2A) receptor gene (ADORA2A) is associated with panic disorder.',\n",
       "  'pmid': '19565319',\n",
       "  'type': 'abstract'},\n",
       " {'source_name': 'ADORA2A',\n",
       "  'source_type': 'Gene',\n",
       "  'target_name': 'chromosome 22q11.23',\n",
       "  'target_type': 'Anatomy',\n",
       "  'relation_type': 'BioMedGPS::LocatedIn::Gene:Anatomy',\n",
       "  'key_sentence': 'The adenosine A(2A) receptor gene (ADORA2A) is located on chromosome 22q11.23.',\n",
       "  'pmid': '19565319',\n",
       "  'type': 'abstract'},\n",
       " {'source_name': 'ADORA2A',\n",
       "  'source_type': 'Gene',\n",
       "  'target_name': 'caudate nucleus',\n",
       "  'target_type': 'Anatomy',\n",
       "  'relation_type': 'BioMedGPS::LocatedIn::Gene:Anatomy',\n",
       "  'key_sentence': 'Its gene product, the adenosine A(2A) receptor, is strongly expressed in the caudate nucleus.',\n",
       "  'pmid': '19565319',\n",
       "  'type': 'abstract'},\n",
       " {'source_name': 'ADORA2A',\n",
       "  'source_type': 'Gene',\n",
       "  'target_name': 'ASD (Autism spectrum disorders)',\n",
       "  'target_type': 'Disease',\n",
       "  'relation_type': 'BioMedGPS::AssociatedWith::Gene:Disease',\n",
       "  'key_sentence': 'In this study, 98 individuals with ASD and 234 control individuals were genotyped for eight single-nucleotide polymorphisms in ADORA2A.',\n",
       "  'pmid': '19565319',\n",
       "  'type': 'abstract'},\n",
       " {'source_name': 'rs2236624-CC',\n",
       "  'source_type': 'SNP',\n",
       "  'target_name': 'ASD (Autism spectrum disorders)',\n",
       "  'target_type': 'Disease',\n",
       "  'relation_type': 'BioMedGPS::AssociatedWith::Compound:Disease',\n",
       "  'key_sentence': 'Nominal association with the disorder was observed for rs2236624-CC.',\n",
       "  'pmid': '19565319',\n",
       "  'type': 'abstract'},\n",
       " {'source_name': 'rs3761422',\n",
       "  'source_type': 'SNP',\n",
       "  'target_name': 'ASD (Autism spectrum disorders)',\n",
       "  'target_type': 'Disease',\n",
       "  'relation_type': 'BioMedGPS::AssociatedWith::Compound:Disease',\n",
       "  'key_sentence': 'Phenotypic variability in ASD symptoms was influenced by rs3761422.',\n",
       "  'pmid': '19565319',\n",
       "  'type': 'abstract'},\n",
       " {'source_name': 'rs5751876',\n",
       "  'source_type': 'SNP',\n",
       "  'target_name': 'ASD (Autism spectrum disorders)',\n",
       "  'target_type': 'Disease',\n",
       "  'relation_type': 'BioMedGPS::AssociatedWith::Compound:Disease',\n",
       "  'key_sentence': 'Phenotypic variability in ASD symptoms was influenced by rs5751876.',\n",
       "  'pmid': '19565319',\n",
       "  'type': 'abstract'},\n",
       " {'source_name': 'rs35320474',\n",
       "  'source_type': 'SNP',\n",
       "  'target_name': 'ASD (Autism spectrum disorders)',\n",
       "  'target_type': 'Disease',\n",
       "  'relation_type': 'BioMedGPS::AssociatedWith::Compound:Disease',\n",
       "  'key_sentence': 'Phenotypic variability in ASD symptoms was influenced by rs35320474.',\n",
       "  'pmid': '19565319',\n",
       "  'type': 'abstract'},\n",
       " {'source_name': 'ADORA2A variants',\n",
       "  'source_type': 'Variant',\n",
       "  'target_name': 'anxiety',\n",
       "  'target_type': 'Condition',\n",
       "  'relation_type': 'BioMedGPS::AssociatedWith::Compound:Condition',\n",
       "  'key_sentence': 'Association of ADORA2A variants with anxiety was replicated for individuals with ASD.',\n",
       "  'pmid': '19565319',\n",
       "  'type': 'abstract'},\n",
       " {'source_name': 'ASD (Autism spectrum disorders)',\n",
       "  'source_type': 'Disease',\n",
       "  'target_name': '22q11.2 deletion syndrome',\n",
       "  'target_type': 'Condition',\n",
       "  'relation_type': 'BioMedGPS::AssociatedWith::Disease:Disease',\n",
       "  'key_sentence': 'As autistic symptoms are increased in individuals with 22q11.2 deletion syndrome, and large 22q11.2 deletions and duplications have been observed in ASD individuals.',\n",
       "  'pmid': '19565319',\n",
       "  'type': 'abstract'},\n",
       " {'source_name': 'ADORA2A variants',\n",
       "  'source_type': 'Variant',\n",
       "  'target_name': 'phenotypic expression in ASD',\n",
       "  'target_type': 'Condition',\n",
       "  'relation_type': 'BioMedGPS::AssociatedWith::Compound:Condition',\n",
       "  'key_sentence': 'Findings point toward a possible mediating role of ADORA2A variants on phenotypic expression in ASD.',\n",
       "  'pmid': '19565319',\n",
       "  'type': 'abstract'}]"
      ]
     },
     "execution_count": 8,
     "metadata": {},
     "output_type": "execute_result"
    }
   ],
   "source": [
    "relations_extracted"
   ]
  },
  {
   "cell_type": "code",
   "execution_count": null,
   "metadata": {},
   "outputs": [],
   "source": []
  }
 ],
 "metadata": {
  "kernelspec": {
   "display_name": "Python 3",
   "language": "python",
   "name": "python3"
  },
  "language_info": {
   "codemirror_mode": {
    "name": "ipython",
    "version": 3
   },
   "file_extension": ".py",
   "mimetype": "text/x-python",
   "name": "python",
   "nbconvert_exporter": "python",
   "pygments_lexer": "ipython3",
   "version": "3.11.11"
  }
 },
 "nbformat": 4,
 "nbformat_minor": 2
}
