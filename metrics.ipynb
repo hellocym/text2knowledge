{
 "cells": [
  {
   "cell_type": "markdown",
   "metadata": {},
   "source": [
    "## proxy"
   ]
  },
  {
   "cell_type": "code",
   "execution_count": 1,
   "metadata": {},
   "outputs": [],
   "source": [
    "# PROXY\n",
    "import subprocess\n",
    "import os\n",
    "\n",
    "result = subprocess.run('bash -c \"source /etc/network_turbo && env | grep proxy\"', shell=True, capture_output=True, text=True)\n",
    "output = result.stdout\n",
    "for line in output.splitlines():\n",
    "    if '=' in line:\n",
    "        var, value = line.split('=', 1)\n",
    "        os.environ[var] = value"
   ]
  },
  {
   "cell_type": "markdown",
   "metadata": {},
   "source": [
    "## Dataset\n"
   ]
  },
  {
   "cell_type": "code",
   "execution_count": 2,
   "metadata": {},
   "outputs": [
    {
     "name": "stderr",
     "output_type": "stream",
     "text": [
      "Using the latest cached version of the module from /root/.cache/huggingface/modules/datasets_modules/datasets/bigbio--biored/18063bd2d68db98142aaf46df1a6436e066ae226b6d0fbe293bd452e7bcdce23 (last modified on Mon Mar 18 01:26:54 2024) since it couldn't be found locally at bigbio/biored, or remotely on the Hugging Face Hub.\n",
      "Repo card metadata block was not found. Setting CardData to empty.\n"
     ]
    }
   ],
   "source": [
    "from datasets import load_dataset\n",
    "datas = load_dataset(\"bigbio/biored\")"
   ]
  },
  {
   "cell_type": "markdown",
   "metadata": {},
   "source": [
    "## Extract"
   ]
  },
  {
   "cell_type": "code",
   "execution_count": 3,
   "metadata": {},
   "outputs": [
    {
     "name": "stdout",
     "output_type": "stream",
     "text": [
      " [\n",
      "    {\n",
      "        \"entity\": \"mitochondrial DNA depletion\",\n",
      "        \"confidence\": \"5\",\n",
      "        \"category\": \"Metabolite\"\n",
      "    },\n",
      "    {\n",
      "        \"entity\": \"hepatocerebral phenotype\",\n",
      "        \"confidence\": \"4\",\n",
      "        \"category\": \"Symptom\"\n",
      "    },\n",
      "    {\n",
      "        \"entity\": \"deoxyguanosine kinase (dGK)\",\n",
      "        \"confidence\": \"5\",\n",
      "        \"category\": \"Enzyme (Protein)\"\n",
      "    },\n",
      "    {\n",
      "        \"entity\": \"DGUOK gene\",\n",
      "        \"confidence\": \"4\",\n",
      "        \"category\": \"Gene\"\n",
      "    },\n",
      "    {\n",
      "        \"entity\": \"combined respiratory chain deficiencies\",\n",
      "        \"confidence\": \"4\",\n",
      "        \"category\": \"Symptom\"\n",
      "    },\n",
      "    {\n",
      "        \"entity\": \"dGK kinase domain\",\n",
      "        \"confidence\": \"4\",\n",
      "        \"category\": \"ProteinDomain\"\n",
      "    },\n",
      "    {\n",
      "        \"entity\": \"North-African population\",\n",
      "        \"confidence\": \"3\",\n",
      "        \"category\": \"Population\"\n",
      "    },\n",
      "    {\n",
      "        \"entity\": \"c.444-62C>A (mutation)\",\n",
      "        \"confidence\": \"5\",\n",
      "        \"category\": \"Mutation\"\n",
      "    },\n",
      "    {\n",
      "        \"entity\": \"intra3 (intron 3)\",\n",
      "        \"confidence\": \"4\",\n",
      "        \"category\": \"Anatomy\"\n",
      "    },\n",
      "    {\n",
      "        \"entity\": \"haplotype reconstruction\",\n",
      "        \"confidence\": \"4\",\n",
      "        \"category\": \"MolecularFunction\"\n",
      "    },\n",
      "    {\n",
      "        \"entity\": \"microsatellites and SNPs (markers)\",\n",
      "        \"confidence\": \"3\",\n",
      "        \"category\": \"Compound\"\n",
      "    }\n",
      "]"
     ]
    }
   ],
   "source": [
    "import json\n",
    "import os, sys\n",
    "import contextlib\n",
    "from text2knowledge.strategy1 import extract_concepts\n",
    "\n",
    "\n",
    "model_name = 'mistral:latest'\n",
    "\n",
    "i = 4\n",
    "while i < len(datas['test']):\n",
    "    data = datas['test'][i]\n",
    "    pmid = data['pmid']\n",
    "    passages = data['passages']\n",
    "    entities = data['entities']\n",
    "    abstract = passages[1]['text'][0]\n",
    "    abstract_offset = passages[1]['offsets'][0]\n",
    "    metadata = {\n",
    "        'pmid': pmid,\n",
    "        'type': 'abstract',\n",
    "    }\n",
    "\n",
    "    #with open(os.devnull, \"w\") as f, contextlib.redirect_stdout(f):\n",
    "    entities_extracted = extract_concepts(abstract, model=model_name, metadata=metadata)\n",
    "    \n",
    "    if entities_extracted:\n",
    "        disease_entities_extracted = [e for e in entities_extracted if e['category'] == 'Disease']\n",
    "        # print(disease_entities_extracted)\n",
    "        entities_str = json.dumps(entities_extracted, indent=4)\n",
    "        # print(entities_str)\n",
    "    else:\n",
    "        print(\"No entities found.\")\n",
    "    break"
   ]
  },
  {
   "cell_type": "code",
   "execution_count": 4,
   "metadata": {},
   "outputs": [
    {
     "data": {
      "text/plain": [
       "[{'entity': 'mitochondrial DNA depletion',\n",
       "  'confidence': '5',\n",
       "  'category': 'Metabolite',\n",
       "  'pmid': '19394258',\n",
       "  'type': 'abstract'},\n",
       " {'entity': 'hepatocerebral phenotype',\n",
       "  'confidence': '4',\n",
       "  'category': 'Symptom',\n",
       "  'pmid': '19394258',\n",
       "  'type': 'abstract'},\n",
       " {'entity': 'deoxyguanosine kinase (dGK)',\n",
       "  'confidence': '5',\n",
       "  'category': 'Enzyme (Protein)',\n",
       "  'pmid': '19394258',\n",
       "  'type': 'abstract'},\n",
       " {'entity': 'DGUOK gene',\n",
       "  'confidence': '4',\n",
       "  'category': 'Gene',\n",
       "  'pmid': '19394258',\n",
       "  'type': 'abstract'},\n",
       " {'entity': 'combined respiratory chain deficiencies',\n",
       "  'confidence': '4',\n",
       "  'category': 'Symptom',\n",
       "  'pmid': '19394258',\n",
       "  'type': 'abstract'},\n",
       " {'entity': 'dGK kinase domain',\n",
       "  'confidence': '4',\n",
       "  'category': 'ProteinDomain',\n",
       "  'pmid': '19394258',\n",
       "  'type': 'abstract'},\n",
       " {'entity': 'North-African population',\n",
       "  'confidence': '3',\n",
       "  'category': 'Population',\n",
       "  'pmid': '19394258',\n",
       "  'type': 'abstract'},\n",
       " {'entity': 'c.444-62C>A (mutation)',\n",
       "  'confidence': '5',\n",
       "  'category': 'Mutation',\n",
       "  'pmid': '19394258',\n",
       "  'type': 'abstract'},\n",
       " {'entity': 'intra3 (intron 3)',\n",
       "  'confidence': '4',\n",
       "  'category': 'Anatomy',\n",
       "  'pmid': '19394258',\n",
       "  'type': 'abstract'},\n",
       " {'entity': 'haplotype reconstruction',\n",
       "  'confidence': '4',\n",
       "  'category': 'MolecularFunction',\n",
       "  'pmid': '19394258',\n",
       "  'type': 'abstract'},\n",
       " {'entity': 'microsatellites and SNPs (markers)',\n",
       "  'confidence': '3',\n",
       "  'category': 'Compound',\n",
       "  'pmid': '19394258',\n",
       "  'type': 'abstract'}]"
      ]
     },
     "execution_count": 4,
     "metadata": {},
     "output_type": "execute_result"
    }
   ],
   "source": [
    "entities_extracted\n",
    "'''\n",
    "[\n",
    "    {\n",
    "        'entity': str,\n",
    "        'confidence': str,\n",
    "        'category': str,\n",
    "        'pmid': str,\n",
    "        'type': 'abstract'\n",
    "    },\n",
    "    ...\n",
    "]\n",
    "'''"
   ]
  },
  {
   "cell_type": "code",
   "execution_count": 27,
   "metadata": {},
   "outputs": [
    {
     "data": {
      "text/plain": [
       "{'type': 'abstract',\n",
       " 'text': ['Deoxyguanosine kinase (dGK) deficiency is a frequent cause of mitochondrial DNA depletion associated with a hepatocerebral phenotype. In this study, we describe a new splice site mutation in the DGUOK gene and the clinical, radiologic, and genetic features of these DGUOK patients. This new DGUOK homozygous mutation (c.444-62C>A) was identified in three patients from two North-African consanguineous families with combined respiratory chain deficiencies and mitochondrial DNA depletion in the liver. Brain MRIs are normal in DGUOK patients in the literature. Interestingly, we found subtentorial abnormal myelination and moderate hyperintensity in the bilateral pallidi in our patients. This new mutation creates a cryptic splice site in intron 3 (in position -62) and is predicted to result in a larger protein with an in-frame insertion of 20 amino acids. In silico analysis of the putative impact of the insertion shows serious clashes in protein conformation: this insertion disrupts the alpha5 helix of the dGK kinase domain, rendering the protein unable to bind purine deoxyribonucleosides. In addition, a common haplotype that segregated with the disease in both families was detected by haplotype reconstruction with 10 markers (microsatellites and SNPs), which span 4.6 Mb of DNA covering the DGUOK locus. In conclusion, we report a new DGUOK splice site mutation that provide insight into a critical protein domain (dGK kinase domain) and the first founder mutation in a North-African population.'],\n",
       " 'offsets': [[102, 1610]]}"
      ]
     },
     "execution_count": 27,
     "metadata": {},
     "output_type": "execute_result"
    }
   ],
   "source": []
  },
  {
   "cell_type": "code",
   "execution_count": 17,
   "metadata": {},
   "outputs": [],
   "source": [
    "abstract_offset = data['passages'][1]['offsets'][0]\n",
    "\n",
    "def inc(r1, r2):\n",
    "    # print(r1, r2)\n",
    "    if r1[0] >= r2[0] and r1[1] <= r2[1]:\n",
    "        return True\n",
    "    return False\n",
    "\n",
    "entities_abstract = [entity for entity in data['entities'] if inc(entity['offsets'][0], abstract_offset)]"
   ]
  },
  {
   "cell_type": "code",
   "execution_count": 18,
   "metadata": {},
   "outputs": [
    {
     "data": {
      "text/plain": [
       "[{'text': ['Deoxyguanosine kinase (dGK) deficiency'],\n",
       "  'offsets': [[102, 140]],\n",
       "  'concept_id': 'C580039',\n",
       "  'semantic_type_id': 'DiseaseOrPhenotypicFeature'},\n",
       " {'text': ['mitochondrial DNA depletion'],\n",
       "  'offsets': [[164, 191]],\n",
       "  'concept_id': 'C580039',\n",
       "  'semantic_type_id': 'DiseaseOrPhenotypicFeature'},\n",
       " {'text': ['DGUOK'],\n",
       "  'offsets': [[297, 302]],\n",
       "  'concept_id': '1716',\n",
       "  'semantic_type_id': 'GeneOrGeneProduct'},\n",
       " {'text': ['DGUOK'],\n",
       "  'offsets': [[368, 373]],\n",
       "  'concept_id': '1716',\n",
       "  'semantic_type_id': 'GeneOrGeneProduct'},\n",
       " {'text': ['patients'],\n",
       "  'offsets': [[374, 382]],\n",
       "  'concept_id': '9606',\n",
       "  'semantic_type_id': 'OrganismTaxon'},\n",
       " {'text': ['DGUOK'],\n",
       "  'offsets': [[393, 398]],\n",
       "  'concept_id': '1716',\n",
       "  'semantic_type_id': 'GeneOrGeneProduct'},\n",
       " {'text': ['c.444-62C>A'],\n",
       "  'offsets': [[420, 431]],\n",
       "  'concept_id': 'c|SUB|C|444-62|A',\n",
       "  'semantic_type_id': 'SequenceVariant'},\n",
       " {'text': ['patients'],\n",
       "  'offsets': [[457, 465]],\n",
       "  'concept_id': '9606',\n",
       "  'semantic_type_id': 'OrganismTaxon'},\n",
       " {'text': ['respiratory chain deficiencies'],\n",
       "  'offsets': [[527, 557]],\n",
       "  'concept_id': 'D028361',\n",
       "  'semantic_type_id': 'DiseaseOrPhenotypicFeature'},\n",
       " {'text': ['mitochondrial DNA depletion'],\n",
       "  'offsets': [[562, 589]],\n",
       "  'concept_id': 'C580039',\n",
       "  'semantic_type_id': 'DiseaseOrPhenotypicFeature'},\n",
       " {'text': ['DGUOK'],\n",
       "  'offsets': [[629, 634]],\n",
       "  'concept_id': '1716',\n",
       "  'semantic_type_id': 'GeneOrGeneProduct'},\n",
       " {'text': ['patients'],\n",
       "  'offsets': [[635, 643]],\n",
       "  'concept_id': '9606',\n",
       "  'semantic_type_id': 'OrganismTaxon'},\n",
       " {'text': ['subtentorial abnormal myelination'],\n",
       "  'offsets': [[687, 720]],\n",
       "  'concept_id': '-',\n",
       "  'semantic_type_id': 'DiseaseOrPhenotypicFeature'},\n",
       " {'text': ['moderate hyperintensity'],\n",
       "  'offsets': [[725, 748]],\n",
       "  'concept_id': 'D006973',\n",
       "  'semantic_type_id': 'DiseaseOrPhenotypicFeature'},\n",
       " {'text': ['patients'],\n",
       "  'offsets': [[781, 789]],\n",
       "  'concept_id': '9606',\n",
       "  'semantic_type_id': 'OrganismTaxon'},\n",
       " {'text': ['dGK'],\n",
       "  'offsets': [[1116, 1119]],\n",
       "  'concept_id': '1716',\n",
       "  'semantic_type_id': 'GeneOrGeneProduct'},\n",
       " {'text': ['deoxyribonucleosides'],\n",
       "  'offsets': [[1179, 1199]],\n",
       "  'concept_id': 'D003853',\n",
       "  'semantic_type_id': 'ChemicalEntity'},\n",
       " {'text': ['DGUOK'],\n",
       "  'offsets': [[1406, 1411]],\n",
       "  'concept_id': '1716',\n",
       "  'semantic_type_id': 'GeneOrGeneProduct'},\n",
       " {'text': ['DGUOK'],\n",
       "  'offsets': [[1450, 1455]],\n",
       "  'concept_id': '1716',\n",
       "  'semantic_type_id': 'GeneOrGeneProduct'},\n",
       " {'text': ['dGK'],\n",
       "  'offsets': [[1530, 1533]],\n",
       "  'concept_id': '1716',\n",
       "  'semantic_type_id': 'GeneOrGeneProduct'}]"
      ]
     },
     "execution_count": 18,
     "metadata": {},
     "output_type": "execute_result"
    }
   ],
   "source": [
    "entities_abstract"
   ]
  },
  {
   "cell_type": "markdown",
   "metadata": {},
   "source": [
    "## Normalizer"
   ]
  },
  {
   "cell_type": "code",
   "execution_count": 19,
   "metadata": {},
   "outputs": [],
   "source": [
    "from text2knowledge.normalizer import Normalizer\n",
    "\n",
    "class Arg:\n",
    "    def __init__(self, model_name_or_path, dictionary_path):\n",
    "        self.model_name_or_path = model_name_or_path\n",
    "        self.show_embeddings = False\n",
    "        self.show_predictions = True\n",
    "        self.dictionary_path = dictionary_path\n",
    "        self.use_cuda = True"
   ]
  },
  {
   "cell_type": "code",
   "execution_count": 24,
   "metadata": {},
   "outputs": [],
   "source": [
    "# 'Gene', 'Protein', 'Compound', 'Disease', 'Symptom', 'Pathway', 'Anatomy', 'Metabolite', 'MolecularFunction', 'BiologicalProcess', 'CellularComponent'\n",
    "\n",
    "# Disease\n",
    "# arg_d = Arg(\"dmis-lab/biosyn-biobert-ncbi-disease\", \"/root/text2knowledge/data/dictionary/yang/dict_Disease.txt\")\n",
    "arg_d = Arg(\"dmis-lab/biosyn-biobert-ncbi-disease\", \"/root/text2knowledge/data/dictionary/dict_Disease_20210630.txt\")\n",
    "\n",
    "# Gene\n",
    "# arg_g = Arg(\"dmis-lab/biosyn-biobert-ncbi-disease\", \"/root/text2knowledge/data/dictionary/dict_Disease_20210630.txt\")"
   ]
  },
  {
   "cell_type": "code",
   "execution_count": 25,
   "metadata": {},
   "outputs": [
    {
     "name": "stderr",
     "output_type": "stream",
     "text": [
      "/root/miniconda3/lib/python3.8/site-packages/huggingface_hub/file_download.py:678: FutureWarning: 'cached_download' is the legacy way to download files from the HF hub, please consider upgrading to 'hf_hub_download'\n",
      "  warnings.warn(\n",
      "/root/miniconda3/lib/python3.8/site-packages/sklearn/base.py:348: InconsistentVersionWarning: Trying to unpickle estimator TfidfTransformer from version 0.21.2 when using version 1.3.2. This might lead to breaking code or invalid results. Use at your own risk. For more info please refer to:\n",
      "https://scikit-learn.org/stable/model_persistence.html#security-maintainability-limitations\n",
      "  warnings.warn(\n",
      "/root/miniconda3/lib/python3.8/site-packages/sklearn/base.py:348: InconsistentVersionWarning: Trying to unpickle estimator TfidfVectorizer from version 0.21.2 when using version 1.3.2. This might lead to breaking code or invalid results. Use at your own risk. For more info please refer to:\n",
      "https://scikit-learn.org/stable/model_persistence.html#security-maintainability-limitations\n",
      "  warnings.warn(\n"
     ]
    }
   ],
   "source": [
    "disease_normalizer = Normalizer(arg_d)"
   ]
  },
  {
   "cell_type": "code",
   "execution_count": 26,
   "metadata": {},
   "outputs": [
    {
     "name": "stderr",
     "output_type": "stream",
     "text": [
      "/root/miniconda3/lib/python3.8/site-packages/biosyn-0.1-py3.8.egg/biosyn/biosyn.py:26: UserWarning: To copy construct from a tensor, it is recommended to use sourceTensor.clone().detach() or sourceTensor.clone().detach().requires_grad_(True), rather than torch.tensor(sourceTensor).\n"
     ]
    },
    {
     "name": "stdout",
     "output_type": "stream",
     "text": [
      "Loaded dictionary from cached file ./tmp/cached_biosyn-biobert-ncbi-disease_dict_Disease_20210630.pk\n"
     ]
    },
    {
     "data": {
      "text/plain": [
       "{'mention': 'long qt syndrome lqts',\n",
       " 'predictions': [{'name': 'Long QT Syndrome', 'id': 'MESH:D008133'},\n",
       "  {'name': 'Long Qt Syndrome 1/2', 'id': 'MESH:C566006'},\n",
       "  {'name': 'Long Qt Syndrome 2|LONG QT SYNDROME 1/2, DIGENIC, INCLUDED;LQT1/2, DIGENIC, INCLUDED|LONG QT SYNDROME 2/3, DIGENIC, INCLUDED;LQT2/3, DIGENIC, INCLUDED|LONG QT SYNDROME 2/5, DIGENIC, INCLUDED;LQT2/5, DIGENIC, INCLUDED|LONG QT SYNDROME 2/9, DIGENIC, INCLUDED;LQT2/9, DIGENIC, INCLUDED|LONG QT SYNDROME 2, ACQUIRED, SUSCEPTIBILITY TO, INCLUDED|LQT2',\n",
       "   'id': 'MESH:C563614'},\n",
       "  {'name': 'Long Qt Syndrome 10', 'id': 'OMIM:611819,MESH:C567514'},\n",
       "  {'name': 'LONG QT SYNDROME 13', 'id': 'OMIM:613485'}]}"
      ]
     },
     "execution_count": 26,
     "metadata": {},
     "output_type": "execute_result"
    }
   ],
   "source": [
    "disease_normalizer.normalize(\"long QT syndrome (LQTS)\")"
   ]
  },
  {
   "cell_type": "code",
   "execution_count": 23,
   "metadata": {},
   "outputs": [
    {
     "name": "stdout",
     "output_type": "stream",
     "text": [
      "Loaded dictionary from cached file ./tmp/cached_biosyn-biobert-ncbi-disease_dict_Disease.pk\n"
     ]
    },
    {
     "data": {
      "text/plain": [
       "{'mention': 'long qt syndrome',\n",
       " 'predictions': [{'name': 'Long Qt Syndrome 1-2', 'id': 'MESH:C566006'},\n",
       "  {'name': 'Long QT syndrome type 3', 'id': 'MESH:C537034'},\n",
       "  {'name': 'obsolete long QT syndrome 1', 'id': 'MONDO:0008646'},\n",
       "  {'name': 'Long Qt Syndrome 3-6', 'id': 'MESH:C566334'},\n",
       "  {'name': 'Long Qt Syndrome 2-3', 'id': 'MESH:C565841'}]}"
      ]
     },
     "execution_count": 23,
     "metadata": {},
     "output_type": "execute_result"
    }
   ],
   "source": [
    "disease_normalizer.normalize(\"long QT syndrome\")"
   ]
  },
  {
   "cell_type": "code",
   "execution_count": null,
   "metadata": {},
   "outputs": [],
   "source": [
    "def normalize(name, category):\n",
    "    if category not in ['Gene', 'Protein', 'Compound', 'Disease', 'Symptom', 'Pathway', 'Anatomy', 'Metabolite', 'MolecularFunction', 'BiologicalProcess', 'CellularComponent']:\n",
    "        raise ValueError('Wrong category')\n",
    "    pass"
   ]
  },
  {
   "cell_type": "code",
   "execution_count": null,
   "metadata": {},
   "outputs": [],
   "source": [
    "scores = []\n",
    "for data in datas['test']:\n",
    "    pmid = data['pmid']\n",
    "    passages = data['passages']\n",
    "    entities = data['entities']\n",
    "    abstract = passages[1]['text'][0]\n",
    "    abstract_offset = passages[1]['offsets'][0]\n",
    "    metadata = {\n",
    "        'pmid': pmid,\n",
    "        'type': 'abstract',\n",
    "    }\n",
    "\n",
    "    score = 0\n",
    "    #with open(os.devnull, \"w\") as f, contextlib.redirect_stdout(f):\n",
    "    entities_extracted = extract_concepts(abstract, model=model_name, metadata=metadata)\n",
    "    \n",
    "    \n",
    "    if entities_extracted:\n",
    "        # normalize extracted entities to DB\n",
    "        entities_extracted_normalized = []\n",
    "        for entity in entities_extracted:\n",
    "            name = entity['entity']\n",
    "            category = entity['category']\n",
    "            ID = normalize(name, category) # TODO\n",
    "            entity['DBID'] = ID\n",
    "            entities_extracted_normalized.append(entity)\n",
    "\n",
    "        # normalize answer to DB as well in order to calc score later\n",
    "        entities_ans_normalized = []\n",
    "        for entity in entities:\n",
    "            name = entity['text'][0]\n",
    "            category = entity['semantic_type_id']\n",
    "            ID = normalize(name, category) # TODO\n",
    "            entity['DBID'] = ID\n",
    "            entities_ans_normalized.append(entity)\n",
    "\n",
    "        score = calc_score(entities_extracted_normalized, entities_ans_normalized, abstract, abstract_offset)  # TODO\n",
    "        scores.append(score)"
   ]
  },
  {
   "cell_type": "code",
   "execution_count": 33,
   "metadata": {},
   "outputs": [
    {
     "data": {
      "text/plain": [
       "{'pmid': '19394258',\n",
       " 'passages': [{'type': 'title',\n",
       "   'text': ['The first founder DGUOK mutation associated with hepatocerebral mitochondrial DNA depletion syndrome.'],\n",
       "   'offsets': [[0, 101]]},\n",
       "  {'type': 'abstract',\n",
       "   'text': ['Deoxyguanosine kinase (dGK) deficiency is a frequent cause of mitochondrial DNA depletion associated with a hepatocerebral phenotype. In this study, we describe a new splice site mutation in the DGUOK gene and the clinical, radiologic, and genetic features of these DGUOK patients. This new DGUOK homozygous mutation (c.444-62C>A) was identified in three patients from two North-African consanguineous families with combined respiratory chain deficiencies and mitochondrial DNA depletion in the liver. Brain MRIs are normal in DGUOK patients in the literature. Interestingly, we found subtentorial abnormal myelination and moderate hyperintensity in the bilateral pallidi in our patients. This new mutation creates a cryptic splice site in intron 3 (in position -62) and is predicted to result in a larger protein with an in-frame insertion of 20 amino acids. In silico analysis of the putative impact of the insertion shows serious clashes in protein conformation: this insertion disrupts the alpha5 helix of the dGK kinase domain, rendering the protein unable to bind purine deoxyribonucleosides. In addition, a common haplotype that segregated with the disease in both families was detected by haplotype reconstruction with 10 markers (microsatellites and SNPs), which span 4.6 Mb of DNA covering the DGUOK locus. In conclusion, we report a new DGUOK splice site mutation that provide insight into a critical protein domain (dGK kinase domain) and the first founder mutation in a North-African population.'],\n",
       "   'offsets': [[102, 1610]]}],\n",
       " 'entities': [{'text': ['DGUOK'],\n",
       "   'offsets': [[18, 23]],\n",
       "   'concept_id': '1716',\n",
       "   'semantic_type_id': 'GeneOrGeneProduct'},\n",
       "  {'text': ['hepatocerebral mitochondrial DNA depletion syndrome'],\n",
       "   'offsets': [[49, 100]],\n",
       "   'concept_id': 'C580039',\n",
       "   'semantic_type_id': 'DiseaseOrPhenotypicFeature'},\n",
       "  {'text': ['Deoxyguanosine kinase (dGK) deficiency'],\n",
       "   'offsets': [[102, 140]],\n",
       "   'concept_id': 'C580039',\n",
       "   'semantic_type_id': 'DiseaseOrPhenotypicFeature'},\n",
       "  {'text': ['mitochondrial DNA depletion'],\n",
       "   'offsets': [[164, 191]],\n",
       "   'concept_id': 'C580039',\n",
       "   'semantic_type_id': 'DiseaseOrPhenotypicFeature'},\n",
       "  {'text': ['DGUOK'],\n",
       "   'offsets': [[297, 302]],\n",
       "   'concept_id': '1716',\n",
       "   'semantic_type_id': 'GeneOrGeneProduct'},\n",
       "  {'text': ['DGUOK'],\n",
       "   'offsets': [[368, 373]],\n",
       "   'concept_id': '1716',\n",
       "   'semantic_type_id': 'GeneOrGeneProduct'},\n",
       "  {'text': ['patients'],\n",
       "   'offsets': [[374, 382]],\n",
       "   'concept_id': '9606',\n",
       "   'semantic_type_id': 'OrganismTaxon'},\n",
       "  {'text': ['DGUOK'],\n",
       "   'offsets': [[393, 398]],\n",
       "   'concept_id': '1716',\n",
       "   'semantic_type_id': 'GeneOrGeneProduct'},\n",
       "  {'text': ['c.444-62C>A'],\n",
       "   'offsets': [[420, 431]],\n",
       "   'concept_id': 'c|SUB|C|444-62|A',\n",
       "   'semantic_type_id': 'SequenceVariant'},\n",
       "  {'text': ['patients'],\n",
       "   'offsets': [[457, 465]],\n",
       "   'concept_id': '9606',\n",
       "   'semantic_type_id': 'OrganismTaxon'},\n",
       "  {'text': ['respiratory chain deficiencies'],\n",
       "   'offsets': [[527, 557]],\n",
       "   'concept_id': 'D028361',\n",
       "   'semantic_type_id': 'DiseaseOrPhenotypicFeature'},\n",
       "  {'text': ['mitochondrial DNA depletion'],\n",
       "   'offsets': [[562, 589]],\n",
       "   'concept_id': 'C580039',\n",
       "   'semantic_type_id': 'DiseaseOrPhenotypicFeature'},\n",
       "  {'text': ['DGUOK'],\n",
       "   'offsets': [[629, 634]],\n",
       "   'concept_id': '1716',\n",
       "   'semantic_type_id': 'GeneOrGeneProduct'},\n",
       "  {'text': ['patients'],\n",
       "   'offsets': [[635, 643]],\n",
       "   'concept_id': '9606',\n",
       "   'semantic_type_id': 'OrganismTaxon'},\n",
       "  {'text': ['subtentorial abnormal myelination'],\n",
       "   'offsets': [[687, 720]],\n",
       "   'concept_id': '-',\n",
       "   'semantic_type_id': 'DiseaseOrPhenotypicFeature'},\n",
       "  {'text': ['moderate hyperintensity'],\n",
       "   'offsets': [[725, 748]],\n",
       "   'concept_id': 'D006973',\n",
       "   'semantic_type_id': 'DiseaseOrPhenotypicFeature'},\n",
       "  {'text': ['patients'],\n",
       "   'offsets': [[781, 789]],\n",
       "   'concept_id': '9606',\n",
       "   'semantic_type_id': 'OrganismTaxon'},\n",
       "  {'text': ['dGK'],\n",
       "   'offsets': [[1116, 1119]],\n",
       "   'concept_id': '1716',\n",
       "   'semantic_type_id': 'GeneOrGeneProduct'},\n",
       "  {'text': ['deoxyribonucleosides'],\n",
       "   'offsets': [[1179, 1199]],\n",
       "   'concept_id': 'D003853',\n",
       "   'semantic_type_id': 'ChemicalEntity'},\n",
       "  {'text': ['DGUOK'],\n",
       "   'offsets': [[1406, 1411]],\n",
       "   'concept_id': '1716',\n",
       "   'semantic_type_id': 'GeneOrGeneProduct'},\n",
       "  {'text': ['DGUOK'],\n",
       "   'offsets': [[1450, 1455]],\n",
       "   'concept_id': '1716',\n",
       "   'semantic_type_id': 'GeneOrGeneProduct'},\n",
       "  {'text': ['dGK'],\n",
       "   'offsets': [[1530, 1533]],\n",
       "   'concept_id': '1716',\n",
       "   'semantic_type_id': 'GeneOrGeneProduct'}],\n",
       " 'relations': [{'novel': 'Novel',\n",
       "   'type': 'Association',\n",
       "   'concept_1': '1716',\n",
       "   'concept_2': 'C580039'},\n",
       "  {'novel': 'Novel',\n",
       "   'type': 'Association',\n",
       "   'concept_1': '1716',\n",
       "   'concept_2': 'D028361'},\n",
       "  {'novel': 'Novel',\n",
       "   'type': 'Association',\n",
       "   'concept_1': 'c|SUB|C|444-62|A',\n",
       "   'concept_2': 'C580039'},\n",
       "  {'novel': 'Novel',\n",
       "   'type': 'Association',\n",
       "   'concept_1': 'c|SUB|C|444-62|A',\n",
       "   'concept_2': 'D028361'}]}"
      ]
     },
     "execution_count": 33,
     "metadata": {},
     "output_type": "execute_result"
    }
   ],
   "source": [
    "data"
   ]
  },
  {
   "cell_type": "code",
   "execution_count": 45,
   "metadata": {},
   "outputs": [],
   "source": [
    "def find_substring_indices(text, substring):\n",
    "    indices = []\n",
    "    index = text.find(substring)\n",
    "    while index != -1:\n",
    "        indices.append(index)\n",
    "        index = text.find(substring, index + 1)\n",
    "    return indices\n",
    "\n",
    "def overlap(r1, r2):\n",
    "    if r1[1] >= r2[0] and r1[0] <= r2[1]:\n",
    "        return True\n",
    "    return False\n",
    "\n",
    "def calc_score(extracted, gt, text, offset):\n",
    "    # get occurance of extracted entities in text\n",
    "    for entity in extracted:\n",
    "        name = entity['entity']\n",
    "        occur = [[i+offset, i+offset+len(name)] for i in find_substring_indices(text, name)]\n",
    "        entity['offsets'] = occur\n",
    "    COR = 0\n",
    "    INC = 0\n",
    "    MIS = 0\n",
    "    SPU = 0\n",
    "    for entity in gt:\n",
    "        is_COR = False\n",
    "        is_MIS = True\n",
    "        loc = entity['offsets'][0]\n",
    "        for e in extracted:\n",
    "            for o in e['offsets']:\n",
    "                if overlap(loc, o):\n",
    "                    is_MIS = False\n",
    "                    if e['DBID'] == entity['DBID']:\n",
    "                        is_COR = True\n",
    "        if is_MIS:\n",
    "            MIS += 1\n",
    "        elif is_COR:\n",
    "            COR += 1\n",
    "        else:\n",
    "            INC += 1\n",
    "    for entity in extracted:\n",
    "        is_SPU = True\n",
    "        locs = entity['offsets']\n",
    "        for o in loc:\n",
    "            for e in gt:\n",
    "                if overlap(o, e['offsets'][0]):\n",
    "                    is_SPU = False\n",
    "        if is_SPU:\n",
    "            SPU += 1\n",
    "    POS = COR + INC + MIS\n",
    "    ACT = COR + INC + SPU\n",
    "    P = COR / ACT\n",
    "    R = COR / POS\n",
    "    F1 = 2 * P * R / (P + R)\n",
    "    return F1"
   ]
  },
  {
   "cell_type": "code",
   "execution_count": 46,
   "metadata": {},
   "outputs": [
    {
     "ename": "KeyError",
     "evalue": "'DBID'",
     "output_type": "error",
     "traceback": [
      "\u001b[0;31m---------------------------------------------------------------------------\u001b[0m",
      "\u001b[0;31mKeyError\u001b[0m                                  Traceback (most recent call last)",
      "Cell \u001b[0;32mIn[46], line 1\u001b[0m\n\u001b[0;32m----> 1\u001b[0m \u001b[43mcalc_score\u001b[49m\u001b[43m(\u001b[49m\u001b[43mentities_extracted\u001b[49m\u001b[43m,\u001b[49m\u001b[43m \u001b[49m\u001b[43mdata\u001b[49m\u001b[43m[\u001b[49m\u001b[38;5;124;43m'\u001b[39;49m\u001b[38;5;124;43mentities\u001b[39;49m\u001b[38;5;124;43m'\u001b[39;49m\u001b[43m]\u001b[49m\u001b[43m,\u001b[49m\u001b[43m \u001b[49m\u001b[43mdata\u001b[49m\u001b[43m[\u001b[49m\u001b[38;5;124;43m'\u001b[39;49m\u001b[38;5;124;43mpassages\u001b[39;49m\u001b[38;5;124;43m'\u001b[39;49m\u001b[43m]\u001b[49m\u001b[43m[\u001b[49m\u001b[38;5;241;43m1\u001b[39;49m\u001b[43m]\u001b[49m\u001b[43m[\u001b[49m\u001b[38;5;124;43m'\u001b[39;49m\u001b[38;5;124;43mtext\u001b[39;49m\u001b[38;5;124;43m'\u001b[39;49m\u001b[43m]\u001b[49m\u001b[43m[\u001b[49m\u001b[38;5;241;43m0\u001b[39;49m\u001b[43m]\u001b[49m\u001b[43m,\u001b[49m\u001b[43m \u001b[49m\u001b[43mdata\u001b[49m\u001b[43m[\u001b[49m\u001b[38;5;124;43m'\u001b[39;49m\u001b[38;5;124;43mpassages\u001b[39;49m\u001b[38;5;124;43m'\u001b[39;49m\u001b[43m]\u001b[49m\u001b[43m[\u001b[49m\u001b[38;5;241;43m1\u001b[39;49m\u001b[43m]\u001b[49m\u001b[43m[\u001b[49m\u001b[38;5;124;43m'\u001b[39;49m\u001b[38;5;124;43moffsets\u001b[39;49m\u001b[38;5;124;43m'\u001b[39;49m\u001b[43m]\u001b[49m\u001b[43m[\u001b[49m\u001b[38;5;241;43m0\u001b[39;49m\u001b[43m]\u001b[49m\u001b[43m[\u001b[49m\u001b[38;5;241;43m0\u001b[39;49m\u001b[43m]\u001b[49m\u001b[43m)\u001b[49m\n",
      "Cell \u001b[0;32mIn[45], line 32\u001b[0m, in \u001b[0;36mcalc_score\u001b[0;34m(extracted, gt, text, offset)\u001b[0m\n\u001b[1;32m     30\u001b[0m         \u001b[38;5;28;01mif\u001b[39;00m overlap(loc, o):\n\u001b[1;32m     31\u001b[0m             is_MIS \u001b[38;5;241m=\u001b[39m \u001b[38;5;28;01mFalse\u001b[39;00m\n\u001b[0;32m---> 32\u001b[0m             \u001b[38;5;28;01mif\u001b[39;00m \u001b[43me\u001b[49m\u001b[43m[\u001b[49m\u001b[38;5;124;43m'\u001b[39;49m\u001b[38;5;124;43mDBID\u001b[39;49m\u001b[38;5;124;43m'\u001b[39;49m\u001b[43m]\u001b[49m \u001b[38;5;241m==\u001b[39m entity[\u001b[38;5;124m'\u001b[39m\u001b[38;5;124mDBID\u001b[39m\u001b[38;5;124m'\u001b[39m]:\n\u001b[1;32m     33\u001b[0m                 is_COR \u001b[38;5;241m=\u001b[39m \u001b[38;5;28;01mTrue\u001b[39;00m\n\u001b[1;32m     34\u001b[0m \u001b[38;5;28;01mif\u001b[39;00m is_MIS:\n",
      "\u001b[0;31mKeyError\u001b[0m: 'DBID'"
     ]
    }
   ],
   "source": [
    "calc_score(entities_extracted, data['entities'], data['passages'][1]['text'][0], data['passages'][1]['offsets'][0][0])"
   ]
  },
  {
   "cell_type": "code",
   "execution_count": 38,
   "metadata": {},
   "outputs": [
    {
     "data": {
      "text/plain": [
       "[{'entity': 'mitochondrial DNA depletion',\n",
       "  'confidence': '5',\n",
       "  'category': 'Metabolite',\n",
       "  'pmid': '19394258',\n",
       "  'type': 'abstract'},\n",
       " {'entity': 'hepatocerebral phenotype',\n",
       "  'confidence': '4',\n",
       "  'category': 'Symptom',\n",
       "  'pmid': '19394258',\n",
       "  'type': 'abstract'},\n",
       " {'entity': 'deoxyguanosine kinase (dGK)',\n",
       "  'confidence': '5',\n",
       "  'category': 'Enzyme (Protein)',\n",
       "  'pmid': '19394258',\n",
       "  'type': 'abstract'},\n",
       " {'entity': 'DGUOK gene',\n",
       "  'confidence': '4',\n",
       "  'category': 'Gene',\n",
       "  'pmid': '19394258',\n",
       "  'type': 'abstract'},\n",
       " {'entity': 'combined respiratory chain deficiencies',\n",
       "  'confidence': '4',\n",
       "  'category': 'Symptom',\n",
       "  'pmid': '19394258',\n",
       "  'type': 'abstract'},\n",
       " {'entity': 'dGK kinase domain',\n",
       "  'confidence': '4',\n",
       "  'category': 'ProteinDomain',\n",
       "  'pmid': '19394258',\n",
       "  'type': 'abstract'},\n",
       " {'entity': 'North-African population',\n",
       "  'confidence': '3',\n",
       "  'category': 'Population',\n",
       "  'pmid': '19394258',\n",
       "  'type': 'abstract'},\n",
       " {'entity': 'c.444-62C>A (mutation)',\n",
       "  'confidence': '5',\n",
       "  'category': 'Mutation',\n",
       "  'pmid': '19394258',\n",
       "  'type': 'abstract'},\n",
       " {'entity': 'intra3 (intron 3)',\n",
       "  'confidence': '4',\n",
       "  'category': 'Anatomy',\n",
       "  'pmid': '19394258',\n",
       "  'type': 'abstract'},\n",
       " {'entity': 'haplotype reconstruction',\n",
       "  'confidence': '4',\n",
       "  'category': 'MolecularFunction',\n",
       "  'pmid': '19394258',\n",
       "  'type': 'abstract'},\n",
       " {'entity': 'microsatellites and SNPs (markers)',\n",
       "  'confidence': '3',\n",
       "  'category': 'Compound',\n",
       "  'pmid': '19394258',\n",
       "  'type': 'abstract'}]"
      ]
     },
     "execution_count": 38,
     "metadata": {},
     "output_type": "execute_result"
    }
   ],
   "source": [
    "entities_extracted"
   ]
  },
  {
   "cell_type": "code",
   "execution_count": 35,
   "metadata": {},
   "outputs": [
    {
     "data": {
      "text/plain": [
       "True"
      ]
     },
     "execution_count": 35,
     "metadata": {},
     "output_type": "execute_result"
    }
   ],
   "source": [
    "calc_score"
   ]
  },
  {
   "cell_type": "code",
   "execution_count": 32,
   "metadata": {},
   "outputs": [
    {
     "data": {
      "text/plain": [
       "[0, 3, 6, 28]"
      ]
     },
     "execution_count": 32,
     "metadata": {},
     "output_type": "execute_result"
    }
   ],
   "source": []
  },
  {
   "cell_type": "code",
   "execution_count": null,
   "metadata": {},
   "outputs": [],
   "source": []
  }
 ],
 "metadata": {
  "kernelspec": {
   "display_name": "Python 3 (ipykernel)",
   "language": "python",
   "name": "python3"
  },
  "language_info": {
   "codemirror_mode": {
    "name": "ipython",
    "version": 3
   },
   "file_extension": ".py",
   "mimetype": "text/x-python",
   "name": "python",
   "nbconvert_exporter": "python",
   "pygments_lexer": "ipython3",
   "version": "3.8.10"
  }
 },
 "nbformat": 4,
 "nbformat_minor": 4
}
