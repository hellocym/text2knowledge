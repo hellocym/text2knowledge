{
 "cells": [
  {
   "cell_type": "code",
   "execution_count": 1,
   "id": "c1ce6f55-ecf9-4622-ad49-6532cb05cd89",
   "metadata": {
    "tags": []
   },
   "outputs": [],
   "source": [
    "# PROXY\n",
    "import subprocess\n",
    "import os\n",
    "\n",
    "result = subprocess.run('bash -c \"source /etc/network_turbo && env | grep proxy\"', shell=True, capture_output=True, text=True)\n",
    "output = result.stdout\n",
    "for line in output.splitlines():\n",
    "    if '=' in line:\n",
    "        var, value = line.split('=', 1)\n",
    "        os.environ[var] = value"
   ]
  },
  {
   "cell_type": "code",
   "execution_count": 2,
   "id": "f9edd9c1-4f8b-4a55-a54c-ff851b9f383e",
   "metadata": {
    "scrolled": true,
    "tags": []
   },
   "outputs": [
    {
     "name": "stderr",
     "output_type": "stream",
     "text": [
      "/root/miniconda3/lib/python3.8/site-packages/datasets/load.py:1461: FutureWarning: The repository for bigbio/biored contains custom code which must be executed to correctly load the dataset. You can inspect the repository content at https://hf.co/datasets/bigbio/biored\n",
      "You can avoid this message in future by passing the argument `trust_remote_code=True`.\n",
      "Passing `trust_remote_code=True` will be mandatory to load this dataset from the next major release of `datasets`.\n",
      "  warnings.warn(\n",
      "Repo card metadata block was not found. Setting CardData to empty.\n"
     ]
    }
   ],
   "source": [
    "from datasets import load_dataset\n",
    "datas = load_dataset(\"bigbio/biored\")"
   ]
  },
  {
   "cell_type": "code",
   "execution_count": 3,
   "id": "c105b026-4498-48e2-965d-35b9bada910f",
   "metadata": {
    "tags": []
   },
   "outputs": [],
   "source": [
    "from text2knowledge.strategy1 import extract_concepts\n",
    "\n",
    "import json"
   ]
  },
  {
   "cell_type": "code",
   "execution_count": 4,
   "id": "10471132-0e44-4beb-959b-49a3226f7aa1",
   "metadata": {
    "tags": []
   },
   "outputs": [],
   "source": [
    "model_name = 'mistral:latest'"
   ]
  },
  {
   "cell_type": "code",
   "execution_count": 5,
   "id": "b7f0ac51-d307-4951-856a-eb0a77e18cb4",
   "metadata": {
    "scrolled": true,
    "tags": []
   },
   "outputs": [
    {
     "name": "stdout",
     "output_type": "stream",
     "text": [
      " [\n",
      "   {\n",
      "       \"entity\": \"Congenital long QT syndrome (LQTS)\",\n",
      "       \"importance\": 5,\n",
      "       \"category\": \"Disease\"\n",
      "   },\n",
      "   {\n",
      "       \"entity\": \"Na(v)1.5 cardiac sodium channel\",\n",
      "       \"importance\": 5,\n",
      "       \"category\": \"Protein\"\n",
      "   },\n",
      "   {\n",
      "       \"entity\": \"G-->A substitution at codon 1763\",\n",
      "       \"importance\": 4,\n",
      "       \"category\": \"Mutation\"\n",
      "   },\n",
      "   {\n",
      "       \"entity\": \"Valine (GTG)\",\n",
      "       \"importance\": 2,\n",
      "       \"category\": \"AminoAcid\"\n",
      "   },\n",
      "   {\n",
      "       \"entity\": \"Methionine (ATG)\",\n",
      "       \"importance\": 2,\n",
      "       \"category\": \"AminoAcid\"\n",
      "   },\n",
      "   {\n",
      "       \"entity\": \"LQTS-3\",\n",
      "       \"importance\": 4,\n",
      "       \"category\": \"Disease\"\n",
      "   },\n",
      "   {\n",
      "       \"entity\": \"Transmembrane segment 6 of domain IV\",\n",
      "       \"importance\": 3,\n",
      "       \"category\": \"Anatomy\"\n",
      "   },\n",
      "   {\n",
      "       \"entity\": \"Lidocaine\",\n",
      "       \"importance\": 3,\n",
      "       \"category\": \"Compound\"\n",
      "   },\n",
      "   {\n",
      "       \"entity\": \"Mexiletine\",\n",
      "       \"importance\": 3,\n",
      "       \"category\": \"Compound\"\n",
      "   },\n",
      "   {\n",
      "       \"entity\": \"tsA201 mammalian cells\",\n",
      "       \"importance\": 4,\n",
      "       \"category\": \"CellLine\"\n",
      "   },\n",
      "   {\n",
      "       \"entity\": \"Site-directed mutagenesis\",\n",
      "       \"importance\": 3,\n",
      "       \"category\": \"BiologicalProcess\"\n",
      "   },\n",
      "   {\n",
      "       \"entity\": \"V1764M mutant\",\n",
      "       \"importance\": 3,\n",
      "       \"category\": \"Mutation\"\n",
      "   },\n",
      "   {\n",
      "       \"entity\": \"I1762A mutant\",\n",
      "       \"importance\": 2,\n",
      "       \"category\": \"Mutation\"\n",
      "   }\n",
      "][\n",
      "    {\n",
      "        \"entity\": \"Congenital long QT syndrome (LQTS)\",\n",
      "        \"importance\": 5,\n",
      "        \"category\": \"Disease\",\n",
      "        \"pmid\": \"15485686\",\n",
      "        \"type\": \"abstract\"\n",
      "    },\n",
      "    {\n",
      "        \"entity\": \"Na(v)1.5 cardiac sodium channel\",\n",
      "        \"importance\": 5,\n",
      "        \"category\": \"Protein\",\n",
      "        \"pmid\": \"15485686\",\n",
      "        \"type\": \"abstract\"\n",
      "    },\n",
      "    {\n",
      "        \"entity\": \"G-->A substitution at codon 1763\",\n",
      "        \"importance\": 4,\n",
      "        \"category\": \"Mutation\",\n",
      "        \"pmid\": \"15485686\",\n",
      "        \"type\": \"abstract\"\n",
      "    },\n",
      "    {\n",
      "        \"entity\": \"Valine (GTG)\",\n",
      "        \"importance\": 2,\n",
      "        \"category\": \"AminoAcid\",\n",
      "        \"pmid\": \"15485686\",\n",
      "        \"type\": \"abstract\"\n",
      "    },\n",
      "    {\n",
      "        \"entity\": \"Methionine (ATG)\",\n",
      "        \"importance\": 2,\n",
      "        \"category\": \"AminoAcid\",\n",
      "        \"pmid\": \"15485686\",\n",
      "        \"type\": \"abstract\"\n",
      "    },\n",
      "    {\n",
      "        \"entity\": \"LQTS-3\",\n",
      "        \"importance\": 4,\n",
      "        \"category\": \"Disease\",\n",
      "        \"pmid\": \"15485686\",\n",
      "        \"type\": \"abstract\"\n",
      "    },\n",
      "    {\n",
      "        \"entity\": \"Transmembrane segment 6 of domain IV\",\n",
      "        \"importance\": 3,\n",
      "        \"category\": \"Anatomy\",\n",
      "        \"pmid\": \"15485686\",\n",
      "        \"type\": \"abstract\"\n",
      "    },\n",
      "    {\n",
      "        \"entity\": \"Lidocaine\",\n",
      "        \"importance\": 3,\n",
      "        \"category\": \"Compound\",\n",
      "        \"pmid\": \"15485686\",\n",
      "        \"type\": \"abstract\"\n",
      "    },\n",
      "    {\n",
      "        \"entity\": \"Mexiletine\",\n",
      "        \"importance\": 3,\n",
      "        \"category\": \"Compound\",\n",
      "        \"pmid\": \"15485686\",\n",
      "        \"type\": \"abstract\"\n",
      "    },\n",
      "    {\n",
      "        \"entity\": \"tsA201 mammalian cells\",\n",
      "        \"importance\": 4,\n",
      "        \"category\": \"CellLine\",\n",
      "        \"pmid\": \"15485686\",\n",
      "        \"type\": \"abstract\"\n",
      "    },\n",
      "    {\n",
      "        \"entity\": \"Site-directed mutagenesis\",\n",
      "        \"importance\": 3,\n",
      "        \"category\": \"BiologicalProcess\",\n",
      "        \"pmid\": \"15485686\",\n",
      "        \"type\": \"abstract\"\n",
      "    },\n",
      "    {\n",
      "        \"entity\": \"V1764M mutant\",\n",
      "        \"importance\": 3,\n",
      "        \"category\": \"Mutation\",\n",
      "        \"pmid\": \"15485686\",\n",
      "        \"type\": \"abstract\"\n",
      "    },\n",
      "    {\n",
      "        \"entity\": \"I1762A mutant\",\n",
      "        \"importance\": 2,\n",
      "        \"category\": \"Mutation\",\n",
      "        \"pmid\": \"15485686\",\n",
      "        \"type\": \"abstract\"\n",
      "    }\n",
      "]\n"
     ]
    }
   ],
   "source": [
    "for data in datas['test']:\n",
    "    pmid = data['pmid']\n",
    "    passages = data['passages']\n",
    "    entities = data['entities']\n",
    "    abstract = passages[1]['text'][0]\n",
    "    abstract_offset = passages[1]['offsets'][0]\n",
    "    metadata = {\n",
    "        'pmid': pmid,\n",
    "        'type': 'abstract',\n",
    "    }\n",
    "    entities_extracted = extract_concepts(abstract, model=model_name, metadata=metadata)\n",
    "\n",
    "    if entities_extracted:\n",
    "        entities_str = json.dumps(entities_extracted, indent=4)\n",
    "        print(entities_str)\n",
    "    else:\n",
    "        print(\"No entities found.\")\n",
    "    break"
   ]
  },
  {
   "cell_type": "code",
   "execution_count": 6,
   "id": "b8427f45-35f2-4ca4-9ca0-9c3f3eca7302",
   "metadata": {
    "scrolled": true,
    "tags": []
   },
   "outputs": [
    {
     "data": {
      "text/plain": [
       "[{'text': ['SCN5A'],\n",
       "  'offsets': [[8, 13]],\n",
       "  'concept_id': '6331',\n",
       "  'semantic_type_id': 'GeneOrGeneProduct'},\n",
       " {'text': ['long QT syndrome'],\n",
       "  'offsets': [[56, 72]],\n",
       "  'concept_id': 'D008133',\n",
       "  'semantic_type_id': 'DiseaseOrPhenotypicFeature'},\n",
       " {'text': ['tachycardia'],\n",
       "  'offsets': [[97, 108]],\n",
       "  'concept_id': 'D013610',\n",
       "  'semantic_type_id': 'DiseaseOrPhenotypicFeature'},\n",
       " {'text': ['bradycardia'],\n",
       "  'offsets': [[109, 120]],\n",
       "  'concept_id': 'D001919',\n",
       "  'semantic_type_id': 'DiseaseOrPhenotypicFeature'},\n",
       " {'text': ['long QT syndrome'],\n",
       "  'offsets': [[144, 160]],\n",
       "  'concept_id': 'D008133',\n",
       "  'semantic_type_id': 'DiseaseOrPhenotypicFeature'},\n",
       " {'text': ['LQTS'],\n",
       "  'offsets': [[162, 166]],\n",
       "  'concept_id': 'D008133',\n",
       "  'semantic_type_id': 'DiseaseOrPhenotypicFeature'},\n",
       " {'text': ['patient'],\n",
       "  'offsets': [[292, 299]],\n",
       "  'concept_id': '9606',\n",
       "  'semantic_type_id': 'OrganismTaxon'},\n",
       " {'text': ['bradycardia'],\n",
       "  'offsets': [[311, 322]],\n",
       "  'concept_id': 'D001919',\n",
       "  'semantic_type_id': 'DiseaseOrPhenotypicFeature'},\n",
       " {'text': ['atrioventricular block'],\n",
       "  'offsets': [[328, 350]],\n",
       "  'concept_id': 'D054537',\n",
       "  'semantic_type_id': 'DiseaseOrPhenotypicFeature'},\n",
       " {'text': ['ventricular tachycardia'],\n",
       "  'offsets': [[355, 378]],\n",
       "  'concept_id': 'D017180',\n",
       "  'semantic_type_id': 'DiseaseOrPhenotypicFeature'},\n",
       " {'text': ['atrioventricular block'],\n",
       "  'offsets': [[482, 504]],\n",
       "  'concept_id': 'D054537',\n",
       "  'semantic_type_id': 'DiseaseOrPhenotypicFeature'},\n",
       " {'text': ['lidocaine'],\n",
       "  'offsets': [[555, 564]],\n",
       "  'concept_id': 'D008012',\n",
       "  'semantic_type_id': 'ChemicalEntity'},\n",
       " {'text': ['mexiletine'],\n",
       "  'offsets': [[592, 602]],\n",
       "  'concept_id': 'D008801',\n",
       "  'semantic_type_id': 'ChemicalEntity'},\n",
       " {'text': ['ventricular tachycardia'],\n",
       "  'offsets': [[630, 653]],\n",
       "  'concept_id': 'D017180',\n",
       "  'semantic_type_id': 'DiseaseOrPhenotypicFeature'},\n",
       " {'text': ['LQTS'],\n",
       "  'offsets': [[685, 689]],\n",
       "  'concept_id': 'D008133',\n",
       "  'semantic_type_id': 'DiseaseOrPhenotypicFeature'},\n",
       " {'text': ['Na(v)1.5'],\n",
       "  'offsets': [[767, 775]],\n",
       "  'concept_id': '6331',\n",
       "  'semantic_type_id': 'GeneOrGeneProduct'},\n",
       " {'text': ['sodium'],\n",
       "  'offsets': [[784, 790]],\n",
       "  'concept_id': 'D012964',\n",
       "  'semantic_type_id': 'ChemicalEntity'},\n",
       " {'text': ['G-->A substitution at codon 1763'],\n",
       "  'offsets': [[807, 839]],\n",
       "  'concept_id': 'c|SUB|G|CODON1763|A',\n",
       "  'semantic_type_id': 'SequenceVariant'},\n",
       " {'text': ['valine (GTG) to a methionine (ATG)'],\n",
       "  'offsets': [[857, 891]],\n",
       "  'concept_id': 'p|SUB|V||M',\n",
       "  'semantic_type_id': 'SequenceVariant'},\n",
       " {'text': ['tsA201'],\n",
       "  'offsets': [[1018, 1024]],\n",
       "  'concept_id': 'CVCL_2737',\n",
       "  'semantic_type_id': 'CellLine'},\n",
       " {'text': ['tetrodotoxin'],\n",
       "  'offsets': [[1092, 1104]],\n",
       "  'concept_id': 'D013779',\n",
       "  'semantic_type_id': 'ChemicalEntity'},\n",
       " {'text': ['lidocaine'],\n",
       "  'offsets': [[1119, 1128]],\n",
       "  'concept_id': 'D008012',\n",
       "  'semantic_type_id': 'ChemicalEntity'},\n",
       " {'text': ['V1764M'],\n",
       "  'offsets': [[1366, 1372]],\n",
       "  'concept_id': 'p|SUB|V|1764|M',\n",
       "  'semantic_type_id': 'SequenceVariant'},\n",
       " {'text': ['I1762A'],\n",
       "  'offsets': [[1408, 1414]],\n",
       "  'concept_id': 'p|SUB|I|1762|A',\n",
       "  'semantic_type_id': 'SequenceVariant'},\n",
       " {'text': ['Na(v)1.5'],\n",
       "  'offsets': [[1557, 1565]],\n",
       "  'concept_id': '6331',\n",
       "  'semantic_type_id': 'GeneOrGeneProduct'},\n",
       " {'text': ['V1763M'],\n",
       "  'offsets': [[1566, 1572]],\n",
       "  'concept_id': 'p|SUB|V|1763|M',\n",
       "  'semantic_type_id': 'SequenceVariant'},\n",
       " {'text': ['LQTS'],\n",
       "  'offsets': [[1731, 1735]],\n",
       "  'concept_id': 'D008133',\n",
       "  'semantic_type_id': 'DiseaseOrPhenotypicFeature'},\n",
       " {'text': ['arrhythmias'],\n",
       "  'offsets': [[1760, 1771]],\n",
       "  'concept_id': 'D001145',\n",
       "  'semantic_type_id': 'DiseaseOrPhenotypicFeature'},\n",
       " {'text': ['lidocaine'],\n",
       "  'offsets': [[1790, 1799]],\n",
       "  'concept_id': 'D008012',\n",
       "  'semantic_type_id': 'ChemicalEntity'},\n",
       " {'text': ['mexiletine'],\n",
       "  'offsets': [[1804, 1814]],\n",
       "  'concept_id': 'D008801',\n",
       "  'semantic_type_id': 'ChemicalEntity'}]"
      ]
     },
     "execution_count": 6,
     "metadata": {},
     "output_type": "execute_result"
    }
   ],
   "source": [
    "entities"
   ]
  },
  {
   "cell_type": "code",
   "execution_count": 7,
   "id": "dadd8a91-44b9-427a-8a4e-63b5b3f59d3c",
   "metadata": {
    "scrolled": true,
    "tags": []
   },
   "outputs": [
    {
     "data": {
      "text/plain": [
       "{'pmid': '15485686',\n",
       " 'passages': [{'type': 'title',\n",
       "   'text': ['A novel SCN5A mutation manifests as a malignant form of long QT syndrome with perinatal onset of tachycardia/bradycardia.'],\n",
       "   'offsets': [[0, 121]]},\n",
       "  {'type': 'abstract',\n",
       "   'text': ['OBJECTIVE: Congenital long QT syndrome (LQTS) with in utero onset of the rhythm disturbances is associated with a poor prognosis. In this study we investigated a newborn patient with fetal bradycardia, 2:1 atrioventricular block and ventricular tachycardia soon after birth. METHODS: Mutational analysis and DNA sequencing were conducted in a newborn. The 2:1 atrioventricular block improved to 1:1 conduction only after intravenous lidocaine infusion or a high dose of mexiletine, which also controlled the ventricular tachycardia. RESULTS: A novel, spontaneous LQTS-3 mutation was identified in the transmembrane segment 6 of domain IV of the Na(v)1.5 cardiac sodium channel, with a G-->A substitution at codon 1763, which changed a valine (GTG) to a methionine (ATG). The proband was heterozygous but the mutation was absent in the parents and the sister. Expression of this mutant channel in tsA201 mammalian cells by site-directed mutagenesis revealed a persistent tetrodotoxin-sensitive but lidocaine-resistant current that was associated with a positive shift of the steady-state inactivation curve, steeper activation curve and faster recovery from inactivation. We also found a similar electrophysiological profile for the neighboring V1764M mutant. But, the other neighboring I1762A mutant had no persistent current and was still associated with a positive shift of inactivation. CONCLUSIONS: These findings suggest that the Na(v)1.5/V1763M channel dysfunction and possible neighboring mutants contribute to a persistent inward current due to altered inactivation kinetics and clinically congenital LQTS with perinatal onset of arrhythmias that responded to lidocaine and mexiletine.'],\n",
       "   'offsets': [[122, 1815]]}],\n",
       " 'entities': [{'text': ['SCN5A'],\n",
       "   'offsets': [[8, 13]],\n",
       "   'concept_id': '6331',\n",
       "   'semantic_type_id': 'GeneOrGeneProduct'},\n",
       "  {'text': ['long QT syndrome'],\n",
       "   'offsets': [[56, 72]],\n",
       "   'concept_id': 'D008133',\n",
       "   'semantic_type_id': 'DiseaseOrPhenotypicFeature'},\n",
       "  {'text': ['tachycardia'],\n",
       "   'offsets': [[97, 108]],\n",
       "   'concept_id': 'D013610',\n",
       "   'semantic_type_id': 'DiseaseOrPhenotypicFeature'},\n",
       "  {'text': ['bradycardia'],\n",
       "   'offsets': [[109, 120]],\n",
       "   'concept_id': 'D001919',\n",
       "   'semantic_type_id': 'DiseaseOrPhenotypicFeature'},\n",
       "  {'text': ['long QT syndrome'],\n",
       "   'offsets': [[144, 160]],\n",
       "   'concept_id': 'D008133',\n",
       "   'semantic_type_id': 'DiseaseOrPhenotypicFeature'},\n",
       "  {'text': ['LQTS'],\n",
       "   'offsets': [[162, 166]],\n",
       "   'concept_id': 'D008133',\n",
       "   'semantic_type_id': 'DiseaseOrPhenotypicFeature'},\n",
       "  {'text': ['patient'],\n",
       "   'offsets': [[292, 299]],\n",
       "   'concept_id': '9606',\n",
       "   'semantic_type_id': 'OrganismTaxon'},\n",
       "  {'text': ['bradycardia'],\n",
       "   'offsets': [[311, 322]],\n",
       "   'concept_id': 'D001919',\n",
       "   'semantic_type_id': 'DiseaseOrPhenotypicFeature'},\n",
       "  {'text': ['atrioventricular block'],\n",
       "   'offsets': [[328, 350]],\n",
       "   'concept_id': 'D054537',\n",
       "   'semantic_type_id': 'DiseaseOrPhenotypicFeature'},\n",
       "  {'text': ['ventricular tachycardia'],\n",
       "   'offsets': [[355, 378]],\n",
       "   'concept_id': 'D017180',\n",
       "   'semantic_type_id': 'DiseaseOrPhenotypicFeature'},\n",
       "  {'text': ['atrioventricular block'],\n",
       "   'offsets': [[482, 504]],\n",
       "   'concept_id': 'D054537',\n",
       "   'semantic_type_id': 'DiseaseOrPhenotypicFeature'},\n",
       "  {'text': ['lidocaine'],\n",
       "   'offsets': [[555, 564]],\n",
       "   'concept_id': 'D008012',\n",
       "   'semantic_type_id': 'ChemicalEntity'},\n",
       "  {'text': ['mexiletine'],\n",
       "   'offsets': [[592, 602]],\n",
       "   'concept_id': 'D008801',\n",
       "   'semantic_type_id': 'ChemicalEntity'},\n",
       "  {'text': ['ventricular tachycardia'],\n",
       "   'offsets': [[630, 653]],\n",
       "   'concept_id': 'D017180',\n",
       "   'semantic_type_id': 'DiseaseOrPhenotypicFeature'},\n",
       "  {'text': ['LQTS'],\n",
       "   'offsets': [[685, 689]],\n",
       "   'concept_id': 'D008133',\n",
       "   'semantic_type_id': 'DiseaseOrPhenotypicFeature'},\n",
       "  {'text': ['Na(v)1.5'],\n",
       "   'offsets': [[767, 775]],\n",
       "   'concept_id': '6331',\n",
       "   'semantic_type_id': 'GeneOrGeneProduct'},\n",
       "  {'text': ['sodium'],\n",
       "   'offsets': [[784, 790]],\n",
       "   'concept_id': 'D012964',\n",
       "   'semantic_type_id': 'ChemicalEntity'},\n",
       "  {'text': ['G-->A substitution at codon 1763'],\n",
       "   'offsets': [[807, 839]],\n",
       "   'concept_id': 'c|SUB|G|CODON1763|A',\n",
       "   'semantic_type_id': 'SequenceVariant'},\n",
       "  {'text': ['valine (GTG) to a methionine (ATG)'],\n",
       "   'offsets': [[857, 891]],\n",
       "   'concept_id': 'p|SUB|V||M',\n",
       "   'semantic_type_id': 'SequenceVariant'},\n",
       "  {'text': ['tsA201'],\n",
       "   'offsets': [[1018, 1024]],\n",
       "   'concept_id': 'CVCL_2737',\n",
       "   'semantic_type_id': 'CellLine'},\n",
       "  {'text': ['tetrodotoxin'],\n",
       "   'offsets': [[1092, 1104]],\n",
       "   'concept_id': 'D013779',\n",
       "   'semantic_type_id': 'ChemicalEntity'},\n",
       "  {'text': ['lidocaine'],\n",
       "   'offsets': [[1119, 1128]],\n",
       "   'concept_id': 'D008012',\n",
       "   'semantic_type_id': 'ChemicalEntity'},\n",
       "  {'text': ['V1764M'],\n",
       "   'offsets': [[1366, 1372]],\n",
       "   'concept_id': 'p|SUB|V|1764|M',\n",
       "   'semantic_type_id': 'SequenceVariant'},\n",
       "  {'text': ['I1762A'],\n",
       "   'offsets': [[1408, 1414]],\n",
       "   'concept_id': 'p|SUB|I|1762|A',\n",
       "   'semantic_type_id': 'SequenceVariant'},\n",
       "  {'text': ['Na(v)1.5'],\n",
       "   'offsets': [[1557, 1565]],\n",
       "   'concept_id': '6331',\n",
       "   'semantic_type_id': 'GeneOrGeneProduct'},\n",
       "  {'text': ['V1763M'],\n",
       "   'offsets': [[1566, 1572]],\n",
       "   'concept_id': 'p|SUB|V|1763|M',\n",
       "   'semantic_type_id': 'SequenceVariant'},\n",
       "  {'text': ['LQTS'],\n",
       "   'offsets': [[1731, 1735]],\n",
       "   'concept_id': 'D008133',\n",
       "   'semantic_type_id': 'DiseaseOrPhenotypicFeature'},\n",
       "  {'text': ['arrhythmias'],\n",
       "   'offsets': [[1760, 1771]],\n",
       "   'concept_id': 'D001145',\n",
       "   'semantic_type_id': 'DiseaseOrPhenotypicFeature'},\n",
       "  {'text': ['lidocaine'],\n",
       "   'offsets': [[1790, 1799]],\n",
       "   'concept_id': 'D008012',\n",
       "   'semantic_type_id': 'ChemicalEntity'},\n",
       "  {'text': ['mexiletine'],\n",
       "   'offsets': [[1804, 1814]],\n",
       "   'concept_id': 'D008801',\n",
       "   'semantic_type_id': 'ChemicalEntity'}],\n",
       " 'relations': [{'novel': 'Novel',\n",
       "   'type': 'Association',\n",
       "   'concept_1': 'D001919',\n",
       "   'concept_2': '6331'},\n",
       "  {'novel': 'Novel',\n",
       "   'type': 'Positive_Correlation',\n",
       "   'concept_1': 'D001919',\n",
       "   'concept_2': 'p|SUB|V|1763|M'},\n",
       "  {'novel': 'Novel',\n",
       "   'type': 'Association',\n",
       "   'concept_1': 'D013610',\n",
       "   'concept_2': '6331'},\n",
       "  {'novel': 'Novel',\n",
       "   'type': 'Positive_Correlation',\n",
       "   'concept_1': 'D013610',\n",
       "   'concept_2': 'p|SUB|V|1763|M'},\n",
       "  {'novel': 'Novel',\n",
       "   'type': 'Association',\n",
       "   'concept_1': '6331',\n",
       "   'concept_2': 'D001145'},\n",
       "  {'novel': 'No',\n",
       "   'type': 'Negative_Correlation',\n",
       "   'concept_1': 'D001145',\n",
       "   'concept_2': 'D008801'},\n",
       "  {'novel': 'No',\n",
       "   'type': 'Negative_Correlation',\n",
       "   'concept_1': 'D001145',\n",
       "   'concept_2': 'D008012'},\n",
       "  {'novel': 'Novel',\n",
       "   'type': 'Positive_Correlation',\n",
       "   'concept_1': 'p|SUB|V|1763|M',\n",
       "   'concept_2': 'D001145'},\n",
       "  {'novel': 'Novel',\n",
       "   'type': 'Positive_Correlation',\n",
       "   'concept_1': 'p|SUB|V|1763|M',\n",
       "   'concept_2': 'D008133'},\n",
       "  {'novel': 'Novel',\n",
       "   'type': 'Association',\n",
       "   'concept_1': 'D008133',\n",
       "   'concept_2': '6331'},\n",
       "  {'novel': 'Novel',\n",
       "   'type': 'Association',\n",
       "   'concept_1': 'D008133',\n",
       "   'concept_2': 'p|SUB|V||M'},\n",
       "  {'novel': 'Novel',\n",
       "   'type': 'Association',\n",
       "   'concept_1': 'D008133',\n",
       "   'concept_2': 'c|SUB|G|CODON1763|A'},\n",
       "  {'novel': 'No',\n",
       "   'type': 'Negative_Correlation',\n",
       "   'concept_1': 'D008133',\n",
       "   'concept_2': 'D008801'},\n",
       "  {'novel': 'No',\n",
       "   'type': 'Negative_Correlation',\n",
       "   'concept_1': 'D008133',\n",
       "   'concept_2': 'D008012'},\n",
       "  {'novel': 'No',\n",
       "   'type': 'Negative_Correlation',\n",
       "   'concept_1': 'D008801',\n",
       "   'concept_2': 'D017180'},\n",
       "  {'novel': 'No',\n",
       "   'type': 'Negative_Correlation',\n",
       "   'concept_1': 'D008012',\n",
       "   'concept_2': 'D017180'},\n",
       "  {'novel': 'No',\n",
       "   'type': 'Negative_Correlation',\n",
       "   'concept_1': 'D054537',\n",
       "   'concept_2': 'D008801'},\n",
       "  {'novel': 'No',\n",
       "   'type': 'Negative_Correlation',\n",
       "   'concept_1': 'D054537',\n",
       "   'concept_2': 'D008012'}]}"
      ]
     },
     "execution_count": 7,
     "metadata": {},
     "output_type": "execute_result"
    }
   ],
   "source": [
    "data"
   ]
  },
  {
   "cell_type": "code",
   "execution_count": 8,
   "id": "d1b8997e-4bfa-4180-a27d-245ed4ef0493",
   "metadata": {
    "tags": []
   },
   "outputs": [
    {
     "data": {
      "text/plain": [
       "[122, 1815]"
      ]
     },
     "execution_count": 8,
     "metadata": {},
     "output_type": "execute_result"
    }
   ],
   "source": [
    "abstract_offset"
   ]
  },
  {
   "cell_type": "code",
   "execution_count": 9,
   "id": "936e8d88-21be-465d-b483-8202cd5dd037",
   "metadata": {
    "tags": []
   },
   "outputs": [
    {
     "data": {
      "text/plain": [
       "'OBJECTIVE: Congenital long QT syndrome (LQTS) with in utero onset of the rhythm disturbances is associated with a poor prognosis. In this study we investigated a newborn patient with fetal bradycardia, 2:1 atrioventricular block and ventricular tachycardia soon after birth. METHODS: Mutational analysis and DNA sequencing were conducted in a newborn. The 2:1 atrioventricular block improved to 1:1 conduction only after intravenous lidocaine infusion or a high dose of mexiletine, which also controlled the ventricular tachycardia. RESULTS: A novel, spontaneous LQTS-3 mutation was identified in the transmembrane segment 6 of domain IV of the Na(v)1.5 cardiac sodium channel, with a G-->A substitution at codon 1763, which changed a valine (GTG) to a methionine (ATG). The proband was heterozygous but the mutation was absent in the parents and the sister. Expression of this mutant channel in tsA201 mammalian cells by site-directed mutagenesis revealed a persistent tetrodotoxin-sensitive but lidocaine-resistant current that was associated with a positive shift of the steady-state inactivation curve, steeper activation curve and faster recovery from inactivation. We also found a similar electrophysiological profile for the neighboring V1764M mutant. But, the other neighboring I1762A mutant had no persistent current and was still associated with a positive shift of inactivation. CONCLUSIONS: These findings suggest that the Na(v)1.5/V1763M channel dysfunction and possible neighboring mutants contribute to a persistent inward current due to altered inactivation kinetics and clinically congenital LQTS with perinatal onset of arrhythmias that responded to lidocaine and mexiletine.'"
      ]
     },
     "execution_count": 9,
     "metadata": {},
     "output_type": "execute_result"
    }
   ],
   "source": [
    "abstract"
   ]
  },
  {
   "cell_type": "code",
   "execution_count": 10,
   "id": "b9abd114-9df0-4128-8f64-de31bdd3bd8f",
   "metadata": {
    "tags": []
   },
   "outputs": [],
   "source": [
    "def highlight_entities_label(s, start_idx, entities, color='#66CC66'):\n",
    "    left = f\"<span style='background-color: {color}'>\"\n",
    "    right = \"</span>\"\n",
    "    final = \"\"\n",
    "    last_r = 0\n",
    "    for entity in entities:\n",
    "        l, r = entity['offsets'][0]\n",
    "        if not l >= start_idx:\n",
    "            continue\n",
    "        l -= start_idx\n",
    "        r -= start_idx\n",
    "        final += s[last_r:l]\n",
    "        final += left + s[l:r] + right\n",
    "        last_r = r\n",
    "    final += s[r:]\n",
    "    return final"
   ]
  },
  {
   "cell_type": "code",
   "execution_count": 11,
   "id": "9e348e99-504f-42db-9488-dd0c6223843e",
   "metadata": {
    "tags": []
   },
   "outputs": [
    {
     "data": {
      "text/html": [
       "OBJECTIVE: Congenital <span style='background-color: #66CC66'>long QT syndrome</span> (<span style='background-color: #66CC66'>LQTS</span>) with in utero onset of the rhythm disturbances is associated with a poor prognosis. In this study we investigated a newborn <span style='background-color: #66CC66'>patient</span> with fetal <span style='background-color: #66CC66'>bradycardia</span>, 2:1 <span style='background-color: #66CC66'>atrioventricular block</span> and <span style='background-color: #66CC66'>ventricular tachycardia</span> soon after birth. METHODS: Mutational analysis and DNA sequencing were conducted in a newborn. The 2:1 <span style='background-color: #66CC66'>atrioventricular block</span> improved to 1:1 conduction only after intravenous <span style='background-color: #66CC66'>lidocaine</span> infusion or a high dose of <span style='background-color: #66CC66'>mexiletine</span>, which also controlled the <span style='background-color: #66CC66'>ventricular tachycardia</span>. RESULTS: A novel, spontaneous <span style='background-color: #66CC66'>LQTS</span>-3 mutation was identified in the transmembrane segment 6 of domain IV of the <span style='background-color: #66CC66'>Na(v)1.5</span> cardiac <span style='background-color: #66CC66'>sodium</span> channel, with a <span style='background-color: #66CC66'>G-->A substitution at codon 1763</span>, which changed a <span style='background-color: #66CC66'>valine (GTG) to a methionine (ATG)</span>. The proband was heterozygous but the mutation was absent in the parents and the sister. Expression of this mutant channel in <span style='background-color: #66CC66'>tsA201</span> mammalian cells by site-directed mutagenesis revealed a persistent <span style='background-color: #66CC66'>tetrodotoxin</span>-sensitive but <span style='background-color: #66CC66'>lidocaine</span>-resistant current that was associated with a positive shift of the steady-state inactivation curve, steeper activation curve and faster recovery from inactivation. We also found a similar electrophysiological profile for the neighboring <span style='background-color: #66CC66'>V1764M</span> mutant. But, the other neighboring <span style='background-color: #66CC66'>I1762A</span> mutant had no persistent current and was still associated with a positive shift of inactivation. CONCLUSIONS: These findings suggest that the <span style='background-color: #66CC66'>Na(v)1.5</span>/<span style='background-color: #66CC66'>V1763M</span> channel dysfunction and possible neighboring mutants contribute to a persistent inward current due to altered inactivation kinetics and clinically congenital <span style='background-color: #66CC66'>LQTS</span> with perinatal onset of <span style='background-color: #66CC66'>arrhythmias</span> that responded to <span style='background-color: #66CC66'>lidocaine</span> and <span style='background-color: #66CC66'>mexiletine</span>."
      ],
      "text/plain": [
       "<IPython.core.display.HTML object>"
      ]
     },
     "execution_count": 11,
     "metadata": {},
     "output_type": "execute_result"
    }
   ],
   "source": [
    "from IPython.display import HTML\n",
    "\n",
    "label = highlight_entities_label(abstract, abstract_offset[0], entities)\n",
    "HTML(label)"
   ]
  },
  {
   "cell_type": "code",
   "execution_count": 14,
   "id": "ac1387a0-dd26-42bb-8c66-92917cf93f9f",
   "metadata": {
    "scrolled": true,
    "tags": []
   },
   "outputs": [
    {
     "data": {
      "text/html": [
       "OBJECTIVE: <span style='background-color: #00CCFF'>Congenital long QT syndrome (LQTS)</span> with in utero onset of the rhythm disturbances is associated with a poor prognosis. In this study we investigated a newborn patient with fetal bradycardia, 2:1 atrioventricular block and ventricular tachycardia soon after birth. METHODS: Mutational analysis and DNA sequencing were conducted in a newborn. The 2:1 atrioventricular block improved to 1:1 conduction only after intravenous <span style='background-color: #00CCFF'>Lidocaine</span> infusion or a high dose of <span style='background-color: #00CCFF'>Mexiletine</span>, which also controlled the ventricular tachycardia. RESULTS: A novel, spontaneous <span style='background-color: #00CCFF'>LQTS-3</span> mutation was identified in the <span style='background-color: #00CCFF'>Transmembrane segment 6 of domain IV</span> of the <span style='background-color: #00CCFF'>Na(v)1.5 cardiac sodium channel</span>, with a <span style='background-color: #00CCFF'>G-->A substitution at codon 1763</span>, which changed a <span style='background-color: #00CCFF'>Valine (GTG)</span> to a <span style='background-color: #00CCFF'>Methionine (ATG)</span>. The proband was heterozygous but the mutation was absent in the parents and the sister. Expression of this mutant channel in <span style='background-color: #00CCFF'>tsA201 mammalian cells</span> by <span style='background-color: #00CCFF'>Site-directed mutagenesis</span> revealed a persistent tetrodotoxin-sensitive but <span style='background-color: #00CCFF'>Lidocaine</span>-resistant current that was associated with a positive shift of the steady-state inactivation curve, steeper activation curve and faster recovery from inactivation. We also found a similar electrophysiological profile for the neighboring <span style='background-color: #00CCFF'>V1764M mutant</span>. But, the other neighboring <span style='background-color: #00CCFF'>I1762A mutant</span> had no persistent current and was still associated with a positive shift of inactivation. CONCLUSIONS: These findings suggest that the Na(v)1.5/V1763M channel dysfunction and possible neighboring mutants contribute to a persistent inward current due to altered inactivation kinetics and clinically congenital LQTS with perinatal onset of arrhythmias that responded to <span style='background-color: #00CCFF'>Lidocaine</span> and <span style='background-color: #00CCFF'>Mexiletine</span>."
      ],
      "text/plain": [
       "<IPython.core.display.HTML object>"
      ]
     },
     "execution_count": 14,
     "metadata": {},
     "output_type": "execute_result"
    }
   ],
   "source": [
    "def highlight_entities_extracted(s, entities, color='#00CCFF'):\n",
    "    import re\n",
    "    left = f\"<span style='background-color: {color}'>\"\n",
    "    right = \"</span>\"\n",
    "    final = s[:]\n",
    "    for entity in entities:\n",
    "        entity_text = entity['entity']\n",
    "        final = re.sub('(?i)'+re.escape(entity_text), lambda m: left+entity_text+right, final)\n",
    "    return final\n",
    "predicted = highlight_entities_extracted(abstract, entities_extracted)\n",
    "HTML(predicted)"
   ]
  },
  {
   "cell_type": "code",
   "execution_count": 25,
   "id": "dc04aadb-db35-4193-8dc7-4e72bbce8e3f",
   "metadata": {
    "scrolled": true,
    "tags": []
   },
   "outputs": [
    {
     "data": {
      "text/plain": [
       "[{'entity': 'Congenital long QT syndrome (LQTS)',\n",
       "  'importance': 5,\n",
       "  'category': 'Disease',\n",
       "  'pmid': '15485686',\n",
       "  'type': 'abstract'},\n",
       " {'entity': 'In utero onset of rhythm disturbances',\n",
       "  'importance': 3,\n",
       "  'category': 'BiologicalProcess',\n",
       "  'pmid': '15485686',\n",
       "  'type': 'abstract'},\n",
       " {'entity': 'Newborn patient',\n",
       "  'importance': 4,\n",
       "  'category': 'Anatomy',\n",
       "  'pmid': '15485686',\n",
       "  'type': 'abstract'},\n",
       " {'entity': 'Fetal bradycardia',\n",
       "  'importance': 3,\n",
       "  'category': 'Symptom',\n",
       "  'pmid': '15485686',\n",
       "  'type': 'abstract'},\n",
       " {'entity': '2:1 atrioventricular block',\n",
       "  'importance': 4,\n",
       "  'category': 'Pathway',\n",
       "  'pmid': '15485686',\n",
       "  'type': 'abstract'},\n",
       " {'entity': 'Ventricular tachycardia',\n",
       "  'importance': 3,\n",
       "  'category': 'Symptom',\n",
       "  'pmid': '15485686',\n",
       "  'type': 'abstract'},\n",
       " {'entity': 'Mutational analysis and DNA sequencing',\n",
       "  'importance': 4,\n",
       "  'category': 'MolecularFunction',\n",
       "  'pmid': '15485686',\n",
       "  'type': 'abstract'},\n",
       " {'entity': 'Lidocaine infusion',\n",
       "  'importance': 3,\n",
       "  'category': 'Compound',\n",
       "  'pmid': '15485686',\n",
       "  'type': 'abstract'},\n",
       " {'entity': 'High dose of mexiletine',\n",
       "  'importance': 3,\n",
       "  'category': 'Compound',\n",
       "  'pmid': '15485686',\n",
       "  'type': 'abstract'},\n",
       " {'entity': 'Na(v)1.5 cardiac sodium channel',\n",
       "  'importance': 5,\n",
       "  'category': 'Anatomy',\n",
       "  'pmid': '15485686',\n",
       "  'type': 'abstract'},\n",
       " {'entity': 'Transmembrane segment 6 of domain IV',\n",
       "  'importance': 3,\n",
       "  'category': 'CellularComponent',\n",
       "  'pmid': '15485686',\n",
       "  'type': 'abstract'},\n",
       " {'entity': 'G-->A substitution at codon 1763',\n",
       "  'importance': 4,\n",
       "  'category': 'MolecularFunction',\n",
       "  'pmid': '15485686',\n",
       "  'type': 'abstract'},\n",
       " {'entity': 'Valine (GTG)',\n",
       "  'importance': 2,\n",
       "  'category': 'Compound',\n",
       "  'pmid': '15485686',\n",
       "  'type': 'abstract'},\n",
       " {'entity': 'Methionine (ATG)',\n",
       "  'importance': 2,\n",
       "  'category': 'Compound',\n",
       "  'pmid': '15485686',\n",
       "  'type': 'abstract'},\n",
       " {'entity': 'Persistent tetrodotoxin-sensitive but lidocaine-resistant current',\n",
       "  'importance': 4,\n",
       "  'category': 'Metabolite',\n",
       "  'pmid': '15485686',\n",
       "  'type': 'abstract'},\n",
       " {'entity': 'Positive shift of the steady-state inactivation curve',\n",
       "  'importance': 3,\n",
       "  'category': 'BiologicalProcess',\n",
       "  'pmid': '15485686',\n",
       "  'type': 'abstract'},\n",
       " {'entity': 'Steep activation curve',\n",
       "  'importance': 2,\n",
       "  'category': 'BiologicalProcess',\n",
       "  'pmid': '15485686',\n",
       "  'type': 'abstract'},\n",
       " {'entity': 'Faster recovery from inactivation',\n",
       "  'importance': 3,\n",
       "  'category': 'BiologicalProcess',\n",
       "  'pmid': '15485686',\n",
       "  'type': 'abstract'},\n",
       " {'entity': 'V1764M mutant',\n",
       "  'importance': 3,\n",
       "  'category': 'Mutation',\n",
       "  'pmid': '15485686',\n",
       "  'type': 'abstract'},\n",
       " {'entity': 'I1762A mutant',\n",
       "  'importance': 2,\n",
       "  'category': 'Mutation',\n",
       "  'pmid': '15485686',\n",
       "  'type': 'abstract'}]"
      ]
     },
     "execution_count": 25,
     "metadata": {},
     "output_type": "execute_result"
    }
   ],
   "source": [
    "entities_extracted"
   ]
  },
  {
   "cell_type": "code",
   "execution_count": 13,
   "id": "1bf78dc6-55dc-4842-a706-171e672b201c",
   "metadata": {
    "tags": []
   },
   "outputs": [],
   "source": []
  },
  {
   "cell_type": "code",
   "execution_count": 21,
   "id": "1cfc35ac-d352-4822-b83c-fe663ccd0c43",
   "metadata": {},
   "outputs": [],
   "source": [
    "import re"
   ]
  },
  {
   "cell_type": "code",
   "execution_count": 22,
   "id": "fcaf194f-0ef0-4075-9c93-4a5b160d4109",
   "metadata": {},
   "outputs": [
    {
     "data": {
      "text/plain": [
       "'bye bye bye'"
      ]
     },
     "execution_count": 22,
     "metadata": {},
     "output_type": "execute_result"
    }
   ],
   "source": [
    "re.sub('hello', 'bye', 'hello HeLLo HELLO', flags=re.IGNORECASE)"
   ]
  },
  {
   "cell_type": "code",
   "execution_count": 23,
   "id": "c9c020a2-75da-42df-a7dd-6315cb08b057",
   "metadata": {},
   "outputs": [
    {
     "data": {
      "text/plain": [
       "'Congenital long QT syndrome (LQTS)'"
      ]
     },
     "execution_count": 23,
     "metadata": {},
     "output_type": "execute_result"
    }
   ],
   "source": [
    "re.sub('Congenital long QT syndrome (LQTS)', 'hello', 'Congenital long QT syndrome (LQTS)', flags=re.IGNORECASE)"
   ]
  },
  {
   "cell_type": "code",
   "execution_count": 28,
   "id": "d26199a1-9207-493b-8334-212378e9a2de",
   "metadata": {
    "tags": []
   },
   "outputs": [],
   "source": [
    "confusion_matrix = {\"test\":[0,0,0]}\n",
    "categories = []\n",
    "\n",
    "def match_entity(entity_a, entity_b):\n",
    "    return entity_a['category'] == entity_b['category'] and\\\n",
    "model.query(entity_a['entity'], top_k=1)[2] == model.query(entity_b['entity'], top_k=1)[2]\n",
    "\n",
    "# def macro_avg_f1_score(ans, gt):\n",
    "#     # for sample_ans, sample_gt in zip(ans, gt):\n",
    "#         # for category in categories:\n",
    "#             # get all entities in the category\n",
    "#     # ans_entities = [entity['entity']\n",
    "#     #                 for entity in sample_ans if entity['category'] == category]\n",
    "#     ans_entities = [entity['entity'] for entity in ans]\n",
    "#     # gt_entities = [entity['text']\n",
    "#     #                for entity in sample_gt if entity['category'] == category]\n",
    "#     gt_entities = [entity['text'][0] for entity in gt]\n",
    "#     TP = len(set(ans_entities) & set(gt_entities))\n",
    "#     FP = len(set(ans_entities) - set(gt_entities))\n",
    "#     FN = len(set(gt_entities) - set(ans_entities))\n",
    "#     confusion_matrix[\"test\"][0] += TP\n",
    "#     confusion_matrix[\"test\"][1] += FP\n",
    "#     confusion_matrix[\"test\"][2] += FN\n",
    "#     f1_score = []\n",
    "#     # for category in categories:\n",
    "#     TP, FP, FN = confusion_matrix[\"test\"]\n",
    "#     precision = TP/(TP+FP) if TP+FP else float('nan')\n",
    "#     recall = TP/(TP+FN) if TP+FN else float('nan')\n",
    "#     f1_score.append(2*(precision * recall) / (precision + recall))\n",
    "#     return sum(f1_score) / len(f1_score)\n",
    "\n",
    "# macro_avg_f1_score(entities_extracted, entities)"
   ]
  },
  {
   "cell_type": "code",
   "execution_count": 44,
   "id": "4faa1853-24fe-4d37-8d31-da9fa1f8c1da",
   "metadata": {
    "tags": []
   },
   "outputs": [
    {
     "data": {
      "text/plain": [
       "[{'entity': 'Congenital long QT syndrome (LQTS)',\n",
       "  'importance': 5,\n",
       "  'category': 'Disease',\n",
       "  'pmid': '15485686',\n",
       "  'type': 'abstract'},\n",
       " {'entity': 'In utero onset of rhythm disturbances',\n",
       "  'importance': 3,\n",
       "  'category': 'BiologicalProcess',\n",
       "  'pmid': '15485686',\n",
       "  'type': 'abstract'},\n",
       " {'entity': 'Newborn patient',\n",
       "  'importance': 4,\n",
       "  'category': 'Anatomy',\n",
       "  'pmid': '15485686',\n",
       "  'type': 'abstract'},\n",
       " {'entity': 'Fetal bradycardia',\n",
       "  'importance': 3,\n",
       "  'category': 'Symptom',\n",
       "  'pmid': '15485686',\n",
       "  'type': 'abstract'},\n",
       " {'entity': '2:1 atrioventricular block',\n",
       "  'importance': 4,\n",
       "  'category': 'Pathway',\n",
       "  'pmid': '15485686',\n",
       "  'type': 'abstract'},\n",
       " {'entity': 'Ventricular tachycardia',\n",
       "  'importance': 3,\n",
       "  'category': 'Symptom',\n",
       "  'pmid': '15485686',\n",
       "  'type': 'abstract'},\n",
       " {'entity': 'Mutational analysis and DNA sequencing',\n",
       "  'importance': 4,\n",
       "  'category': 'MolecularFunction',\n",
       "  'pmid': '15485686',\n",
       "  'type': 'abstract'},\n",
       " {'entity': 'Lidocaine infusion',\n",
       "  'importance': 3,\n",
       "  'category': 'Compound',\n",
       "  'pmid': '15485686',\n",
       "  'type': 'abstract'},\n",
       " {'entity': 'High dose of mexiletine',\n",
       "  'importance': 3,\n",
       "  'category': 'Compound',\n",
       "  'pmid': '15485686',\n",
       "  'type': 'abstract'},\n",
       " {'entity': 'Na(v)1.5 cardiac sodium channel',\n",
       "  'importance': 5,\n",
       "  'category': 'Anatomy',\n",
       "  'pmid': '15485686',\n",
       "  'type': 'abstract'},\n",
       " {'entity': 'Transmembrane segment 6 of domain IV',\n",
       "  'importance': 3,\n",
       "  'category': 'CellularComponent',\n",
       "  'pmid': '15485686',\n",
       "  'type': 'abstract'},\n",
       " {'entity': 'G-->A substitution at codon 1763',\n",
       "  'importance': 4,\n",
       "  'category': 'MolecularFunction',\n",
       "  'pmid': '15485686',\n",
       "  'type': 'abstract'},\n",
       " {'entity': 'Valine (GTG)',\n",
       "  'importance': 2,\n",
       "  'category': 'Compound',\n",
       "  'pmid': '15485686',\n",
       "  'type': 'abstract'},\n",
       " {'entity': 'Methionine (ATG)',\n",
       "  'importance': 2,\n",
       "  'category': 'Compound',\n",
       "  'pmid': '15485686',\n",
       "  'type': 'abstract'},\n",
       " {'entity': 'Persistent tetrodotoxin-sensitive but lidocaine-resistant current',\n",
       "  'importance': 4,\n",
       "  'category': 'Metabolite',\n",
       "  'pmid': '15485686',\n",
       "  'type': 'abstract'},\n",
       " {'entity': 'Positive shift of the steady-state inactivation curve',\n",
       "  'importance': 3,\n",
       "  'category': 'BiologicalProcess',\n",
       "  'pmid': '15485686',\n",
       "  'type': 'abstract'},\n",
       " {'entity': 'Steep activation curve',\n",
       "  'importance': 2,\n",
       "  'category': 'BiologicalProcess',\n",
       "  'pmid': '15485686',\n",
       "  'type': 'abstract'},\n",
       " {'entity': 'Faster recovery from inactivation',\n",
       "  'importance': 3,\n",
       "  'category': 'BiologicalProcess',\n",
       "  'pmid': '15485686',\n",
       "  'type': 'abstract'},\n",
       " {'entity': 'V1764M mutant',\n",
       "  'importance': 3,\n",
       "  'category': 'Mutation',\n",
       "  'pmid': '15485686',\n",
       "  'type': 'abstract'},\n",
       " {'entity': 'I1762A mutant',\n",
       "  'importance': 2,\n",
       "  'category': 'Mutation',\n",
       "  'pmid': '15485686',\n",
       "  'type': 'abstract'}]"
      ]
     },
     "execution_count": 44,
     "metadata": {},
     "output_type": "execute_result"
    }
   ],
   "source": [
    "entities_extracted"
   ]
  },
  {
   "cell_type": "code",
   "execution_count": 10,
   "id": "b1edc533-5c0f-4760-8b88-84e142aff668",
   "metadata": {
    "scrolled": true,
    "tags": []
   },
   "outputs": [
    {
     "data": {
      "text/plain": [
       "{'text': ['long QT syndrome'],\n",
       " 'offsets': [[56, 72]],\n",
       " 'concept_id': 'D008133',\n",
       " 'semantic_type_id': 'DiseaseOrPhenotypicFeature'}"
      ]
     },
     "execution_count": 10,
     "metadata": {},
     "output_type": "execute_result"
    }
   ],
   "source": [
    "entities[1]"
   ]
  },
  {
   "cell_type": "code",
   "execution_count": 11,
   "id": "29885e07-3b4d-4be2-ac6f-50d15fb1cdaa",
   "metadata": {
    "tags": []
   },
   "outputs": [
    {
     "data": {
      "text/plain": [
       "{'entity': 'Congenital long QT syndrome (LQTS)',\n",
       " 'importance': 5,\n",
       " 'category': 'Disease',\n",
       " 'pmid': '15485686',\n",
       " 'type': 'abstract'}"
      ]
     },
     "execution_count": 11,
     "metadata": {},
     "output_type": "execute_result"
    }
   ],
   "source": [
    "entities_extracted[0]"
   ]
  },
  {
   "cell_type": "code",
   "execution_count": 14,
   "id": "479b757d-8ce3-4a81-bdd2-e880823f8a3c",
   "metadata": {
    "tags": []
   },
   "outputs": [
    {
     "data": {
      "text/plain": [
       "(array([[0.97932327, 0.9789596 , 0.9789596 , 0.97796655, 0.9778704 ,\n",
       "         0.97784853, 0.97774506, 0.9776753 , 0.9774991 , 0.97747386,\n",
       "         0.9774325 , 0.97729903, 0.97713727, 0.9769972 , 0.9769947 ,\n",
       "         0.97682893, 0.97670466, 0.97670466, 0.9763256 , 0.9752341 ]],\n",
       "       dtype=float32),\n",
       " array([[  5550, 538983, 523573,  24920,   9590,  17247,   6439,  10193,\n",
       "           9472,   9021,   4087,   1920,  10304,  13511,   5957,   5168,\n",
       "          29175,  23463,  15586, 533892]]),\n",
       " [5550                  long QT syndrome 1\n",
       "  538983       Long QT syndrome congenital\n",
       "  523573       Long QT syndrome congenital\n",
       "  24920        obsolete long QT syndrome 1\n",
       "  9590                  long qt syndrome 8\n",
       "  17247                 long QT syndrome 6\n",
       "  6439                  long QT syndrome 3\n",
       "  10193                 long QT syndrome 2\n",
       "  9472                 long QT syndrome 13\n",
       "  9021                 long QT syndrome 16\n",
       "  4087                 long QT syndrome 11\n",
       "  1920                 long QT syndrome 12\n",
       "  10304                long QT syndrome 14\n",
       "  13511                 long QT syndrome 5\n",
       "  5957                  long QT syndrome 9\n",
       "  5168                 long QT syndrome 10\n",
       "  29175                 Long Qt Syndrome 4\n",
       "  23463                 long QT syndrome 4\n",
       "  15586                long QT syndrome 15\n",
       "  533892    Myelodysplastic syndrome (SMQ)\n",
       "  Name: name, dtype: object])"
      ]
     },
     "execution_count": 14,
     "metadata": {},
     "output_type": "execute_result"
    }
   ],
   "source": [
    "model.query(entities_extracted[0]['entity'], top_k=20)"
   ]
  },
  {
   "cell_type": "code",
   "execution_count": 15,
   "id": "5e563b1c-fd5b-4a38-9a44-a5518079f50c",
   "metadata": {
    "tags": []
   },
   "outputs": [
    {
     "data": {
      "text/plain": [
       "(array([[1.0000001 , 1.        , 1.        , 1.        , 0.9940371 ,\n",
       "         0.98827636, 0.97789556, 0.97636503, 0.9754645 , 0.9740887 ,\n",
       "         0.9740887 , 0.9740887 , 0.97408867, 0.97390854, 0.9734761 ,\n",
       "         0.97306156, 0.9729073 , 0.97290725, 0.9729072 , 0.972878  ]],\n",
       "       dtype=float32),\n",
       " array([[534835, 448862,  11832, 486683,  21876,   2749,   9339,  30463,\n",
       "          10193, 539013,  18950, 429186, 523834, 499481,   4606,   4001,\n",
       "           3963, 535311, 461080,   5550]]),\n",
       " [534835               Long QT syndrome\n",
       "  448862               Long QT Syndrome\n",
       "  11832                long QT syndrome\n",
       "  486683               Long QT syndrome\n",
       "  21876               short QT syndrome\n",
       "  2749        familial long QT syndrome\n",
       "  9339                 Timothy syndrome\n",
       "  30463         Long QT syndrome type 3\n",
       "  10193              long QT syndrome 2\n",
       "  539013               Brugada syndrome\n",
       "  18950                Brugada syndrome\n",
       "  429186               Brugada Syndrome\n",
       "  523834               Brugada syndrome\n",
       "  499481    Hyperkinetic heart syndrome\n",
       "  4606         short QT syndrome type 2\n",
       "  4001         short QT syndrome type 3\n",
       "  3963              sick sinus syndrome\n",
       "  535311            Sick sinus syndrome\n",
       "  461080            Sick Sinus Syndrome\n",
       "  5550               long QT syndrome 1\n",
       "  Name: name, dtype: object])"
      ]
     },
     "execution_count": 15,
     "metadata": {},
     "output_type": "execute_result"
    }
   ],
   "source": [
    "model.query(entities[1]['text'], top_k=20)"
   ]
  },
  {
   "cell_type": "code",
   "execution_count": 24,
   "id": "6273b821-f2c9-462d-8358-65b3a5e29de4",
   "metadata": {
    "tags": []
   },
   "outputs": [
    {
     "data": {
      "text/plain": [
       "(array([[0.9999996 , 0.99999946, 0.99999946, 0.99999946, 0.98979944,\n",
       "         0.9897993 , 0.98979926, 0.98644674, 0.9864467 , 0.9864467 ]],\n",
       "       dtype=float32),\n",
       " array([[484683, 534046, 427038,  10136, 484687,  18606, 534047, 461241,\n",
       "         488112,  23947]]),\n",
       " [484683           Atrioventricular block\n",
       "  534046           Atrioventricular block\n",
       "  427038           Atrioventricular Block\n",
       "  10136            atrioventricular block\n",
       "  484687    Atrioventricular dissociation\n",
       "  18606     atrioventricular dissociation\n",
       "  534047    Atrioventricular dissociation\n",
       "  461241                 Sinoatrial Block\n",
       "  488112                 Sinoatrial block\n",
       "  23947                  sinoatrial block\n",
       "  Name: name, dtype: object])"
      ]
     },
     "execution_count": 24,
     "metadata": {},
     "output_type": "execute_result"
    }
   ],
   "source": [
    "model.query(\"atrioventricular block\", top_k=10)"
   ]
  },
  {
   "cell_type": "code",
   "execution_count": 23,
   "id": "548d2de3-0d31-4eaf-a3b3-b81a50afde9a",
   "metadata": {
    "tags": []
   },
   "outputs": [
    {
     "data": {
      "text/plain": [
       "(array([[0.9726196 , 0.97260904, 0.97260904, 0.97142196, 0.97102666,\n",
       "         0.9710048 , 0.97037643, 0.97018284, 0.9698629 , 0.9698545 ]],\n",
       "       dtype=float32),\n",
       " array([[492001, 536885, 499981,  22013, 520764, 520763, 506854, 489239,\n",
       "         530397, 498891]]),\n",
       " [492001         Mobitz (type) II atrioventricular block\n",
       "  536885            Atrioventricular block second degree\n",
       "  499981            Atrioventricular block second degree\n",
       "  22013            Mobitz type II atrioventricular block\n",
       "  520764    Type II second degree atrioventricular block\n",
       "  520763     Type I second degree atrioventricular block\n",
       "  506854      Other second degree atrioventricular block\n",
       "  489239                Atrioventricular block, complete\n",
       "  530397               High grade atrioventricular block\n",
       "  498891                  AV block complete with syncope\n",
       "  Name: name, dtype: object])"
      ]
     },
     "execution_count": 23,
     "metadata": {},
     "output_type": "execute_result"
    }
   ],
   "source": [
    "model.query(\"2:1 atrioventricular block\", top_k=10)"
   ]
  },
  {
   "cell_type": "code",
   "execution_count": 46,
   "id": "7e97f848-e842-4287-9c8c-17dfbd474663",
   "metadata": {
    "tags": []
   },
   "outputs": [
    {
     "data": {
      "text/plain": [
       "(array([[1.0000005 , 1.0000005 , 1.0000004 , 1.0000004 , 0.98926437,\n",
       "         0.9892642 , 0.9868732 , 0.9868732 , 0.98687315, 0.98687315]],\n",
       "       dtype=float32),\n",
       " array([[463020,    791, 535387, 488295,    229, 534017, 486324, 444811,\n",
       "         534699,    334]]),\n",
       " [463020    Tachycardia\n",
       "  791       tachycardia\n",
       "  535387    Tachycardia\n",
       "  488295    Tachycardia\n",
       "  229        arrhythmia\n",
       "  534017     Arrhythmia\n",
       "  486324    Hypotension\n",
       "  444811    Hypotension\n",
       "  534699    Hypotension\n",
       "  334       hypotension\n",
       "  Name: name, dtype: object])"
      ]
     },
     "execution_count": 46,
     "metadata": {},
     "output_type": "execute_result"
    }
   ],
   "source": [
    "model.query(entities[2]['text'], top_k=10)"
   ]
  },
  {
   "cell_type": "code",
   "execution_count": 10,
   "id": "658036e5-52f5-4f40-9875-ec8bd370a1fc",
   "metadata": {},
   "outputs": [
    {
     "data": {
      "text/plain": [
       "{'CellLine',\n",
       " 'ChemicalEntity',\n",
       " 'DiseaseOrPhenotypicFeature',\n",
       " 'GeneOrGeneProduct',\n",
       " 'OrganismTaxon',\n",
       " 'SequenceVariant'}"
      ]
     },
     "execution_count": 10,
     "metadata": {},
     "output_type": "execute_result"
    }
   ],
   "source": [
    "set([j['semantic_type_id'] for i in datas[\"test\"] for j in i['entities']])"
   ]
  },
  {
   "cell_type": "code",
   "execution_count": 13,
   "id": "6b5708eb-fc8b-4fa5-86f9-049ca13b1baa",
   "metadata": {
    "tags": []
   },
   "outputs": [
    {
     "name": "stdout",
     "output_type": "stream",
     "text": [
      "Loading model...\n"
     ]
    },
    {
     "name": "stderr",
     "output_type": "stream",
     "text": [
      "Some weights of the model checkpoint at microsoft/BiomedNLP-BiomedBERT-base-uncased-abstract-fulltext were not used when initializing BertModel: ['cls.predictions.bias', 'cls.predictions.transform.LayerNorm.bias', 'cls.seq_relationship.weight', 'cls.predictions.transform.dense.weight', 'cls.predictions.decoder.weight', 'cls.seq_relationship.bias', 'cls.predictions.transform.dense.bias', 'cls.predictions.transform.LayerNorm.weight', 'cls.predictions.decoder.bias']\n",
      "- This IS expected if you are initializing BertModel from the checkpoint of a model trained on another task or with another architecture (e.g. initializing a BertForSequenceClassification model from a BertForPreTraining model).\n",
      "- This IS NOT expected if you are initializing BertModel from the checkpoint of a model that you expect to be exactly identical (initializing a BertForSequenceClassification model from a BertForSequenceClassification model).\n"
     ]
    },
    {
     "name": "stdout",
     "output_type": "stream",
     "text": [
      "Loading index...\n"
     ]
    },
    {
     "name": "stderr",
     "output_type": "stream",
     "text": [
      "/root/text2knowledge/text2knowledge/eval.py:20: DtypeWarning: Columns (6,8) have mixed types. Specify dtype option on import or set low_memory=False.\n",
      "  self.entities = pd.read_csv(db_path, sep='\\t')\n"
     ]
    }
   ],
   "source": [
    "from text2knowledge.eval import BioBERT\n",
    "\n",
    "model = BioBERT(\n",
    "    model_name = 'microsoft/BiomedNLP-BiomedBERT-base-uncased-abstract-fulltext',\n",
    "    index_path = '/root/text2knowledge/data/biovecs.index',\n",
    "    db_path = '/root/text2knowledge/data/entities.tsv'\n",
    ")"
   ]
  },
  {
   "cell_type": "code",
   "execution_count": 2,
   "id": "93760577-332c-4e70-9187-2bf7d563ba2a",
   "metadata": {
    "tags": []
   },
   "outputs": [
    {
     "data": {
      "text/plain": [
       "(array([[0.97932327, 0.9789596 , 0.9789596 , 0.97796655, 0.9778704 ]],\n",
       "       dtype=float32),\n",
       " array([[  5550, 523573, 538983,  24920,   9590]]),\n",
       " [5550               long QT syndrome 1\n",
       "  523573    Long QT syndrome congenital\n",
       "  538983    Long QT syndrome congenital\n",
       "  24920     obsolete long QT syndrome 1\n",
       "  9590               long qt syndrome 8\n",
       "  Name: name, dtype: object])"
      ]
     },
     "execution_count": 2,
     "metadata": {},
     "output_type": "execute_result"
    }
   ],
   "source": [
    "model.query('Congenital long QT syndrome (LQTS)')"
   ]
  },
  {
   "cell_type": "code",
   "execution_count": 1,
   "id": "17364ae0-4324-49c1-9b6a-c6933505c04a",
   "metadata": {
    "tags": []
   },
   "outputs": [],
   "source": [
    "from text2knowledge.normalizer import Normalizer"
   ]
  },
  {
   "cell_type": "code",
   "execution_count": 2,
   "id": "f04243a3-f882-4e15-80cd-00c3e9ece689",
   "metadata": {
    "tags": []
   },
   "outputs": [
    {
     "ename": "TypeError",
     "evalue": "'NoneType' object is not callable",
     "output_type": "error",
     "traceback": [
      "\u001b[0;31m---------------------------------------------------------------------------\u001b[0m",
      "\u001b[0;31mTypeError\u001b[0m                                 Traceback (most recent call last)",
      "Cell \u001b[0;32mIn[2], line 11\u001b[0m\n\u001b[1;32m      9\u001b[0m arg \u001b[38;5;241m=\u001b[39m Arg()\n\u001b[1;32m     10\u001b[0m normalizer \u001b[38;5;241m=\u001b[39m Normalizer(arg)\n\u001b[0;32m---> 11\u001b[0m \u001b[43mnormalizer\u001b[49m\u001b[38;5;241;43m.\u001b[39;49m\u001b[43mnormalize\u001b[49m\u001b[43m(\u001b[49m\u001b[38;5;124;43m\"\u001b[39;49m\u001b[38;5;124;43mG-->A substitution at codon 1763\u001b[39;49m\u001b[38;5;124;43m\"\u001b[39;49m\u001b[43m)\u001b[49m\n",
      "File \u001b[0;32m~/text2knowledge/text2knowledge/normalizer.py:68\u001b[0m, in \u001b[0;36mNormalizer.normalize\u001b[0;34m(self, mention)\u001b[0m\n\u001b[1;32m     65\u001b[0m mention \u001b[38;5;241m=\u001b[39m TextPreprocess()\u001b[38;5;241m.\u001b[39mrun(mention)\n\u001b[1;32m     67\u001b[0m \u001b[38;5;66;03m# embed mention\u001b[39;00m\n\u001b[0;32m---> 68\u001b[0m mention_sparse_embeds \u001b[38;5;241m=\u001b[39m \u001b[43mbiosyn\u001b[49m\u001b[38;5;241;43m.\u001b[39;49m\u001b[43membed_sparse\u001b[49m\u001b[43m(\u001b[49m\u001b[43mnames\u001b[49m\u001b[38;5;241;43m=\u001b[39;49m\u001b[43m[\u001b[49m\u001b[43mmention\u001b[49m\u001b[43m]\u001b[49m\u001b[43m)\u001b[49m\n\u001b[1;32m     69\u001b[0m mention_dense_embeds \u001b[38;5;241m=\u001b[39m biosyn\u001b[38;5;241m.\u001b[39membed_dense(names\u001b[38;5;241m=\u001b[39m[mention])\n\u001b[1;32m     71\u001b[0m output \u001b[38;5;241m=\u001b[39m {\n\u001b[1;32m     72\u001b[0m     \u001b[38;5;124m'\u001b[39m\u001b[38;5;124mmention\u001b[39m\u001b[38;5;124m'\u001b[39m: mention,\n\u001b[1;32m     73\u001b[0m }\n",
      "File \u001b[0;32m~/miniconda3/lib/python3.8/site-packages/biosyn-0.1-py3.8.egg/biosyn/biosyn.py:209\u001b[0m, in \u001b[0;36mBioSyn.embed_sparse\u001b[0;34m(self, names, show_progress)\u001b[0m\n\u001b[1;32m    207\u001b[0m end \u001b[38;5;241m=\u001b[39m \u001b[38;5;28mmin\u001b[39m(start \u001b[38;5;241m+\u001b[39m batch_size, \u001b[38;5;28mlen\u001b[39m(names))\n\u001b[1;32m    208\u001b[0m batch \u001b[38;5;241m=\u001b[39m names[start:end]\n\u001b[0;32m--> 209\u001b[0m batch_sparse_embeds \u001b[38;5;241m=\u001b[39m \u001b[38;5;28;43mself\u001b[39;49m\u001b[38;5;241;43m.\u001b[39;49m\u001b[43msparse_encoder\u001b[49m\u001b[43m(\u001b[49m\u001b[43mbatch\u001b[49m\u001b[43m)\u001b[49m\n\u001b[1;32m    210\u001b[0m batch_sparse_embeds \u001b[38;5;241m=\u001b[39m batch_sparse_embeds\u001b[38;5;241m.\u001b[39mnumpy()\n\u001b[1;32m    211\u001b[0m sparse_embeds\u001b[38;5;241m.\u001b[39mappend(batch_sparse_embeds)\n",
      "\u001b[0;31mTypeError\u001b[0m: 'NoneType' object is not callable"
     ]
    }
   ],
   "source": [
    "class Arg:\n",
    "    def __init__(self):\n",
    "        # self.mention = \"G-->A substitution at codon 1763\"\n",
    "        self.model_name_or_path = \"dmis-lab/biosyn-biobert-bc2gn\"\n",
    "        self.show_embeddings = False\n",
    "        self.show_predictions = True\n",
    "        self.dictionary_path = \"/root/text2knowledge/data/dictionary/dict_Gene.txt\"\n",
    "        self.use_cuda = True\n",
    "arg = Arg()\n",
    "normalizer = Normalizer(arg)\n",
    "normalizer.normalize(\"G-->A substitution at codon 1763\")"
   ]
  },
  {
   "cell_type": "code",
   "execution_count": 7,
   "id": "b615c9cb-0177-47bb-a7f7-60a2cacec8fb",
   "metadata": {
    "tags": []
   },
   "outputs": [
    {
     "ename": "TypeError",
     "evalue": "'NoneType' object is not callable",
     "output_type": "error",
     "traceback": [
      "\u001b[0;31m---------------------------------------------------------------------------\u001b[0m",
      "\u001b[0;31mTypeError\u001b[0m                                 Traceback (most recent call last)",
      "Cell \u001b[0;32mIn[7], line 1\u001b[0m\n\u001b[0;32m----> 1\u001b[0m \u001b[43mnormalizer\u001b[49m\u001b[38;5;241;43m.\u001b[39;49m\u001b[43mbiosyn\u001b[49m\u001b[38;5;241;43m.\u001b[39;49m\u001b[43membed_sparse\u001b[49m\u001b[43m(\u001b[49m\u001b[43mnames\u001b[49m\u001b[38;5;241;43m=\u001b[39;49m\u001b[43m[\u001b[49m\u001b[38;5;124;43m\"\u001b[39;49m\u001b[38;5;124;43mG-->A substitution at codon 1763\u001b[39;49m\u001b[38;5;124;43m\"\u001b[39;49m\u001b[43m]\u001b[49m\u001b[43m)\u001b[49m\n",
      "File \u001b[0;32m~/miniconda3/lib/python3.8/site-packages/biosyn-0.1-py3.8.egg/biosyn/biosyn.py:209\u001b[0m, in \u001b[0;36mBioSyn.embed_sparse\u001b[0;34m(self, names, show_progress)\u001b[0m\n\u001b[1;32m    207\u001b[0m end \u001b[38;5;241m=\u001b[39m \u001b[38;5;28mmin\u001b[39m(start \u001b[38;5;241m+\u001b[39m batch_size, \u001b[38;5;28mlen\u001b[39m(names))\n\u001b[1;32m    208\u001b[0m batch \u001b[38;5;241m=\u001b[39m names[start:end]\n\u001b[0;32m--> 209\u001b[0m batch_sparse_embeds \u001b[38;5;241m=\u001b[39m \u001b[38;5;28;43mself\u001b[39;49m\u001b[38;5;241;43m.\u001b[39;49m\u001b[43msparse_encoder\u001b[49m\u001b[43m(\u001b[49m\u001b[43mbatch\u001b[49m\u001b[43m)\u001b[49m\n\u001b[1;32m    210\u001b[0m batch_sparse_embeds \u001b[38;5;241m=\u001b[39m batch_sparse_embeds\u001b[38;5;241m.\u001b[39mnumpy()\n\u001b[1;32m    211\u001b[0m sparse_embeds\u001b[38;5;241m.\u001b[39mappend(batch_sparse_embeds)\n",
      "\u001b[0;31mTypeError\u001b[0m: 'NoneType' object is not callable"
     ]
    }
   ],
   "source": [
    "normalizer.biosyn.embed_sparse(names=[\"G-->A substitution at codon 1763\"])"
   ]
  },
  {
   "cell_type": "code",
   "execution_count": 2,
   "id": "5245f69d-3a74-46dd-8898-48cc85be1719",
   "metadata": {
    "tags": []
   },
   "outputs": [
    {
     "name": "stderr",
     "output_type": "stream",
     "text": [
      "\n",
      "KeyboardInterrupt\n",
      "\n"
     ]
    }
   ],
   "source": [
    "from text2knowledge.normalizer import normalize\n",
    "\n",
    "class Arg:\n",
    "    def __init__(self):\n",
    "        self.mention = \"long QT syndrome (LQTS)\"\n",
    "        self.model_name_or_path = \"dmis-lab/biosyn-biobert-ncbi-disease\"\n",
    "        self.show_embeddings = False\n",
    "        self.show_predictions = True\n",
    "        self.dictionary_path = \"/root/text2knowledge/data/dictionary/dict_Disease_20210630.txt\"\n",
    "        self.use_cuda = True\n",
    "arg = Arg()\n",
    "normalize(arg)\n"
   ]
  },
  {
   "cell_type": "code",
   "execution_count": 1,
   "id": "ba1393ce-3242-42a4-ad02-8f4cd40703fb",
   "metadata": {
    "tags": []
   },
   "outputs": [],
   "source": [
    "from text2knowledge.normalizer import Normalizer"
   ]
  },
  {
   "cell_type": "code",
   "execution_count": null,
   "id": "fa47c888-e7a8-4229-829b-214636eb7e42",
   "metadata": {
    "tags": []
   },
   "outputs": [],
   "source": [
    "class Arg:\n",
    "    def __init__(self):\n",
    "        # self.mention = \"long QT syndrome (LQTS)\"\n",
    "        self.model_name_or_path = \"dmis-lab/biosyn-biobert-ncbi-disease\"\n",
    "        self.show_embeddings = False\n",
    "        self.show_predictions = True\n",
    "        self.dictionary_path = \"/root/text2knowledge/data/dictionary/dict_Disease_20210630.txt\"\n",
    "        self.use_cuda = True\n",
    "arg = Arg()\n",
    "\n",
    "disease_normalizer = Normalizer(arg)"
   ]
  },
  {
   "cell_type": "code",
   "execution_count": 3,
   "id": "6b57b766-6b76-46c4-aec4-d47c8c26f1f9",
   "metadata": {
    "tags": []
   },
   "outputs": [
    {
     "name": "stderr",
     "output_type": "stream",
     "text": [
      "/root/miniconda3/lib/python3.8/site-packages/huggingface_hub/file_download.py:678: FutureWarning: 'cached_download' is the legacy way to download files from the HF hub, please consider upgrading to 'hf_hub_download'\n",
      "  warnings.warn(\n",
      "/root/miniconda3/lib/python3.8/site-packages/sklearn/base.py:348: InconsistentVersionWarning: Trying to unpickle estimator TfidfTransformer from version 0.21.2 when using version 1.3.2. This might lead to breaking code or invalid results. Use at your own risk. For more info please refer to:\n",
      "https://scikit-learn.org/stable/model_persistence.html#security-maintainability-limitations\n",
      "  warnings.warn(\n",
      "/root/miniconda3/lib/python3.8/site-packages/sklearn/base.py:348: InconsistentVersionWarning: Trying to unpickle estimator TfidfVectorizer from version 0.21.2 when using version 1.3.2. This might lead to breaking code or invalid results. Use at your own risk. For more info please refer to:\n",
      "https://scikit-learn.org/stable/model_persistence.html#security-maintainability-limitations\n",
      "  warnings.warn(\n",
      "/root/miniconda3/lib/python3.8/site-packages/biosyn-0.1-py3.8.egg/biosyn/biosyn.py:26: UserWarning: To copy construct from a tensor, it is recommended to use sourceTensor.clone().detach() or sourceTensor.clone().detach().requires_grad_(True), rather than torch.tensor(sourceTensor).\n"
     ]
    },
    {
     "name": "stdout",
     "output_type": "stream",
     "text": [
      "Loaded dictionary from cached file ./tmp/cached_biosyn-biobert-ncbi-disease_dict_Disease_20210630.pk\n"
     ]
    },
    {
     "data": {
      "text/plain": [
       "{'mention': 'long qt syndrome lqts',\n",
       " 'predictions': [{'name': 'Long QT Syndrome', 'id': 'MESH:D008133'},\n",
       "  {'name': 'Long Qt Syndrome 1/2', 'id': 'MESH:C566006'},\n",
       "  {'name': 'Long Qt Syndrome 2|LONG QT SYNDROME 1/2, DIGENIC, INCLUDED;LQT1/2, DIGENIC, INCLUDED|LONG QT SYNDROME 2/3, DIGENIC, INCLUDED;LQT2/3, DIGENIC, INCLUDED|LONG QT SYNDROME 2/5, DIGENIC, INCLUDED;LQT2/5, DIGENIC, INCLUDED|LONG QT SYNDROME 2/9, DIGENIC, INCLUDED;LQT2/9, DIGENIC, INCLUDED|LONG QT SYNDROME 2, ACQUIRED, SUSCEPTIBILITY TO, INCLUDED|LQT2',\n",
       "   'id': 'MESH:C563614'},\n",
       "  {'name': 'Long Qt Syndrome 10', 'id': 'OMIM:611819,MESH:C567514'},\n",
       "  {'name': 'LONG QT SYNDROME 13', 'id': 'OMIM:613485'}]}"
      ]
     },
     "execution_count": 3,
     "metadata": {},
     "output_type": "execute_result"
    }
   ],
   "source": [
    "disease_normalizer.normalize(\"long QT syndrome (LQTS)\")"
   ]
  },
  {
   "cell_type": "code",
   "execution_count": null,
   "id": "c92943f7-fd60-48c1-8eb2-9df3792f7f45",
   "metadata": {},
   "outputs": [],
   "source": []
  }
 ],
 "metadata": {
  "kernelspec": {
   "display_name": "Python 3 (ipykernel)",
   "language": "python",
   "name": "python3"
  },
  "language_info": {
   "codemirror_mode": {
    "name": "ipython",
    "version": 3
   },
   "file_extension": ".py",
   "mimetype": "text/x-python",
   "name": "python",
   "nbconvert_exporter": "python",
   "pygments_lexer": "ipython3",
   "version": "3.8.10"
  }
 },
 "nbformat": 4,
 "nbformat_minor": 5
}
