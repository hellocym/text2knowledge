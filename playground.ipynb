{
 "cells": [
  {
   "cell_type": "code",
   "execution_count": 5,
   "id": "c1ce6f55-ecf9-4622-ad49-6532cb05cd89",
   "metadata": {
    "tags": []
   },
   "outputs": [
    {
     "name": "stdout",
     "output_type": "stream",
     "text": [
      "huggingface/tokenizers: The current process just got forked, after parallelism has already been used. Disabling parallelism to avoid deadlocks...\n",
      "To disable this warning, you can either:\n",
      "\t- Avoid using `tokenizers` before the fork if possible\n",
      "\t- Explicitly set the environment variable TOKENIZERS_PARALLELISM=(true | false)\n"
     ]
    }
   ],
   "source": [
    "# PROXY\n",
    "import subprocess\n",
    "import os\n",
    "\n",
    "result = subprocess.run('bash -c \"source /etc/network_turbo && env | grep proxy\"', shell=True, capture_output=True, text=True)\n",
    "output = result.stdout\n",
    "for line in output.splitlines():\n",
    "    if '=' in line:\n",
    "        var, value = line.split('=', 1)\n",
    "        os.environ[var] = value"
   ]
  },
  {
   "cell_type": "code",
   "execution_count": 6,
   "id": "f9edd9c1-4f8b-4a55-a54c-ff851b9f383e",
   "metadata": {
    "scrolled": true,
    "tags": []
   },
   "outputs": [
    {
     "name": "stderr",
     "output_type": "stream",
     "text": [
      "/root/miniconda3/lib/python3.8/site-packages/datasets/load.py:1461: FutureWarning: The repository for bigbio/biored contains custom code which must be executed to correctly load the dataset. You can inspect the repository content at https://hf.co/datasets/bigbio/biored\n",
      "You can avoid this message in future by passing the argument `trust_remote_code=True`.\n",
      "Passing `trust_remote_code=True` will be mandatory to load this dataset from the next major release of `datasets`.\n",
      "  warnings.warn(\n",
      "Repo card metadata block was not found. Setting CardData to empty.\n",
      "WARNING:huggingface_hub.repocard:Repo card metadata block was not found. Setting CardData to empty.\n"
     ]
    }
   ],
   "source": [
    "from datasets import load_dataset\n",
    "datas = load_dataset(\"bigbio/biored\")"
   ]
  },
  {
   "cell_type": "code",
   "execution_count": 7,
   "id": "c105b026-4498-48e2-965d-35b9bada910f",
   "metadata": {
    "tags": []
   },
   "outputs": [],
   "source": [
    "from text2knowledge.strategy1 import extract_concepts\n",
    "\n",
    "import json"
   ]
  },
  {
   "cell_type": "code",
   "execution_count": 8,
   "id": "10471132-0e44-4beb-959b-49a3226f7aa1",
   "metadata": {
    "tags": []
   },
   "outputs": [],
   "source": [
    "model_name = 'mistral:latest'"
   ]
  },
  {
   "cell_type": "code",
   "execution_count": 29,
   "id": "35b322ea-869d-4843-9c59-df6f795f442e",
   "metadata": {
    "collapsed": true,
    "jupyter": {
     "outputs_hidden": true
    },
    "tags": []
   },
   "outputs": [
    {
     "data": {
      "text/plain": [
       "{'pmid': '18457324',\n",
       " 'passages': [{'type': 'title',\n",
       "   'text': ['Genetic polymorphisms in the carbonyl reductase 3 gene CBR3 and the NAD(P)H:quinone oxidoreductase 1 gene NQO1 in patients who developed anthracycline-related congestive heart failure after childhood cancer.'],\n",
       "   'offsets': [[0, 207]]},\n",
       "  {'type': 'abstract',\n",
       "   'text': ['BACKGROUND: Exposure to anthracyclines as part of cancer therapy has been associated with the development of congestive heart failure (CHF). The potential role of genetic risk factors in anthracycline-related CHF remains to be defined. Thus, in this study, the authors examined whether common polymorphisms in candidate genes involved in the pharmacodynamics of anthracyclines (in particular, the nicotinamide adenine dinucleotide phosphate:quinone oxidoreductase 1 gene NQO1 and the carbonyl reductase 3 gene CBR3) had an impact on the risk of anthracycline-related CHF. METHODS: A nested case-control study was conducted within a cohort of 1979 patients enrolled in the Childhood Cancer Survivor Study who received treatment with anthracyclines and had available DNA. Thirty patients with CHF (cases) and 115 matched controls were genotyped for polymorphisms in NQO1 (NQO1*2) and CBR3 (the CBR3 valine [V] to methionine [M] substitution at position 244 [V244M]). Enzyme activity assays with recombinant CBR3 isoforms (CBR3 V244 and CBR3 M244) and the anthracycline substrate doxorubicin were used to investigate the functional impact of the CBR3 V244M polymorphism. RESULTS: Multivariate analyses adjusted for sex and primary disease recurrence were used to test for associations between the candidate genetic polymorphisms (NQO1*2 and CBR3 V244M) and the risk of CHF. Analyses indicated no association between the NQO1*2 polymorphism and the risk of anthracycline-related CHF (odds ratio [OR], 1.04; P=.97). There was a trend toward an association between the CBR3 V244M polymorphism and the risk of CHF (OR, 8.16; P=.056 for G/G vs A/A; OR, 5.44; P=.092 for G/A vs A/A). In line, recombinant CBR3 V244 (G allele) synthesized 2.6-fold more cardiotoxic doxorubicinol per unit of time than CBR3 M244 (A allele; CBR3 V244 [8.26+/-3.57 nmol/hour.mg] vs CBR3 M244 [3.22+/-0.67 nmol/hour.mg]; P=.01). CONCLUSIONS: The functional CBR3 V244M polymorphism may have an impact on the risk of anthracycline-related CHF among childhood cancer survivors by modulating the intracardiac formation of cardiotoxic anthracycline alcohol metabolites. Larger confirmatory case-control studies are warranted.'],\n",
       "   'offsets': [[208, 2397]]}],\n",
       " 'entities': [{'text': ['carbonyl reductase 3'],\n",
       "   'offsets': [[29, 49]],\n",
       "   'concept_id': '874',\n",
       "   'semantic_type_id': 'GeneOrGeneProduct'},\n",
       "  {'text': ['CBR3'],\n",
       "   'offsets': [[55, 59]],\n",
       "   'concept_id': '874',\n",
       "   'semantic_type_id': 'GeneOrGeneProduct'},\n",
       "  {'text': ['NAD(P)H:quinone oxidoreductase 1'],\n",
       "   'offsets': [[68, 100]],\n",
       "   'concept_id': '1728',\n",
       "   'semantic_type_id': 'GeneOrGeneProduct'},\n",
       "  {'text': ['NQO1'],\n",
       "   'offsets': [[106, 110]],\n",
       "   'concept_id': '1728',\n",
       "   'semantic_type_id': 'GeneOrGeneProduct'},\n",
       "  {'text': ['patients'],\n",
       "   'offsets': [[114, 122]],\n",
       "   'concept_id': '9606',\n",
       "   'semantic_type_id': 'OrganismTaxon'},\n",
       "  {'text': ['anthracycline'],\n",
       "   'offsets': [[137, 150]],\n",
       "   'concept_id': 'D018943',\n",
       "   'semantic_type_id': 'ChemicalEntity'},\n",
       "  {'text': ['congestive heart failure'],\n",
       "   'offsets': [[159, 183]],\n",
       "   'concept_id': 'D006333',\n",
       "   'semantic_type_id': 'DiseaseOrPhenotypicFeature'},\n",
       "  {'text': ['cancer'],\n",
       "   'offsets': [[200, 206]],\n",
       "   'concept_id': 'D009369',\n",
       "   'semantic_type_id': 'DiseaseOrPhenotypicFeature'},\n",
       "  {'text': ['anthracyclines'],\n",
       "   'offsets': [[232, 246]],\n",
       "   'concept_id': 'D018943',\n",
       "   'semantic_type_id': 'ChemicalEntity'},\n",
       "  {'text': ['cancer'],\n",
       "   'offsets': [[258, 264]],\n",
       "   'concept_id': 'D009369',\n",
       "   'semantic_type_id': 'DiseaseOrPhenotypicFeature'},\n",
       "  {'text': ['congestive heart failure'],\n",
       "   'offsets': [[317, 341]],\n",
       "   'concept_id': 'D006333',\n",
       "   'semantic_type_id': 'DiseaseOrPhenotypicFeature'},\n",
       "  {'text': ['CHF'],\n",
       "   'offsets': [[343, 346]],\n",
       "   'concept_id': 'D006333',\n",
       "   'semantic_type_id': 'DiseaseOrPhenotypicFeature'},\n",
       "  {'text': ['anthracycline'],\n",
       "   'offsets': [[395, 408]],\n",
       "   'concept_id': 'D018943',\n",
       "   'semantic_type_id': 'ChemicalEntity'},\n",
       "  {'text': ['CHF'],\n",
       "   'offsets': [[417, 420]],\n",
       "   'concept_id': 'D006333',\n",
       "   'semantic_type_id': 'DiseaseOrPhenotypicFeature'},\n",
       "  {'text': ['anthracyclines'],\n",
       "   'offsets': [[570, 584]],\n",
       "   'concept_id': 'D018943',\n",
       "   'semantic_type_id': 'ChemicalEntity'},\n",
       "  {'text': ['nicotinamide adenine dinucleotide phosphate:quinone oxidoreductase 1'],\n",
       "   'offsets': [[605, 673]],\n",
       "   'concept_id': '1728',\n",
       "   'semantic_type_id': 'GeneOrGeneProduct'},\n",
       "  {'text': ['NQO1'],\n",
       "   'offsets': [[679, 683]],\n",
       "   'concept_id': '1728',\n",
       "   'semantic_type_id': 'GeneOrGeneProduct'},\n",
       "  {'text': ['carbonyl reductase 3'],\n",
       "   'offsets': [[692, 712]],\n",
       "   'concept_id': '874',\n",
       "   'semantic_type_id': 'GeneOrGeneProduct'},\n",
       "  {'text': ['CBR3'],\n",
       "   'offsets': [[718, 722]],\n",
       "   'concept_id': '874',\n",
       "   'semantic_type_id': 'GeneOrGeneProduct'},\n",
       "  {'text': ['anthracycline'],\n",
       "   'offsets': [[753, 766]],\n",
       "   'concept_id': 'D018943',\n",
       "   'semantic_type_id': 'ChemicalEntity'},\n",
       "  {'text': ['CHF'],\n",
       "   'offsets': [[775, 778]],\n",
       "   'concept_id': 'D006333',\n",
       "   'semantic_type_id': 'DiseaseOrPhenotypicFeature'},\n",
       "  {'text': ['patients'],\n",
       "   'offsets': [[855, 863]],\n",
       "   'concept_id': '9606',\n",
       "   'semantic_type_id': 'OrganismTaxon'},\n",
       "  {'text': ['anthracyclines'],\n",
       "   'offsets': [[940, 954]],\n",
       "   'concept_id': 'D018943',\n",
       "   'semantic_type_id': 'ChemicalEntity'},\n",
       "  {'text': ['patients'],\n",
       "   'offsets': [[985, 993]],\n",
       "   'concept_id': '9606',\n",
       "   'semantic_type_id': 'OrganismTaxon'},\n",
       "  {'text': ['CHF'],\n",
       "   'offsets': [[999, 1002]],\n",
       "   'concept_id': 'D006333',\n",
       "   'semantic_type_id': 'DiseaseOrPhenotypicFeature'},\n",
       "  {'text': ['NQO1'],\n",
       "   'offsets': [[1072, 1076]],\n",
       "   'concept_id': '1728',\n",
       "   'semantic_type_id': 'GeneOrGeneProduct'},\n",
       "  {'text': ['NQO1'],\n",
       "   'offsets': [[1078, 1082]],\n",
       "   'concept_id': '1728',\n",
       "   'semantic_type_id': 'GeneOrGeneProduct'},\n",
       "  {'text': ['CBR3'],\n",
       "   'offsets': [[1090, 1094]],\n",
       "   'concept_id': '874',\n",
       "   'semantic_type_id': 'GeneOrGeneProduct'},\n",
       "  {'text': ['CBR3'],\n",
       "   'offsets': [[1100, 1104]],\n",
       "   'concept_id': '874',\n",
       "   'semantic_type_id': 'GeneOrGeneProduct'},\n",
       "  {'text': ['valine [V] to methionine [M] substitution at position 244'],\n",
       "   'offsets': [[1105, 1162]],\n",
       "   'concept_id': 'rs1056892',\n",
       "   'semantic_type_id': 'SequenceVariant'},\n",
       "  {'text': ['V244M'],\n",
       "   'offsets': [[1164, 1169]],\n",
       "   'concept_id': 'rs1056892',\n",
       "   'semantic_type_id': 'SequenceVariant'},\n",
       "  {'text': ['CBR3'],\n",
       "   'offsets': [[1213, 1217]],\n",
       "   'concept_id': '874',\n",
       "   'semantic_type_id': 'GeneOrGeneProduct'},\n",
       "  {'text': ['CBR3'],\n",
       "   'offsets': [[1228, 1232]],\n",
       "   'concept_id': '874',\n",
       "   'semantic_type_id': 'GeneOrGeneProduct'},\n",
       "  {'text': ['V244'],\n",
       "   'offsets': [[1233, 1237]],\n",
       "   'concept_id': 'rs1056892',\n",
       "   'semantic_type_id': 'SequenceVariant'},\n",
       "  {'text': ['CBR3'],\n",
       "   'offsets': [[1242, 1246]],\n",
       "   'concept_id': '874',\n",
       "   'semantic_type_id': 'GeneOrGeneProduct'},\n",
       "  {'text': ['M244'],\n",
       "   'offsets': [[1247, 1251]],\n",
       "   'concept_id': 'rs1056892',\n",
       "   'semantic_type_id': 'SequenceVariant'},\n",
       "  {'text': ['anthracycline'],\n",
       "   'offsets': [[1261, 1274]],\n",
       "   'concept_id': 'D018943',\n",
       "   'semantic_type_id': 'ChemicalEntity'},\n",
       "  {'text': ['doxorubicin'],\n",
       "   'offsets': [[1285, 1296]],\n",
       "   'concept_id': 'D004317',\n",
       "   'semantic_type_id': 'ChemicalEntity'},\n",
       "  {'text': ['CBR3'],\n",
       "   'offsets': [[1351, 1355]],\n",
       "   'concept_id': '874',\n",
       "   'semantic_type_id': 'GeneOrGeneProduct'},\n",
       "  {'text': ['V244M'],\n",
       "   'offsets': [[1356, 1361]],\n",
       "   'concept_id': 'rs1056892',\n",
       "   'semantic_type_id': 'SequenceVariant'},\n",
       "  {'text': ['NQO1'],\n",
       "   'offsets': [[1535, 1539]],\n",
       "   'concept_id': '1728',\n",
       "   'semantic_type_id': 'GeneOrGeneProduct'},\n",
       "  {'text': ['CBR3'],\n",
       "   'offsets': [[1546, 1550]],\n",
       "   'concept_id': '874',\n",
       "   'semantic_type_id': 'GeneOrGeneProduct'},\n",
       "  {'text': ['V244M'],\n",
       "   'offsets': [[1551, 1556]],\n",
       "   'concept_id': 'rs1056892',\n",
       "   'semantic_type_id': 'SequenceVariant'},\n",
       "  {'text': ['CHF'],\n",
       "   'offsets': [[1574, 1577]],\n",
       "   'concept_id': 'D006333',\n",
       "   'semantic_type_id': 'DiseaseOrPhenotypicFeature'},\n",
       "  {'text': ['NQO1'],\n",
       "   'offsets': [[1625, 1629]],\n",
       "   'concept_id': '1728',\n",
       "   'semantic_type_id': 'GeneOrGeneProduct'},\n",
       "  {'text': ['anthracycline'],\n",
       "   'offsets': [[1661, 1674]],\n",
       "   'concept_id': 'D018943',\n",
       "   'semantic_type_id': 'ChemicalEntity'},\n",
       "  {'text': ['CHF'],\n",
       "   'offsets': [[1683, 1686]],\n",
       "   'concept_id': 'D006333',\n",
       "   'semantic_type_id': 'DiseaseOrPhenotypicFeature'},\n",
       "  {'text': ['CBR3'],\n",
       "   'offsets': [[1771, 1775]],\n",
       "   'concept_id': '874',\n",
       "   'semantic_type_id': 'GeneOrGeneProduct'},\n",
       "  {'text': ['V244M'],\n",
       "   'offsets': [[1776, 1781]],\n",
       "   'concept_id': 'rs1056892',\n",
       "   'semantic_type_id': 'SequenceVariant'},\n",
       "  {'text': ['CHF'],\n",
       "   'offsets': [[1811, 1814]],\n",
       "   'concept_id': 'D006333',\n",
       "   'semantic_type_id': 'DiseaseOrPhenotypicFeature'},\n",
       "  {'text': ['CBR3'],\n",
       "   'offsets': [[1904, 1908]],\n",
       "   'concept_id': '874',\n",
       "   'semantic_type_id': 'GeneOrGeneProduct'},\n",
       "  {'text': ['V244'],\n",
       "   'offsets': [[1909, 1913]],\n",
       "   'concept_id': 'rs1056892',\n",
       "   'semantic_type_id': 'SequenceVariant'},\n",
       "  {'text': ['cardiotoxic'],\n",
       "   'offsets': [[1951, 1962]],\n",
       "   'concept_id': 'D066126',\n",
       "   'semantic_type_id': 'DiseaseOrPhenotypicFeature'},\n",
       "  {'text': ['doxorubicinol'],\n",
       "   'offsets': [[1963, 1976]],\n",
       "   'concept_id': 'C010013',\n",
       "   'semantic_type_id': 'ChemicalEntity'},\n",
       "  {'text': ['CBR3'],\n",
       "   'offsets': [[1999, 2003]],\n",
       "   'concept_id': '874',\n",
       "   'semantic_type_id': 'GeneOrGeneProduct'},\n",
       "  {'text': ['M244'],\n",
       "   'offsets': [[2004, 2008]],\n",
       "   'concept_id': 'rs1056892',\n",
       "   'semantic_type_id': 'SequenceVariant'},\n",
       "  {'text': ['CBR3'],\n",
       "   'offsets': [[2020, 2024]],\n",
       "   'concept_id': '874',\n",
       "   'semantic_type_id': 'GeneOrGeneProduct'},\n",
       "  {'text': ['V244'],\n",
       "   'offsets': [[2025, 2029]],\n",
       "   'concept_id': 'rs1056892',\n",
       "   'semantic_type_id': 'SequenceVariant'},\n",
       "  {'text': ['CBR3'],\n",
       "   'offsets': [[2060, 2064]],\n",
       "   'concept_id': '874',\n",
       "   'semantic_type_id': 'GeneOrGeneProduct'},\n",
       "  {'text': ['M244'],\n",
       "   'offsets': [[2065, 2069]],\n",
       "   'concept_id': 'rs1056892',\n",
       "   'semantic_type_id': 'SequenceVariant'},\n",
       "  {'text': ['CBR3'],\n",
       "   'offsets': [[2134, 2138]],\n",
       "   'concept_id': '874',\n",
       "   'semantic_type_id': 'GeneOrGeneProduct'},\n",
       "  {'text': ['V244M'],\n",
       "   'offsets': [[2139, 2144]],\n",
       "   'concept_id': 'rs1056892',\n",
       "   'semantic_type_id': 'SequenceVariant'},\n",
       "  {'text': ['anthracycline'],\n",
       "   'offsets': [[2192, 2205]],\n",
       "   'concept_id': 'D018943',\n",
       "   'semantic_type_id': 'ChemicalEntity'},\n",
       "  {'text': ['CHF'],\n",
       "   'offsets': [[2214, 2217]],\n",
       "   'concept_id': 'D006333',\n",
       "   'semantic_type_id': 'DiseaseOrPhenotypicFeature'},\n",
       "  {'text': ['cancer'],\n",
       "   'offsets': [[2234, 2240]],\n",
       "   'concept_id': 'D009369',\n",
       "   'semantic_type_id': 'DiseaseOrPhenotypicFeature'},\n",
       "  {'text': ['cardiotoxic'],\n",
       "   'offsets': [[2295, 2306]],\n",
       "   'concept_id': 'D066126',\n",
       "   'semantic_type_id': 'DiseaseOrPhenotypicFeature'},\n",
       "  {'text': ['anthracycline alcohol'],\n",
       "   'offsets': [[2307, 2328]],\n",
       "   'concept_id': 'D000438,D018943',\n",
       "   'semantic_type_id': 'ChemicalEntity'}],\n",
       " 'relations': [{'novel': 'No',\n",
       "   'type': 'Positive_Correlation',\n",
       "   'concept_1': 'D066126',\n",
       "   'concept_2': 'C010013'},\n",
       "  {'novel': 'No',\n",
       "   'type': 'Positive_Correlation',\n",
       "   'concept_1': 'D000438',\n",
       "   'concept_2': 'D066126'},\n",
       "  {'novel': 'Novel',\n",
       "   'type': 'Association',\n",
       "   'concept_1': 'rs1056892',\n",
       "   'concept_2': 'D000438'},\n",
       "  {'novel': 'Novel',\n",
       "   'type': 'Association',\n",
       "   'concept_1': 'rs1056892',\n",
       "   'concept_2': 'C010013'},\n",
       "  {'novel': 'Novel',\n",
       "   'type': 'Positive_Correlation',\n",
       "   'concept_1': 'rs1056892',\n",
       "   'concept_2': 'D006333'},\n",
       "  {'novel': 'Novel',\n",
       "   'type': 'Association',\n",
       "   'concept_1': 'rs1056892',\n",
       "   'concept_2': 'D018943'},\n",
       "  {'novel': 'Novel',\n",
       "   'type': 'Association',\n",
       "   'concept_1': 'D006333',\n",
       "   'concept_2': 'D000438'},\n",
       "  {'novel': 'No',\n",
       "   'type': 'Negative_Correlation',\n",
       "   'concept_1': 'D018943',\n",
       "   'concept_2': 'D009369'},\n",
       "  {'novel': 'No',\n",
       "   'type': 'Positive_Correlation',\n",
       "   'concept_1': 'D018943',\n",
       "   'concept_2': 'D066126'},\n",
       "  {'novel': 'Novel',\n",
       "   'type': 'Positive_Correlation',\n",
       "   'concept_1': 'D018943',\n",
       "   'concept_2': 'D006333'},\n",
       "  {'novel': 'Novel',\n",
       "   'type': 'Association',\n",
       "   'concept_1': '874',\n",
       "   'concept_2': 'D066126'},\n",
       "  {'novel': 'Novel',\n",
       "   'type': 'Association',\n",
       "   'concept_1': '874',\n",
       "   'concept_2': 'D000438'},\n",
       "  {'novel': 'Novel',\n",
       "   'type': 'Association',\n",
       "   'concept_1': '874',\n",
       "   'concept_2': 'C010013'},\n",
       "  {'novel': 'Novel',\n",
       "   'type': 'Association',\n",
       "   'concept_1': '874',\n",
       "   'concept_2': 'D006333'},\n",
       "  {'novel': 'Novel',\n",
       "   'type': 'Association',\n",
       "   'concept_1': '874',\n",
       "   'concept_2': 'D018943'}]}"
      ]
     },
     "execution_count": 29,
     "metadata": {},
     "output_type": "execute_result"
    }
   ],
   "source": [
    "datas['test'][2]"
   ]
  },
  {
   "cell_type": "code",
   "execution_count": 35,
   "id": "b7f0ac51-d307-4951-856a-eb0a77e18cb4",
   "metadata": {
    "scrolled": true,
    "tags": []
   },
   "outputs": [
    {
     "name": "stdout",
     "output_type": "stream",
     "text": [
      " [\n",
      "    {\n",
      "        \"entity\": \"deoxyguanosine kinase (dGK)\",\n",
      "        \"confidence\": \"5\",\n",
      "        \"category\": \"Enzyme\"\n",
      "    },\n",
      "    {\n",
      "        \"entity\": \"DGUOK gene\",\n",
      "        \"confidence\": \"5\",\n",
      "        \"category\": \"Gene\"\n",
      "    },\n",
      "    {\n",
      "        \"entity\": \"mitochondrial DNA depletion\",\n",
      "        \"confidence\": \"4\",\n",
      "        \"category\": \"MetabolicProcess\"\n",
      "    },\n",
      "    {\n",
      "        \"entity\": \"hepatocerebral phenotype\",\n",
      "        \"confidence\": \"3\",\n",
      "        \"category\": \"Symptom\"\n",
      "    },\n",
      "    {\n",
      "        \"entity\": \"combined respiratory chain deficiencies\",\n",
      "        \"confidence\": \"4\",\n",
      "        \"category\": \"MetabolicProcess\"\n",
      "    },\n",
      "    {\n",
      "        \"entity\": \"c.444-62C>A\",\n",
      "        \"confidence\": \"5\",\n",
      "        \"category\": \"Mutation\"\n",
      "    },\n",
      "    {\n",
      "        \"entity\": \"dGK kinase domain\",\n",
      "        \"confidence\": \"3\",\n",
      "        \"category\": \"ProteinDomain\"\n",
      "    },\n",
      "    {\n",
      "        \"entity\": \"North-African population\",\n",
      "        \"confidence\": \"3\",\n",
      "        \"category\": \"Population\"\n",
      "    },\n",
      "    {\n",
      "        \"entity\": \"subtentorial abnormal myelination\",\n",
      "        \"confidence\": \"4\",\n",
      "        \"category\": \"Anatomy\"\n",
      "    },\n",
      "    {\n",
      "        \"entity\": \"moderate hyperintensity in the bilateral pallidi\",\n",
      "        \"confidence\": \"4\",\n",
      "        \"category\": \"Symptom\"\n",
      "    }\n",
      "]"
     ]
    }
   ],
   "source": [
    "import os, sys\n",
    "import contextlib\n",
    "\n",
    "i = 4\n",
    "while i < len(datas['test']):\n",
    "    data = datas['test'][i]\n",
    "    pmid = data['pmid']\n",
    "    passages = data['passages']\n",
    "    entities = data['entities']\n",
    "    abstract = passages[1]['text'][0]\n",
    "    abstract_offset = passages[1]['offsets'][0]\n",
    "    metadata = {\n",
    "        'pmid': pmid,\n",
    "        'type': 'abstract',\n",
    "    }\n",
    "\n",
    "    #with open(os.devnull, \"w\") as f, contextlib.redirect_stdout(f):\n",
    "    entities_extracted = extract_concepts(abstract, model=model_name, metadata=metadata)\n",
    "    \n",
    "    if entities_extracted:\n",
    "        disease_entities_extracted = [e for e in entities_extracted if e['category'] == 'Disease']\n",
    "        # print(disease_entities_extracted)\n",
    "        entities_str = json.dumps(entities_extracted, indent=4)\n",
    "        # print(entities_str)\n",
    "    else:\n",
    "        print(\"No entities found.\")\n",
    "    break\n",
    "    # i += 1\n",
    "    # if i >= 2:\n",
    "    #     break"
   ]
  },
  {
   "cell_type": "code",
   "execution_count": 10,
   "id": "b8427f45-35f2-4ca4-9ca0-9c3f3eca7302",
   "metadata": {
    "collapsed": true,
    "jupyter": {
     "outputs_hidden": true,
     "source_hidden": true
    },
    "scrolled": true,
    "tags": []
   },
   "outputs": [
    {
     "data": {
      "text/plain": [
       "[{'text': ['PKC-alpha'],\n",
       "  'offsets': [[11, 20]],\n",
       "  'concept_id': '18750',\n",
       "  'semantic_type_id': 'GeneOrGeneProduct'},\n",
       " {'text': ['lithium'],\n",
       "  'offsets': [[32, 39]],\n",
       "  'concept_id': 'D008094',\n",
       "  'semantic_type_id': 'ChemicalEntity'},\n",
       " {'text': ['nephrogenic diabetes insipidus'],\n",
       "  'offsets': [[48, 78]],\n",
       "  'concept_id': 'D018500',\n",
       "  'semantic_type_id': 'DiseaseOrPhenotypicFeature'},\n",
       " {'text': ['Lithium'],\n",
       "  'offsets': [[80, 87]],\n",
       "  'concept_id': 'D008094',\n",
       "  'semantic_type_id': 'ChemicalEntity'},\n",
       " {'text': ['nephrogenic diabetes insipidus'],\n",
       "  'offsets': [[125, 155]],\n",
       "  'concept_id': 'D018500',\n",
       "  'semantic_type_id': 'DiseaseOrPhenotypicFeature'},\n",
       " {'text': ['NDI'],\n",
       "  'offsets': [[157, 160]],\n",
       "  'concept_id': 'D018500',\n",
       "  'semantic_type_id': 'DiseaseOrPhenotypicFeature'},\n",
       " {'text': ['patients'],\n",
       "  'offsets': [[173, 181]],\n",
       "  'concept_id': '9606',\n",
       "  'semantic_type_id': 'OrganismTaxon'},\n",
       " {'text': ['lithium'],\n",
       "  'offsets': [[244, 251]],\n",
       "  'concept_id': 'D008094',\n",
       "  'semantic_type_id': 'ChemicalEntity'},\n",
       " {'text': ['cAMP'],\n",
       "  'offsets': [[275, 279]],\n",
       "  'concept_id': 'D000242',\n",
       "  'semantic_type_id': 'ChemicalEntity'},\n",
       " {'text': ['urea transporter'],\n",
       "  'offsets': [[313, 329]],\n",
       "  'concept_id': '27411',\n",
       "  'semantic_type_id': 'GeneOrGeneProduct'},\n",
       " {'text': ['UT-A1'],\n",
       "  'offsets': [[331, 336]],\n",
       "  'concept_id': '27411',\n",
       "  'semantic_type_id': 'GeneOrGeneProduct'},\n",
       " {'text': ['AQP2'],\n",
       "  'offsets': [[357, 361]],\n",
       "  'concept_id': '11827',\n",
       "  'semantic_type_id': 'GeneOrGeneProduct'},\n",
       " {'text': ['PKC'],\n",
       "  'offsets': [[448, 451]],\n",
       "  'concept_id': '18750',\n",
       "  'semantic_type_id': 'GeneOrGeneProduct'},\n",
       " {'text': ['lithium'],\n",
       "  'offsets': [[511, 518]],\n",
       "  'concept_id': 'D008094',\n",
       "  'semantic_type_id': 'ChemicalEntity'},\n",
       " {'text': ['polyuria'],\n",
       "  'offsets': [[527, 535]],\n",
       "  'concept_id': 'D011141',\n",
       "  'semantic_type_id': 'DiseaseOrPhenotypicFeature'},\n",
       " {'text': ['PKC-alpha'],\n",
       "  'offsets': [[537, 546]],\n",
       "  'concept_id': '18750',\n",
       "  'semantic_type_id': 'GeneOrGeneProduct'},\n",
       " {'text': ['mice'],\n",
       "  'offsets': [[552, 556]],\n",
       "  'concept_id': '10090',\n",
       "  'semantic_type_id': 'OrganismTaxon'},\n",
       " {'text': ['PKCa'],\n",
       "  'offsets': [[558, 562]],\n",
       "  'concept_id': '18750',\n",
       "  'semantic_type_id': 'GeneOrGeneProduct'},\n",
       " {'text': ['lithium'],\n",
       "  'offsets': [[628, 635]],\n",
       "  'concept_id': 'D008094',\n",
       "  'semantic_type_id': 'ChemicalEntity'},\n",
       " {'text': ['mice'],\n",
       "  'offsets': [[659, 663]],\n",
       "  'concept_id': '10090',\n",
       "  'semantic_type_id': 'OrganismTaxon'},\n",
       " {'text': ['PKCa'],\n",
       "  'offsets': [[760, 764]],\n",
       "  'concept_id': '18750',\n",
       "  'semantic_type_id': 'GeneOrGeneProduct'},\n",
       " {'text': ['mice'],\n",
       "  'offsets': [[768, 772]],\n",
       "  'concept_id': '10090',\n",
       "  'semantic_type_id': 'OrganismTaxon'},\n",
       " {'text': ['AQP2'],\n",
       "  'offsets': [[857, 861]],\n",
       "  'concept_id': '11827',\n",
       "  'semantic_type_id': 'GeneOrGeneProduct'},\n",
       " {'text': ['mice'],\n",
       "  'offsets': [[931, 935]],\n",
       "  'concept_id': '10090',\n",
       "  'semantic_type_id': 'OrganismTaxon'},\n",
       " {'text': ['AQP2'],\n",
       "  'offsets': [[946, 950]],\n",
       "  'concept_id': '11827',\n",
       "  'semantic_type_id': 'GeneOrGeneProduct'},\n",
       " {'text': ['PKCa'],\n",
       "  'offsets': [[968, 972]],\n",
       "  'concept_id': '18750',\n",
       "  'semantic_type_id': 'GeneOrGeneProduct'},\n",
       " {'text': ['UT-A1'],\n",
       "  'offsets': [[1012, 1017]],\n",
       "  'concept_id': '27411',\n",
       "  'semantic_type_id': 'GeneOrGeneProduct'},\n",
       " {'text': ['lithium'],\n",
       "  'offsets': [[1061, 1068]],\n",
       "  'concept_id': 'D008094',\n",
       "  'semantic_type_id': 'ChemicalEntity'},\n",
       " {'text': ['Lithium'],\n",
       "  'offsets': [[1082, 1089]],\n",
       "  'concept_id': 'D008094',\n",
       "  'semantic_type_id': 'ChemicalEntity'},\n",
       " {'text': ['mice'],\n",
       "  'offsets': [[1101, 1105]],\n",
       "  'concept_id': '10090',\n",
       "  'semantic_type_id': 'OrganismTaxon'},\n",
       " {'text': ['PKCa'],\n",
       "  'offsets': [[1157, 1161]],\n",
       "  'concept_id': '18750',\n",
       "  'semantic_type_id': 'GeneOrGeneProduct'},\n",
       " {'text': ['AQP2'],\n",
       "  'offsets': [[1206, 1210]],\n",
       "  'concept_id': '11827',\n",
       "  'semantic_type_id': 'GeneOrGeneProduct'},\n",
       " {'text': ['UT-A1'],\n",
       "  'offsets': [[1215, 1220]],\n",
       "  'concept_id': '27411',\n",
       "  'semantic_type_id': 'GeneOrGeneProduct'},\n",
       " {'text': ['lithium'],\n",
       "  'offsets': [[1254, 1261]],\n",
       "  'concept_id': 'D008094',\n",
       "  'semantic_type_id': 'ChemicalEntity'},\n",
       " {'text': ['PKCa'],\n",
       "  'offsets': [[1300, 1304]],\n",
       "  'concept_id': '18750',\n",
       "  'semantic_type_id': 'GeneOrGeneProduct'},\n",
       " {'text': ['mice'],\n",
       "  'offsets': [[1308, 1312]],\n",
       "  'concept_id': '10090',\n",
       "  'semantic_type_id': 'OrganismTaxon'},\n",
       " {'text': ['AQP2'],\n",
       "  'offsets': [[1314, 1318]],\n",
       "  'concept_id': '11827',\n",
       "  'semantic_type_id': 'GeneOrGeneProduct'},\n",
       " {'text': ['UT-A1'],\n",
       "  'offsets': [[1350, 1355]],\n",
       "  'concept_id': '27411',\n",
       "  'semantic_type_id': 'GeneOrGeneProduct'},\n",
       " {'text': ['sodium'],\n",
       "  'offsets': [[1391, 1397]],\n",
       "  'concept_id': 'D012964',\n",
       "  'semantic_type_id': 'ChemicalEntity'},\n",
       " {'text': ['potassium'],\n",
       "  'offsets': [[1399, 1408]],\n",
       "  'concept_id': 'D011188',\n",
       "  'semantic_type_id': 'ChemicalEntity'},\n",
       " {'text': ['calcium'],\n",
       "  'offsets': [[1413, 1420]],\n",
       "  'concept_id': 'D002118',\n",
       "  'semantic_type_id': 'ChemicalEntity'},\n",
       " {'text': ['lithium'],\n",
       "  'offsets': [[1438, 1445]],\n",
       "  'concept_id': 'D008094',\n",
       "  'semantic_type_id': 'ChemicalEntity'},\n",
       " {'text': ['lithium'],\n",
       "  'offsets': [[1464, 1471]],\n",
       "  'concept_id': 'D008094',\n",
       "  'semantic_type_id': 'ChemicalEntity'},\n",
       " {'text': ['PKCa'],\n",
       "  'offsets': [[1476, 1480]],\n",
       "  'concept_id': '18750',\n",
       "  'semantic_type_id': 'GeneOrGeneProduct'},\n",
       " {'text': ['mice'],\n",
       "  'offsets': [[1484, 1488]],\n",
       "  'concept_id': '10090',\n",
       "  'semantic_type_id': 'OrganismTaxon'},\n",
       " {'text': ['PKCa'],\n",
       "  'offsets': [[1521, 1525]],\n",
       "  'concept_id': '18750',\n",
       "  'semantic_type_id': 'GeneOrGeneProduct'},\n",
       " {'text': ['AQP2'],\n",
       "  'offsets': [[1536, 1540]],\n",
       "  'concept_id': '11827',\n",
       "  'semantic_type_id': 'GeneOrGeneProduct'},\n",
       " {'text': ['UT-A1'],\n",
       "  'offsets': [[1545, 1550]],\n",
       "  'concept_id': '27411',\n",
       "  'semantic_type_id': 'GeneOrGeneProduct'},\n",
       " {'text': ['lithium'],\n",
       "  'offsets': [[1590, 1597]],\n",
       "  'concept_id': 'D008094',\n",
       "  'semantic_type_id': 'ChemicalEntity'},\n",
       " {'text': ['NDI'],\n",
       "  'offsets': [[1606, 1609]],\n",
       "  'concept_id': 'D018500',\n",
       "  'semantic_type_id': 'DiseaseOrPhenotypicFeature'},\n",
       " {'text': ['polyuria'],\n",
       "  'offsets': [[1654, 1662]],\n",
       "  'concept_id': 'D011141',\n",
       "  'semantic_type_id': 'DiseaseOrPhenotypicFeature'},\n",
       " {'text': ['lithium'],\n",
       "  'offsets': [[1679, 1686]],\n",
       "  'concept_id': 'D008094',\n",
       "  'semantic_type_id': 'ChemicalEntity'}]"
      ]
     },
     "execution_count": 10,
     "metadata": {},
     "output_type": "execute_result"
    }
   ],
   "source": [
    "entities"
   ]
  },
  {
   "cell_type": "code",
   "execution_count": 15,
   "id": "dadd8a91-44b9-427a-8a4e-63b5b3f59d3c",
   "metadata": {
    "scrolled": true,
    "tags": []
   },
   "outputs": [],
   "source": [
    "entities_extracted"
   ]
  },
  {
   "cell_type": "code",
   "execution_count": 16,
   "id": "182962b2-3859-49aa-bf64-0bdc8baba8d2",
   "metadata": {
    "tags": []
   },
   "outputs": [
    {
     "data": {
      "text/plain": [
       "[{'entity': 'nephrogenic diabetes insipidus (NDI)',\n",
       "  'confidence': '5',\n",
       "  'category': 'Disease',\n",
       "  'pmid': '25006961',\n",
       "  'type': 'abstract'}]"
      ]
     },
     "execution_count": 16,
     "metadata": {},
     "output_type": "execute_result"
    }
   ],
   "source": [
    "disease_entities_extracted = [e for e in entities_extracted if e['category'] == 'Disease']\n",
    "disease_entities_extracted"
   ]
  },
  {
   "cell_type": "code",
   "execution_count": null,
   "id": "088cdf0c-0386-4278-9a50-aa78eaceaf23",
   "metadata": {},
   "outputs": [],
   "source": []
  },
  {
   "cell_type": "code",
   "execution_count": null,
   "id": "b26dc6db-729c-4f23-822b-bed2b7671cd8",
   "metadata": {},
   "outputs": [],
   "source": []
  },
  {
   "cell_type": "code",
   "execution_count": null,
   "id": "dd5e9502-f7e8-4fe7-a500-46666bd9aa8e",
   "metadata": {},
   "outputs": [],
   "source": []
  },
  {
   "cell_type": "code",
   "execution_count": 8,
   "id": "d1b8997e-4bfa-4180-a27d-245ed4ef0493",
   "metadata": {
    "tags": []
   },
   "outputs": [
    {
     "data": {
      "text/plain": [
       "[122, 1815]"
      ]
     },
     "execution_count": 8,
     "metadata": {},
     "output_type": "execute_result"
    }
   ],
   "source": [
    "abstract_offset"
   ]
  },
  {
   "cell_type": "code",
   "execution_count": 9,
   "id": "936e8d88-21be-465d-b483-8202cd5dd037",
   "metadata": {
    "collapsed": true,
    "jupyter": {
     "outputs_hidden": true
    },
    "tags": []
   },
   "outputs": [
    {
     "data": {
      "text/plain": [
       "'OBJECTIVE: Congenital long QT syndrome (LQTS) with in utero onset of the rhythm disturbances is associated with a poor prognosis. In this study we investigated a newborn patient with fetal bradycardia, 2:1 atrioventricular block and ventricular tachycardia soon after birth. METHODS: Mutational analysis and DNA sequencing were conducted in a newborn. The 2:1 atrioventricular block improved to 1:1 conduction only after intravenous lidocaine infusion or a high dose of mexiletine, which also controlled the ventricular tachycardia. RESULTS: A novel, spontaneous LQTS-3 mutation was identified in the transmembrane segment 6 of domain IV of the Na(v)1.5 cardiac sodium channel, with a G-->A substitution at codon 1763, which changed a valine (GTG) to a methionine (ATG). The proband was heterozygous but the mutation was absent in the parents and the sister. Expression of this mutant channel in tsA201 mammalian cells by site-directed mutagenesis revealed a persistent tetrodotoxin-sensitive but lidocaine-resistant current that was associated with a positive shift of the steady-state inactivation curve, steeper activation curve and faster recovery from inactivation. We also found a similar electrophysiological profile for the neighboring V1764M mutant. But, the other neighboring I1762A mutant had no persistent current and was still associated with a positive shift of inactivation. CONCLUSIONS: These findings suggest that the Na(v)1.5/V1763M channel dysfunction and possible neighboring mutants contribute to a persistent inward current due to altered inactivation kinetics and clinically congenital LQTS with perinatal onset of arrhythmias that responded to lidocaine and mexiletine.'"
      ]
     },
     "execution_count": 9,
     "metadata": {},
     "output_type": "execute_result"
    }
   ],
   "source": [
    "abstract"
   ]
  },
  {
   "cell_type": "code",
   "execution_count": 12,
   "id": "b9abd114-9df0-4128-8f64-de31bdd3bd8f",
   "metadata": {
    "jupyter": {
     "source_hidden": true
    },
    "tags": []
   },
   "outputs": [],
   "source": [
    "def highlight_entities_label(s, start_idx, entities, color='#66CC66'):\n",
    "    left = f\"<span style='background-color: {color}'>\"\n",
    "    right = \"</span>\"\n",
    "    final = \"\"\n",
    "    last_r = 0\n",
    "    for entity in entities:\n",
    "        l, r = entity['offsets'][0]\n",
    "        if not l >= start_idx:\n",
    "            continue\n",
    "        l -= start_idx\n",
    "        r -= start_idx\n",
    "        final += s[last_r:l]\n",
    "        final += left + s[l:r] + right\n",
    "        last_r = r\n",
    "    final += s[r:]\n",
    "    return final"
   ]
  },
  {
   "cell_type": "code",
   "execution_count": 13,
   "id": "9e348e99-504f-42db-9488-dd0c6223843e",
   "metadata": {
    "collapsed": true,
    "jupyter": {
     "outputs_hidden": true,
     "source_hidden": true
    },
    "tags": []
   },
   "outputs": [
    {
     "data": {
      "text/html": [
       "<span style='background-color: #66CC66'>Lithium</span>, an effective antipsychotic, induces <span style='background-color: #66CC66'>nephrogenic diabetes insipidus</span> (<span style='background-color: #66CC66'>NDI</span>) in  40% of <span style='background-color: #66CC66'>patients</span>. The decreased capacity to concentrate urine is likely due to <span style='background-color: #66CC66'>lithium</span> acutely disrupting the <span style='background-color: #66CC66'>cAMP</span> pathway and chronically reducing <span style='background-color: #66CC66'>urea transporter</span> (<span style='background-color: #66CC66'>UT-A1</span>) and water channel (<span style='background-color: #66CC66'>AQP2</span>) expression in the inner medulla. Targeting an alternative signaling pathway, such as <span style='background-color: #66CC66'>PKC</span>-mediated signaling, may be an effective method of treating <span style='background-color: #66CC66'>lithium</span>-induced <span style='background-color: #66CC66'>polyuria</span>. <span style='background-color: #66CC66'>PKC-alpha</span> null <span style='background-color: #66CC66'>mice</span> (<span style='background-color: #66CC66'>PKCa</span> KO) and strain-matched wild type (WT) controls were treated with <span style='background-color: #66CC66'>lithium</span> for 0, 3 or 5 days. WT <span style='background-color: #66CC66'>mice</span> had increased urine output and lowered urine osmolality after 3 and 5 days of treatment whereas <span style='background-color: #66CC66'>PKCa</span> KO <span style='background-color: #66CC66'>mice</span> had no change in urine output or concentration. Western blot analysis revealed that <span style='background-color: #66CC66'>AQP2</span> expression in medullary tissues was lowered after 3 and 5 days in WT <span style='background-color: #66CC66'>mice</span>; however, <span style='background-color: #66CC66'>AQP2</span> was unchanged in <span style='background-color: #66CC66'>PKCa</span> KO. Similar results were observed with <span style='background-color: #66CC66'>UT-A1</span> expression. Animals were also treated with <span style='background-color: #66CC66'>lithium</span> for 6 weeks. <span style='background-color: #66CC66'>Lithium</span>-treated WT <span style='background-color: #66CC66'>mice</span> had 19-fold increased urine output whereas treated <span style='background-color: #66CC66'>PKCa</span> KO animals had a 4-fold increase in output. <span style='background-color: #66CC66'>AQP2</span> and <span style='background-color: #66CC66'>UT-A1</span> expression was lowered in 6 week <span style='background-color: #66CC66'>lithium</span>-treated WT animals whereas in treated <span style='background-color: #66CC66'>PKCa</span> KO <span style='background-color: #66CC66'>mice</span>, <span style='background-color: #66CC66'>AQP2</span> was only reduced by 2-fold and <span style='background-color: #66CC66'>UT-A1</span> expression was unaffected. Urinary <span style='background-color: #66CC66'>sodium</span>, <span style='background-color: #66CC66'>potassium</span> and <span style='background-color: #66CC66'>calcium</span> were elevated in <span style='background-color: #66CC66'>lithium</span>-fed WT but not in <span style='background-color: #66CC66'>lithium</span>-fed <span style='background-color: #66CC66'>PKCa</span> KO <span style='background-color: #66CC66'>mice</span>. Our data show that ablation of <span style='background-color: #66CC66'>PKCa</span> preserves <span style='background-color: #66CC66'>AQP2</span> and <span style='background-color: #66CC66'>UT-A1</span> protein expression and localization in <span style='background-color: #66CC66'>lithium</span>-induced <span style='background-color: #66CC66'>NDI</span>, and prevents the development of the severe <span style='background-color: #66CC66'>polyuria</span> associated with <span style='background-color: #66CC66'>lithium</span> therapy."
      ],
      "text/plain": [
       "<IPython.core.display.HTML object>"
      ]
     },
     "execution_count": 13,
     "metadata": {},
     "output_type": "execute_result"
    }
   ],
   "source": [
    "from IPython.display import HTML\n",
    "\n",
    "label = highlight_entities_label(abstract, abstract_offset[0], entities)\n",
    "HTML(label)"
   ]
  },
  {
   "cell_type": "code",
   "execution_count": 14,
   "id": "ac1387a0-dd26-42bb-8c66-92917cf93f9f",
   "metadata": {
    "collapsed": true,
    "jupyter": {
     "outputs_hidden": true,
     "source_hidden": true
    },
    "scrolled": true,
    "tags": []
   },
   "outputs": [
    {
     "ename": "TypeError",
     "evalue": "'NoneType' object is not iterable",
     "output_type": "error",
     "traceback": [
      "\u001b[0;31m---------------------------------------------------------------------------\u001b[0m",
      "\u001b[0;31mTypeError\u001b[0m                                 Traceback (most recent call last)",
      "Cell \u001b[0;32mIn[14], line 10\u001b[0m\n\u001b[1;32m      8\u001b[0m         final \u001b[38;5;241m=\u001b[39m re\u001b[38;5;241m.\u001b[39msub(\u001b[38;5;124m'\u001b[39m\u001b[38;5;124m(?i)\u001b[39m\u001b[38;5;124m'\u001b[39m\u001b[38;5;241m+\u001b[39mre\u001b[38;5;241m.\u001b[39mescape(entity_text), \u001b[38;5;28;01mlambda\u001b[39;00m m: left\u001b[38;5;241m+\u001b[39mentity_text\u001b[38;5;241m+\u001b[39mright, final)\n\u001b[1;32m      9\u001b[0m     \u001b[38;5;28;01mreturn\u001b[39;00m final\n\u001b[0;32m---> 10\u001b[0m predicted \u001b[38;5;241m=\u001b[39m \u001b[43mhighlight_entities_extracted\u001b[49m\u001b[43m(\u001b[49m\u001b[43mabstract\u001b[49m\u001b[43m,\u001b[49m\u001b[43m \u001b[49m\u001b[43mentities_extracted\u001b[49m\u001b[43m)\u001b[49m\n\u001b[1;32m     11\u001b[0m HTML(predicted)\n",
      "Cell \u001b[0;32mIn[14], line 6\u001b[0m, in \u001b[0;36mhighlight_entities_extracted\u001b[0;34m(s, entities, color)\u001b[0m\n\u001b[1;32m      4\u001b[0m right \u001b[38;5;241m=\u001b[39m \u001b[38;5;124m\"\u001b[39m\u001b[38;5;124m</span>\u001b[39m\u001b[38;5;124m\"\u001b[39m\n\u001b[1;32m      5\u001b[0m final \u001b[38;5;241m=\u001b[39m s[:]\n\u001b[0;32m----> 6\u001b[0m \u001b[38;5;28;01mfor\u001b[39;00m entity \u001b[38;5;129;01min\u001b[39;00m entities:\n\u001b[1;32m      7\u001b[0m     entity_text \u001b[38;5;241m=\u001b[39m entity[\u001b[38;5;124m'\u001b[39m\u001b[38;5;124mentity\u001b[39m\u001b[38;5;124m'\u001b[39m]\n\u001b[1;32m      8\u001b[0m     final \u001b[38;5;241m=\u001b[39m re\u001b[38;5;241m.\u001b[39msub(\u001b[38;5;124m'\u001b[39m\u001b[38;5;124m(?i)\u001b[39m\u001b[38;5;124m'\u001b[39m\u001b[38;5;241m+\u001b[39mre\u001b[38;5;241m.\u001b[39mescape(entity_text), \u001b[38;5;28;01mlambda\u001b[39;00m m: left\u001b[38;5;241m+\u001b[39mentity_text\u001b[38;5;241m+\u001b[39mright, final)\n",
      "\u001b[0;31mTypeError\u001b[0m: 'NoneType' object is not iterable"
     ]
    }
   ],
   "source": [
    "def highlight_entities_extracted(s, entities, color='#00CCFF'):\n",
    "    import re\n",
    "    left = f\"<span style='background-color: {color}'>\"\n",
    "    right = \"</span>\"\n",
    "    final = s[:]\n",
    "    for entity in entities:\n",
    "        entity_text = entity['entity']\n",
    "        final = re.sub('(?i)'+re.escape(entity_text), lambda m: left+entity_text+right, final)\n",
    "    return final\n",
    "predicted = highlight_entities_extracted(abstract, entities_extracted)\n",
    "HTML(predicted)"
   ]
  },
  {
   "cell_type": "code",
   "execution_count": 25,
   "id": "dc04aadb-db35-4193-8dc7-4e72bbce8e3f",
   "metadata": {
    "collapsed": true,
    "jupyter": {
     "outputs_hidden": true,
     "source_hidden": true
    },
    "scrolled": true,
    "tags": []
   },
   "outputs": [
    {
     "data": {
      "text/plain": [
       "[{'entity': 'Congenital long QT syndrome (LQTS)',\n",
       "  'importance': 5,\n",
       "  'category': 'Disease',\n",
       "  'pmid': '15485686',\n",
       "  'type': 'abstract'},\n",
       " {'entity': 'In utero onset of rhythm disturbances',\n",
       "  'importance': 3,\n",
       "  'category': 'BiologicalProcess',\n",
       "  'pmid': '15485686',\n",
       "  'type': 'abstract'},\n",
       " {'entity': 'Newborn patient',\n",
       "  'importance': 4,\n",
       "  'category': 'Anatomy',\n",
       "  'pmid': '15485686',\n",
       "  'type': 'abstract'},\n",
       " {'entity': 'Fetal bradycardia',\n",
       "  'importance': 3,\n",
       "  'category': 'Symptom',\n",
       "  'pmid': '15485686',\n",
       "  'type': 'abstract'},\n",
       " {'entity': '2:1 atrioventricular block',\n",
       "  'importance': 4,\n",
       "  'category': 'Pathway',\n",
       "  'pmid': '15485686',\n",
       "  'type': 'abstract'},\n",
       " {'entity': 'Ventricular tachycardia',\n",
       "  'importance': 3,\n",
       "  'category': 'Symptom',\n",
       "  'pmid': '15485686',\n",
       "  'type': 'abstract'},\n",
       " {'entity': 'Mutational analysis and DNA sequencing',\n",
       "  'importance': 4,\n",
       "  'category': 'MolecularFunction',\n",
       "  'pmid': '15485686',\n",
       "  'type': 'abstract'},\n",
       " {'entity': 'Lidocaine infusion',\n",
       "  'importance': 3,\n",
       "  'category': 'Compound',\n",
       "  'pmid': '15485686',\n",
       "  'type': 'abstract'},\n",
       " {'entity': 'High dose of mexiletine',\n",
       "  'importance': 3,\n",
       "  'category': 'Compound',\n",
       "  'pmid': '15485686',\n",
       "  'type': 'abstract'},\n",
       " {'entity': 'Na(v)1.5 cardiac sodium channel',\n",
       "  'importance': 5,\n",
       "  'category': 'Anatomy',\n",
       "  'pmid': '15485686',\n",
       "  'type': 'abstract'},\n",
       " {'entity': 'Transmembrane segment 6 of domain IV',\n",
       "  'importance': 3,\n",
       "  'category': 'CellularComponent',\n",
       "  'pmid': '15485686',\n",
       "  'type': 'abstract'},\n",
       " {'entity': 'G-->A substitution at codon 1763',\n",
       "  'importance': 4,\n",
       "  'category': 'MolecularFunction',\n",
       "  'pmid': '15485686',\n",
       "  'type': 'abstract'},\n",
       " {'entity': 'Valine (GTG)',\n",
       "  'importance': 2,\n",
       "  'category': 'Compound',\n",
       "  'pmid': '15485686',\n",
       "  'type': 'abstract'},\n",
       " {'entity': 'Methionine (ATG)',\n",
       "  'importance': 2,\n",
       "  'category': 'Compound',\n",
       "  'pmid': '15485686',\n",
       "  'type': 'abstract'},\n",
       " {'entity': 'Persistent tetrodotoxin-sensitive but lidocaine-resistant current',\n",
       "  'importance': 4,\n",
       "  'category': 'Metabolite',\n",
       "  'pmid': '15485686',\n",
       "  'type': 'abstract'},\n",
       " {'entity': 'Positive shift of the steady-state inactivation curve',\n",
       "  'importance': 3,\n",
       "  'category': 'BiologicalProcess',\n",
       "  'pmid': '15485686',\n",
       "  'type': 'abstract'},\n",
       " {'entity': 'Steep activation curve',\n",
       "  'importance': 2,\n",
       "  'category': 'BiologicalProcess',\n",
       "  'pmid': '15485686',\n",
       "  'type': 'abstract'},\n",
       " {'entity': 'Faster recovery from inactivation',\n",
       "  'importance': 3,\n",
       "  'category': 'BiologicalProcess',\n",
       "  'pmid': '15485686',\n",
       "  'type': 'abstract'},\n",
       " {'entity': 'V1764M mutant',\n",
       "  'importance': 3,\n",
       "  'category': 'Mutation',\n",
       "  'pmid': '15485686',\n",
       "  'type': 'abstract'},\n",
       " {'entity': 'I1762A mutant',\n",
       "  'importance': 2,\n",
       "  'category': 'Mutation',\n",
       "  'pmid': '15485686',\n",
       "  'type': 'abstract'}]"
      ]
     },
     "execution_count": 25,
     "metadata": {},
     "output_type": "execute_result"
    }
   ],
   "source": [
    "entities_extracted"
   ]
  },
  {
   "cell_type": "code",
   "execution_count": 13,
   "id": "1bf78dc6-55dc-4842-a706-171e672b201c",
   "metadata": {
    "tags": []
   },
   "outputs": [],
   "source": []
  },
  {
   "cell_type": "code",
   "execution_count": 21,
   "id": "1cfc35ac-d352-4822-b83c-fe663ccd0c43",
   "metadata": {},
   "outputs": [],
   "source": [
    "import re"
   ]
  },
  {
   "cell_type": "code",
   "execution_count": 28,
   "id": "d26199a1-9207-493b-8334-212378e9a2de",
   "metadata": {
    "tags": []
   },
   "outputs": [],
   "source": [
    "confusion_matrix = {\"test\":[0,0,0]}\n",
    "categories = []\n",
    "\n",
    "def match_entity(entity_a, entity_b):\n",
    "    return entity_a['category'] == entity_b['category'] and\\\n",
    "model.query(entity_a['entity'], top_k=1)[2] == model.query(entity_b['entity'], top_k=1)[2]\n",
    "\n",
    "def macro_avg_f1_score(ans, gt):\n",
    "    # for sample_ans, sample_gt in zip(ans, gt):\n",
    "        # for category in categories:\n",
    "            # get all entities in the category\n",
    "    # ans_entities = [entity['entity']\n",
    "    #                 for entity in sample_ans if entity['category'] == category]\n",
    "    # ans_entities = [entity['entity'] for entity in ans]\n",
    "    # # gt_entities = [entity['text']\n",
    "    # #                for entity in sample_gt if entity['category'] == category]\n",
    "    # gt_entities = [entity['text'][0] for entity in gt]\n",
    "    # TP = len(set(ans_entities) & set(gt_entities))\n",
    "    # FP = len(set(ans_entities) - set(gt_entities))\n",
    "    # FN = len(set(gt_entities) - set(ans_entities))\n",
    "    # confusion_matrix[\"test\"][0] += TP\n",
    "    # confusion_matrix[\"test\"][1] += FP\n",
    "    # confusion_matrix[\"test\"][2] += FN\n",
    "    # f1_score = []\n",
    "    # # for category in categories:\n",
    "    # TP, FP, FN = confusion_matrix[\"test\"]\n",
    "    # precision = TP/(TP+FP) if TP+FP else float('nan')\n",
    "    # recall = TP/(TP+FN) if TP+FN else float('nan')\n",
    "    # f1_score.append(2*(precision * recall) / (precision + recall))\n",
    "    # return sum(f1_score) / len(f1_score)\n",
    "\n",
    "macro_avg_f1_score(entities_extracted, entities)"
   ]
  },
  {
   "cell_type": "code",
   "execution_count": 44,
   "id": "4faa1853-24fe-4d37-8d31-da9fa1f8c1da",
   "metadata": {
    "collapsed": true,
    "jupyter": {
     "outputs_hidden": true
    },
    "scrolled": true,
    "tags": []
   },
   "outputs": [
    {
     "data": {
      "text/plain": [
       "[{'entity': 'Congenital long QT syndrome (LQTS)',\n",
       "  'importance': 5,\n",
       "  'category': 'Disease',\n",
       "  'pmid': '15485686',\n",
       "  'type': 'abstract'},\n",
       " {'entity': 'In utero onset of rhythm disturbances',\n",
       "  'importance': 3,\n",
       "  'category': 'BiologicalProcess',\n",
       "  'pmid': '15485686',\n",
       "  'type': 'abstract'},\n",
       " {'entity': 'Newborn patient',\n",
       "  'importance': 4,\n",
       "  'category': 'Anatomy',\n",
       "  'pmid': '15485686',\n",
       "  'type': 'abstract'},\n",
       " {'entity': 'Fetal bradycardia',\n",
       "  'importance': 3,\n",
       "  'category': 'Symptom',\n",
       "  'pmid': '15485686',\n",
       "  'type': 'abstract'},\n",
       " {'entity': '2:1 atrioventricular block',\n",
       "  'importance': 4,\n",
       "  'category': 'Pathway',\n",
       "  'pmid': '15485686',\n",
       "  'type': 'abstract'},\n",
       " {'entity': 'Ventricular tachycardia',\n",
       "  'importance': 3,\n",
       "  'category': 'Symptom',\n",
       "  'pmid': '15485686',\n",
       "  'type': 'abstract'},\n",
       " {'entity': 'Mutational analysis and DNA sequencing',\n",
       "  'importance': 4,\n",
       "  'category': 'MolecularFunction',\n",
       "  'pmid': '15485686',\n",
       "  'type': 'abstract'},\n",
       " {'entity': 'Lidocaine infusion',\n",
       "  'importance': 3,\n",
       "  'category': 'Compound',\n",
       "  'pmid': '15485686',\n",
       "  'type': 'abstract'},\n",
       " {'entity': 'High dose of mexiletine',\n",
       "  'importance': 3,\n",
       "  'category': 'Compound',\n",
       "  'pmid': '15485686',\n",
       "  'type': 'abstract'},\n",
       " {'entity': 'Na(v)1.5 cardiac sodium channel',\n",
       "  'importance': 5,\n",
       "  'category': 'Anatomy',\n",
       "  'pmid': '15485686',\n",
       "  'type': 'abstract'},\n",
       " {'entity': 'Transmembrane segment 6 of domain IV',\n",
       "  'importance': 3,\n",
       "  'category': 'CellularComponent',\n",
       "  'pmid': '15485686',\n",
       "  'type': 'abstract'},\n",
       " {'entity': 'G-->A substitution at codon 1763',\n",
       "  'importance': 4,\n",
       "  'category': 'MolecularFunction',\n",
       "  'pmid': '15485686',\n",
       "  'type': 'abstract'},\n",
       " {'entity': 'Valine (GTG)',\n",
       "  'importance': 2,\n",
       "  'category': 'Compound',\n",
       "  'pmid': '15485686',\n",
       "  'type': 'abstract'},\n",
       " {'entity': 'Methionine (ATG)',\n",
       "  'importance': 2,\n",
       "  'category': 'Compound',\n",
       "  'pmid': '15485686',\n",
       "  'type': 'abstract'},\n",
       " {'entity': 'Persistent tetrodotoxin-sensitive but lidocaine-resistant current',\n",
       "  'importance': 4,\n",
       "  'category': 'Metabolite',\n",
       "  'pmid': '15485686',\n",
       "  'type': 'abstract'},\n",
       " {'entity': 'Positive shift of the steady-state inactivation curve',\n",
       "  'importance': 3,\n",
       "  'category': 'BiologicalProcess',\n",
       "  'pmid': '15485686',\n",
       "  'type': 'abstract'},\n",
       " {'entity': 'Steep activation curve',\n",
       "  'importance': 2,\n",
       "  'category': 'BiologicalProcess',\n",
       "  'pmid': '15485686',\n",
       "  'type': 'abstract'},\n",
       " {'entity': 'Faster recovery from inactivation',\n",
       "  'importance': 3,\n",
       "  'category': 'BiologicalProcess',\n",
       "  'pmid': '15485686',\n",
       "  'type': 'abstract'},\n",
       " {'entity': 'V1764M mutant',\n",
       "  'importance': 3,\n",
       "  'category': 'Mutation',\n",
       "  'pmid': '15485686',\n",
       "  'type': 'abstract'},\n",
       " {'entity': 'I1762A mutant',\n",
       "  'importance': 2,\n",
       "  'category': 'Mutation',\n",
       "  'pmid': '15485686',\n",
       "  'type': 'abstract'}]"
      ]
     },
     "execution_count": 44,
     "metadata": {},
     "output_type": "execute_result"
    }
   ],
   "source": [
    "entities_extracted"
   ]
  },
  {
   "cell_type": "code",
   "execution_count": 10,
   "id": "b1edc533-5c0f-4760-8b88-84e142aff668",
   "metadata": {
    "scrolled": true,
    "tags": []
   },
   "outputs": [
    {
     "data": {
      "text/plain": [
       "{'text': ['long QT syndrome'],\n",
       " 'offsets': [[56, 72]],\n",
       " 'concept_id': 'D008133',\n",
       " 'semantic_type_id': 'DiseaseOrPhenotypicFeature'}"
      ]
     },
     "execution_count": 10,
     "metadata": {},
     "output_type": "execute_result"
    }
   ],
   "source": [
    "entities[1]"
   ]
  },
  {
   "cell_type": "code",
   "execution_count": 11,
   "id": "29885e07-3b4d-4be2-ac6f-50d15fb1cdaa",
   "metadata": {
    "tags": []
   },
   "outputs": [
    {
     "data": {
      "text/plain": [
       "{'entity': 'Congenital long QT syndrome (LQTS)',\n",
       " 'importance': 5,\n",
       " 'category': 'Disease',\n",
       " 'pmid': '15485686',\n",
       " 'type': 'abstract'}"
      ]
     },
     "execution_count": 11,
     "metadata": {},
     "output_type": "execute_result"
    }
   ],
   "source": [
    "entities_extracted[0]"
   ]
  },
  {
   "cell_type": "code",
   "execution_count": 10,
   "id": "658036e5-52f5-4f40-9875-ec8bd370a1fc",
   "metadata": {},
   "outputs": [
    {
     "data": {
      "text/plain": [
       "{'CellLine',\n",
       " 'ChemicalEntity',\n",
       " 'DiseaseOrPhenotypicFeature',\n",
       " 'GeneOrGeneProduct',\n",
       " 'OrganismTaxon',\n",
       " 'SequenceVariant'}"
      ]
     },
     "execution_count": 10,
     "metadata": {},
     "output_type": "execute_result"
    }
   ],
   "source": [
    "set([j['semantic_type_id'] for i in datas[\"test\"] for j in i['entities']])"
   ]
  },
  {
   "cell_type": "code",
   "execution_count": 2,
   "id": "17364ae0-4324-49c1-9b6a-c6933505c04a",
   "metadata": {
    "tags": []
   },
   "outputs": [],
   "source": [
    "from text2knowledge.normalizer import Normalizer"
   ]
  },
  {
   "cell_type": "code",
   "execution_count": 4,
   "id": "f04243a3-f882-4e15-80cd-00c3e9ece689",
   "metadata": {
    "tags": []
   },
   "outputs": [
    {
     "name": "stdout",
     "output_type": "stream",
     "text": [
      "Loaded dictionary from cached file ./tmp/cached_biosyn-biobert-bc2gn_dict_Gene.pk\n"
     ]
    },
    {
     "data": {
      "text/plain": [
       "{'mention': 'g a substitution at codon 1763',\n",
       " 'predictions': [{'name': 'transfer RNA isoleucine 17 (anticodon AAU)',\n",
       "   'id': 'EntrezGene:100189310'},\n",
       "  {'name': 'transfer RNA isoleucine (anticodon AAU)',\n",
       "   'id': 'EntrezGene:107986683|107986679'},\n",
       "  {'name': 'tRNA glutamic acid (anticodon UUC)', 'id': 'EntrezGene:7193'},\n",
       "  {'name': 'tRNA glycine1 (anticodon CCC)', 'id': 'EntrezGene:7195'},\n",
       "  {'name': 'tRNA glutamine 1 (anticodon CUG)', 'id': 'EntrezGene:7228'}]}"
      ]
     },
     "execution_count": 4,
     "metadata": {},
     "output_type": "execute_result"
    }
   ],
   "source": [
    "class Arg:\n",
    "    def __init__(self, category):\n",
    "        self.show_embeddings = False\n",
    "        self.show_predictions = True\n",
    "        self.use_cuda = True\n",
    "        if category == 'Gene':\n",
    "            self.model_name_or_path = \"dmis-lab/biosyn-biobert-bc2gn\"\n",
    "            # self.dictionary_path = \"/root/text2knowledge/data/dictionary/dict_Gene.txt\"\n",
    "        self.dictionary_path = f\"/root/text2knowledge/data/dictionary/yang/dict_{category}.txt\"\n",
    "        \n",
    "            \n",
    "            \n",
    "arg_mf = Arg('MolecularFunction')\n",
    "mf_normalizer = Normalizer(arg_disease)\n",
    "mf_normalizer.normalize(\"G-->A substitution at codon 1763\")"
   ]
  },
  {
   "cell_type": "code",
   "execution_count": 7,
   "id": "b615c9cb-0177-47bb-a7f7-60a2cacec8fb",
   "metadata": {
    "tags": []
   },
   "outputs": [
    {
     "ename": "TypeError",
     "evalue": "'NoneType' object is not callable",
     "output_type": "error",
     "traceback": [
      "\u001b[0;31m---------------------------------------------------------------------------\u001b[0m",
      "\u001b[0;31mTypeError\u001b[0m                                 Traceback (most recent call last)",
      "Cell \u001b[0;32mIn[7], line 1\u001b[0m\n\u001b[0;32m----> 1\u001b[0m \u001b[43mnormalizer\u001b[49m\u001b[38;5;241;43m.\u001b[39;49m\u001b[43mbiosyn\u001b[49m\u001b[38;5;241;43m.\u001b[39;49m\u001b[43membed_sparse\u001b[49m\u001b[43m(\u001b[49m\u001b[43mnames\u001b[49m\u001b[38;5;241;43m=\u001b[39;49m\u001b[43m[\u001b[49m\u001b[38;5;124;43m\"\u001b[39;49m\u001b[38;5;124;43mG-->A substitution at codon 1763\u001b[39;49m\u001b[38;5;124;43m\"\u001b[39;49m\u001b[43m]\u001b[49m\u001b[43m)\u001b[49m\n",
      "File \u001b[0;32m~/miniconda3/lib/python3.8/site-packages/biosyn-0.1-py3.8.egg/biosyn/biosyn.py:209\u001b[0m, in \u001b[0;36mBioSyn.embed_sparse\u001b[0;34m(self, names, show_progress)\u001b[0m\n\u001b[1;32m    207\u001b[0m end \u001b[38;5;241m=\u001b[39m \u001b[38;5;28mmin\u001b[39m(start \u001b[38;5;241m+\u001b[39m batch_size, \u001b[38;5;28mlen\u001b[39m(names))\n\u001b[1;32m    208\u001b[0m batch \u001b[38;5;241m=\u001b[39m names[start:end]\n\u001b[0;32m--> 209\u001b[0m batch_sparse_embeds \u001b[38;5;241m=\u001b[39m \u001b[38;5;28;43mself\u001b[39;49m\u001b[38;5;241;43m.\u001b[39;49m\u001b[43msparse_encoder\u001b[49m\u001b[43m(\u001b[49m\u001b[43mbatch\u001b[49m\u001b[43m)\u001b[49m\n\u001b[1;32m    210\u001b[0m batch_sparse_embeds \u001b[38;5;241m=\u001b[39m batch_sparse_embeds\u001b[38;5;241m.\u001b[39mnumpy()\n\u001b[1;32m    211\u001b[0m sparse_embeds\u001b[38;5;241m.\u001b[39mappend(batch_sparse_embeds)\n",
      "\u001b[0;31mTypeError\u001b[0m: 'NoneType' object is not callable"
     ]
    }
   ],
   "source": [
    "normalizer.biosyn.embed_sparse(names=[\"G-->A substitution at codon 1763\"])"
   ]
  },
  {
   "cell_type": "code",
   "execution_count": 2,
   "id": "5245f69d-3a74-46dd-8898-48cc85be1719",
   "metadata": {
    "tags": []
   },
   "outputs": [
    {
     "name": "stderr",
     "output_type": "stream",
     "text": [
      "\n",
      "KeyboardInterrupt\n",
      "\n"
     ]
    }
   ],
   "source": [
    "from text2knowledge.normalizer import normalize\n",
    "\n",
    "class Arg:\n",
    "    def __init__(self):\n",
    "        self.mention = \"long QT syndrome (LQTS)\"\n",
    "        self.model_name_or_path = \"dmis-lab/biosyn-biobert-ncbi-disease\"\n",
    "        self.show_embeddings = False\n",
    "        self.show_predictions = True\n",
    "        self.dictionary_path = \"/root/text2knowledge/data/dictionary/dict_Disease_20210630.txt\"\n",
    "        self.use_cuda = True\n",
    "arg = Arg()\n",
    "normalize(arg)\n"
   ]
  },
  {
   "cell_type": "code",
   "execution_count": 6,
   "id": "ba1393ce-3242-42a4-ad02-8f4cd40703fb",
   "metadata": {
    "tags": []
   },
   "outputs": [],
   "source": [
    "from text2knowledge.normalizer import Normalizer"
   ]
  },
  {
   "cell_type": "code",
   "execution_count": 7,
   "id": "fa47c888-e7a8-4229-829b-214636eb7e42",
   "metadata": {
    "tags": []
   },
   "outputs": [
    {
     "name": "stderr",
     "output_type": "stream",
     "text": [
      "/root/miniconda3/lib/python3.8/site-packages/huggingface_hub/file_download.py:678: FutureWarning: 'cached_download' is the legacy way to download files from the HF hub, please consider upgrading to 'hf_hub_download'\n",
      "  warnings.warn(\n",
      "/root/miniconda3/lib/python3.8/site-packages/sklearn/base.py:348: InconsistentVersionWarning: Trying to unpickle estimator TfidfTransformer from version 0.21.2 when using version 1.3.2. This might lead to breaking code or invalid results. Use at your own risk. For more info please refer to:\n",
      "https://scikit-learn.org/stable/model_persistence.html#security-maintainability-limitations\n",
      "  warnings.warn(\n",
      "/root/miniconda3/lib/python3.8/site-packages/sklearn/base.py:348: InconsistentVersionWarning: Trying to unpickle estimator TfidfVectorizer from version 0.21.2 when using version 1.3.2. This might lead to breaking code or invalid results. Use at your own risk. For more info please refer to:\n",
      "https://scikit-learn.org/stable/model_persistence.html#security-maintainability-limitations\n",
      "  warnings.warn(\n"
     ]
    }
   ],
   "source": [
    "class Arg:\n",
    "    def __init__(self):\n",
    "        # self.mention = \"long QT syndrome (LQTS)\"\n",
    "        self.model_name_or_path = \"dmis-lab/biosyn-biobert-ncbi-disease\"\n",
    "        self.show_embeddings = False\n",
    "        self.show_predictions = True\n",
    "        self.dictionary_path = \"/root/text2knowledge/data/dictionary/dict_Disease_20210630.txt\"\n",
    "        self.use_cuda = True\n",
    "arg = Arg()\n",
    "\n",
    "disease_normalizer = Normalizer(arg)"
   ]
  },
  {
   "cell_type": "code",
   "execution_count": 8,
   "id": "6b57b766-6b76-46c4-aec4-d47c8c26f1f9",
   "metadata": {
    "tags": []
   },
   "outputs": [
    {
     "name": "stderr",
     "output_type": "stream",
     "text": [
      "/root/miniconda3/lib/python3.8/site-packages/biosyn-0.1-py3.8.egg/biosyn/biosyn.py:26: UserWarning: To copy construct from a tensor, it is recommended to use sourceTensor.clone().detach() or sourceTensor.clone().detach().requires_grad_(True), rather than torch.tensor(sourceTensor).\n"
     ]
    },
    {
     "name": "stdout",
     "output_type": "stream",
     "text": [
      "Loaded dictionary from cached file ./tmp/cached_biosyn-biobert-ncbi-disease_dict_Disease_20210630.pk\n"
     ]
    },
    {
     "data": {
      "text/plain": [
       "{'mention': 'long qt syndrome lqts',\n",
       " 'predictions': [{'name': 'Long QT Syndrome', 'id': 'MESH:D008133'},\n",
       "  {'name': 'Long Qt Syndrome 1/2', 'id': 'MESH:C566006'},\n",
       "  {'name': 'Long Qt Syndrome 2|LONG QT SYNDROME 1/2, DIGENIC, INCLUDED;LQT1/2, DIGENIC, INCLUDED|LONG QT SYNDROME 2/3, DIGENIC, INCLUDED;LQT2/3, DIGENIC, INCLUDED|LONG QT SYNDROME 2/5, DIGENIC, INCLUDED;LQT2/5, DIGENIC, INCLUDED|LONG QT SYNDROME 2/9, DIGENIC, INCLUDED;LQT2/9, DIGENIC, INCLUDED|LONG QT SYNDROME 2, ACQUIRED, SUSCEPTIBILITY TO, INCLUDED|LQT2',\n",
       "   'id': 'MESH:C563614'},\n",
       "  {'name': 'Long Qt Syndrome 10', 'id': 'OMIM:611819,MESH:C567514'},\n",
       "  {'name': 'LONG QT SYNDROME 13', 'id': 'OMIM:613485'}]}"
      ]
     },
     "execution_count": 8,
     "metadata": {},
     "output_type": "execute_result"
    }
   ],
   "source": [
    "disease_normalizer.normalize(\"long QT syndrome (LQTS)\")"
   ]
  },
  {
   "cell_type": "code",
   "execution_count": 21,
   "id": "58c1d39f-bd1f-4d69-8e18-c0f22a22a44f",
   "metadata": {
    "tags": []
   },
   "outputs": [
    {
     "name": "stdout",
     "output_type": "stream",
     "text": [
      "Loaded dictionary from cached file ./tmp/cached_biosyn-biobert-ncbi-disease_dict_Disease_20210630.pk\n",
      "{'mention': 'nephrogenic diabetes insipidus ndi',\n",
      " 'predictions': [{'name': 'diabetes insipidus, nephrogenic, x-linked|congenital nephrogenic diabetes insipidus|diabetes insipidus, nephrogenic, type ii|vasopressin-resistant diabetes insipidus|nephrogenic diabetes insipidus, type is|diabetes insipidus, nephrogenic, autosomal|acquired nephrogenic diabetes insipiduses|congenital nephrogenic diabetes insipiduses|acquired nephrogenic diabetes insipidus|diabetes insipidus renalis|adh-resistant diabetes insipidus|nephrogenic diabetes insipidus|adh-resistant diabetes insipiduses|diabetes insipidus, nephrogenics|diabetes insipidus, nephrogenic, type 1|diabetes insipidus, nephrogenic|diabetes insipidus, nephrogenic, type i|nephrogenic diabetes insipidus, type iis|nephrogenic diabetes insipidus, type i|nephrogenic diabetes insipidus, type ii|vasopressin resistant diabetes insipidus|Familial nephrogenic diabetes insipidus|Congenital nephrogenic diabetes insipidus|ADH-resistant diabetes insipidus|Renal diabetes insipidus|Hereditary nephrogenic diabetes insipidus|Vasopressin-resistant diabetes insipidus|Vasopressin-resistant hyposthenuria|Diabetes Insipidus, Nephrogenic|Nephrogenic diabetes insipidus|NDI - Nephrogenic diabetes insipidus|DIABETES INSIPIDUS NEPHROGENIC|Acquired nephrogenic diabetes insipidus|-Acquired Nephrogenic Diabetes Insipidus|Secondary nephrogenic diabetes insipidus|Acquired Nephrogenic Diabetes Insipidus|ADH-Resistant Diabetes Insipidus|Congenital Nephrogenic Diabetes Insipidus|Diabetes Insipidus, Nephrogenic, Autosomal|Diabetes Insipidus, Nephrogenic, Type 1|Diabetes Insipidus, Nephrogenic, Type I|Diabetes Insipidus, Nephrogenic, Type II|Diabetes Insipidus, Nephrogenic, X-Linked|Diabetes Insipidus Renalis|Nephrogenic Diabetes Insipidus|Nephrogenic Diabetes Insipidus, Type I|Nephrogenic Diabetes Insipidus, Type II|Vasopressin-Resistant Diabetes Insipidus',\n",
      "                  'id': 'OMIM:125800,MESH:D018500'},\n",
      "                 {'name': 'Dipsogenic Diabetes Insipidus',\n",
      "                  'id': 'MESH:C548013'},\n",
      "                 {'name': 'Diabetes Mellitus, Noninsulin-Dependent, 1|Noninsulin-Dependent Diabetes Mellitus 1',\n",
      "                  'id': 'OMIM:601283,MESH:C563359'},\n",
      "                 {'name': 'diabetes insipiduses|diabetes insipidus|DI - Diabetes insipidus|Diabetes insipidus|Diabetes insipidus (disorder)|Diabetes Insipidus',\n",
      "                  'id': 'MESH:D003919'},\n",
      "                 {'name': 'Nephrogenic Syndrome of Inappropriate Antidiuresis|NSIAD',\n",
      "                  'id': 'OMIM:300539,MESH:C564491'}]}\n"
     ]
    }
   ],
   "source": [
    "import pprint\n",
    "for disease_entity in disease_entities_extracted:\n",
    "    result = disease_normalizer.normalize(disease_entity[\"entity\"])\n",
    "    pprint.pp(result)"
   ]
  },
  {
   "cell_type": "code",
   "execution_count": 6,
   "id": "c92943f7-fd60-48c1-8eb2-9df3792f7f45",
   "metadata": {
    "tags": []
   },
   "outputs": [
    {
     "ename": "NameError",
     "evalue": "name 'entities_extracted' is not defined",
     "output_type": "error",
     "traceback": [
      "\u001b[0;31m---------------------------------------------------------------------------\u001b[0m",
      "\u001b[0;31mNameError\u001b[0m                                 Traceback (most recent call last)",
      "Cell \u001b[0;32mIn[6], line 33\u001b[0m\n\u001b[1;32m      9\u001b[0m     \u001b[38;5;28;01mpass\u001b[39;00m\n\u001b[1;32m     10\u001b[0m     \u001b[38;5;66;03m# for sample_ans, sample_gt in zip(ans, gt):\u001b[39;00m\n\u001b[1;32m     11\u001b[0m         \u001b[38;5;66;03m# for category in categories:\u001b[39;00m\n\u001b[1;32m     12\u001b[0m             \u001b[38;5;66;03m# get all entities in the category\u001b[39;00m\n\u001b[0;32m   (...)\u001b[0m\n\u001b[1;32m     30\u001b[0m     \u001b[38;5;66;03m# f1_score.append(2*(precision * recall) / (precision + recall))\u001b[39;00m\n\u001b[1;32m     31\u001b[0m     \u001b[38;5;66;03m# return sum(f1_score) / len(f1_score)\u001b[39;00m\n\u001b[0;32m---> 33\u001b[0m macro_avg_f1_score(\u001b[43mentities_extracted\u001b[49m, entities)\n",
      "\u001b[0;31mNameError\u001b[0m: name 'entities_extracted' is not defined"
     ]
    }
   ],
   "source": [
    "confusion_matrix = {\"test\":[0,0,0]}\n",
    "categories = []\n",
    "\n",
    "def match_entity(entity_a, entity_b):\n",
    "    return entity_a['category'] == entity_b['category'] and\\\n",
    "model.query(entity_a['entity'], top_k=1)[2] == model.query(entity_b['entity'], top_k=1)[2]\n",
    "\n",
    "def macro_avg_f1_score(ans, gt):\n",
    "    pass\n",
    "    # for sample_ans, sample_gt in zip(ans, gt):\n",
    "        # for category in categories:\n",
    "            # get all entities in the category\n",
    "    # ans_entities = [entity['entity']\n",
    "    #                 for entity in sample_ans if entity['category'] == category]\n",
    "    # ans_entities = [entity['entity'] for entity in ans]\n",
    "    # # gt_entities = [entity['text']\n",
    "    # #                for entity in sample_gt if entity['category'] == category]\n",
    "    # gt_entities = [entity['text'][0] for entity in gt]\n",
    "    # TP = len(set(ans_entities) & set(gt_entities))\n",
    "    # FP = len(set(ans_entities) - set(gt_entities))\n",
    "    # FN = len(set(gt_entities) - set(ans_entities))\n",
    "    # confusion_matrix[\"test\"][0] += TP\n",
    "    # confusion_matrix[\"test\"][1] += FP\n",
    "    # confusion_matrix[\"test\"][2] += FN\n",
    "    # f1_score = []\n",
    "    # # for category in categories:\n",
    "    # TP, FP, FN = confusion_matrix[\"test\"]\n",
    "    # precision = TP/(TP+FP) if TP+FP else float('nan')\n",
    "    # recall = TP/(TP+FN) if TP+FN else float('nan')\n",
    "    # f1_score.append(2*(precision * recall) / (precision + recall))\n",
    "    # return sum(f1_score) / len(f1_score)\n",
    "\n",
    "macro_avg_f1_score(entities_extracted, entities)"
   ]
  },
  {
   "cell_type": "code",
   "execution_count": null,
   "id": "abbdb50e-bfda-4fdf-9bdf-47ef3a023efb",
   "metadata": {},
   "outputs": [],
   "source": []
  }
 ],
 "metadata": {
  "kernelspec": {
   "display_name": "Python 3 (ipykernel)",
   "language": "python",
   "name": "python3"
  },
  "language_info": {
   "codemirror_mode": {
    "name": "ipython",
    "version": 3
   },
   "file_extension": ".py",
   "mimetype": "text/x-python",
   "name": "python",
   "nbconvert_exporter": "python",
   "pygments_lexer": "ipython3",
   "version": "3.8.10"
  }
 },
 "nbformat": 4,
 "nbformat_minor": 5
}
