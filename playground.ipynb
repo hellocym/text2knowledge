{
 "cells": [
  {
   "cell_type": "code",
   "execution_count": 4,
   "id": "c1ce6f55-ecf9-4622-ad49-6532cb05cd89",
   "metadata": {
    "tags": []
   },
   "outputs": [
    {
     "name": "stdout",
     "output_type": "stream",
     "text": [
      "huggingface/tokenizers: The current process just got forked, after parallelism has already been used. Disabling parallelism to avoid deadlocks...\n",
      "To disable this warning, you can either:\n",
      "\t- Avoid using `tokenizers` before the fork if possible\n",
      "\t- Explicitly set the environment variable TOKENIZERS_PARALLELISM=(true | false)\n"
     ]
    }
   ],
   "source": [
    "# PROXY\n",
    "import subprocess\n",
    "import os\n",
    "\n",
    "result = subprocess.run('bash -c \"source /etc/network_turbo && env | grep proxy\"', shell=True, capture_output=True, text=True)\n",
    "output = result.stdout\n",
    "for line in output.splitlines():\n",
    "    if '=' in line:\n",
    "        var, value = line.split('=', 1)\n",
    "        os.environ[var] = value"
   ]
  },
  {
   "cell_type": "code",
   "execution_count": 11,
   "id": "f9edd9c1-4f8b-4a55-a54c-ff851b9f383e",
   "metadata": {
    "scrolled": true,
    "tags": []
   },
   "outputs": [
    {
     "name": "stderr",
     "output_type": "stream",
     "text": [
      "Repo card metadata block was not found. Setting CardData to empty.\n"
     ]
    },
    {
     "data": {
      "application/json": {
       "ascii": false,
       "bar_format": null,
       "colour": null,
       "elapsed": 0.009147882461547852,
       "initial": 0,
       "n": 0,
       "ncols": null,
       "nrows": null,
       "postfix": null,
       "prefix": "Downloading data",
       "rate": null,
       "total": 2191684,
       "unit": "B",
       "unit_divisor": 1000,
       "unit_scale": true
      },
      "application/vnd.jupyter.widget-view+json": {
       "model_id": "73303276f24d46c4af4bf8f0633e13f6",
       "version_major": 2,
       "version_minor": 0
      },
      "text/plain": [
       "Downloading data:   0%|          | 0.00/2.19M [00:00<?, ?B/s]"
      ]
     },
     "metadata": {},
     "output_type": "display_data"
    },
    {
     "data": {
      "application/json": {
       "ascii": false,
       "bar_format": null,
       "colour": null,
       "elapsed": 0.008061408996582031,
       "initial": 0,
       "n": 0,
       "ncols": null,
       "nrows": null,
       "postfix": null,
       "prefix": "Generating train split",
       "rate": null,
       "total": 0,
       "unit": " examples",
       "unit_divisor": 1000,
       "unit_scale": false
      },
      "application/vnd.jupyter.widget-view+json": {
       "model_id": "dc8e640aeab54aca9c5b8d62be70bd54",
       "version_major": 2,
       "version_minor": 0
      },
      "text/plain": [
       "Generating train split: 0 examples [00:00, ? examples/s]"
      ]
     },
     "metadata": {},
     "output_type": "display_data"
    },
    {
     "data": {
      "application/json": {
       "ascii": false,
       "bar_format": null,
       "colour": null,
       "elapsed": 0.00828099250793457,
       "initial": 0,
       "n": 0,
       "ncols": null,
       "nrows": null,
       "postfix": null,
       "prefix": "Generating test split",
       "rate": null,
       "total": 0,
       "unit": " examples",
       "unit_divisor": 1000,
       "unit_scale": false
      },
      "application/vnd.jupyter.widget-view+json": {
       "model_id": "9358754169354f2abcf51d1fa341141a",
       "version_major": 2,
       "version_minor": 0
      },
      "text/plain": [
       "Generating test split: 0 examples [00:00, ? examples/s]"
      ]
     },
     "metadata": {},
     "output_type": "display_data"
    },
    {
     "data": {
      "application/json": {
       "ascii": false,
       "bar_format": null,
       "colour": null,
       "elapsed": 0.007811069488525391,
       "initial": 0,
       "n": 0,
       "ncols": null,
       "nrows": null,
       "postfix": null,
       "prefix": "Generating validation split",
       "rate": null,
       "total": 0,
       "unit": " examples",
       "unit_divisor": 1000,
       "unit_scale": false
      },
      "application/vnd.jupyter.widget-view+json": {
       "model_id": "3a2a63d0c8f6454094083227313ed15a",
       "version_major": 2,
       "version_minor": 0
      },
      "text/plain": [
       "Generating validation split: 0 examples [00:00, ? examples/s]"
      ]
     },
     "metadata": {},
     "output_type": "display_data"
    }
   ],
   "source": [
    "from datasets import load_dataset\n",
    "datas = load_dataset(\"bigbio/biored\")"
   ]
  },
  {
   "cell_type": "code",
   "execution_count": 12,
   "id": "c105b026-4498-48e2-965d-35b9bada910f",
   "metadata": {
    "tags": []
   },
   "outputs": [],
   "source": [
    "from text2knowledge.strategy1 import extract_concepts\n",
    "\n",
    "import json"
   ]
  },
  {
   "cell_type": "code",
   "execution_count": 13,
   "id": "10471132-0e44-4beb-959b-49a3226f7aa1",
   "metadata": {
    "tags": []
   },
   "outputs": [],
   "source": [
    "model_name = 'mistral:latest'"
   ]
  },
  {
   "cell_type": "code",
   "execution_count": 18,
   "id": "b7f0ac51-d307-4951-856a-eb0a77e18cb4",
   "metadata": {
    "scrolled": true,
    "tags": []
   },
   "outputs": [
    {
     "name": "stdout",
     "output_type": "stream",
     "text": [
      " [\n",
      "  {\n",
      "      \"entity\": \"Congenital long QT syndrome (LQTS)\",\n",
      "      \"importance\": 5,\n",
      "      \"category\": \"Disease\"\n",
      "  },\n",
      "  {\n",
      "      \"entity\": \"In utero onset of rhythm disturbances\",\n",
      "      \"importance\": 3,\n",
      "      \"category\": \"BiologicalProcess\"\n",
      "  },\n",
      "  {\n",
      "      \"entity\": \"Newborn patient\",\n",
      "      \"importance\": 4,\n",
      "      \"category\": \"Anatomy\"\n",
      "  },\n",
      "  {\n",
      "      \"entity\": \"Fetal bradycardia\",\n",
      "      \"importance\": 3,\n",
      "      \"category\": \"Symptom\"\n",
      "  },\n",
      "  {\n",
      "      \"entity\": \"2:1 atrioventricular block\",\n",
      "      \"importance\": 4,\n",
      "      \"category\": \"Pathway\"\n",
      "  },\n",
      "  {\n",
      "      \"entity\": \"Ventricular tachycardia\",\n",
      "      \"importance\": 3,\n",
      "      \"category\": \"Symptom\"\n",
      "  },\n",
      "  {\n",
      "      \"entity\": \"Mutational analysis and DNA sequencing\",\n",
      "      \"importance\": 4,\n",
      "      \"category\": \"MolecularFunction\"\n",
      "  },\n",
      "  {\n",
      "      \"entity\": \"Lidocaine infusion\",\n",
      "      \"importance\": 3,\n",
      "      \"category\": \"Compound\"\n",
      "  },\n",
      "  {\n",
      "      \"entity\": \"High dose of mexiletine\",\n",
      "      \"importance\": 3,\n",
      "      \"category\": \"Compound\"\n",
      "  },\n",
      "  {\n",
      "      \"entity\": \"Na(v)1.5 cardiac sodium channel\",\n",
      "      \"importance\": 5,\n",
      "      \"category\": \"Anatomy\"\n",
      "  },\n",
      "  {\n",
      "      \"entity\": \"Transmembrane segment 6 of domain IV\",\n",
      "      \"importance\": 3,\n",
      "      \"category\": \"CellularComponent\"\n",
      "  },\n",
      "  {\n",
      "      \"entity\": \"G-->A substitution at codon 1763\",\n",
      "      \"importance\": 4,\n",
      "      \"category\": \"MolecularFunction\"\n",
      "  },\n",
      "  {\n",
      "      \"entity\": \"Valine (GTG)\",\n",
      "      \"importance\": 2,\n",
      "      \"category\": \"Compound\"\n",
      "  },\n",
      "  {\n",
      "      \"entity\": \"Methionine (ATG)\",\n",
      "      \"importance\": 2,\n",
      "      \"category\": \"Compound\"\n",
      "  },\n",
      "  {\n",
      "      \"entity\": \"Persistent tetrodotoxin-sensitive but lidocaine-resistant current\",\n",
      "      \"importance\": 4,\n",
      "      \"category\": \"Metabolite\"\n",
      "  },\n",
      "  {\n",
      "      \"entity\": \"Positive shift of the steady-state inactivation curve\",\n",
      "      \"importance\": 3,\n",
      "      \"category\": \"BiologicalProcess\"\n",
      "  },\n",
      "  {\n",
      "      \"entity\": \"Steep activation curve\",\n",
      "      \"importance\": 2,\n",
      "      \"category\": \"BiologicalProcess\"\n",
      "  },\n",
      "  {\n",
      "      \"entity\": \"Faster recovery from inactivation\",\n",
      "      \"importance\": 3,\n",
      "      \"category\": \"BiologicalProcess\"\n",
      "  },\n",
      "  {\n",
      "      \"entity\": \"V1764M mutant\",\n",
      "      \"importance\": 3,\n",
      "      \"category\": \"Mutation\"\n",
      "  },\n",
      "  {\n",
      "      \"entity\": \"I1762A mutant\",\n",
      "      \"importance\": 2,\n",
      "      \"category\": \"Mutation\"\n",
      "  }\n",
      "][\n",
      "    {\n",
      "        \"entity\": \"Congenital long QT syndrome (LQTS)\",\n",
      "        \"importance\": 5,\n",
      "        \"category\": \"Disease\",\n",
      "        \"pmid\": \"15485686\",\n",
      "        \"type\": \"abstract\"\n",
      "    },\n",
      "    {\n",
      "        \"entity\": \"In utero onset of rhythm disturbances\",\n",
      "        \"importance\": 3,\n",
      "        \"category\": \"BiologicalProcess\",\n",
      "        \"pmid\": \"15485686\",\n",
      "        \"type\": \"abstract\"\n",
      "    },\n",
      "    {\n",
      "        \"entity\": \"Newborn patient\",\n",
      "        \"importance\": 4,\n",
      "        \"category\": \"Anatomy\",\n",
      "        \"pmid\": \"15485686\",\n",
      "        \"type\": \"abstract\"\n",
      "    },\n",
      "    {\n",
      "        \"entity\": \"Fetal bradycardia\",\n",
      "        \"importance\": 3,\n",
      "        \"category\": \"Symptom\",\n",
      "        \"pmid\": \"15485686\",\n",
      "        \"type\": \"abstract\"\n",
      "    },\n",
      "    {\n",
      "        \"entity\": \"2:1 atrioventricular block\",\n",
      "        \"importance\": 4,\n",
      "        \"category\": \"Pathway\",\n",
      "        \"pmid\": \"15485686\",\n",
      "        \"type\": \"abstract\"\n",
      "    },\n",
      "    {\n",
      "        \"entity\": \"Ventricular tachycardia\",\n",
      "        \"importance\": 3,\n",
      "        \"category\": \"Symptom\",\n",
      "        \"pmid\": \"15485686\",\n",
      "        \"type\": \"abstract\"\n",
      "    },\n",
      "    {\n",
      "        \"entity\": \"Mutational analysis and DNA sequencing\",\n",
      "        \"importance\": 4,\n",
      "        \"category\": \"MolecularFunction\",\n",
      "        \"pmid\": \"15485686\",\n",
      "        \"type\": \"abstract\"\n",
      "    },\n",
      "    {\n",
      "        \"entity\": \"Lidocaine infusion\",\n",
      "        \"importance\": 3,\n",
      "        \"category\": \"Compound\",\n",
      "        \"pmid\": \"15485686\",\n",
      "        \"type\": \"abstract\"\n",
      "    },\n",
      "    {\n",
      "        \"entity\": \"High dose of mexiletine\",\n",
      "        \"importance\": 3,\n",
      "        \"category\": \"Compound\",\n",
      "        \"pmid\": \"15485686\",\n",
      "        \"type\": \"abstract\"\n",
      "    },\n",
      "    {\n",
      "        \"entity\": \"Na(v)1.5 cardiac sodium channel\",\n",
      "        \"importance\": 5,\n",
      "        \"category\": \"Anatomy\",\n",
      "        \"pmid\": \"15485686\",\n",
      "        \"type\": \"abstract\"\n",
      "    },\n",
      "    {\n",
      "        \"entity\": \"Transmembrane segment 6 of domain IV\",\n",
      "        \"importance\": 3,\n",
      "        \"category\": \"CellularComponent\",\n",
      "        \"pmid\": \"15485686\",\n",
      "        \"type\": \"abstract\"\n",
      "    },\n",
      "    {\n",
      "        \"entity\": \"G-->A substitution at codon 1763\",\n",
      "        \"importance\": 4,\n",
      "        \"category\": \"MolecularFunction\",\n",
      "        \"pmid\": \"15485686\",\n",
      "        \"type\": \"abstract\"\n",
      "    },\n",
      "    {\n",
      "        \"entity\": \"Valine (GTG)\",\n",
      "        \"importance\": 2,\n",
      "        \"category\": \"Compound\",\n",
      "        \"pmid\": \"15485686\",\n",
      "        \"type\": \"abstract\"\n",
      "    },\n",
      "    {\n",
      "        \"entity\": \"Methionine (ATG)\",\n",
      "        \"importance\": 2,\n",
      "        \"category\": \"Compound\",\n",
      "        \"pmid\": \"15485686\",\n",
      "        \"type\": \"abstract\"\n",
      "    },\n",
      "    {\n",
      "        \"entity\": \"Persistent tetrodotoxin-sensitive but lidocaine-resistant current\",\n",
      "        \"importance\": 4,\n",
      "        \"category\": \"Metabolite\",\n",
      "        \"pmid\": \"15485686\",\n",
      "        \"type\": \"abstract\"\n",
      "    },\n",
      "    {\n",
      "        \"entity\": \"Positive shift of the steady-state inactivation curve\",\n",
      "        \"importance\": 3,\n",
      "        \"category\": \"BiologicalProcess\",\n",
      "        \"pmid\": \"15485686\",\n",
      "        \"type\": \"abstract\"\n",
      "    },\n",
      "    {\n",
      "        \"entity\": \"Steep activation curve\",\n",
      "        \"importance\": 2,\n",
      "        \"category\": \"BiologicalProcess\",\n",
      "        \"pmid\": \"15485686\",\n",
      "        \"type\": \"abstract\"\n",
      "    },\n",
      "    {\n",
      "        \"entity\": \"Faster recovery from inactivation\",\n",
      "        \"importance\": 3,\n",
      "        \"category\": \"BiologicalProcess\",\n",
      "        \"pmid\": \"15485686\",\n",
      "        \"type\": \"abstract\"\n",
      "    },\n",
      "    {\n",
      "        \"entity\": \"V1764M mutant\",\n",
      "        \"importance\": 3,\n",
      "        \"category\": \"Mutation\",\n",
      "        \"pmid\": \"15485686\",\n",
      "        \"type\": \"abstract\"\n",
      "    },\n",
      "    {\n",
      "        \"entity\": \"I1762A mutant\",\n",
      "        \"importance\": 2,\n",
      "        \"category\": \"Mutation\",\n",
      "        \"pmid\": \"15485686\",\n",
      "        \"type\": \"abstract\"\n",
      "    }\n",
      "]\n"
     ]
    }
   ],
   "source": [
    "for data in datas['test']:\n",
    "    pmid = data['pmid']\n",
    "    passages = data['passages']\n",
    "    entities = data['entities']\n",
    "    abstract = passages[1]['text'][0]\n",
    "    abstract_offset = passages[1]['offsets'][0]\n",
    "    metadata = {\n",
    "        'pmid': pmid,\n",
    "        'type': 'abstract',\n",
    "    }\n",
    "    entities_extracted = extract_concepts(abstract, model=model_name, metadata=metadata)\n",
    "\n",
    "    if entities_extracted:\n",
    "        entities_str = json.dumps(entities_extracted, indent=4)\n",
    "        print(entities_str)\n",
    "    else:\n",
    "        print(\"No entities found.\")\n",
    "    break"
   ]
  },
  {
   "cell_type": "code",
   "execution_count": 19,
   "id": "b8427f45-35f2-4ca4-9ca0-9c3f3eca7302",
   "metadata": {
    "scrolled": true,
    "tags": []
   },
   "outputs": [
    {
     "data": {
      "text/plain": [
       "[{'text': ['SCN5A'],\n",
       "  'offsets': [[8, 13]],\n",
       "  'concept_id': '6331',\n",
       "  'semantic_type_id': 'GeneOrGeneProduct'},\n",
       " {'text': ['long QT syndrome'],\n",
       "  'offsets': [[56, 72]],\n",
       "  'concept_id': 'D008133',\n",
       "  'semantic_type_id': 'DiseaseOrPhenotypicFeature'},\n",
       " {'text': ['tachycardia'],\n",
       "  'offsets': [[97, 108]],\n",
       "  'concept_id': 'D013610',\n",
       "  'semantic_type_id': 'DiseaseOrPhenotypicFeature'},\n",
       " {'text': ['bradycardia'],\n",
       "  'offsets': [[109, 120]],\n",
       "  'concept_id': 'D001919',\n",
       "  'semantic_type_id': 'DiseaseOrPhenotypicFeature'},\n",
       " {'text': ['long QT syndrome'],\n",
       "  'offsets': [[144, 160]],\n",
       "  'concept_id': 'D008133',\n",
       "  'semantic_type_id': 'DiseaseOrPhenotypicFeature'},\n",
       " {'text': ['LQTS'],\n",
       "  'offsets': [[162, 166]],\n",
       "  'concept_id': 'D008133',\n",
       "  'semantic_type_id': 'DiseaseOrPhenotypicFeature'},\n",
       " {'text': ['patient'],\n",
       "  'offsets': [[292, 299]],\n",
       "  'concept_id': '9606',\n",
       "  'semantic_type_id': 'OrganismTaxon'},\n",
       " {'text': ['bradycardia'],\n",
       "  'offsets': [[311, 322]],\n",
       "  'concept_id': 'D001919',\n",
       "  'semantic_type_id': 'DiseaseOrPhenotypicFeature'},\n",
       " {'text': ['atrioventricular block'],\n",
       "  'offsets': [[328, 350]],\n",
       "  'concept_id': 'D054537',\n",
       "  'semantic_type_id': 'DiseaseOrPhenotypicFeature'},\n",
       " {'text': ['ventricular tachycardia'],\n",
       "  'offsets': [[355, 378]],\n",
       "  'concept_id': 'D017180',\n",
       "  'semantic_type_id': 'DiseaseOrPhenotypicFeature'},\n",
       " {'text': ['atrioventricular block'],\n",
       "  'offsets': [[482, 504]],\n",
       "  'concept_id': 'D054537',\n",
       "  'semantic_type_id': 'DiseaseOrPhenotypicFeature'},\n",
       " {'text': ['lidocaine'],\n",
       "  'offsets': [[555, 564]],\n",
       "  'concept_id': 'D008012',\n",
       "  'semantic_type_id': 'ChemicalEntity'},\n",
       " {'text': ['mexiletine'],\n",
       "  'offsets': [[592, 602]],\n",
       "  'concept_id': 'D008801',\n",
       "  'semantic_type_id': 'ChemicalEntity'},\n",
       " {'text': ['ventricular tachycardia'],\n",
       "  'offsets': [[630, 653]],\n",
       "  'concept_id': 'D017180',\n",
       "  'semantic_type_id': 'DiseaseOrPhenotypicFeature'},\n",
       " {'text': ['LQTS'],\n",
       "  'offsets': [[685, 689]],\n",
       "  'concept_id': 'D008133',\n",
       "  'semantic_type_id': 'DiseaseOrPhenotypicFeature'},\n",
       " {'text': ['Na(v)1.5'],\n",
       "  'offsets': [[767, 775]],\n",
       "  'concept_id': '6331',\n",
       "  'semantic_type_id': 'GeneOrGeneProduct'},\n",
       " {'text': ['sodium'],\n",
       "  'offsets': [[784, 790]],\n",
       "  'concept_id': 'D012964',\n",
       "  'semantic_type_id': 'ChemicalEntity'},\n",
       " {'text': ['G-->A substitution at codon 1763'],\n",
       "  'offsets': [[807, 839]],\n",
       "  'concept_id': 'c|SUB|G|CODON1763|A',\n",
       "  'semantic_type_id': 'SequenceVariant'},\n",
       " {'text': ['valine (GTG) to a methionine (ATG)'],\n",
       "  'offsets': [[857, 891]],\n",
       "  'concept_id': 'p|SUB|V||M',\n",
       "  'semantic_type_id': 'SequenceVariant'},\n",
       " {'text': ['tsA201'],\n",
       "  'offsets': [[1018, 1024]],\n",
       "  'concept_id': 'CVCL_2737',\n",
       "  'semantic_type_id': 'CellLine'},\n",
       " {'text': ['tetrodotoxin'],\n",
       "  'offsets': [[1092, 1104]],\n",
       "  'concept_id': 'D013779',\n",
       "  'semantic_type_id': 'ChemicalEntity'},\n",
       " {'text': ['lidocaine'],\n",
       "  'offsets': [[1119, 1128]],\n",
       "  'concept_id': 'D008012',\n",
       "  'semantic_type_id': 'ChemicalEntity'},\n",
       " {'text': ['V1764M'],\n",
       "  'offsets': [[1366, 1372]],\n",
       "  'concept_id': 'p|SUB|V|1764|M',\n",
       "  'semantic_type_id': 'SequenceVariant'},\n",
       " {'text': ['I1762A'],\n",
       "  'offsets': [[1408, 1414]],\n",
       "  'concept_id': 'p|SUB|I|1762|A',\n",
       "  'semantic_type_id': 'SequenceVariant'},\n",
       " {'text': ['Na(v)1.5'],\n",
       "  'offsets': [[1557, 1565]],\n",
       "  'concept_id': '6331',\n",
       "  'semantic_type_id': 'GeneOrGeneProduct'},\n",
       " {'text': ['V1763M'],\n",
       "  'offsets': [[1566, 1572]],\n",
       "  'concept_id': 'p|SUB|V|1763|M',\n",
       "  'semantic_type_id': 'SequenceVariant'},\n",
       " {'text': ['LQTS'],\n",
       "  'offsets': [[1731, 1735]],\n",
       "  'concept_id': 'D008133',\n",
       "  'semantic_type_id': 'DiseaseOrPhenotypicFeature'},\n",
       " {'text': ['arrhythmias'],\n",
       "  'offsets': [[1760, 1771]],\n",
       "  'concept_id': 'D001145',\n",
       "  'semantic_type_id': 'DiseaseOrPhenotypicFeature'},\n",
       " {'text': ['lidocaine'],\n",
       "  'offsets': [[1790, 1799]],\n",
       "  'concept_id': 'D008012',\n",
       "  'semantic_type_id': 'ChemicalEntity'},\n",
       " {'text': ['mexiletine'],\n",
       "  'offsets': [[1804, 1814]],\n",
       "  'concept_id': 'D008801',\n",
       "  'semantic_type_id': 'ChemicalEntity'}]"
      ]
     },
     "execution_count": 19,
     "metadata": {},
     "output_type": "execute_result"
    }
   ],
   "source": [
    "entities"
   ]
  },
  {
   "cell_type": "code",
   "execution_count": 20,
   "id": "dadd8a91-44b9-427a-8a4e-63b5b3f59d3c",
   "metadata": {
    "scrolled": true,
    "tags": []
   },
   "outputs": [
    {
     "data": {
      "text/plain": [
       "{'pmid': '15485686',\n",
       " 'passages': [{'type': 'title',\n",
       "   'text': ['A novel SCN5A mutation manifests as a malignant form of long QT syndrome with perinatal onset of tachycardia/bradycardia.'],\n",
       "   'offsets': [[0, 121]]},\n",
       "  {'type': 'abstract',\n",
       "   'text': ['OBJECTIVE: Congenital long QT syndrome (LQTS) with in utero onset of the rhythm disturbances is associated with a poor prognosis. In this study we investigated a newborn patient with fetal bradycardia, 2:1 atrioventricular block and ventricular tachycardia soon after birth. METHODS: Mutational analysis and DNA sequencing were conducted in a newborn. The 2:1 atrioventricular block improved to 1:1 conduction only after intravenous lidocaine infusion or a high dose of mexiletine, which also controlled the ventricular tachycardia. RESULTS: A novel, spontaneous LQTS-3 mutation was identified in the transmembrane segment 6 of domain IV of the Na(v)1.5 cardiac sodium channel, with a G-->A substitution at codon 1763, which changed a valine (GTG) to a methionine (ATG). The proband was heterozygous but the mutation was absent in the parents and the sister. Expression of this mutant channel in tsA201 mammalian cells by site-directed mutagenesis revealed a persistent tetrodotoxin-sensitive but lidocaine-resistant current that was associated with a positive shift of the steady-state inactivation curve, steeper activation curve and faster recovery from inactivation. We also found a similar electrophysiological profile for the neighboring V1764M mutant. But, the other neighboring I1762A mutant had no persistent current and was still associated with a positive shift of inactivation. CONCLUSIONS: These findings suggest that the Na(v)1.5/V1763M channel dysfunction and possible neighboring mutants contribute to a persistent inward current due to altered inactivation kinetics and clinically congenital LQTS with perinatal onset of arrhythmias that responded to lidocaine and mexiletine.'],\n",
       "   'offsets': [[122, 1815]]}],\n",
       " 'entities': [{'text': ['SCN5A'],\n",
       "   'offsets': [[8, 13]],\n",
       "   'concept_id': '6331',\n",
       "   'semantic_type_id': 'GeneOrGeneProduct'},\n",
       "  {'text': ['long QT syndrome'],\n",
       "   'offsets': [[56, 72]],\n",
       "   'concept_id': 'D008133',\n",
       "   'semantic_type_id': 'DiseaseOrPhenotypicFeature'},\n",
       "  {'text': ['tachycardia'],\n",
       "   'offsets': [[97, 108]],\n",
       "   'concept_id': 'D013610',\n",
       "   'semantic_type_id': 'DiseaseOrPhenotypicFeature'},\n",
       "  {'text': ['bradycardia'],\n",
       "   'offsets': [[109, 120]],\n",
       "   'concept_id': 'D001919',\n",
       "   'semantic_type_id': 'DiseaseOrPhenotypicFeature'},\n",
       "  {'text': ['long QT syndrome'],\n",
       "   'offsets': [[144, 160]],\n",
       "   'concept_id': 'D008133',\n",
       "   'semantic_type_id': 'DiseaseOrPhenotypicFeature'},\n",
       "  {'text': ['LQTS'],\n",
       "   'offsets': [[162, 166]],\n",
       "   'concept_id': 'D008133',\n",
       "   'semantic_type_id': 'DiseaseOrPhenotypicFeature'},\n",
       "  {'text': ['patient'],\n",
       "   'offsets': [[292, 299]],\n",
       "   'concept_id': '9606',\n",
       "   'semantic_type_id': 'OrganismTaxon'},\n",
       "  {'text': ['bradycardia'],\n",
       "   'offsets': [[311, 322]],\n",
       "   'concept_id': 'D001919',\n",
       "   'semantic_type_id': 'DiseaseOrPhenotypicFeature'},\n",
       "  {'text': ['atrioventricular block'],\n",
       "   'offsets': [[328, 350]],\n",
       "   'concept_id': 'D054537',\n",
       "   'semantic_type_id': 'DiseaseOrPhenotypicFeature'},\n",
       "  {'text': ['ventricular tachycardia'],\n",
       "   'offsets': [[355, 378]],\n",
       "   'concept_id': 'D017180',\n",
       "   'semantic_type_id': 'DiseaseOrPhenotypicFeature'},\n",
       "  {'text': ['atrioventricular block'],\n",
       "   'offsets': [[482, 504]],\n",
       "   'concept_id': 'D054537',\n",
       "   'semantic_type_id': 'DiseaseOrPhenotypicFeature'},\n",
       "  {'text': ['lidocaine'],\n",
       "   'offsets': [[555, 564]],\n",
       "   'concept_id': 'D008012',\n",
       "   'semantic_type_id': 'ChemicalEntity'},\n",
       "  {'text': ['mexiletine'],\n",
       "   'offsets': [[592, 602]],\n",
       "   'concept_id': 'D008801',\n",
       "   'semantic_type_id': 'ChemicalEntity'},\n",
       "  {'text': ['ventricular tachycardia'],\n",
       "   'offsets': [[630, 653]],\n",
       "   'concept_id': 'D017180',\n",
       "   'semantic_type_id': 'DiseaseOrPhenotypicFeature'},\n",
       "  {'text': ['LQTS'],\n",
       "   'offsets': [[685, 689]],\n",
       "   'concept_id': 'D008133',\n",
       "   'semantic_type_id': 'DiseaseOrPhenotypicFeature'},\n",
       "  {'text': ['Na(v)1.5'],\n",
       "   'offsets': [[767, 775]],\n",
       "   'concept_id': '6331',\n",
       "   'semantic_type_id': 'GeneOrGeneProduct'},\n",
       "  {'text': ['sodium'],\n",
       "   'offsets': [[784, 790]],\n",
       "   'concept_id': 'D012964',\n",
       "   'semantic_type_id': 'ChemicalEntity'},\n",
       "  {'text': ['G-->A substitution at codon 1763'],\n",
       "   'offsets': [[807, 839]],\n",
       "   'concept_id': 'c|SUB|G|CODON1763|A',\n",
       "   'semantic_type_id': 'SequenceVariant'},\n",
       "  {'text': ['valine (GTG) to a methionine (ATG)'],\n",
       "   'offsets': [[857, 891]],\n",
       "   'concept_id': 'p|SUB|V||M',\n",
       "   'semantic_type_id': 'SequenceVariant'},\n",
       "  {'text': ['tsA201'],\n",
       "   'offsets': [[1018, 1024]],\n",
       "   'concept_id': 'CVCL_2737',\n",
       "   'semantic_type_id': 'CellLine'},\n",
       "  {'text': ['tetrodotoxin'],\n",
       "   'offsets': [[1092, 1104]],\n",
       "   'concept_id': 'D013779',\n",
       "   'semantic_type_id': 'ChemicalEntity'},\n",
       "  {'text': ['lidocaine'],\n",
       "   'offsets': [[1119, 1128]],\n",
       "   'concept_id': 'D008012',\n",
       "   'semantic_type_id': 'ChemicalEntity'},\n",
       "  {'text': ['V1764M'],\n",
       "   'offsets': [[1366, 1372]],\n",
       "   'concept_id': 'p|SUB|V|1764|M',\n",
       "   'semantic_type_id': 'SequenceVariant'},\n",
       "  {'text': ['I1762A'],\n",
       "   'offsets': [[1408, 1414]],\n",
       "   'concept_id': 'p|SUB|I|1762|A',\n",
       "   'semantic_type_id': 'SequenceVariant'},\n",
       "  {'text': ['Na(v)1.5'],\n",
       "   'offsets': [[1557, 1565]],\n",
       "   'concept_id': '6331',\n",
       "   'semantic_type_id': 'GeneOrGeneProduct'},\n",
       "  {'text': ['V1763M'],\n",
       "   'offsets': [[1566, 1572]],\n",
       "   'concept_id': 'p|SUB|V|1763|M',\n",
       "   'semantic_type_id': 'SequenceVariant'},\n",
       "  {'text': ['LQTS'],\n",
       "   'offsets': [[1731, 1735]],\n",
       "   'concept_id': 'D008133',\n",
       "   'semantic_type_id': 'DiseaseOrPhenotypicFeature'},\n",
       "  {'text': ['arrhythmias'],\n",
       "   'offsets': [[1760, 1771]],\n",
       "   'concept_id': 'D001145',\n",
       "   'semantic_type_id': 'DiseaseOrPhenotypicFeature'},\n",
       "  {'text': ['lidocaine'],\n",
       "   'offsets': [[1790, 1799]],\n",
       "   'concept_id': 'D008012',\n",
       "   'semantic_type_id': 'ChemicalEntity'},\n",
       "  {'text': ['mexiletine'],\n",
       "   'offsets': [[1804, 1814]],\n",
       "   'concept_id': 'D008801',\n",
       "   'semantic_type_id': 'ChemicalEntity'}],\n",
       " 'relations': [{'novel': 'Novel',\n",
       "   'type': 'Association',\n",
       "   'concept_1': 'D001919',\n",
       "   'concept_2': '6331'},\n",
       "  {'novel': 'Novel',\n",
       "   'type': 'Positive_Correlation',\n",
       "   'concept_1': 'D001919',\n",
       "   'concept_2': 'p|SUB|V|1763|M'},\n",
       "  {'novel': 'Novel',\n",
       "   'type': 'Association',\n",
       "   'concept_1': 'D013610',\n",
       "   'concept_2': '6331'},\n",
       "  {'novel': 'Novel',\n",
       "   'type': 'Positive_Correlation',\n",
       "   'concept_1': 'D013610',\n",
       "   'concept_2': 'p|SUB|V|1763|M'},\n",
       "  {'novel': 'Novel',\n",
       "   'type': 'Association',\n",
       "   'concept_1': '6331',\n",
       "   'concept_2': 'D001145'},\n",
       "  {'novel': 'No',\n",
       "   'type': 'Negative_Correlation',\n",
       "   'concept_1': 'D001145',\n",
       "   'concept_2': 'D008801'},\n",
       "  {'novel': 'No',\n",
       "   'type': 'Negative_Correlation',\n",
       "   'concept_1': 'D001145',\n",
       "   'concept_2': 'D008012'},\n",
       "  {'novel': 'Novel',\n",
       "   'type': 'Positive_Correlation',\n",
       "   'concept_1': 'p|SUB|V|1763|M',\n",
       "   'concept_2': 'D001145'},\n",
       "  {'novel': 'Novel',\n",
       "   'type': 'Positive_Correlation',\n",
       "   'concept_1': 'p|SUB|V|1763|M',\n",
       "   'concept_2': 'D008133'},\n",
       "  {'novel': 'Novel',\n",
       "   'type': 'Association',\n",
       "   'concept_1': 'D008133',\n",
       "   'concept_2': '6331'},\n",
       "  {'novel': 'Novel',\n",
       "   'type': 'Association',\n",
       "   'concept_1': 'D008133',\n",
       "   'concept_2': 'p|SUB|V||M'},\n",
       "  {'novel': 'Novel',\n",
       "   'type': 'Association',\n",
       "   'concept_1': 'D008133',\n",
       "   'concept_2': 'c|SUB|G|CODON1763|A'},\n",
       "  {'novel': 'No',\n",
       "   'type': 'Negative_Correlation',\n",
       "   'concept_1': 'D008133',\n",
       "   'concept_2': 'D008801'},\n",
       "  {'novel': 'No',\n",
       "   'type': 'Negative_Correlation',\n",
       "   'concept_1': 'D008133',\n",
       "   'concept_2': 'D008012'},\n",
       "  {'novel': 'No',\n",
       "   'type': 'Negative_Correlation',\n",
       "   'concept_1': 'D008801',\n",
       "   'concept_2': 'D017180'},\n",
       "  {'novel': 'No',\n",
       "   'type': 'Negative_Correlation',\n",
       "   'concept_1': 'D008012',\n",
       "   'concept_2': 'D017180'},\n",
       "  {'novel': 'No',\n",
       "   'type': 'Negative_Correlation',\n",
       "   'concept_1': 'D054537',\n",
       "   'concept_2': 'D008801'},\n",
       "  {'novel': 'No',\n",
       "   'type': 'Negative_Correlation',\n",
       "   'concept_1': 'D054537',\n",
       "   'concept_2': 'D008012'}]}"
      ]
     },
     "execution_count": 20,
     "metadata": {},
     "output_type": "execute_result"
    }
   ],
   "source": [
    "data"
   ]
  },
  {
   "cell_type": "code",
   "execution_count": 21,
   "id": "d1b8997e-4bfa-4180-a27d-245ed4ef0493",
   "metadata": {
    "tags": []
   },
   "outputs": [
    {
     "data": {
      "text/plain": [
       "[122, 1815]"
      ]
     },
     "execution_count": 21,
     "metadata": {},
     "output_type": "execute_result"
    }
   ],
   "source": [
    "abstract_offset"
   ]
  },
  {
   "cell_type": "code",
   "execution_count": 22,
   "id": "936e8d88-21be-465d-b483-8202cd5dd037",
   "metadata": {
    "tags": []
   },
   "outputs": [
    {
     "data": {
      "text/plain": [
       "'OBJECTIVE: Congenital long QT syndrome (LQTS) with in utero onset of the rhythm disturbances is associated with a poor prognosis. In this study we investigated a newborn patient with fetal bradycardia, 2:1 atrioventricular block and ventricular tachycardia soon after birth. METHODS: Mutational analysis and DNA sequencing were conducted in a newborn. The 2:1 atrioventricular block improved to 1:1 conduction only after intravenous lidocaine infusion or a high dose of mexiletine, which also controlled the ventricular tachycardia. RESULTS: A novel, spontaneous LQTS-3 mutation was identified in the transmembrane segment 6 of domain IV of the Na(v)1.5 cardiac sodium channel, with a G-->A substitution at codon 1763, which changed a valine (GTG) to a methionine (ATG). The proband was heterozygous but the mutation was absent in the parents and the sister. Expression of this mutant channel in tsA201 mammalian cells by site-directed mutagenesis revealed a persistent tetrodotoxin-sensitive but lidocaine-resistant current that was associated with a positive shift of the steady-state inactivation curve, steeper activation curve and faster recovery from inactivation. We also found a similar electrophysiological profile for the neighboring V1764M mutant. But, the other neighboring I1762A mutant had no persistent current and was still associated with a positive shift of inactivation. CONCLUSIONS: These findings suggest that the Na(v)1.5/V1763M channel dysfunction and possible neighboring mutants contribute to a persistent inward current due to altered inactivation kinetics and clinically congenital LQTS with perinatal onset of arrhythmias that responded to lidocaine and mexiletine.'"
      ]
     },
     "execution_count": 22,
     "metadata": {},
     "output_type": "execute_result"
    }
   ],
   "source": [
    "abstract"
   ]
  },
  {
   "cell_type": "code",
   "execution_count": 23,
   "id": "b9abd114-9df0-4128-8f64-de31bdd3bd8f",
   "metadata": {
    "tags": []
   },
   "outputs": [],
   "source": [
    "def highlight_entities_label(s, start_idx, entities, color='#66CC66'):\n",
    "    left = f\"<span style='background-color: {color}'>\"\n",
    "    right = \"</span>\"\n",
    "    final = \"\"\n",
    "    last_r = 0\n",
    "    for entity in entities:\n",
    "        l, r = entity['offsets'][0]\n",
    "        if not l >= start_idx:\n",
    "            continue\n",
    "        l -= start_idx\n",
    "        r -= start_idx\n",
    "        final += s[last_r:l]\n",
    "        final += left + s[l:r] + right\n",
    "        last_r = r\n",
    "    final += s[r:]\n",
    "    return final"
   ]
  },
  {
   "cell_type": "code",
   "execution_count": 24,
   "id": "9e348e99-504f-42db-9488-dd0c6223843e",
   "metadata": {
    "tags": []
   },
   "outputs": [
    {
     "data": {
      "text/html": [
       "OBJECTIVE: Congenital <span style='background-color: #66CC66'>long QT syndrome</span> (<span style='background-color: #66CC66'>LQTS</span>) with in utero onset of the rhythm disturbances is associated with a poor prognosis. In this study we investigated a newborn <span style='background-color: #66CC66'>patient</span> with fetal <span style='background-color: #66CC66'>bradycardia</span>, 2:1 <span style='background-color: #66CC66'>atrioventricular block</span> and <span style='background-color: #66CC66'>ventricular tachycardia</span> soon after birth. METHODS: Mutational analysis and DNA sequencing were conducted in a newborn. The 2:1 <span style='background-color: #66CC66'>atrioventricular block</span> improved to 1:1 conduction only after intravenous <span style='background-color: #66CC66'>lidocaine</span> infusion or a high dose of <span style='background-color: #66CC66'>mexiletine</span>, which also controlled the <span style='background-color: #66CC66'>ventricular tachycardia</span>. RESULTS: A novel, spontaneous <span style='background-color: #66CC66'>LQTS</span>-3 mutation was identified in the transmembrane segment 6 of domain IV of the <span style='background-color: #66CC66'>Na(v)1.5</span> cardiac <span style='background-color: #66CC66'>sodium</span> channel, with a <span style='background-color: #66CC66'>G-->A substitution at codon 1763</span>, which changed a <span style='background-color: #66CC66'>valine (GTG) to a methionine (ATG)</span>. The proband was heterozygous but the mutation was absent in the parents and the sister. Expression of this mutant channel in <span style='background-color: #66CC66'>tsA201</span> mammalian cells by site-directed mutagenesis revealed a persistent <span style='background-color: #66CC66'>tetrodotoxin</span>-sensitive but <span style='background-color: #66CC66'>lidocaine</span>-resistant current that was associated with a positive shift of the steady-state inactivation curve, steeper activation curve and faster recovery from inactivation. We also found a similar electrophysiological profile for the neighboring <span style='background-color: #66CC66'>V1764M</span> mutant. But, the other neighboring <span style='background-color: #66CC66'>I1762A</span> mutant had no persistent current and was still associated with a positive shift of inactivation. CONCLUSIONS: These findings suggest that the <span style='background-color: #66CC66'>Na(v)1.5</span>/<span style='background-color: #66CC66'>V1763M</span> channel dysfunction and possible neighboring mutants contribute to a persistent inward current due to altered inactivation kinetics and clinically congenital <span style='background-color: #66CC66'>LQTS</span> with perinatal onset of <span style='background-color: #66CC66'>arrhythmias</span> that responded to <span style='background-color: #66CC66'>lidocaine</span> and <span style='background-color: #66CC66'>mexiletine</span>."
      ],
      "text/plain": [
       "<IPython.core.display.HTML object>"
      ]
     },
     "execution_count": 24,
     "metadata": {},
     "output_type": "execute_result"
    }
   ],
   "source": [
    "from IPython.display import HTML\n",
    "\n",
    "label = highlight_entities_label(abstract, abstract_offset[0], entities)\n",
    "HTML(label)"
   ]
  },
  {
   "cell_type": "code",
   "execution_count": 25,
   "id": "dc04aadb-db35-4193-8dc7-4e72bbce8e3f",
   "metadata": {
    "scrolled": true,
    "tags": []
   },
   "outputs": [
    {
     "data": {
      "text/plain": [
       "[{'entity': 'Congenital long QT syndrome (LQTS)',\n",
       "  'importance': 5,\n",
       "  'category': 'Disease',\n",
       "  'pmid': '15485686',\n",
       "  'type': 'abstract'},\n",
       " {'entity': 'In utero onset of rhythm disturbances',\n",
       "  'importance': 3,\n",
       "  'category': 'BiologicalProcess',\n",
       "  'pmid': '15485686',\n",
       "  'type': 'abstract'},\n",
       " {'entity': 'Newborn patient',\n",
       "  'importance': 4,\n",
       "  'category': 'Anatomy',\n",
       "  'pmid': '15485686',\n",
       "  'type': 'abstract'},\n",
       " {'entity': 'Fetal bradycardia',\n",
       "  'importance': 3,\n",
       "  'category': 'Symptom',\n",
       "  'pmid': '15485686',\n",
       "  'type': 'abstract'},\n",
       " {'entity': '2:1 atrioventricular block',\n",
       "  'importance': 4,\n",
       "  'category': 'Pathway',\n",
       "  'pmid': '15485686',\n",
       "  'type': 'abstract'},\n",
       " {'entity': 'Ventricular tachycardia',\n",
       "  'importance': 3,\n",
       "  'category': 'Symptom',\n",
       "  'pmid': '15485686',\n",
       "  'type': 'abstract'},\n",
       " {'entity': 'Mutational analysis and DNA sequencing',\n",
       "  'importance': 4,\n",
       "  'category': 'MolecularFunction',\n",
       "  'pmid': '15485686',\n",
       "  'type': 'abstract'},\n",
       " {'entity': 'Lidocaine infusion',\n",
       "  'importance': 3,\n",
       "  'category': 'Compound',\n",
       "  'pmid': '15485686',\n",
       "  'type': 'abstract'},\n",
       " {'entity': 'High dose of mexiletine',\n",
       "  'importance': 3,\n",
       "  'category': 'Compound',\n",
       "  'pmid': '15485686',\n",
       "  'type': 'abstract'},\n",
       " {'entity': 'Na(v)1.5 cardiac sodium channel',\n",
       "  'importance': 5,\n",
       "  'category': 'Anatomy',\n",
       "  'pmid': '15485686',\n",
       "  'type': 'abstract'},\n",
       " {'entity': 'Transmembrane segment 6 of domain IV',\n",
       "  'importance': 3,\n",
       "  'category': 'CellularComponent',\n",
       "  'pmid': '15485686',\n",
       "  'type': 'abstract'},\n",
       " {'entity': 'G-->A substitution at codon 1763',\n",
       "  'importance': 4,\n",
       "  'category': 'MolecularFunction',\n",
       "  'pmid': '15485686',\n",
       "  'type': 'abstract'},\n",
       " {'entity': 'Valine (GTG)',\n",
       "  'importance': 2,\n",
       "  'category': 'Compound',\n",
       "  'pmid': '15485686',\n",
       "  'type': 'abstract'},\n",
       " {'entity': 'Methionine (ATG)',\n",
       "  'importance': 2,\n",
       "  'category': 'Compound',\n",
       "  'pmid': '15485686',\n",
       "  'type': 'abstract'},\n",
       " {'entity': 'Persistent tetrodotoxin-sensitive but lidocaine-resistant current',\n",
       "  'importance': 4,\n",
       "  'category': 'Metabolite',\n",
       "  'pmid': '15485686',\n",
       "  'type': 'abstract'},\n",
       " {'entity': 'Positive shift of the steady-state inactivation curve',\n",
       "  'importance': 3,\n",
       "  'category': 'BiologicalProcess',\n",
       "  'pmid': '15485686',\n",
       "  'type': 'abstract'},\n",
       " {'entity': 'Steep activation curve',\n",
       "  'importance': 2,\n",
       "  'category': 'BiologicalProcess',\n",
       "  'pmid': '15485686',\n",
       "  'type': 'abstract'},\n",
       " {'entity': 'Faster recovery from inactivation',\n",
       "  'importance': 3,\n",
       "  'category': 'BiologicalProcess',\n",
       "  'pmid': '15485686',\n",
       "  'type': 'abstract'},\n",
       " {'entity': 'V1764M mutant',\n",
       "  'importance': 3,\n",
       "  'category': 'Mutation',\n",
       "  'pmid': '15485686',\n",
       "  'type': 'abstract'},\n",
       " {'entity': 'I1762A mutant',\n",
       "  'importance': 2,\n",
       "  'category': 'Mutation',\n",
       "  'pmid': '15485686',\n",
       "  'type': 'abstract'}]"
      ]
     },
     "execution_count": 25,
     "metadata": {},
     "output_type": "execute_result"
    }
   ],
   "source": [
    "entities_extracted"
   ]
  },
  {
   "cell_type": "code",
   "execution_count": 26,
   "id": "1bf78dc6-55dc-4842-a706-171e672b201c",
   "metadata": {
    "tags": []
   },
   "outputs": [],
   "source": [
    "def highlight_entities_extracted(s, entities, color='#00CCFF'):\n",
    "    import re\n",
    "    left = f\"<span style='background-color: {color}'>\"\n",
    "    right = \"</span>\"\n",
    "    final = s[:]\n",
    "    for entity in entities:\n",
    "        entity_text = entity['entity']\n",
    "        final = re.sub('(?i)'+re.escape(entity_text), lambda m: left+entity_text+right, final)\n",
    "    return final"
   ]
  },
  {
   "cell_type": "code",
   "execution_count": 27,
   "id": "ac1387a0-dd26-42bb-8c66-92917cf93f9f",
   "metadata": {
    "scrolled": true,
    "tags": []
   },
   "outputs": [
    {
     "data": {
      "text/html": [
       "OBJECTIVE: <span style='background-color: #00CCFF'>Congenital long QT syndrome (LQTS)</span> with in utero onset of the rhythm disturbances is associated with a poor prognosis. In this study we investigated a <span style='background-color: #00CCFF'>Newborn patient</span> with <span style='background-color: #00CCFF'>Fetal bradycardia</span>, <span style='background-color: #00CCFF'>2:1 atrioventricular block</span> and <span style='background-color: #00CCFF'>Ventricular tachycardia</span> soon after birth. METHODS: <span style='background-color: #00CCFF'>Mutational analysis and DNA sequencing</span> were conducted in a newborn. The <span style='background-color: #00CCFF'>2:1 atrioventricular block</span> improved to 1:1 conduction only after intravenous <span style='background-color: #00CCFF'>Lidocaine infusion</span> or a <span style='background-color: #00CCFF'>High dose of mexiletine</span>, which also controlled the <span style='background-color: #00CCFF'>Ventricular tachycardia</span>. RESULTS: A novel, spontaneous LQTS-3 mutation was identified in the <span style='background-color: #00CCFF'>Transmembrane segment 6 of domain IV</span> of the <span style='background-color: #00CCFF'>Na(v)1.5 cardiac sodium channel</span>, with a <span style='background-color: #00CCFF'>G-->A substitution at codon 1763</span>, which changed a <span style='background-color: #00CCFF'>Valine (GTG)</span> to a <span style='background-color: #00CCFF'>Methionine (ATG)</span>. The proband was heterozygous but the mutation was absent in the parents and the sister. Expression of this mutant channel in tsA201 mammalian cells by site-directed mutagenesis revealed a <span style='background-color: #00CCFF'>Persistent tetrodotoxin-sensitive but lidocaine-resistant current</span> that was associated with a <span style='background-color: #00CCFF'>Positive shift of the steady-state inactivation curve</span>, steeper activation curve and <span style='background-color: #00CCFF'>Faster recovery from inactivation</span>. We also found a similar electrophysiological profile for the neighboring <span style='background-color: #00CCFF'>V1764M mutant</span>. But, the other neighboring <span style='background-color: #00CCFF'>I1762A mutant</span> had no persistent current and was still associated with a positive shift of inactivation. CONCLUSIONS: These findings suggest that the Na(v)1.5/V1763M channel dysfunction and possible neighboring mutants contribute to a persistent inward current due to altered inactivation kinetics and clinically congenital LQTS with perinatal onset of arrhythmias that responded to lidocaine and mexiletine."
      ],
      "text/plain": [
       "<IPython.core.display.HTML object>"
      ]
     },
     "execution_count": 27,
     "metadata": {},
     "output_type": "execute_result"
    }
   ],
   "source": [
    "predicted = highlight_entities_extracted(abstract, entities_extracted)\n",
    "HTML(predicted)"
   ]
  },
  {
   "cell_type": "code",
   "execution_count": 21,
   "id": "1cfc35ac-d352-4822-b83c-fe663ccd0c43",
   "metadata": {},
   "outputs": [],
   "source": [
    "import re"
   ]
  },
  {
   "cell_type": "code",
   "execution_count": 22,
   "id": "fcaf194f-0ef0-4075-9c93-4a5b160d4109",
   "metadata": {},
   "outputs": [
    {
     "data": {
      "text/plain": [
       "'bye bye bye'"
      ]
     },
     "execution_count": 22,
     "metadata": {},
     "output_type": "execute_result"
    }
   ],
   "source": [
    "re.sub('hello', 'bye', 'hello HeLLo HELLO', flags=re.IGNORECASE)"
   ]
  },
  {
   "cell_type": "code",
   "execution_count": 23,
   "id": "c9c020a2-75da-42df-a7dd-6315cb08b057",
   "metadata": {},
   "outputs": [
    {
     "data": {
      "text/plain": [
       "'Congenital long QT syndrome (LQTS)'"
      ]
     },
     "execution_count": 23,
     "metadata": {},
     "output_type": "execute_result"
    }
   ],
   "source": [
    "re.sub('Congenital long QT syndrome (LQTS)', 'hello', 'Congenital long QT syndrome (LQTS)', flags=re.IGNORECASE)"
   ]
  },
  {
   "cell_type": "code",
   "execution_count": 28,
   "id": "d26199a1-9207-493b-8334-212378e9a2de",
   "metadata": {
    "tags": []
   },
   "outputs": [],
   "source": [
    "confusion_matrix = {\"test\":[0,0,0]}\n",
    "categories = []\n",
    "\n",
    "def match_entity(entity_a, entity_b):\n",
    "    return entity_a['category'] == entity_b['category'] and\\\n",
    "model.query(entity_a['entity'], top_k=1)[2] == model.query(entity_b['entity'], top_k=1)[2]\n",
    "\n",
    "# def macro_avg_f1_score(ans, gt):\n",
    "#     # for sample_ans, sample_gt in zip(ans, gt):\n",
    "#         # for category in categories:\n",
    "#             # get all entities in the category\n",
    "#     # ans_entities = [entity['entity']\n",
    "#     #                 for entity in sample_ans if entity['category'] == category]\n",
    "#     ans_entities = [entity['entity'] for entity in ans]\n",
    "#     # gt_entities = [entity['text']\n",
    "#     #                for entity in sample_gt if entity['category'] == category]\n",
    "#     gt_entities = [entity['text'][0] for entity in gt]\n",
    "#     TP = len(set(ans_entities) & set(gt_entities))\n",
    "#     FP = len(set(ans_entities) - set(gt_entities))\n",
    "#     FN = len(set(gt_entities) - set(ans_entities))\n",
    "#     confusion_matrix[\"test\"][0] += TP\n",
    "#     confusion_matrix[\"test\"][1] += FP\n",
    "#     confusion_matrix[\"test\"][2] += FN\n",
    "#     f1_score = []\n",
    "#     # for category in categories:\n",
    "#     TP, FP, FN = confusion_matrix[\"test\"]\n",
    "#     precision = TP/(TP+FP) if TP+FP else float('nan')\n",
    "#     recall = TP/(TP+FN) if TP+FN else float('nan')\n",
    "#     f1_score.append(2*(precision * recall) / (precision + recall))\n",
    "#     return sum(f1_score) / len(f1_score)\n",
    "\n",
    "# macro_avg_f1_score(entities_extracted, entities)"
   ]
  },
  {
   "cell_type": "code",
   "execution_count": 44,
   "id": "4faa1853-24fe-4d37-8d31-da9fa1f8c1da",
   "metadata": {
    "tags": []
   },
   "outputs": [
    {
     "data": {
      "text/plain": [
       "[{'entity': 'Congenital long QT syndrome (LQTS)',\n",
       "  'importance': 5,\n",
       "  'category': 'Disease',\n",
       "  'pmid': '15485686',\n",
       "  'type': 'abstract'},\n",
       " {'entity': 'In utero onset of rhythm disturbances',\n",
       "  'importance': 3,\n",
       "  'category': 'BiologicalProcess',\n",
       "  'pmid': '15485686',\n",
       "  'type': 'abstract'},\n",
       " {'entity': 'Newborn patient',\n",
       "  'importance': 4,\n",
       "  'category': 'Anatomy',\n",
       "  'pmid': '15485686',\n",
       "  'type': 'abstract'},\n",
       " {'entity': 'Fetal bradycardia',\n",
       "  'importance': 3,\n",
       "  'category': 'Symptom',\n",
       "  'pmid': '15485686',\n",
       "  'type': 'abstract'},\n",
       " {'entity': '2:1 atrioventricular block',\n",
       "  'importance': 4,\n",
       "  'category': 'Pathway',\n",
       "  'pmid': '15485686',\n",
       "  'type': 'abstract'},\n",
       " {'entity': 'Ventricular tachycardia',\n",
       "  'importance': 3,\n",
       "  'category': 'Symptom',\n",
       "  'pmid': '15485686',\n",
       "  'type': 'abstract'},\n",
       " {'entity': 'Mutational analysis and DNA sequencing',\n",
       "  'importance': 4,\n",
       "  'category': 'MolecularFunction',\n",
       "  'pmid': '15485686',\n",
       "  'type': 'abstract'},\n",
       " {'entity': 'Lidocaine infusion',\n",
       "  'importance': 3,\n",
       "  'category': 'Compound',\n",
       "  'pmid': '15485686',\n",
       "  'type': 'abstract'},\n",
       " {'entity': 'High dose of mexiletine',\n",
       "  'importance': 3,\n",
       "  'category': 'Compound',\n",
       "  'pmid': '15485686',\n",
       "  'type': 'abstract'},\n",
       " {'entity': 'Na(v)1.5 cardiac sodium channel',\n",
       "  'importance': 5,\n",
       "  'category': 'Anatomy',\n",
       "  'pmid': '15485686',\n",
       "  'type': 'abstract'},\n",
       " {'entity': 'Transmembrane segment 6 of domain IV',\n",
       "  'importance': 3,\n",
       "  'category': 'CellularComponent',\n",
       "  'pmid': '15485686',\n",
       "  'type': 'abstract'},\n",
       " {'entity': 'G-->A substitution at codon 1763',\n",
       "  'importance': 4,\n",
       "  'category': 'MolecularFunction',\n",
       "  'pmid': '15485686',\n",
       "  'type': 'abstract'},\n",
       " {'entity': 'Valine (GTG)',\n",
       "  'importance': 2,\n",
       "  'category': 'Compound',\n",
       "  'pmid': '15485686',\n",
       "  'type': 'abstract'},\n",
       " {'entity': 'Methionine (ATG)',\n",
       "  'importance': 2,\n",
       "  'category': 'Compound',\n",
       "  'pmid': '15485686',\n",
       "  'type': 'abstract'},\n",
       " {'entity': 'Persistent tetrodotoxin-sensitive but lidocaine-resistant current',\n",
       "  'importance': 4,\n",
       "  'category': 'Metabolite',\n",
       "  'pmid': '15485686',\n",
       "  'type': 'abstract'},\n",
       " {'entity': 'Positive shift of the steady-state inactivation curve',\n",
       "  'importance': 3,\n",
       "  'category': 'BiologicalProcess',\n",
       "  'pmid': '15485686',\n",
       "  'type': 'abstract'},\n",
       " {'entity': 'Steep activation curve',\n",
       "  'importance': 2,\n",
       "  'category': 'BiologicalProcess',\n",
       "  'pmid': '15485686',\n",
       "  'type': 'abstract'},\n",
       " {'entity': 'Faster recovery from inactivation',\n",
       "  'importance': 3,\n",
       "  'category': 'BiologicalProcess',\n",
       "  'pmid': '15485686',\n",
       "  'type': 'abstract'},\n",
       " {'entity': 'V1764M mutant',\n",
       "  'importance': 3,\n",
       "  'category': 'Mutation',\n",
       "  'pmid': '15485686',\n",
       "  'type': 'abstract'},\n",
       " {'entity': 'I1762A mutant',\n",
       "  'importance': 2,\n",
       "  'category': 'Mutation',\n",
       "  'pmid': '15485686',\n",
       "  'type': 'abstract'}]"
      ]
     },
     "execution_count": 44,
     "metadata": {},
     "output_type": "execute_result"
    }
   ],
   "source": [
    "entities_extracted"
   ]
  },
  {
   "cell_type": "code",
   "execution_count": 31,
   "id": "b1edc533-5c0f-4760-8b88-84e142aff668",
   "metadata": {
    "scrolled": true,
    "tags": []
   },
   "outputs": [
    {
     "data": {
      "text/plain": [
       "{'text': ['long QT syndrome'],\n",
       " 'offsets': [[56, 72]],\n",
       " 'concept_id': 'D008133',\n",
       " 'semantic_type_id': 'DiseaseOrPhenotypicFeature'}"
      ]
     },
     "execution_count": 31,
     "metadata": {},
     "output_type": "execute_result"
    }
   ],
   "source": [
    "entities[1]"
   ]
  },
  {
   "cell_type": "code",
   "execution_count": 52,
   "id": "479b757d-8ce3-4a81-bdd2-e880823f8a3c",
   "metadata": {
    "tags": []
   },
   "outputs": [
    {
     "data": {
      "text/plain": [
       "(array([[0.97932327, 0.9789596 , 0.9789596 , 0.97796655, 0.9778704 ,\n",
       "         0.97784853, 0.97774506, 0.9776753 , 0.9774991 , 0.97747386]],\n",
       "       dtype=float32),\n",
       " array([[  5550, 538983, 523573,  24920,   9590,  17247,   6439,  10193,\n",
       "           9472,   9021]]),\n",
       " [5550               long QT syndrome 1\n",
       "  538983    Long QT syndrome congenital\n",
       "  523573    Long QT syndrome congenital\n",
       "  24920     obsolete long QT syndrome 1\n",
       "  9590               long qt syndrome 8\n",
       "  17247              long QT syndrome 6\n",
       "  6439               long QT syndrome 3\n",
       "  10193              long QT syndrome 2\n",
       "  9472              long QT syndrome 13\n",
       "  9021              long QT syndrome 16\n",
       "  Name: name, dtype: object])"
      ]
     },
     "execution_count": 52,
     "metadata": {},
     "output_type": "execute_result"
    }
   ],
   "source": [
    "model.query(entities_extracted[0]['entity'], top_k=10)"
   ]
  },
  {
   "cell_type": "code",
   "execution_count": 50,
   "id": "6273b821-f2c9-462d-8358-65b3a5e29de4",
   "metadata": {
    "tags": []
   },
   "outputs": [
    {
     "data": {
      "text/plain": [
       "(array([[1.0000001 , 1.0000001 , 1.0000001 , 1.        , 0.992821  ,\n",
       "         0.992821  , 0.9922767 , 0.99227667, 0.99184203, 0.99184203]],\n",
       "       dtype=float32),\n",
       " array([[488665,  10879, 535509,    623, 535610, 488926, 538123, 508571,\n",
       "         535508, 466149]]),\n",
       " [488665              Ventricular tachycardia\n",
       "  10879               ventricular tachycardia\n",
       "  535509              Ventricular tachycardia\n",
       "  623                 ventricular tachycardia\n",
       "  535610               Ventricular arrhythmia\n",
       "  488926               Ventricular arrhythmia\n",
       "  538123    Sustained ventricular tachycardia\n",
       "  508571    Sustained ventricular tachycardia\n",
       "  535508             Ventricular fibrillation\n",
       "  466149             Ventricular Fibrillation\n",
       "  Name: name, dtype: object])"
      ]
     },
     "execution_count": 50,
     "metadata": {},
     "output_type": "execute_result"
    }
   ],
   "source": [
    "model.query(\"Ventricular tachycardia\", top_k=10)"
   ]
  },
  {
   "cell_type": "code",
   "execution_count": 51,
   "id": "5e563b1c-fd5b-4a38-9a44-a5518079f50c",
   "metadata": {
    "tags": []
   },
   "outputs": [
    {
     "data": {
      "text/plain": [
       "(array([[1.0000001 , 1.        , 1.        , 1.        , 0.9940371 ,\n",
       "         0.98827636, 0.97789556, 0.97636503, 0.9754645 , 0.9740887 ]],\n",
       "       dtype=float32),\n",
       " array([[534835, 448862,  11832, 486683,  21876,   2749,   9339,  30463,\n",
       "          10193, 429186]]),\n",
       " [534835             Long QT syndrome\n",
       "  448862             Long QT Syndrome\n",
       "  11832              long QT syndrome\n",
       "  486683             Long QT syndrome\n",
       "  21876             short QT syndrome\n",
       "  2749      familial long QT syndrome\n",
       "  9339               Timothy syndrome\n",
       "  30463       Long QT syndrome type 3\n",
       "  10193            long QT syndrome 2\n",
       "  429186             Brugada Syndrome\n",
       "  Name: name, dtype: object])"
      ]
     },
     "execution_count": 51,
     "metadata": {},
     "output_type": "execute_result"
    }
   ],
   "source": [
    "model.query(entities[1]['text'], top_k=10)"
   ]
  },
  {
   "cell_type": "code",
   "execution_count": 46,
   "id": "7e97f848-e842-4287-9c8c-17dfbd474663",
   "metadata": {
    "tags": []
   },
   "outputs": [
    {
     "data": {
      "text/plain": [
       "(array([[1.0000005 , 1.0000005 , 1.0000004 , 1.0000004 , 0.98926437,\n",
       "         0.9892642 , 0.9868732 , 0.9868732 , 0.98687315, 0.98687315]],\n",
       "       dtype=float32),\n",
       " array([[463020,    791, 535387, 488295,    229, 534017, 486324, 444811,\n",
       "         534699,    334]]),\n",
       " [463020    Tachycardia\n",
       "  791       tachycardia\n",
       "  535387    Tachycardia\n",
       "  488295    Tachycardia\n",
       "  229        arrhythmia\n",
       "  534017     Arrhythmia\n",
       "  486324    Hypotension\n",
       "  444811    Hypotension\n",
       "  534699    Hypotension\n",
       "  334       hypotension\n",
       "  Name: name, dtype: object])"
      ]
     },
     "execution_count": 46,
     "metadata": {},
     "output_type": "execute_result"
    }
   ],
   "source": [
    "model.query(entities[2]['text'], top_k=10)"
   ]
  },
  {
   "cell_type": "code",
   "execution_count": 10,
   "id": "658036e5-52f5-4f40-9875-ec8bd370a1fc",
   "metadata": {},
   "outputs": [
    {
     "data": {
      "text/plain": [
       "{'CellLine',\n",
       " 'ChemicalEntity',\n",
       " 'DiseaseOrPhenotypicFeature',\n",
       " 'GeneOrGeneProduct',\n",
       " 'OrganismTaxon',\n",
       " 'SequenceVariant'}"
      ]
     },
     "execution_count": 10,
     "metadata": {},
     "output_type": "execute_result"
    }
   ],
   "source": [
    "set([j['semantic_type_id'] for i in datas[\"test\"] for j in i['entities']])"
   ]
  },
  {
   "cell_type": "code",
   "execution_count": 1,
   "id": "6b5708eb-fc8b-4fa5-86f9-049ca13b1baa",
   "metadata": {
    "tags": []
   },
   "outputs": [
    {
     "name": "stdout",
     "output_type": "stream",
     "text": [
      "Loading model...\n"
     ]
    },
    {
     "name": "stderr",
     "output_type": "stream",
     "text": [
      "Some weights of the model checkpoint at microsoft/BiomedNLP-BiomedBERT-base-uncased-abstract-fulltext were not used when initializing BertModel: ['cls.predictions.transform.dense.bias', 'cls.seq_relationship.bias', 'cls.seq_relationship.weight', 'cls.predictions.transform.LayerNorm.bias', 'cls.predictions.bias', 'cls.predictions.transform.dense.weight', 'cls.predictions.decoder.weight', 'cls.predictions.decoder.bias', 'cls.predictions.transform.LayerNorm.weight']\n",
      "- This IS expected if you are initializing BertModel from the checkpoint of a model trained on another task or with another architecture (e.g. initializing a BertForSequenceClassification model from a BertForPreTraining model).\n",
      "- This IS NOT expected if you are initializing BertModel from the checkpoint of a model that you expect to be exactly identical (initializing a BertForSequenceClassification model from a BertForSequenceClassification model).\n"
     ]
    },
    {
     "name": "stdout",
     "output_type": "stream",
     "text": [
      "Loading index...\n"
     ]
    },
    {
     "name": "stderr",
     "output_type": "stream",
     "text": [
      "/root/text2knowledge/text2knowledge/eval.py:20: DtypeWarning: Columns (6,8) have mixed types. Specify dtype option on import or set low_memory=False.\n",
      "  self.entities = pd.read_csv(db_path, sep='\\t')\n"
     ]
    }
   ],
   "source": [
    "from text2knowledge.eval import BioBERT\n",
    "\n",
    "model = BioBERT(\n",
    "    model_name = 'microsoft/BiomedNLP-BiomedBERT-base-uncased-abstract-fulltext',\n",
    "    index_path = '/root/text2knowledge/data/biovecs.index',\n",
    "    db_path = '/root/text2knowledge/data/entities.tsv'\n",
    ")"
   ]
  },
  {
   "cell_type": "code",
   "execution_count": 2,
   "id": "93760577-332c-4e70-9187-2bf7d563ba2a",
   "metadata": {
    "tags": []
   },
   "outputs": [
    {
     "data": {
      "text/plain": [
       "(array([[0.97932327, 0.9789596 , 0.9789596 , 0.97796655, 0.9778704 ]],\n",
       "       dtype=float32),\n",
       " array([[  5550, 523573, 538983,  24920,   9590]]),\n",
       " [5550               long QT syndrome 1\n",
       "  523573    Long QT syndrome congenital\n",
       "  538983    Long QT syndrome congenital\n",
       "  24920     obsolete long QT syndrome 1\n",
       "  9590               long qt syndrome 8\n",
       "  Name: name, dtype: object])"
      ]
     },
     "execution_count": 2,
     "metadata": {},
     "output_type": "execute_result"
    }
   ],
   "source": [
    "model.query('Congenital long QT syndrome (LQTS)')"
   ]
  },
  {
   "cell_type": "code",
   "execution_count": null,
   "id": "17364ae0-4324-49c1-9b6a-c6933505c04a",
   "metadata": {},
   "outputs": [],
   "source": []
  },
  {
   "cell_type": "code",
   "execution_count": null,
   "id": "f04243a3-f882-4e15-80cd-00c3e9ece689",
   "metadata": {},
   "outputs": [],
   "source": []
  }
 ],
 "metadata": {
  "kernelspec": {
   "display_name": "Python 3 (ipykernel)",
   "language": "python",
   "name": "python3"
  },
  "language_info": {
   "codemirror_mode": {
    "name": "ipython",
    "version": 3
   },
   "file_extension": ".py",
   "mimetype": "text/x-python",
   "name": "python",
   "nbconvert_exporter": "python",
   "pygments_lexer": "ipython3",
   "version": "3.8.10"
  }
 },
 "nbformat": 4,
 "nbformat_minor": 5
}
