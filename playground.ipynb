{
 "cells": [
  {
   "cell_type": "code",
   "execution_count": 4,
   "id": "c1ce6f55-ecf9-4622-ad49-6532cb05cd89",
   "metadata": {
    "tags": []
   },
   "outputs": [
    {
     "name": "stdout",
     "output_type": "stream",
     "text": [
      "huggingface/tokenizers: The current process just got forked, after parallelism has already been used. Disabling parallelism to avoid deadlocks...\n",
      "To disable this warning, you can either:\n",
      "\t- Avoid using `tokenizers` before the fork if possible\n",
      "\t- Explicitly set the environment variable TOKENIZERS_PARALLELISM=(true | false)\n"
     ]
    }
   ],
   "source": [
    "# PROXY\n",
    "import subprocess\n",
    "import os\n",
    "\n",
    "result = subprocess.run('bash -c \"source /etc/network_turbo && env | grep proxy\"', shell=True, capture_output=True, text=True)\n",
    "output = result.stdout\n",
    "for line in output.splitlines():\n",
    "    if '=' in line:\n",
    "        var, value = line.split('=', 1)\n",
    "        os.environ[var] = value"
   ]
  },
  {
   "cell_type": "code",
   "execution_count": 7,
   "id": "f9edd9c1-4f8b-4a55-a54c-ff851b9f383e",
   "metadata": {
    "scrolled": true,
    "tags": []
   },
   "outputs": [
    {
     "name": "stderr",
     "output_type": "stream",
     "text": [
      "/root/miniconda3/lib/python3.8/site-packages/datasets/load.py:1461: FutureWarning: The repository for bigbio/biored contains custom code which must be executed to correctly load the dataset. You can inspect the repository content at https://hf.co/datasets/bigbio/biored\n",
      "You can avoid this message in future by passing the argument `trust_remote_code=True`.\n",
      "Passing `trust_remote_code=True` will be mandatory to load this dataset from the next major release of `datasets`.\n",
      "  warnings.warn(\n"
     ]
    },
    {
     "data": {
      "application/json": {
       "ascii": false,
       "bar_format": null,
       "colour": null,
       "elapsed": 0.00680232048034668,
       "initial": 0,
       "n": 0,
       "ncols": null,
       "nrows": null,
       "postfix": null,
       "prefix": "Downloading builder script",
       "rate": null,
       "total": 13931,
       "unit": "B",
       "unit_divisor": 1000,
       "unit_scale": true
      },
      "application/vnd.jupyter.widget-view+json": {
       "model_id": "aa941fec04c94720b9d2678061a83768",
       "version_major": 2,
       "version_minor": 0
      },
      "text/plain": [
       "Downloading builder script:   0%|          | 0.00/13.9k [00:00<?, ?B/s]"
      ]
     },
     "metadata": {},
     "output_type": "display_data"
    },
    {
     "data": {
      "application/json": {
       "ascii": false,
       "bar_format": null,
       "colour": null,
       "elapsed": 0.008086442947387695,
       "initial": 0,
       "n": 0,
       "ncols": null,
       "nrows": null,
       "postfix": null,
       "prefix": "Downloading readme",
       "rate": null,
       "total": 3783,
       "unit": "B",
       "unit_divisor": 1000,
       "unit_scale": true
      },
      "application/vnd.jupyter.widget-view+json": {
       "model_id": "b4670404d99f4f3dac9d757658d4560c",
       "version_major": 2,
       "version_minor": 0
      },
      "text/plain": [
       "Downloading readme:   0%|          | 0.00/3.78k [00:00<?, ?B/s]"
      ]
     },
     "metadata": {},
     "output_type": "display_data"
    },
    {
     "data": {
      "application/json": {
       "ascii": false,
       "bar_format": null,
       "colour": null,
       "elapsed": 0.009084224700927734,
       "initial": 0,
       "n": 0,
       "ncols": null,
       "nrows": null,
       "postfix": null,
       "prefix": "Downloading extra modules",
       "rate": null,
       "total": 19286,
       "unit": "B",
       "unit_divisor": 1000,
       "unit_scale": true
      },
      "application/vnd.jupyter.widget-view+json": {
       "model_id": "ba468437fe644ea98cb325654483e6a7",
       "version_major": 2,
       "version_minor": 0
      },
      "text/plain": [
       "Downloading extra modules:   0%|          | 0.00/19.3k [00:00<?, ?B/s]"
      ]
     },
     "metadata": {},
     "output_type": "display_data"
    },
    {
     "ename": "ImportError",
     "evalue": "To be able to use bigbio/biored, you need to install the following dependency: bioc.\nPlease install it using 'pip install bioc' for instance.",
     "output_type": "error",
     "traceback": [
      "\u001b[0;31m---------------------------------------------------------------------------\u001b[0m",
      "\u001b[0;31mImportError\u001b[0m                               Traceback (most recent call last)",
      "Cell \u001b[0;32mIn[7], line 2\u001b[0m\n\u001b[1;32m      1\u001b[0m \u001b[38;5;28;01mfrom\u001b[39;00m \u001b[38;5;21;01mdatasets\u001b[39;00m \u001b[38;5;28;01mimport\u001b[39;00m load_dataset\n\u001b[0;32m----> 2\u001b[0m datas \u001b[38;5;241m=\u001b[39m \u001b[43mload_dataset\u001b[49m\u001b[43m(\u001b[49m\u001b[38;5;124;43m\"\u001b[39;49m\u001b[38;5;124;43mbigbio/biored\u001b[39;49m\u001b[38;5;124;43m\"\u001b[39;49m\u001b[43m)\u001b[49m\n",
      "File \u001b[0;32m~/miniconda3/lib/python3.8/site-packages/datasets/load.py:2556\u001b[0m, in \u001b[0;36mload_dataset\u001b[0;34m(path, name, data_dir, data_files, split, cache_dir, features, download_config, download_mode, verification_mode, ignore_verifications, keep_in_memory, save_infos, revision, token, use_auth_token, task, streaming, num_proc, storage_options, trust_remote_code, **config_kwargs)\u001b[0m\n\u001b[1;32m   2551\u001b[0m verification_mode \u001b[38;5;241m=\u001b[39m VerificationMode(\n\u001b[1;32m   2552\u001b[0m     (verification_mode \u001b[38;5;129;01mor\u001b[39;00m VerificationMode\u001b[38;5;241m.\u001b[39mBASIC_CHECKS) \u001b[38;5;28;01mif\u001b[39;00m \u001b[38;5;129;01mnot\u001b[39;00m save_infos \u001b[38;5;28;01melse\u001b[39;00m VerificationMode\u001b[38;5;241m.\u001b[39mALL_CHECKS\n\u001b[1;32m   2553\u001b[0m )\n\u001b[1;32m   2555\u001b[0m \u001b[38;5;66;03m# Create a dataset builder\u001b[39;00m\n\u001b[0;32m-> 2556\u001b[0m builder_instance \u001b[38;5;241m=\u001b[39m \u001b[43mload_dataset_builder\u001b[49m\u001b[43m(\u001b[49m\n\u001b[1;32m   2557\u001b[0m \u001b[43m    \u001b[49m\u001b[43mpath\u001b[49m\u001b[38;5;241;43m=\u001b[39;49m\u001b[43mpath\u001b[49m\u001b[43m,\u001b[49m\n\u001b[1;32m   2558\u001b[0m \u001b[43m    \u001b[49m\u001b[43mname\u001b[49m\u001b[38;5;241;43m=\u001b[39;49m\u001b[43mname\u001b[49m\u001b[43m,\u001b[49m\n\u001b[1;32m   2559\u001b[0m \u001b[43m    \u001b[49m\u001b[43mdata_dir\u001b[49m\u001b[38;5;241;43m=\u001b[39;49m\u001b[43mdata_dir\u001b[49m\u001b[43m,\u001b[49m\n\u001b[1;32m   2560\u001b[0m \u001b[43m    \u001b[49m\u001b[43mdata_files\u001b[49m\u001b[38;5;241;43m=\u001b[39;49m\u001b[43mdata_files\u001b[49m\u001b[43m,\u001b[49m\n\u001b[1;32m   2561\u001b[0m \u001b[43m    \u001b[49m\u001b[43mcache_dir\u001b[49m\u001b[38;5;241;43m=\u001b[39;49m\u001b[43mcache_dir\u001b[49m\u001b[43m,\u001b[49m\n\u001b[1;32m   2562\u001b[0m \u001b[43m    \u001b[49m\u001b[43mfeatures\u001b[49m\u001b[38;5;241;43m=\u001b[39;49m\u001b[43mfeatures\u001b[49m\u001b[43m,\u001b[49m\n\u001b[1;32m   2563\u001b[0m \u001b[43m    \u001b[49m\u001b[43mdownload_config\u001b[49m\u001b[38;5;241;43m=\u001b[39;49m\u001b[43mdownload_config\u001b[49m\u001b[43m,\u001b[49m\n\u001b[1;32m   2564\u001b[0m \u001b[43m    \u001b[49m\u001b[43mdownload_mode\u001b[49m\u001b[38;5;241;43m=\u001b[39;49m\u001b[43mdownload_mode\u001b[49m\u001b[43m,\u001b[49m\n\u001b[1;32m   2565\u001b[0m \u001b[43m    \u001b[49m\u001b[43mrevision\u001b[49m\u001b[38;5;241;43m=\u001b[39;49m\u001b[43mrevision\u001b[49m\u001b[43m,\u001b[49m\n\u001b[1;32m   2566\u001b[0m \u001b[43m    \u001b[49m\u001b[43mtoken\u001b[49m\u001b[38;5;241;43m=\u001b[39;49m\u001b[43mtoken\u001b[49m\u001b[43m,\u001b[49m\n\u001b[1;32m   2567\u001b[0m \u001b[43m    \u001b[49m\u001b[43mstorage_options\u001b[49m\u001b[38;5;241;43m=\u001b[39;49m\u001b[43mstorage_options\u001b[49m\u001b[43m,\u001b[49m\n\u001b[1;32m   2568\u001b[0m \u001b[43m    \u001b[49m\u001b[43mtrust_remote_code\u001b[49m\u001b[38;5;241;43m=\u001b[39;49m\u001b[43mtrust_remote_code\u001b[49m\u001b[43m,\u001b[49m\n\u001b[1;32m   2569\u001b[0m \u001b[43m    \u001b[49m\u001b[43m_require_default_config_name\u001b[49m\u001b[38;5;241;43m=\u001b[39;49m\u001b[43mname\u001b[49m\u001b[43m \u001b[49m\u001b[38;5;129;43;01mis\u001b[39;49;00m\u001b[43m \u001b[49m\u001b[38;5;28;43;01mNone\u001b[39;49;00m\u001b[43m,\u001b[49m\n\u001b[1;32m   2570\u001b[0m \u001b[43m    \u001b[49m\u001b[38;5;241;43m*\u001b[39;49m\u001b[38;5;241;43m*\u001b[39;49m\u001b[43mconfig_kwargs\u001b[49m\u001b[43m,\u001b[49m\n\u001b[1;32m   2571\u001b[0m \u001b[43m\u001b[49m\u001b[43m)\u001b[49m\n\u001b[1;32m   2573\u001b[0m \u001b[38;5;66;03m# Return iterable dataset in case of streaming\u001b[39;00m\n\u001b[1;32m   2574\u001b[0m \u001b[38;5;28;01mif\u001b[39;00m streaming:\n",
      "File \u001b[0;32m~/miniconda3/lib/python3.8/site-packages/datasets/load.py:2228\u001b[0m, in \u001b[0;36mload_dataset_builder\u001b[0;34m(path, name, data_dir, data_files, cache_dir, features, download_config, download_mode, revision, token, use_auth_token, storage_options, trust_remote_code, _require_default_config_name, **config_kwargs)\u001b[0m\n\u001b[1;32m   2226\u001b[0m     download_config \u001b[38;5;241m=\u001b[39m download_config\u001b[38;5;241m.\u001b[39mcopy() \u001b[38;5;28;01mif\u001b[39;00m download_config \u001b[38;5;28;01melse\u001b[39;00m DownloadConfig()\n\u001b[1;32m   2227\u001b[0m     download_config\u001b[38;5;241m.\u001b[39mstorage_options\u001b[38;5;241m.\u001b[39mupdate(storage_options)\n\u001b[0;32m-> 2228\u001b[0m dataset_module \u001b[38;5;241m=\u001b[39m \u001b[43mdataset_module_factory\u001b[49m\u001b[43m(\u001b[49m\n\u001b[1;32m   2229\u001b[0m \u001b[43m    \u001b[49m\u001b[43mpath\u001b[49m\u001b[43m,\u001b[49m\n\u001b[1;32m   2230\u001b[0m \u001b[43m    \u001b[49m\u001b[43mrevision\u001b[49m\u001b[38;5;241;43m=\u001b[39;49m\u001b[43mrevision\u001b[49m\u001b[43m,\u001b[49m\n\u001b[1;32m   2231\u001b[0m \u001b[43m    \u001b[49m\u001b[43mdownload_config\u001b[49m\u001b[38;5;241;43m=\u001b[39;49m\u001b[43mdownload_config\u001b[49m\u001b[43m,\u001b[49m\n\u001b[1;32m   2232\u001b[0m \u001b[43m    \u001b[49m\u001b[43mdownload_mode\u001b[49m\u001b[38;5;241;43m=\u001b[39;49m\u001b[43mdownload_mode\u001b[49m\u001b[43m,\u001b[49m\n\u001b[1;32m   2233\u001b[0m \u001b[43m    \u001b[49m\u001b[43mdata_dir\u001b[49m\u001b[38;5;241;43m=\u001b[39;49m\u001b[43mdata_dir\u001b[49m\u001b[43m,\u001b[49m\n\u001b[1;32m   2234\u001b[0m \u001b[43m    \u001b[49m\u001b[43mdata_files\u001b[49m\u001b[38;5;241;43m=\u001b[39;49m\u001b[43mdata_files\u001b[49m\u001b[43m,\u001b[49m\n\u001b[1;32m   2235\u001b[0m \u001b[43m    \u001b[49m\u001b[43mcache_dir\u001b[49m\u001b[38;5;241;43m=\u001b[39;49m\u001b[43mcache_dir\u001b[49m\u001b[43m,\u001b[49m\n\u001b[1;32m   2236\u001b[0m \u001b[43m    \u001b[49m\u001b[43mtrust_remote_code\u001b[49m\u001b[38;5;241;43m=\u001b[39;49m\u001b[43mtrust_remote_code\u001b[49m\u001b[43m,\u001b[49m\n\u001b[1;32m   2237\u001b[0m \u001b[43m    \u001b[49m\u001b[43m_require_default_config_name\u001b[49m\u001b[38;5;241;43m=\u001b[39;49m\u001b[43m_require_default_config_name\u001b[49m\u001b[43m,\u001b[49m\n\u001b[1;32m   2238\u001b[0m \u001b[43m    \u001b[49m\u001b[43m_require_custom_configs\u001b[49m\u001b[38;5;241;43m=\u001b[39;49m\u001b[38;5;28;43mbool\u001b[39;49m\u001b[43m(\u001b[49m\u001b[43mconfig_kwargs\u001b[49m\u001b[43m)\u001b[49m\u001b[43m,\u001b[49m\n\u001b[1;32m   2239\u001b[0m \u001b[43m\u001b[49m\u001b[43m)\u001b[49m\n\u001b[1;32m   2240\u001b[0m \u001b[38;5;66;03m# Get dataset builder class from the processing script\u001b[39;00m\n\u001b[1;32m   2241\u001b[0m builder_kwargs \u001b[38;5;241m=\u001b[39m dataset_module\u001b[38;5;241m.\u001b[39mbuilder_kwargs\n",
      "File \u001b[0;32m~/miniconda3/lib/python3.8/site-packages/datasets/load.py:1879\u001b[0m, in \u001b[0;36mdataset_module_factory\u001b[0;34m(path, revision, download_config, download_mode, dynamic_modules_path, data_dir, data_files, cache_dir, trust_remote_code, _require_default_config_name, _require_custom_configs, **download_kwargs)\u001b[0m\n\u001b[1;32m   1874\u001b[0m             \u001b[38;5;28;01mif\u001b[39;00m \u001b[38;5;28misinstance\u001b[39m(e1, \u001b[38;5;167;01mFileNotFoundError\u001b[39;00m):\n\u001b[1;32m   1875\u001b[0m                 \u001b[38;5;28;01mraise\u001b[39;00m \u001b[38;5;167;01mFileNotFoundError\u001b[39;00m(\n\u001b[1;32m   1876\u001b[0m                     \u001b[38;5;124mf\u001b[39m\u001b[38;5;124m\"\u001b[39m\u001b[38;5;124mCouldn\u001b[39m\u001b[38;5;124m'\u001b[39m\u001b[38;5;124mt find a dataset script at \u001b[39m\u001b[38;5;132;01m{\u001b[39;00mrelative_to_absolute_path(combined_path)\u001b[38;5;132;01m}\u001b[39;00m\u001b[38;5;124m or any data file in the same directory. \u001b[39m\u001b[38;5;124m\"\u001b[39m\n\u001b[1;32m   1877\u001b[0m                     \u001b[38;5;124mf\u001b[39m\u001b[38;5;124m\"\u001b[39m\u001b[38;5;124mCouldn\u001b[39m\u001b[38;5;124m'\u001b[39m\u001b[38;5;124mt find \u001b[39m\u001b[38;5;124m'\u001b[39m\u001b[38;5;132;01m{\u001b[39;00mpath\u001b[38;5;132;01m}\u001b[39;00m\u001b[38;5;124m'\u001b[39m\u001b[38;5;124m on the Hugging Face Hub either: \u001b[39m\u001b[38;5;132;01m{\u001b[39;00m\u001b[38;5;28mtype\u001b[39m(e1)\u001b[38;5;241m.\u001b[39m\u001b[38;5;18m__name__\u001b[39m\u001b[38;5;132;01m}\u001b[39;00m\u001b[38;5;124m: \u001b[39m\u001b[38;5;132;01m{\u001b[39;00me1\u001b[38;5;132;01m}\u001b[39;00m\u001b[38;5;124m\"\u001b[39m\n\u001b[1;32m   1878\u001b[0m                 ) \u001b[38;5;28;01mfrom\u001b[39;00m \u001b[38;5;28mNone\u001b[39m\n\u001b[0;32m-> 1879\u001b[0m             \u001b[38;5;28;01mraise\u001b[39;00m e1 \u001b[38;5;28;01mfrom\u001b[39;00m \u001b[38;5;28mNone\u001b[39m\n\u001b[1;32m   1880\u001b[0m \u001b[38;5;28;01melse\u001b[39;00m:\n\u001b[1;32m   1881\u001b[0m     \u001b[38;5;28;01mraise\u001b[39;00m \u001b[38;5;167;01mFileNotFoundError\u001b[39;00m(\n\u001b[1;32m   1882\u001b[0m         \u001b[38;5;124mf\u001b[39m\u001b[38;5;124m\"\u001b[39m\u001b[38;5;124mCouldn\u001b[39m\u001b[38;5;124m'\u001b[39m\u001b[38;5;124mt find a dataset script at \u001b[39m\u001b[38;5;132;01m{\u001b[39;00mrelative_to_absolute_path(combined_path)\u001b[38;5;132;01m}\u001b[39;00m\u001b[38;5;124m or any data file in the same directory.\u001b[39m\u001b[38;5;124m\"\u001b[39m\n\u001b[1;32m   1883\u001b[0m     )\n",
      "File \u001b[0;32m~/miniconda3/lib/python3.8/site-packages/datasets/load.py:1845\u001b[0m, in \u001b[0;36mdataset_module_factory\u001b[0;34m(path, revision, download_config, download_mode, dynamic_modules_path, data_dir, data_files, cache_dir, trust_remote_code, _require_default_config_name, _require_custom_configs, **download_kwargs)\u001b[0m\n\u001b[1;32m   1843\u001b[0m             \u001b[38;5;28;01mpass\u001b[39;00m\n\u001b[1;32m   1844\u001b[0m     \u001b[38;5;66;03m# Otherwise we must use the dataset script if the user trusts it\u001b[39;00m\n\u001b[0;32m-> 1845\u001b[0m     \u001b[38;5;28;01mreturn\u001b[39;00m \u001b[43mHubDatasetModuleFactoryWithScript\u001b[49m\u001b[43m(\u001b[49m\n\u001b[1;32m   1846\u001b[0m \u001b[43m        \u001b[49m\u001b[43mpath\u001b[49m\u001b[43m,\u001b[49m\n\u001b[1;32m   1847\u001b[0m \u001b[43m        \u001b[49m\u001b[43mrevision\u001b[49m\u001b[38;5;241;43m=\u001b[39;49m\u001b[43mrevision\u001b[49m\u001b[43m,\u001b[49m\n\u001b[1;32m   1848\u001b[0m \u001b[43m        \u001b[49m\u001b[43mdownload_config\u001b[49m\u001b[38;5;241;43m=\u001b[39;49m\u001b[43mdownload_config\u001b[49m\u001b[43m,\u001b[49m\n\u001b[1;32m   1849\u001b[0m \u001b[43m        \u001b[49m\u001b[43mdownload_mode\u001b[49m\u001b[38;5;241;43m=\u001b[39;49m\u001b[43mdownload_mode\u001b[49m\u001b[43m,\u001b[49m\n\u001b[1;32m   1850\u001b[0m \u001b[43m        \u001b[49m\u001b[43mdynamic_modules_path\u001b[49m\u001b[38;5;241;43m=\u001b[39;49m\u001b[43mdynamic_modules_path\u001b[49m\u001b[43m,\u001b[49m\n\u001b[1;32m   1851\u001b[0m \u001b[43m        \u001b[49m\u001b[43mtrust_remote_code\u001b[49m\u001b[38;5;241;43m=\u001b[39;49m\u001b[43mtrust_remote_code\u001b[49m\u001b[43m,\u001b[49m\n\u001b[1;32m   1852\u001b[0m \u001b[43m    \u001b[49m\u001b[43m)\u001b[49m\u001b[38;5;241;43m.\u001b[39;49m\u001b[43mget_module\u001b[49m\u001b[43m(\u001b[49m\u001b[43m)\u001b[49m\n\u001b[1;32m   1853\u001b[0m \u001b[38;5;28;01melse\u001b[39;00m:\n\u001b[1;32m   1854\u001b[0m     \u001b[38;5;28;01mreturn\u001b[39;00m HubDatasetModuleFactoryWithoutScript(\n\u001b[1;32m   1855\u001b[0m         path,\n\u001b[1;32m   1856\u001b[0m         revision\u001b[38;5;241m=\u001b[39mrevision,\n\u001b[0;32m   (...)\u001b[0m\n\u001b[1;32m   1860\u001b[0m         download_mode\u001b[38;5;241m=\u001b[39mdownload_mode,\n\u001b[1;32m   1861\u001b[0m     )\u001b[38;5;241m.\u001b[39mget_module()\n",
      "File \u001b[0;32m~/miniconda3/lib/python3.8/site-packages/datasets/load.py:1473\u001b[0m, in \u001b[0;36mHubDatasetModuleFactoryWithScript.get_module\u001b[0;34m(self)\u001b[0m\n\u001b[1;32m   1471\u001b[0m dataset_readme_path \u001b[38;5;241m=\u001b[39m \u001b[38;5;28mself\u001b[39m\u001b[38;5;241m.\u001b[39mdownload_dataset_readme_file()\n\u001b[1;32m   1472\u001b[0m imports \u001b[38;5;241m=\u001b[39m get_imports(local_path)\n\u001b[0;32m-> 1473\u001b[0m local_imports \u001b[38;5;241m=\u001b[39m \u001b[43m_download_additional_modules\u001b[49m\u001b[43m(\u001b[49m\n\u001b[1;32m   1474\u001b[0m \u001b[43m    \u001b[49m\u001b[43mname\u001b[49m\u001b[38;5;241;43m=\u001b[39;49m\u001b[38;5;28;43mself\u001b[39;49m\u001b[38;5;241;43m.\u001b[39;49m\u001b[43mname\u001b[49m\u001b[43m,\u001b[49m\n\u001b[1;32m   1475\u001b[0m \u001b[43m    \u001b[49m\u001b[43mbase_path\u001b[49m\u001b[38;5;241;43m=\u001b[39;49m\u001b[43mhf_hub_url\u001b[49m\u001b[43m(\u001b[49m\u001b[38;5;28;43mself\u001b[39;49m\u001b[38;5;241;43m.\u001b[39;49m\u001b[43mname\u001b[49m\u001b[43m,\u001b[49m\u001b[43m \u001b[49m\u001b[38;5;124;43m\"\u001b[39;49m\u001b[38;5;124;43m\"\u001b[39;49m\u001b[43m,\u001b[49m\u001b[43m \u001b[49m\u001b[43mrevision\u001b[49m\u001b[38;5;241;43m=\u001b[39;49m\u001b[38;5;28;43mself\u001b[39;49m\u001b[38;5;241;43m.\u001b[39;49m\u001b[43mrevision\u001b[49m\u001b[43m)\u001b[49m\u001b[43m,\u001b[49m\n\u001b[1;32m   1476\u001b[0m \u001b[43m    \u001b[49m\u001b[43mimports\u001b[49m\u001b[38;5;241;43m=\u001b[39;49m\u001b[43mimports\u001b[49m\u001b[43m,\u001b[49m\n\u001b[1;32m   1477\u001b[0m \u001b[43m    \u001b[49m\u001b[43mdownload_config\u001b[49m\u001b[38;5;241;43m=\u001b[39;49m\u001b[38;5;28;43mself\u001b[39;49m\u001b[38;5;241;43m.\u001b[39;49m\u001b[43mdownload_config\u001b[49m\u001b[43m,\u001b[49m\n\u001b[1;32m   1478\u001b[0m \u001b[43m\u001b[49m\u001b[43m)\u001b[49m\n\u001b[1;32m   1479\u001b[0m additional_files \u001b[38;5;241m=\u001b[39m []\n\u001b[1;32m   1480\u001b[0m \u001b[38;5;28;01mif\u001b[39;00m dataset_infos_path:\n",
      "File \u001b[0;32m~/miniconda3/lib/python3.8/site-packages/datasets/load.py:349\u001b[0m, in \u001b[0;36m_download_additional_modules\u001b[0;34m(name, base_path, imports, download_config)\u001b[0m\n\u001b[1;32m    347\u001b[0m     \u001b[38;5;28;01mif\u001b[39;00m \u001b[38;5;124m\"\u001b[39m\u001b[38;5;124mBio\u001b[39m\u001b[38;5;124m\"\u001b[39m \u001b[38;5;129;01min\u001b[39;00m needs_to_be_installed\u001b[38;5;241m.\u001b[39mkeys():\n\u001b[1;32m    348\u001b[0m         needs_to_be_installed[\u001b[38;5;124m\"\u001b[39m\u001b[38;5;124mBio\u001b[39m\u001b[38;5;124m\"\u001b[39m] \u001b[38;5;241m=\u001b[39m \u001b[38;5;124m\"\u001b[39m\u001b[38;5;124mbiopython\u001b[39m\u001b[38;5;124m\"\u001b[39m\n\u001b[0;32m--> 349\u001b[0m     \u001b[38;5;28;01mraise\u001b[39;00m \u001b[38;5;167;01mImportError\u001b[39;00m(\n\u001b[1;32m    350\u001b[0m         \u001b[38;5;124mf\u001b[39m\u001b[38;5;124m\"\u001b[39m\u001b[38;5;124mTo be able to use \u001b[39m\u001b[38;5;132;01m{\u001b[39;00mname\u001b[38;5;132;01m}\u001b[39;00m\u001b[38;5;124m, you need to install the following \u001b[39m\u001b[38;5;132;01m{\u001b[39;00m_dependencies_str\u001b[38;5;132;01m}\u001b[39;00m\u001b[38;5;124m: \u001b[39m\u001b[38;5;124m\"\u001b[39m\n\u001b[1;32m    351\u001b[0m         \u001b[38;5;124mf\u001b[39m\u001b[38;5;124m\"\u001b[39m\u001b[38;5;132;01m{\u001b[39;00m\u001b[38;5;124m'\u001b[39m\u001b[38;5;124m, \u001b[39m\u001b[38;5;124m'\u001b[39m\u001b[38;5;241m.\u001b[39mjoin(needs_to_be_installed)\u001b[38;5;132;01m}\u001b[39;00m\u001b[38;5;124m.\u001b[39m\u001b[38;5;130;01m\\n\u001b[39;00m\u001b[38;5;124mPlease install \u001b[39m\u001b[38;5;132;01m{\u001b[39;00m_them_str\u001b[38;5;132;01m}\u001b[39;00m\u001b[38;5;124m using \u001b[39m\u001b[38;5;124m'\u001b[39m\u001b[38;5;124mpip install \u001b[39m\u001b[38;5;124m\"\u001b[39m\n\u001b[1;32m    352\u001b[0m         \u001b[38;5;124mf\u001b[39m\u001b[38;5;124m\"\u001b[39m\u001b[38;5;132;01m{\u001b[39;00m\u001b[38;5;124m'\u001b[39m\u001b[38;5;124m \u001b[39m\u001b[38;5;124m'\u001b[39m\u001b[38;5;241m.\u001b[39mjoin(needs_to_be_installed\u001b[38;5;241m.\u001b[39mvalues())\u001b[38;5;132;01m}\u001b[39;00m\u001b[38;5;124m'\u001b[39m\u001b[38;5;124m for instance.\u001b[39m\u001b[38;5;124m\"\u001b[39m\n\u001b[1;32m    353\u001b[0m     )\n\u001b[1;32m    354\u001b[0m \u001b[38;5;28;01mreturn\u001b[39;00m local_imports\n",
      "\u001b[0;31mImportError\u001b[0m: To be able to use bigbio/biored, you need to install the following dependency: bioc.\nPlease install it using 'pip install bioc' for instance."
     ]
    }
   ],
   "source": [
    "from datasets import load_dataset\n",
    "datas = load_dataset(\"bigbio/biored\")"
   ]
  },
  {
   "cell_type": "code",
   "execution_count": 8,
   "id": "c105b026-4498-48e2-965d-35b9bada910f",
   "metadata": {
    "tags": []
   },
   "outputs": [],
   "source": [
    "from text2knowledge.strategy1 import extract_concepts\n",
    "\n",
    "import json"
   ]
  },
  {
   "cell_type": "code",
   "execution_count": 9,
   "id": "10471132-0e44-4beb-959b-49a3226f7aa1",
   "metadata": {
    "tags": []
   },
   "outputs": [],
   "source": [
    "model_name = 'mistral:latest'"
   ]
  },
  {
   "cell_type": "code",
   "execution_count": 10,
   "id": "b7f0ac51-d307-4951-856a-eb0a77e18cb4",
   "metadata": {
    "scrolled": true,
    "tags": []
   },
   "outputs": [
    {
     "ename": "NameError",
     "evalue": "name 'datas' is not defined",
     "output_type": "error",
     "traceback": [
      "\u001b[0;31m---------------------------------------------------------------------------\u001b[0m",
      "\u001b[0;31mNameError\u001b[0m                                 Traceback (most recent call last)",
      "Cell \u001b[0;32mIn[10], line 1\u001b[0m\n\u001b[0;32m----> 1\u001b[0m \u001b[38;5;28;01mfor\u001b[39;00m data \u001b[38;5;129;01min\u001b[39;00m \u001b[43mdatas\u001b[49m[\u001b[38;5;124m'\u001b[39m\u001b[38;5;124mtest\u001b[39m\u001b[38;5;124m'\u001b[39m]:\n\u001b[1;32m      2\u001b[0m     pmid \u001b[38;5;241m=\u001b[39m data[\u001b[38;5;124m'\u001b[39m\u001b[38;5;124mpmid\u001b[39m\u001b[38;5;124m'\u001b[39m]\n\u001b[1;32m      3\u001b[0m     passages \u001b[38;5;241m=\u001b[39m data[\u001b[38;5;124m'\u001b[39m\u001b[38;5;124mpassages\u001b[39m\u001b[38;5;124m'\u001b[39m]\n",
      "\u001b[0;31mNameError\u001b[0m: name 'datas' is not defined"
     ]
    }
   ],
   "source": [
    "for data in datas['test']:\n",
    "    pmid = data['pmid']\n",
    "    passages = data['passages']\n",
    "    entities = data['entities']\n",
    "    abstract = passages[1]['text'][0]\n",
    "    abstract_offset = passages[1]['offsets'][0]\n",
    "    metadata = {\n",
    "        'pmid': pmid,\n",
    "        'type': 'abstract',\n",
    "    }\n",
    "    entities_extracted = extract_concepts(abstract, model=model_name, metadata=metadata)\n",
    "\n",
    "    if entities_extracted:\n",
    "        entities_str = json.dumps(entities_extracted, indent=4)\n",
    "        print(entities_str)\n",
    "    else:\n",
    "        print(\"No entities found.\")\n",
    "    break"
   ]
  },
  {
   "cell_type": "code",
   "execution_count": 3,
   "id": "b8427f45-35f2-4ca4-9ca0-9c3f3eca7302",
   "metadata": {
    "scrolled": true,
    "tags": []
   },
   "outputs": [
    {
     "ename": "NameError",
     "evalue": "name 'entities' is not defined",
     "output_type": "error",
     "traceback": [
      "\u001b[0;31m---------------------------------------------------------------------------\u001b[0m",
      "\u001b[0;31mNameError\u001b[0m                                 Traceback (most recent call last)",
      "Cell \u001b[0;32mIn[3], line 1\u001b[0m\n\u001b[0;32m----> 1\u001b[0m \u001b[43mentities\u001b[49m\n",
      "\u001b[0;31mNameError\u001b[0m: name 'entities' is not defined"
     ]
    }
   ],
   "source": [
    "entities"
   ]
  },
  {
   "cell_type": "code",
   "execution_count": 15,
   "id": "dadd8a91-44b9-427a-8a4e-63b5b3f59d3c",
   "metadata": {
    "scrolled": true
   },
   "outputs": [
    {
     "data": {
      "text/plain": [
       "{'pmid': '15485686',\n",
       " 'passages': [{'type': 'title',\n",
       "   'text': ['A novel SCN5A mutation manifests as a malignant form of long QT syndrome with perinatal onset of tachycardia/bradycardia.'],\n",
       "   'offsets': [[0, 121]]},\n",
       "  {'type': 'abstract',\n",
       "   'text': ['OBJECTIVE: Congenital long QT syndrome (LQTS) with in utero onset of the rhythm disturbances is associated with a poor prognosis. In this study we investigated a newborn patient with fetal bradycardia, 2:1 atrioventricular block and ventricular tachycardia soon after birth. METHODS: Mutational analysis and DNA sequencing were conducted in a newborn. The 2:1 atrioventricular block improved to 1:1 conduction only after intravenous lidocaine infusion or a high dose of mexiletine, which also controlled the ventricular tachycardia. RESULTS: A novel, spontaneous LQTS-3 mutation was identified in the transmembrane segment 6 of domain IV of the Na(v)1.5 cardiac sodium channel, with a G-->A substitution at codon 1763, which changed a valine (GTG) to a methionine (ATG). The proband was heterozygous but the mutation was absent in the parents and the sister. Expression of this mutant channel in tsA201 mammalian cells by site-directed mutagenesis revealed a persistent tetrodotoxin-sensitive but lidocaine-resistant current that was associated with a positive shift of the steady-state inactivation curve, steeper activation curve and faster recovery from inactivation. We also found a similar electrophysiological profile for the neighboring V1764M mutant. But, the other neighboring I1762A mutant had no persistent current and was still associated with a positive shift of inactivation. CONCLUSIONS: These findings suggest that the Na(v)1.5/V1763M channel dysfunction and possible neighboring mutants contribute to a persistent inward current due to altered inactivation kinetics and clinically congenital LQTS with perinatal onset of arrhythmias that responded to lidocaine and mexiletine.'],\n",
       "   'offsets': [[122, 1815]]}],\n",
       " 'entities': [{'text': ['SCN5A'],\n",
       "   'offsets': [[8, 13]],\n",
       "   'concept_id': '6331',\n",
       "   'semantic_type_id': 'GeneOrGeneProduct'},\n",
       "  {'text': ['long QT syndrome'],\n",
       "   'offsets': [[56, 72]],\n",
       "   'concept_id': 'D008133',\n",
       "   'semantic_type_id': 'DiseaseOrPhenotypicFeature'},\n",
       "  {'text': ['tachycardia'],\n",
       "   'offsets': [[97, 108]],\n",
       "   'concept_id': 'D013610',\n",
       "   'semantic_type_id': 'DiseaseOrPhenotypicFeature'},\n",
       "  {'text': ['bradycardia'],\n",
       "   'offsets': [[109, 120]],\n",
       "   'concept_id': 'D001919',\n",
       "   'semantic_type_id': 'DiseaseOrPhenotypicFeature'},\n",
       "  {'text': ['long QT syndrome'],\n",
       "   'offsets': [[144, 160]],\n",
       "   'concept_id': 'D008133',\n",
       "   'semantic_type_id': 'DiseaseOrPhenotypicFeature'},\n",
       "  {'text': ['LQTS'],\n",
       "   'offsets': [[162, 166]],\n",
       "   'concept_id': 'D008133',\n",
       "   'semantic_type_id': 'DiseaseOrPhenotypicFeature'},\n",
       "  {'text': ['patient'],\n",
       "   'offsets': [[292, 299]],\n",
       "   'concept_id': '9606',\n",
       "   'semantic_type_id': 'OrganismTaxon'},\n",
       "  {'text': ['bradycardia'],\n",
       "   'offsets': [[311, 322]],\n",
       "   'concept_id': 'D001919',\n",
       "   'semantic_type_id': 'DiseaseOrPhenotypicFeature'},\n",
       "  {'text': ['atrioventricular block'],\n",
       "   'offsets': [[328, 350]],\n",
       "   'concept_id': 'D054537',\n",
       "   'semantic_type_id': 'DiseaseOrPhenotypicFeature'},\n",
       "  {'text': ['ventricular tachycardia'],\n",
       "   'offsets': [[355, 378]],\n",
       "   'concept_id': 'D017180',\n",
       "   'semantic_type_id': 'DiseaseOrPhenotypicFeature'},\n",
       "  {'text': ['atrioventricular block'],\n",
       "   'offsets': [[482, 504]],\n",
       "   'concept_id': 'D054537',\n",
       "   'semantic_type_id': 'DiseaseOrPhenotypicFeature'},\n",
       "  {'text': ['lidocaine'],\n",
       "   'offsets': [[555, 564]],\n",
       "   'concept_id': 'D008012',\n",
       "   'semantic_type_id': 'ChemicalEntity'},\n",
       "  {'text': ['mexiletine'],\n",
       "   'offsets': [[592, 602]],\n",
       "   'concept_id': 'D008801',\n",
       "   'semantic_type_id': 'ChemicalEntity'},\n",
       "  {'text': ['ventricular tachycardia'],\n",
       "   'offsets': [[630, 653]],\n",
       "   'concept_id': 'D017180',\n",
       "   'semantic_type_id': 'DiseaseOrPhenotypicFeature'},\n",
       "  {'text': ['LQTS'],\n",
       "   'offsets': [[685, 689]],\n",
       "   'concept_id': 'D008133',\n",
       "   'semantic_type_id': 'DiseaseOrPhenotypicFeature'},\n",
       "  {'text': ['Na(v)1.5'],\n",
       "   'offsets': [[767, 775]],\n",
       "   'concept_id': '6331',\n",
       "   'semantic_type_id': 'GeneOrGeneProduct'},\n",
       "  {'text': ['sodium'],\n",
       "   'offsets': [[784, 790]],\n",
       "   'concept_id': 'D012964',\n",
       "   'semantic_type_id': 'ChemicalEntity'},\n",
       "  {'text': ['G-->A substitution at codon 1763'],\n",
       "   'offsets': [[807, 839]],\n",
       "   'concept_id': 'c|SUB|G|CODON1763|A',\n",
       "   'semantic_type_id': 'SequenceVariant'},\n",
       "  {'text': ['valine (GTG) to a methionine (ATG)'],\n",
       "   'offsets': [[857, 891]],\n",
       "   'concept_id': 'p|SUB|V||M',\n",
       "   'semantic_type_id': 'SequenceVariant'},\n",
       "  {'text': ['tsA201'],\n",
       "   'offsets': [[1018, 1024]],\n",
       "   'concept_id': 'CVCL_2737',\n",
       "   'semantic_type_id': 'CellLine'},\n",
       "  {'text': ['tetrodotoxin'],\n",
       "   'offsets': [[1092, 1104]],\n",
       "   'concept_id': 'D013779',\n",
       "   'semantic_type_id': 'ChemicalEntity'},\n",
       "  {'text': ['lidocaine'],\n",
       "   'offsets': [[1119, 1128]],\n",
       "   'concept_id': 'D008012',\n",
       "   'semantic_type_id': 'ChemicalEntity'},\n",
       "  {'text': ['V1764M'],\n",
       "   'offsets': [[1366, 1372]],\n",
       "   'concept_id': 'p|SUB|V|1764|M',\n",
       "   'semantic_type_id': 'SequenceVariant'},\n",
       "  {'text': ['I1762A'],\n",
       "   'offsets': [[1408, 1414]],\n",
       "   'concept_id': 'p|SUB|I|1762|A',\n",
       "   'semantic_type_id': 'SequenceVariant'},\n",
       "  {'text': ['Na(v)1.5'],\n",
       "   'offsets': [[1557, 1565]],\n",
       "   'concept_id': '6331',\n",
       "   'semantic_type_id': 'GeneOrGeneProduct'},\n",
       "  {'text': ['V1763M'],\n",
       "   'offsets': [[1566, 1572]],\n",
       "   'concept_id': 'p|SUB|V|1763|M',\n",
       "   'semantic_type_id': 'SequenceVariant'},\n",
       "  {'text': ['LQTS'],\n",
       "   'offsets': [[1731, 1735]],\n",
       "   'concept_id': 'D008133',\n",
       "   'semantic_type_id': 'DiseaseOrPhenotypicFeature'},\n",
       "  {'text': ['arrhythmias'],\n",
       "   'offsets': [[1760, 1771]],\n",
       "   'concept_id': 'D001145',\n",
       "   'semantic_type_id': 'DiseaseOrPhenotypicFeature'},\n",
       "  {'text': ['lidocaine'],\n",
       "   'offsets': [[1790, 1799]],\n",
       "   'concept_id': 'D008012',\n",
       "   'semantic_type_id': 'ChemicalEntity'},\n",
       "  {'text': ['mexiletine'],\n",
       "   'offsets': [[1804, 1814]],\n",
       "   'concept_id': 'D008801',\n",
       "   'semantic_type_id': 'ChemicalEntity'}],\n",
       " 'relations': [{'novel': 'Novel',\n",
       "   'type': 'Association',\n",
       "   'concept_1': 'D001919',\n",
       "   'concept_2': '6331'},\n",
       "  {'novel': 'Novel',\n",
       "   'type': 'Positive_Correlation',\n",
       "   'concept_1': 'D001919',\n",
       "   'concept_2': 'p|SUB|V|1763|M'},\n",
       "  {'novel': 'Novel',\n",
       "   'type': 'Association',\n",
       "   'concept_1': 'D013610',\n",
       "   'concept_2': '6331'},\n",
       "  {'novel': 'Novel',\n",
       "   'type': 'Positive_Correlation',\n",
       "   'concept_1': 'D013610',\n",
       "   'concept_2': 'p|SUB|V|1763|M'},\n",
       "  {'novel': 'Novel',\n",
       "   'type': 'Association',\n",
       "   'concept_1': '6331',\n",
       "   'concept_2': 'D001145'},\n",
       "  {'novel': 'No',\n",
       "   'type': 'Negative_Correlation',\n",
       "   'concept_1': 'D001145',\n",
       "   'concept_2': 'D008801'},\n",
       "  {'novel': 'No',\n",
       "   'type': 'Negative_Correlation',\n",
       "   'concept_1': 'D001145',\n",
       "   'concept_2': 'D008012'},\n",
       "  {'novel': 'Novel',\n",
       "   'type': 'Positive_Correlation',\n",
       "   'concept_1': 'p|SUB|V|1763|M',\n",
       "   'concept_2': 'D001145'},\n",
       "  {'novel': 'Novel',\n",
       "   'type': 'Positive_Correlation',\n",
       "   'concept_1': 'p|SUB|V|1763|M',\n",
       "   'concept_2': 'D008133'},\n",
       "  {'novel': 'Novel',\n",
       "   'type': 'Association',\n",
       "   'concept_1': 'D008133',\n",
       "   'concept_2': '6331'},\n",
       "  {'novel': 'Novel',\n",
       "   'type': 'Association',\n",
       "   'concept_1': 'D008133',\n",
       "   'concept_2': 'p|SUB|V||M'},\n",
       "  {'novel': 'Novel',\n",
       "   'type': 'Association',\n",
       "   'concept_1': 'D008133',\n",
       "   'concept_2': 'c|SUB|G|CODON1763|A'},\n",
       "  {'novel': 'No',\n",
       "   'type': 'Negative_Correlation',\n",
       "   'concept_1': 'D008133',\n",
       "   'concept_2': 'D008801'},\n",
       "  {'novel': 'No',\n",
       "   'type': 'Negative_Correlation',\n",
       "   'concept_1': 'D008133',\n",
       "   'concept_2': 'D008012'},\n",
       "  {'novel': 'No',\n",
       "   'type': 'Negative_Correlation',\n",
       "   'concept_1': 'D008801',\n",
       "   'concept_2': 'D017180'},\n",
       "  {'novel': 'No',\n",
       "   'type': 'Negative_Correlation',\n",
       "   'concept_1': 'D008012',\n",
       "   'concept_2': 'D017180'},\n",
       "  {'novel': 'No',\n",
       "   'type': 'Negative_Correlation',\n",
       "   'concept_1': 'D054537',\n",
       "   'concept_2': 'D008801'},\n",
       "  {'novel': 'No',\n",
       "   'type': 'Negative_Correlation',\n",
       "   'concept_1': 'D054537',\n",
       "   'concept_2': 'D008012'}]}"
      ]
     },
     "execution_count": 15,
     "metadata": {},
     "output_type": "execute_result"
    }
   ],
   "source": [
    "data"
   ]
  },
  {
   "cell_type": "code",
   "execution_count": 33,
   "id": "d1b8997e-4bfa-4180-a27d-245ed4ef0493",
   "metadata": {},
   "outputs": [
    {
     "data": {
      "text/plain": [
       "[122, 1815]"
      ]
     },
     "execution_count": 33,
     "metadata": {},
     "output_type": "execute_result"
    }
   ],
   "source": [
    "abstract_offset"
   ]
  },
  {
   "cell_type": "code",
   "execution_count": 16,
   "id": "936e8d88-21be-465d-b483-8202cd5dd037",
   "metadata": {},
   "outputs": [
    {
     "data": {
      "text/plain": [
       "'OBJECTIVE: Congenital long QT syndrome (LQTS) with in utero onset of the rhythm disturbances is associated with a poor prognosis. In this study we investigated a newborn patient with fetal bradycardia, 2:1 atrioventricular block and ventricular tachycardia soon after birth. METHODS: Mutational analysis and DNA sequencing were conducted in a newborn. The 2:1 atrioventricular block improved to 1:1 conduction only after intravenous lidocaine infusion or a high dose of mexiletine, which also controlled the ventricular tachycardia. RESULTS: A novel, spontaneous LQTS-3 mutation was identified in the transmembrane segment 6 of domain IV of the Na(v)1.5 cardiac sodium channel, with a G-->A substitution at codon 1763, which changed a valine (GTG) to a methionine (ATG). The proband was heterozygous but the mutation was absent in the parents and the sister. Expression of this mutant channel in tsA201 mammalian cells by site-directed mutagenesis revealed a persistent tetrodotoxin-sensitive but lidocaine-resistant current that was associated with a positive shift of the steady-state inactivation curve, steeper activation curve and faster recovery from inactivation. We also found a similar electrophysiological profile for the neighboring V1764M mutant. But, the other neighboring I1762A mutant had no persistent current and was still associated with a positive shift of inactivation. CONCLUSIONS: These findings suggest that the Na(v)1.5/V1763M channel dysfunction and possible neighboring mutants contribute to a persistent inward current due to altered inactivation kinetics and clinically congenital LQTS with perinatal onset of arrhythmias that responded to lidocaine and mexiletine.'"
      ]
     },
     "execution_count": 16,
     "metadata": {},
     "output_type": "execute_result"
    }
   ],
   "source": [
    "abstract"
   ]
  },
  {
   "cell_type": "code",
   "execution_count": 17,
   "id": "b9abd114-9df0-4128-8f64-de31bdd3bd8f",
   "metadata": {},
   "outputs": [],
   "source": [
    "def highlight_entities_label(s, start_idx, entities, color='#66CC66'):\n",
    "    left = f\"<span style='background-color: {color}'>\"\n",
    "    right = \"</span>\"\n",
    "    final = \"\"\n",
    "    last_r = 0\n",
    "    for entity in entities:\n",
    "        l, r = entity['offsets'][0]\n",
    "        if not l >= start_idx:\n",
    "            continue\n",
    "        l -= start_idx\n",
    "        r -= start_idx\n",
    "        final += s[last_r:l]\n",
    "        final += left + s[l:r] + right\n",
    "        last_r = r\n",
    "    final += s[r:]\n",
    "    return final"
   ]
  },
  {
   "cell_type": "code",
   "execution_count": 18,
   "id": "9e348e99-504f-42db-9488-dd0c6223843e",
   "metadata": {},
   "outputs": [
    {
     "data": {
      "text/html": [
       "OBJECTIVE: Congenital <span style='background-color: #66CC66'>long QT syndrome</span> (<span style='background-color: #66CC66'>LQTS</span>) with in utero onset of the rhythm disturbances is associated with a poor prognosis. In this study we investigated a newborn <span style='background-color: #66CC66'>patient</span> with fetal <span style='background-color: #66CC66'>bradycardia</span>, 2:1 <span style='background-color: #66CC66'>atrioventricular block</span> and <span style='background-color: #66CC66'>ventricular tachycardia</span> soon after birth. METHODS: Mutational analysis and DNA sequencing were conducted in a newborn. The 2:1 <span style='background-color: #66CC66'>atrioventricular block</span> improved to 1:1 conduction only after intravenous <span style='background-color: #66CC66'>lidocaine</span> infusion or a high dose of <span style='background-color: #66CC66'>mexiletine</span>, which also controlled the <span style='background-color: #66CC66'>ventricular tachycardia</span>. RESULTS: A novel, spontaneous <span style='background-color: #66CC66'>LQTS</span>-3 mutation was identified in the transmembrane segment 6 of domain IV of the <span style='background-color: #66CC66'>Na(v)1.5</span> cardiac <span style='background-color: #66CC66'>sodium</span> channel, with a <span style='background-color: #66CC66'>G-->A substitution at codon 1763</span>, which changed a <span style='background-color: #66CC66'>valine (GTG) to a methionine (ATG)</span>. The proband was heterozygous but the mutation was absent in the parents and the sister. Expression of this mutant channel in <span style='background-color: #66CC66'>tsA201</span> mammalian cells by site-directed mutagenesis revealed a persistent <span style='background-color: #66CC66'>tetrodotoxin</span>-sensitive but <span style='background-color: #66CC66'>lidocaine</span>-resistant current that was associated with a positive shift of the steady-state inactivation curve, steeper activation curve and faster recovery from inactivation. We also found a similar electrophysiological profile for the neighboring <span style='background-color: #66CC66'>V1764M</span> mutant. But, the other neighboring <span style='background-color: #66CC66'>I1762A</span> mutant had no persistent current and was still associated with a positive shift of inactivation. CONCLUSIONS: These findings suggest that the <span style='background-color: #66CC66'>Na(v)1.5</span>/<span style='background-color: #66CC66'>V1763M</span> channel dysfunction and possible neighboring mutants contribute to a persistent inward current due to altered inactivation kinetics and clinically congenital <span style='background-color: #66CC66'>LQTS</span> with perinatal onset of <span style='background-color: #66CC66'>arrhythmias</span> that responded to <span style='background-color: #66CC66'>lidocaine</span> and <span style='background-color: #66CC66'>mexiletine</span>."
      ],
      "text/plain": [
       "<IPython.core.display.HTML object>"
      ]
     },
     "execution_count": 18,
     "metadata": {},
     "output_type": "execute_result"
    }
   ],
   "source": [
    "from IPython.display import HTML\n",
    "\n",
    "label = highlight_entities_label(abstract, abstract_offset[0], entities)\n",
    "HTML(label)"
   ]
  },
  {
   "cell_type": "code",
   "execution_count": 19,
   "id": "dc04aadb-db35-4193-8dc7-4e72bbce8e3f",
   "metadata": {
    "scrolled": true
   },
   "outputs": [
    {
     "data": {
      "text/plain": [
       "[{'entity': 'Congenital long QT syndrome (LQTS)',\n",
       "  'importance': 5,\n",
       "  'category': 'Disease',\n",
       "  'pmid': '15485686',\n",
       "  'type': 'abstract'},\n",
       " {'entity': 'In utero onset',\n",
       "  'importance': 3,\n",
       "  'category': 'BiologicalProcess',\n",
       "  'pmid': '15485686',\n",
       "  'type': 'abstract'},\n",
       " {'entity': 'Rhythm disturbances',\n",
       "  'importance': 3,\n",
       "  'category': 'BiologicalProcess',\n",
       "  'pmid': '15485686',\n",
       "  'type': 'abstract'},\n",
       " {'entity': 'Newborn patient',\n",
       "  'importance': 4,\n",
       "  'category': 'Anatomy',\n",
       "  'pmid': '15485686',\n",
       "  'type': 'abstract'},\n",
       " {'entity': 'Fetal bradycardia',\n",
       "  'importance': 3,\n",
       "  'category': 'Symptom',\n",
       "  'pmid': '15485686',\n",
       "  'type': 'abstract'},\n",
       " {'entity': '2:1 atrioventricular block',\n",
       "  'importance': 4,\n",
       "  'category': 'Pathway',\n",
       "  'pmid': '15485686',\n",
       "  'type': 'abstract'},\n",
       " {'entity': 'Ventricular tachycardia',\n",
       "  'importance': 3,\n",
       "  'category': 'Symptom',\n",
       "  'pmid': '15485686',\n",
       "  'type': 'abstract'},\n",
       " {'entity': 'Na(v)1.5 cardiac sodium channel',\n",
       "  'importance': 5,\n",
       "  'category': 'Protein',\n",
       "  'pmid': '15485686',\n",
       "  'type': 'abstract'},\n",
       " {'entity': 'Transmembrane segment 6 of domain IV',\n",
       "  'importance': 4,\n",
       "  'category': 'Anatomy',\n",
       "  'pmid': '15485686',\n",
       "  'type': 'abstract'},\n",
       " {'entity': 'G-->A substitution at codon 1763',\n",
       "  'importance': 3,\n",
       "  'category': 'Mutation',\n",
       "  'pmid': '15485686',\n",
       "  'type': 'abstract'},\n",
       " {'entity': 'Valine (GTG)',\n",
       "  'importance': 2,\n",
       "  'category': 'AminoAcid',\n",
       "  'pmid': '15485686',\n",
       "  'type': 'abstract'},\n",
       " {'entity': 'Methionine (ATG)',\n",
       "  'importance': 2,\n",
       "  'category': 'AminoAcid',\n",
       "  'pmid': '15485686',\n",
       "  'type': 'abstract'},\n",
       " {'entity': 'Lidocaine',\n",
       "  'importance': 3,\n",
       "  'category': 'Compound',\n",
       "  'pmid': '15485686',\n",
       "  'type': 'abstract'},\n",
       " {'entity': 'Mexiletine',\n",
       "  'importance': 3,\n",
       "  'category': 'Compound',\n",
       "  'pmid': '15485686',\n",
       "  'type': 'abstract'},\n",
       " {'entity': 'Persistent tetrodotoxin-sensitive current',\n",
       "  'importance': 3,\n",
       "  'category': 'Metabolite',\n",
       "  'pmid': '15485686',\n",
       "  'type': 'abstract'},\n",
       " {'entity': 'Positive shift of the steady-state inactivation curve',\n",
       "  'importance': 3,\n",
       "  'category': 'BiologicalProcess',\n",
       "  'pmid': '15485686',\n",
       "  'type': 'abstract'},\n",
       " {'entity': 'Steeper activation curve',\n",
       "  'importance': 3,\n",
       "  'category': 'BiologicalProcess',\n",
       "  'pmid': '15485686',\n",
       "  'type': 'abstract'},\n",
       " {'entity': 'Faster recovery from inactivation',\n",
       "  'importance': 3,\n",
       "  'category': 'BiologicalProcess',\n",
       "  'pmid': '15485686',\n",
       "  'type': 'abstract'}]"
      ]
     },
     "execution_count": 19,
     "metadata": {},
     "output_type": "execute_result"
    }
   ],
   "source": [
    "entities_extracted"
   ]
  },
  {
   "cell_type": "code",
   "execution_count": 20,
   "id": "1bf78dc6-55dc-4842-a706-171e672b201c",
   "metadata": {},
   "outputs": [],
   "source": [
    "def highlight_entities_extracted(s, entities, color='#00CCFF'):\n",
    "    import re\n",
    "    left = f\"<span style='background-color: {color}'>\"\n",
    "    right = \"</span>\"\n",
    "    final = s[:]\n",
    "    for entity in entities:\n",
    "        entity_text = entity['entity']\n",
    "        final = re.sub('(?i)'+re.escape(entity_text), lambda m: left+entity_text+right, final)\n",
    "    return final"
   ]
  },
  {
   "cell_type": "code",
   "execution_count": 47,
   "id": "ac1387a0-dd26-42bb-8c66-92917cf93f9f",
   "metadata": {
    "scrolled": true
   },
   "outputs": [
    {
     "data": {
      "text/html": [
       "OBJECTIVE: <span style='background-color: #00CCFF'>Congenital long QT syndrome (LQTS)</span> with <span style='background-color: #00CCFF'>In utero onset</span> of the <span style='background-color: #00CCFF'>Rhythm disturbances</span> is associated with a <span style='background-color: #00CCFF'>Poor prognosis</span>. In this study we investigated a newborn patient with <span style='background-color: #00CCFF'>Fetal bradycardia</span>, <span style='background-color: #00CCFF'>2:1 atrioventricular block</span> and <span style='background-color: #00CCFF'>Ventricular tachycardia</span> soon after birth. METHODS: <span style='background-color: #00CCFF'>Mutational analysis</span> and <span style='background-color: #00CCFF'>DNA sequencing</span> were conducted in a newborn. The <span style='background-color: #00CCFF'>2:1 atrioventricular block</span> improved to 1:1 conduction only after intravenous <span style='background-color: #00CCFF'>Lidocaine infusion</span> or a high dose of <span style='background-color: #00CCFF'>Mexiletine</span>, which also controlled the <span style='background-color: #00CCFF'>Ventricular tachycardia</span>. RESULTS: A novel, spontaneous LQTS-3 mutation was identified in the <span style='background-color: #00CCFF'>Transmembrane segment 6 of domain IV</span> of the <span style='background-color: #00CCFF'>Na(v)1.5 cardiac sodium channel</span>, with a <span style='background-color: #00CCFF'>G-->A substitution at codon 1763</span>, which changed a <span style='background-color: #00CCFF'>Valine (GTG)</span> to a <span style='background-color: #00CCFF'>Methionine (ATG)</span>. The proband was heterozygous but the mutation was absent in the parents and the sister. Expression of this mutant channel in <span style='background-color: #00CCFF'>tsA201 mammalian cells</span> by <span style='background-color: #00CCFF'>Site-directed mutagenesis</span> revealed a <span style='background-color: #00CCFF'>Persistent tetrodotoxin-sensitive but lidocaine-resistant current</span> that was associated with a <span style='background-color: #00CCFF'>Positive shift of the steady-state inactivation curve</span>, <span style='background-color: #00CCFF'>Steeper activation curve</span> and <span style='background-color: #00CCFF'>Faster recovery from inactivation</span>. We also found a similar electrophysiological profile for the neighboring V1764M mutant. But, the other neighboring I1762A mutant had no persistent current and was still associated with a positive shift of inactivation. CONCLUSIONS: These findings suggest that the Na(v)1.5/V1763M channel dysfunction and possible neighboring mutants contribute to a persistent inward current due to altered inactivation kinetics and clinically congenital LQTS with perinatal onset of arrhythmias that responded to lidocaine and <span style='background-color: #00CCFF'>Mexiletine</span>."
      ],
      "text/plain": [
       "<IPython.core.display.HTML object>"
      ]
     },
     "execution_count": 47,
     "metadata": {},
     "output_type": "execute_result"
    }
   ],
   "source": [
    "predicted = highlight_entities_extracted(abstract, entities_extracted)\n",
    "HTML(predicted)"
   ]
  },
  {
   "cell_type": "code",
   "execution_count": 21,
   "id": "1cfc35ac-d352-4822-b83c-fe663ccd0c43",
   "metadata": {},
   "outputs": [],
   "source": [
    "import re"
   ]
  },
  {
   "cell_type": "code",
   "execution_count": 22,
   "id": "fcaf194f-0ef0-4075-9c93-4a5b160d4109",
   "metadata": {},
   "outputs": [
    {
     "data": {
      "text/plain": [
       "'bye bye bye'"
      ]
     },
     "execution_count": 22,
     "metadata": {},
     "output_type": "execute_result"
    }
   ],
   "source": [
    "re.sub('hello', 'bye', 'hello HeLLo HELLO', flags=re.IGNORECASE)"
   ]
  },
  {
   "cell_type": "code",
   "execution_count": 23,
   "id": "c9c020a2-75da-42df-a7dd-6315cb08b057",
   "metadata": {},
   "outputs": [
    {
     "data": {
      "text/plain": [
       "'Congenital long QT syndrome (LQTS)'"
      ]
     },
     "execution_count": 23,
     "metadata": {},
     "output_type": "execute_result"
    }
   ],
   "source": [
    "re.sub('Congenital long QT syndrome (LQTS)', 'hello', 'Congenital long QT syndrome (LQTS)', flags=re.IGNORECASE)"
   ]
  },
  {
   "cell_type": "code",
   "execution_count": 6,
   "id": "d26199a1-9207-493b-8334-212378e9a2de",
   "metadata": {
    "tags": []
   },
   "outputs": [],
   "source": [
    "confusion_matrix = {\"test\":[0,0,0]}\n",
    "categories = []\n",
    "\n",
    "def match_entity(entity_a, entity_b):\n",
    "    return entity_a['type'] == entity_b['type'] and\\\n",
    "model.query(entity_a['text'], top_k=1)[2] == model.query(entity_b['text'], top_k=1)[2]\n",
    "\n",
    "# def macro_avg_f1_score(ans, gt):\n",
    "#     # for sample_ans, sample_gt in zip(ans, gt):\n",
    "#         # for category in categories:\n",
    "#             # get all entities in the category\n",
    "#     # ans_entities = [entity['entity']\n",
    "#     #                 for entity in sample_ans if entity['category'] == category]\n",
    "#     ans_entities = [entity['entity'] for entity in ans]\n",
    "#     # gt_entities = [entity['text']\n",
    "#     #                for entity in sample_gt if entity['category'] == category]\n",
    "#     gt_entities = [entity['text'][0] for entity in gt]\n",
    "#     TP = len(set(ans_entities) & set(gt_entities))\n",
    "#     FP = len(set(ans_entities) - set(gt_entities))\n",
    "#     FN = len(set(gt_entities) - set(ans_entities))\n",
    "#     confusion_matrix[\"test\"][0] += TP\n",
    "#     confusion_matrix[\"test\"][1] += FP\n",
    "#     confusion_matrix[\"test\"][2] += FN\n",
    "#     f1_score = []\n",
    "#     # for category in categories:\n",
    "#     TP, FP, FN = confusion_matrix[\"test\"]\n",
    "#     precision = TP/(TP+FP) if TP+FP else float('nan')\n",
    "#     recall = TP/(TP+FN) if TP+FN else float('nan')\n",
    "#     f1_score.append(2*(precision * recall) / (precision + recall))\n",
    "#     return sum(f1_score) / len(f1_score)\n",
    "\n",
    "# macro_avg_f1_score(entities_extracted, entities)"
   ]
  },
  {
   "cell_type": "code",
   "execution_count": null,
   "id": "4faa1853-24fe-4d37-8d31-da9fa1f8c1da",
   "metadata": {},
   "outputs": [],
   "source": []
  },
  {
   "cell_type": "code",
   "execution_count": 24,
   "id": "b1edc533-5c0f-4760-8b88-84e142aff668",
   "metadata": {
    "scrolled": true
   },
   "outputs": [
    {
     "data": {
      "text/plain": [
       "[{'text': ['SCN5A'],\n",
       "  'offsets': [[8, 13]],\n",
       "  'concept_id': '6331',\n",
       "  'semantic_type_id': 'GeneOrGeneProduct'},\n",
       " {'text': ['long QT syndrome'],\n",
       "  'offsets': [[56, 72]],\n",
       "  'concept_id': 'D008133',\n",
       "  'semantic_type_id': 'DiseaseOrPhenotypicFeature'},\n",
       " {'text': ['tachycardia'],\n",
       "  'offsets': [[97, 108]],\n",
       "  'concept_id': 'D013610',\n",
       "  'semantic_type_id': 'DiseaseOrPhenotypicFeature'},\n",
       " {'text': ['bradycardia'],\n",
       "  'offsets': [[109, 120]],\n",
       "  'concept_id': 'D001919',\n",
       "  'semantic_type_id': 'DiseaseOrPhenotypicFeature'},\n",
       " {'text': ['long QT syndrome'],\n",
       "  'offsets': [[144, 160]],\n",
       "  'concept_id': 'D008133',\n",
       "  'semantic_type_id': 'DiseaseOrPhenotypicFeature'},\n",
       " {'text': ['LQTS'],\n",
       "  'offsets': [[162, 166]],\n",
       "  'concept_id': 'D008133',\n",
       "  'semantic_type_id': 'DiseaseOrPhenotypicFeature'},\n",
       " {'text': ['patient'],\n",
       "  'offsets': [[292, 299]],\n",
       "  'concept_id': '9606',\n",
       "  'semantic_type_id': 'OrganismTaxon'},\n",
       " {'text': ['bradycardia'],\n",
       "  'offsets': [[311, 322]],\n",
       "  'concept_id': 'D001919',\n",
       "  'semantic_type_id': 'DiseaseOrPhenotypicFeature'},\n",
       " {'text': ['atrioventricular block'],\n",
       "  'offsets': [[328, 350]],\n",
       "  'concept_id': 'D054537',\n",
       "  'semantic_type_id': 'DiseaseOrPhenotypicFeature'},\n",
       " {'text': ['ventricular tachycardia'],\n",
       "  'offsets': [[355, 378]],\n",
       "  'concept_id': 'D017180',\n",
       "  'semantic_type_id': 'DiseaseOrPhenotypicFeature'},\n",
       " {'text': ['atrioventricular block'],\n",
       "  'offsets': [[482, 504]],\n",
       "  'concept_id': 'D054537',\n",
       "  'semantic_type_id': 'DiseaseOrPhenotypicFeature'},\n",
       " {'text': ['lidocaine'],\n",
       "  'offsets': [[555, 564]],\n",
       "  'concept_id': 'D008012',\n",
       "  'semantic_type_id': 'ChemicalEntity'},\n",
       " {'text': ['mexiletine'],\n",
       "  'offsets': [[592, 602]],\n",
       "  'concept_id': 'D008801',\n",
       "  'semantic_type_id': 'ChemicalEntity'},\n",
       " {'text': ['ventricular tachycardia'],\n",
       "  'offsets': [[630, 653]],\n",
       "  'concept_id': 'D017180',\n",
       "  'semantic_type_id': 'DiseaseOrPhenotypicFeature'},\n",
       " {'text': ['LQTS'],\n",
       "  'offsets': [[685, 689]],\n",
       "  'concept_id': 'D008133',\n",
       "  'semantic_type_id': 'DiseaseOrPhenotypicFeature'},\n",
       " {'text': ['Na(v)1.5'],\n",
       "  'offsets': [[767, 775]],\n",
       "  'concept_id': '6331',\n",
       "  'semantic_type_id': 'GeneOrGeneProduct'},\n",
       " {'text': ['sodium'],\n",
       "  'offsets': [[784, 790]],\n",
       "  'concept_id': 'D012964',\n",
       "  'semantic_type_id': 'ChemicalEntity'},\n",
       " {'text': ['G-->A substitution at codon 1763'],\n",
       "  'offsets': [[807, 839]],\n",
       "  'concept_id': 'c|SUB|G|CODON1763|A',\n",
       "  'semantic_type_id': 'SequenceVariant'},\n",
       " {'text': ['valine (GTG) to a methionine (ATG)'],\n",
       "  'offsets': [[857, 891]],\n",
       "  'concept_id': 'p|SUB|V||M',\n",
       "  'semantic_type_id': 'SequenceVariant'},\n",
       " {'text': ['tsA201'],\n",
       "  'offsets': [[1018, 1024]],\n",
       "  'concept_id': 'CVCL_2737',\n",
       "  'semantic_type_id': 'CellLine'},\n",
       " {'text': ['tetrodotoxin'],\n",
       "  'offsets': [[1092, 1104]],\n",
       "  'concept_id': 'D013779',\n",
       "  'semantic_type_id': 'ChemicalEntity'},\n",
       " {'text': ['lidocaine'],\n",
       "  'offsets': [[1119, 1128]],\n",
       "  'concept_id': 'D008012',\n",
       "  'semantic_type_id': 'ChemicalEntity'},\n",
       " {'text': ['V1764M'],\n",
       "  'offsets': [[1366, 1372]],\n",
       "  'concept_id': 'p|SUB|V|1764|M',\n",
       "  'semantic_type_id': 'SequenceVariant'},\n",
       " {'text': ['I1762A'],\n",
       "  'offsets': [[1408, 1414]],\n",
       "  'concept_id': 'p|SUB|I|1762|A',\n",
       "  'semantic_type_id': 'SequenceVariant'},\n",
       " {'text': ['Na(v)1.5'],\n",
       "  'offsets': [[1557, 1565]],\n",
       "  'concept_id': '6331',\n",
       "  'semantic_type_id': 'GeneOrGeneProduct'},\n",
       " {'text': ['V1763M'],\n",
       "  'offsets': [[1566, 1572]],\n",
       "  'concept_id': 'p|SUB|V|1763|M',\n",
       "  'semantic_type_id': 'SequenceVariant'},\n",
       " {'text': ['LQTS'],\n",
       "  'offsets': [[1731, 1735]],\n",
       "  'concept_id': 'D008133',\n",
       "  'semantic_type_id': 'DiseaseOrPhenotypicFeature'},\n",
       " {'text': ['arrhythmias'],\n",
       "  'offsets': [[1760, 1771]],\n",
       "  'concept_id': 'D001145',\n",
       "  'semantic_type_id': 'DiseaseOrPhenotypicFeature'},\n",
       " {'text': ['lidocaine'],\n",
       "  'offsets': [[1790, 1799]],\n",
       "  'concept_id': 'D008012',\n",
       "  'semantic_type_id': 'ChemicalEntity'},\n",
       " {'text': ['mexiletine'],\n",
       "  'offsets': [[1804, 1814]],\n",
       "  'concept_id': 'D008801',\n",
       "  'semantic_type_id': 'ChemicalEntity'}]"
      ]
     },
     "execution_count": 24,
     "metadata": {},
     "output_type": "execute_result"
    }
   ],
   "source": [
    "entities"
   ]
  },
  {
   "cell_type": "code",
   "execution_count": 48,
   "id": "479b757d-8ce3-4a81-bdd2-e880823f8a3c",
   "metadata": {},
   "outputs": [
    {
     "data": {
      "text/plain": [
       "[{'entity': 'Congenital long QT syndrome (LQTS)',\n",
       "  'importance': 5,\n",
       "  'category': 'Disease',\n",
       "  'pmid': '15485686',\n",
       "  'type': 'abstract'},\n",
       " {'entity': 'In utero onset',\n",
       "  'importance': 3,\n",
       "  'category': 'BiologicalProcess',\n",
       "  'pmid': '15485686',\n",
       "  'type': 'abstract'},\n",
       " {'entity': 'Rhythm disturbances',\n",
       "  'importance': 4,\n",
       "  'category': 'BiologicalProcess',\n",
       "  'pmid': '15485686',\n",
       "  'type': 'abstract'},\n",
       " {'entity': 'Poor prognosis',\n",
       "  'importance': 3,\n",
       "  'category': 'Symptom',\n",
       "  'pmid': '15485686',\n",
       "  'type': 'abstract'},\n",
       " {'entity': 'Fetal bradycardia',\n",
       "  'importance': 4,\n",
       "  'category': 'Symptom',\n",
       "  'pmid': '15485686',\n",
       "  'type': 'abstract'},\n",
       " {'entity': '2:1 atrioventricular block',\n",
       "  'importance': 4,\n",
       "  'category': 'Anatomy',\n",
       "  'pmid': '15485686',\n",
       "  'type': 'abstract'},\n",
       " {'entity': 'Ventricular tachycardia',\n",
       "  'importance': 4,\n",
       "  'category': 'Symptom',\n",
       "  'pmid': '15485686',\n",
       "  'type': 'abstract'},\n",
       " {'entity': 'Mutational analysis',\n",
       "  'importance': 3,\n",
       "  'category': 'MolecularFunction',\n",
       "  'pmid': '15485686',\n",
       "  'type': 'abstract'},\n",
       " {'entity': 'DNA sequencing',\n",
       "  'importance': 3,\n",
       "  'category': 'MolecularFunction',\n",
       "  'pmid': '15485686',\n",
       "  'type': 'abstract'},\n",
       " {'entity': 'Lidocaine infusion',\n",
       "  'importance': 3,\n",
       "  'category': 'Compound',\n",
       "  'pmid': '15485686',\n",
       "  'type': 'abstract'},\n",
       " {'entity': 'Mexiletine',\n",
       "  'importance': 3,\n",
       "  'category': 'Compound',\n",
       "  'pmid': '15485686',\n",
       "  'type': 'abstract'},\n",
       " {'entity': 'Na(v)1.5 cardiac sodium channel',\n",
       "  'importance': 5,\n",
       "  'category': 'Protein',\n",
       "  'pmid': '15485686',\n",
       "  'type': 'abstract'},\n",
       " {'entity': 'Transmembrane segment 6 of domain IV',\n",
       "  'importance': 4,\n",
       "  'category': 'Anatomy',\n",
       "  'pmid': '15485686',\n",
       "  'type': 'abstract'},\n",
       " {'entity': 'G-->A substitution at codon 1763',\n",
       "  'importance': 4,\n",
       "  'category': 'Mutation',\n",
       "  'pmid': '15485686',\n",
       "  'type': 'abstract'},\n",
       " {'entity': 'Valine (GTG)',\n",
       "  'importance': 3,\n",
       "  'category': 'AminoAcid',\n",
       "  'pmid': '15485686',\n",
       "  'type': 'abstract'},\n",
       " {'entity': 'Methionine (ATG)',\n",
       "  'importance': 3,\n",
       "  'category': 'AminoAcid',\n",
       "  'pmid': '15485686',\n",
       "  'type': 'abstract'},\n",
       " {'entity': 'tsA201 mammalian cells',\n",
       "  'importance': 3,\n",
       "  'category': 'CellLine',\n",
       "  'pmid': '15485686',\n",
       "  'type': 'abstract'},\n",
       " {'entity': 'Site-directed mutagenesis',\n",
       "  'importance': 3,\n",
       "  'category': 'Technique',\n",
       "  'pmid': '15485686',\n",
       "  'type': 'abstract'},\n",
       " {'entity': 'Persistent tetrodotoxin-sensitive but lidocaine-resistant current',\n",
       "  'importance': 4,\n",
       "  'category': 'Metabolite',\n",
       "  'pmid': '15485686',\n",
       "  'type': 'abstract'},\n",
       " {'entity': 'Positive shift of the steady-state inactivation curve',\n",
       "  'importance': 4,\n",
       "  'category': 'Pathway',\n",
       "  'pmid': '15485686',\n",
       "  'type': 'abstract'},\n",
       " {'entity': 'Steeper activation curve',\n",
       "  'importance': 3,\n",
       "  'category': 'Pathway',\n",
       "  'pmid': '15485686',\n",
       "  'type': 'abstract'},\n",
       " {'entity': 'Faster recovery from inactivation',\n",
       "  'importance': 3,\n",
       "  'category': 'Pathway',\n",
       "  'pmid': '15485686',\n",
       "  'type': 'abstract'}]"
      ]
     },
     "execution_count": 48,
     "metadata": {},
     "output_type": "execute_result"
    }
   ],
   "source": [
    "entities_extracted"
   ]
  },
  {
   "cell_type": "code",
   "execution_count": 10,
   "id": "658036e5-52f5-4f40-9875-ec8bd370a1fc",
   "metadata": {},
   "outputs": [
    {
     "data": {
      "text/plain": [
       "{'CellLine',\n",
       " 'ChemicalEntity',\n",
       " 'DiseaseOrPhenotypicFeature',\n",
       " 'GeneOrGeneProduct',\n",
       " 'OrganismTaxon',\n",
       " 'SequenceVariant'}"
      ]
     },
     "execution_count": 10,
     "metadata": {},
     "output_type": "execute_result"
    }
   ],
   "source": [
    "set([j['semantic_type_id'] for i in datas[\"test\"] for j in i['entities']])"
   ]
  },
  {
   "cell_type": "code",
   "execution_count": 1,
   "id": "6b5708eb-fc8b-4fa5-86f9-049ca13b1baa",
   "metadata": {
    "tags": []
   },
   "outputs": [
    {
     "name": "stdout",
     "output_type": "stream",
     "text": [
      "Loading model...\n"
     ]
    },
    {
     "name": "stderr",
     "output_type": "stream",
     "text": [
      "Some weights of the model checkpoint at microsoft/BiomedNLP-BiomedBERT-base-uncased-abstract-fulltext were not used when initializing BertModel: ['cls.predictions.transform.dense.bias', 'cls.seq_relationship.bias', 'cls.seq_relationship.weight', 'cls.predictions.transform.LayerNorm.bias', 'cls.predictions.bias', 'cls.predictions.transform.dense.weight', 'cls.predictions.decoder.weight', 'cls.predictions.decoder.bias', 'cls.predictions.transform.LayerNorm.weight']\n",
      "- This IS expected if you are initializing BertModel from the checkpoint of a model trained on another task or with another architecture (e.g. initializing a BertForSequenceClassification model from a BertForPreTraining model).\n",
      "- This IS NOT expected if you are initializing BertModel from the checkpoint of a model that you expect to be exactly identical (initializing a BertForSequenceClassification model from a BertForSequenceClassification model).\n"
     ]
    },
    {
     "name": "stdout",
     "output_type": "stream",
     "text": [
      "Loading index...\n"
     ]
    },
    {
     "name": "stderr",
     "output_type": "stream",
     "text": [
      "/root/text2knowledge/text2knowledge/eval.py:20: DtypeWarning: Columns (6,8) have mixed types. Specify dtype option on import or set low_memory=False.\n",
      "  self.entities = pd.read_csv(db_path, sep='\\t')\n"
     ]
    }
   ],
   "source": [
    "from text2knowledge.eval import BioBERT\n",
    "\n",
    "model = BioBERT(\n",
    "    model_name = 'microsoft/BiomedNLP-BiomedBERT-base-uncased-abstract-fulltext',\n",
    "    index_path = '/root/text2knowledge/data/biovecs.index',\n",
    "    db_path = '/root/text2knowledge/data/entities.tsv'\n",
    ")"
   ]
  },
  {
   "cell_type": "code",
   "execution_count": 2,
   "id": "93760577-332c-4e70-9187-2bf7d563ba2a",
   "metadata": {
    "tags": []
   },
   "outputs": [
    {
     "data": {
      "text/plain": [
       "(array([[0.97932327, 0.9789596 , 0.9789596 , 0.97796655, 0.9778704 ]],\n",
       "       dtype=float32),\n",
       " array([[  5550, 523573, 538983,  24920,   9590]]),\n",
       " [5550               long QT syndrome 1\n",
       "  523573    Long QT syndrome congenital\n",
       "  538983    Long QT syndrome congenital\n",
       "  24920     obsolete long QT syndrome 1\n",
       "  9590               long qt syndrome 8\n",
       "  Name: name, dtype: object])"
      ]
     },
     "execution_count": 2,
     "metadata": {},
     "output_type": "execute_result"
    }
   ],
   "source": [
    "model.query('Congenital long QT syndrome (LQTS)')"
   ]
  },
  {
   "cell_type": "code",
   "execution_count": null,
   "id": "6273b821-f2c9-462d-8358-65b3a5e29de4",
   "metadata": {},
   "outputs": [],
   "source": []
  },
  {
   "cell_type": "code",
   "execution_count": null,
   "id": "17364ae0-4324-49c1-9b6a-c6933505c04a",
   "metadata": {},
   "outputs": [],
   "source": []
  },
  {
   "cell_type": "code",
   "execution_count": null,
   "id": "f04243a3-f882-4e15-80cd-00c3e9ece689",
   "metadata": {},
   "outputs": [],
   "source": []
  }
 ],
 "metadata": {
  "kernelspec": {
   "display_name": "Python 3 (ipykernel)",
   "language": "python",
   "name": "python3"
  },
  "language_info": {
   "codemirror_mode": {
    "name": "ipython",
    "version": 3
   },
   "file_extension": ".py",
   "mimetype": "text/x-python",
   "name": "python",
   "nbconvert_exporter": "python",
   "pygments_lexer": "ipython3",
   "version": "3.8.10"
  }
 },
 "nbformat": 4,
 "nbformat_minor": 5
}
