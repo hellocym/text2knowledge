{
 "cells": [
  {
   "cell_type": "code",
   "execution_count": 1,
   "id": "c1ce6f55-ecf9-4622-ad49-6532cb05cd89",
   "metadata": {
    "tags": []
   },
   "outputs": [],
   "source": [
    "# PROXY\n",
    "import subprocess\n",
    "import os\n",
    "\n",
    "result = subprocess.run('bash -c \"source /etc/network_turbo && env | grep proxy\"', shell=True, capture_output=True, text=True)\n",
    "output = result.stdout\n",
    "for line in output.splitlines():\n",
    "    if '=' in line:\n",
    "        var, value = line.split('=', 1)\n",
    "        os.environ[var] = value\n",
    "    \n",
    "os.environ['HF_HOME'] = '/autodl-tmp/hf'"
   ]
  },
  {
   "cell_type": "code",
   "execution_count": 2,
   "id": "f9edd9c1-4f8b-4a55-a54c-ff851b9f383e",
   "metadata": {
    "scrolled": true,
    "tags": []
   },
   "outputs": [
    {
     "name": "stderr",
     "output_type": "stream",
     "text": [
      "/root/miniconda3/lib/python3.8/site-packages/datasets/load.py:1461: FutureWarning: The repository for bigbio/biored contains custom code which must be executed to correctly load the dataset. You can inspect the repository content at https://hf.co/datasets/bigbio/biored\n",
      "You can avoid this message in future by passing the argument `trust_remote_code=True`.\n",
      "Passing `trust_remote_code=True` will be mandatory to load this dataset from the next major release of `datasets`.\n",
      "  warnings.warn(\n"
     ]
    }
   ],
   "source": [
    "from datasets import load_dataset\n",
    "datas = load_dataset(\"bigbio/biored\")"
   ]
  },
  {
   "cell_type": "code",
   "execution_count": 3,
   "id": "c105b026-4498-48e2-965d-35b9bada910f",
   "metadata": {
    "tags": []
   },
   "outputs": [],
   "source": [
    "from text2knowledge.strategy1 import extract_concepts, graph_prompt\n",
    "\n",
    "import json"
   ]
  },
  {
   "cell_type": "code",
   "execution_count": 4,
   "id": "10471132-0e44-4beb-959b-49a3226f7aa1",
   "metadata": {
    "tags": []
   },
   "outputs": [],
   "source": [
    "model_name = 'llama3:latest'"
   ]
  },
  {
   "cell_type": "code",
   "execution_count": 15,
   "id": "b7f0ac51-d307-4951-856a-eb0a77e18cb4",
   "metadata": {
    "scrolled": true,
    "tags": []
   },
   "outputs": [
    {
     "ename": "NameError",
     "evalue": "name 'extract_concepts' is not defined",
     "output_type": "error",
     "traceback": [
      "\u001b[0;31m---------------------------------------------------------------------------\u001b[0m",
      "\u001b[0;31mNameError\u001b[0m                                 Traceback (most recent call last)",
      "Cell \u001b[0;32mIn[15], line 18\u001b[0m\n\u001b[1;32m     12\u001b[0m metadata \u001b[38;5;241m=\u001b[39m {\n\u001b[1;32m     13\u001b[0m     \u001b[38;5;124m'\u001b[39m\u001b[38;5;124mpmid\u001b[39m\u001b[38;5;124m'\u001b[39m: pmid,\n\u001b[1;32m     14\u001b[0m     \u001b[38;5;124m'\u001b[39m\u001b[38;5;124mtype\u001b[39m\u001b[38;5;124m'\u001b[39m: \u001b[38;5;124m'\u001b[39m\u001b[38;5;124mabstract\u001b[39m\u001b[38;5;124m'\u001b[39m,\n\u001b[1;32m     15\u001b[0m }\n\u001b[1;32m     17\u001b[0m \u001b[38;5;66;03m#with open(os.devnull, \"w\") as f, contextlib.redirect_stdout(f):\u001b[39;00m\n\u001b[0;32m---> 18\u001b[0m entities_extracted \u001b[38;5;241m=\u001b[39m \u001b[43mextract_concepts\u001b[49m(abstract, model\u001b[38;5;241m=\u001b[39mmodel_name, metadata\u001b[38;5;241m=\u001b[39mmetadata)\n\u001b[1;32m     20\u001b[0m \u001b[38;5;28;01mif\u001b[39;00m entities_extracted:\n\u001b[1;32m     21\u001b[0m     disease_entities_extracted \u001b[38;5;241m=\u001b[39m [e \u001b[38;5;28;01mfor\u001b[39;00m e \u001b[38;5;129;01min\u001b[39;00m entities_extracted \u001b[38;5;28;01mif\u001b[39;00m e[\u001b[38;5;124m'\u001b[39m\u001b[38;5;124mcategory\u001b[39m\u001b[38;5;124m'\u001b[39m] \u001b[38;5;241m==\u001b[39m \u001b[38;5;124m'\u001b[39m\u001b[38;5;124mDisease\u001b[39m\u001b[38;5;124m'\u001b[39m]\n",
      "\u001b[0;31mNameError\u001b[0m: name 'extract_concepts' is not defined"
     ]
    }
   ],
   "source": [
    "import os, sys\n",
    "import contextlib\n",
    "\n",
    "i = 4\n",
    "while i < len(datas['test']):\n",
    "    data = datas['test'][i]\n",
    "    pmid = data['pmid']\n",
    "    passages = data['passages']\n",
    "    entities = data['entities']\n",
    "    abstract = passages[1]['text'][0]\n",
    "    abstract_offset = passages[1]['offsets'][0]\n",
    "    metadata = {\n",
    "        'pmid': pmid,\n",
    "        'type': 'abstract',\n",
    "    }\n",
    "\n",
    "    #with open(os.devnull, \"w\") as f, contextlib.redirect_stdout(f):\n",
    "    entities_extracted = extract_concepts(abstract, model=model_name, metadata=metadata)\n",
    "    \n",
    "    if entities_extracted:\n",
    "        disease_entities_extracted = [e for e in entities_extracted if e['category'] == 'Disease']\n",
    "        # print(disease_entities_extracted)\n",
    "        entities_str = json.dumps(entities_extracted, indent=4)\n",
    "        # print(entities_str)\n",
    "    else:\n",
    "        print(\"No entities found.\")\n",
    "    break\n",
    "    # i += 1\n",
    "    # if i >= 2:\n",
    "    #     break"
   ]
  },
  {
   "cell_type": "code",
   "execution_count": 10,
   "id": "b8427f45-35f2-4ca4-9ca0-9c3f3eca7302",
   "metadata": {
    "collapsed": true,
    "jupyter": {
     "outputs_hidden": true
    },
    "scrolled": true,
    "tags": []
   },
   "outputs": [
    {
     "data": {
      "text/plain": [
       "[{'text': ['PKC-alpha'],\n",
       "  'offsets': [[11, 20]],\n",
       "  'concept_id': '18750',\n",
       "  'semantic_type_id': 'GeneOrGeneProduct'},\n",
       " {'text': ['lithium'],\n",
       "  'offsets': [[32, 39]],\n",
       "  'concept_id': 'D008094',\n",
       "  'semantic_type_id': 'ChemicalEntity'},\n",
       " {'text': ['nephrogenic diabetes insipidus'],\n",
       "  'offsets': [[48, 78]],\n",
       "  'concept_id': 'D018500',\n",
       "  'semantic_type_id': 'DiseaseOrPhenotypicFeature'},\n",
       " {'text': ['Lithium'],\n",
       "  'offsets': [[80, 87]],\n",
       "  'concept_id': 'D008094',\n",
       "  'semantic_type_id': 'ChemicalEntity'},\n",
       " {'text': ['nephrogenic diabetes insipidus'],\n",
       "  'offsets': [[125, 155]],\n",
       "  'concept_id': 'D018500',\n",
       "  'semantic_type_id': 'DiseaseOrPhenotypicFeature'},\n",
       " {'text': ['NDI'],\n",
       "  'offsets': [[157, 160]],\n",
       "  'concept_id': 'D018500',\n",
       "  'semantic_type_id': 'DiseaseOrPhenotypicFeature'},\n",
       " {'text': ['patients'],\n",
       "  'offsets': [[173, 181]],\n",
       "  'concept_id': '9606',\n",
       "  'semantic_type_id': 'OrganismTaxon'},\n",
       " {'text': ['lithium'],\n",
       "  'offsets': [[244, 251]],\n",
       "  'concept_id': 'D008094',\n",
       "  'semantic_type_id': 'ChemicalEntity'},\n",
       " {'text': ['cAMP'],\n",
       "  'offsets': [[275, 279]],\n",
       "  'concept_id': 'D000242',\n",
       "  'semantic_type_id': 'ChemicalEntity'},\n",
       " {'text': ['urea transporter'],\n",
       "  'offsets': [[313, 329]],\n",
       "  'concept_id': '27411',\n",
       "  'semantic_type_id': 'GeneOrGeneProduct'},\n",
       " {'text': ['UT-A1'],\n",
       "  'offsets': [[331, 336]],\n",
       "  'concept_id': '27411',\n",
       "  'semantic_type_id': 'GeneOrGeneProduct'},\n",
       " {'text': ['AQP2'],\n",
       "  'offsets': [[357, 361]],\n",
       "  'concept_id': '11827',\n",
       "  'semantic_type_id': 'GeneOrGeneProduct'},\n",
       " {'text': ['PKC'],\n",
       "  'offsets': [[448, 451]],\n",
       "  'concept_id': '18750',\n",
       "  'semantic_type_id': 'GeneOrGeneProduct'},\n",
       " {'text': ['lithium'],\n",
       "  'offsets': [[511, 518]],\n",
       "  'concept_id': 'D008094',\n",
       "  'semantic_type_id': 'ChemicalEntity'},\n",
       " {'text': ['polyuria'],\n",
       "  'offsets': [[527, 535]],\n",
       "  'concept_id': 'D011141',\n",
       "  'semantic_type_id': 'DiseaseOrPhenotypicFeature'},\n",
       " {'text': ['PKC-alpha'],\n",
       "  'offsets': [[537, 546]],\n",
       "  'concept_id': '18750',\n",
       "  'semantic_type_id': 'GeneOrGeneProduct'},\n",
       " {'text': ['mice'],\n",
       "  'offsets': [[552, 556]],\n",
       "  'concept_id': '10090',\n",
       "  'semantic_type_id': 'OrganismTaxon'},\n",
       " {'text': ['PKCa'],\n",
       "  'offsets': [[558, 562]],\n",
       "  'concept_id': '18750',\n",
       "  'semantic_type_id': 'GeneOrGeneProduct'},\n",
       " {'text': ['lithium'],\n",
       "  'offsets': [[628, 635]],\n",
       "  'concept_id': 'D008094',\n",
       "  'semantic_type_id': 'ChemicalEntity'},\n",
       " {'text': ['mice'],\n",
       "  'offsets': [[659, 663]],\n",
       "  'concept_id': '10090',\n",
       "  'semantic_type_id': 'OrganismTaxon'},\n",
       " {'text': ['PKCa'],\n",
       "  'offsets': [[760, 764]],\n",
       "  'concept_id': '18750',\n",
       "  'semantic_type_id': 'GeneOrGeneProduct'},\n",
       " {'text': ['mice'],\n",
       "  'offsets': [[768, 772]],\n",
       "  'concept_id': '10090',\n",
       "  'semantic_type_id': 'OrganismTaxon'},\n",
       " {'text': ['AQP2'],\n",
       "  'offsets': [[857, 861]],\n",
       "  'concept_id': '11827',\n",
       "  'semantic_type_id': 'GeneOrGeneProduct'},\n",
       " {'text': ['mice'],\n",
       "  'offsets': [[931, 935]],\n",
       "  'concept_id': '10090',\n",
       "  'semantic_type_id': 'OrganismTaxon'},\n",
       " {'text': ['AQP2'],\n",
       "  'offsets': [[946, 950]],\n",
       "  'concept_id': '11827',\n",
       "  'semantic_type_id': 'GeneOrGeneProduct'},\n",
       " {'text': ['PKCa'],\n",
       "  'offsets': [[968, 972]],\n",
       "  'concept_id': '18750',\n",
       "  'semantic_type_id': 'GeneOrGeneProduct'},\n",
       " {'text': ['UT-A1'],\n",
       "  'offsets': [[1012, 1017]],\n",
       "  'concept_id': '27411',\n",
       "  'semantic_type_id': 'GeneOrGeneProduct'},\n",
       " {'text': ['lithium'],\n",
       "  'offsets': [[1061, 1068]],\n",
       "  'concept_id': 'D008094',\n",
       "  'semantic_type_id': 'ChemicalEntity'},\n",
       " {'text': ['Lithium'],\n",
       "  'offsets': [[1082, 1089]],\n",
       "  'concept_id': 'D008094',\n",
       "  'semantic_type_id': 'ChemicalEntity'},\n",
       " {'text': ['mice'],\n",
       "  'offsets': [[1101, 1105]],\n",
       "  'concept_id': '10090',\n",
       "  'semantic_type_id': 'OrganismTaxon'},\n",
       " {'text': ['PKCa'],\n",
       "  'offsets': [[1157, 1161]],\n",
       "  'concept_id': '18750',\n",
       "  'semantic_type_id': 'GeneOrGeneProduct'},\n",
       " {'text': ['AQP2'],\n",
       "  'offsets': [[1206, 1210]],\n",
       "  'concept_id': '11827',\n",
       "  'semantic_type_id': 'GeneOrGeneProduct'},\n",
       " {'text': ['UT-A1'],\n",
       "  'offsets': [[1215, 1220]],\n",
       "  'concept_id': '27411',\n",
       "  'semantic_type_id': 'GeneOrGeneProduct'},\n",
       " {'text': ['lithium'],\n",
       "  'offsets': [[1254, 1261]],\n",
       "  'concept_id': 'D008094',\n",
       "  'semantic_type_id': 'ChemicalEntity'},\n",
       " {'text': ['PKCa'],\n",
       "  'offsets': [[1300, 1304]],\n",
       "  'concept_id': '18750',\n",
       "  'semantic_type_id': 'GeneOrGeneProduct'},\n",
       " {'text': ['mice'],\n",
       "  'offsets': [[1308, 1312]],\n",
       "  'concept_id': '10090',\n",
       "  'semantic_type_id': 'OrganismTaxon'},\n",
       " {'text': ['AQP2'],\n",
       "  'offsets': [[1314, 1318]],\n",
       "  'concept_id': '11827',\n",
       "  'semantic_type_id': 'GeneOrGeneProduct'},\n",
       " {'text': ['UT-A1'],\n",
       "  'offsets': [[1350, 1355]],\n",
       "  'concept_id': '27411',\n",
       "  'semantic_type_id': 'GeneOrGeneProduct'},\n",
       " {'text': ['sodium'],\n",
       "  'offsets': [[1391, 1397]],\n",
       "  'concept_id': 'D012964',\n",
       "  'semantic_type_id': 'ChemicalEntity'},\n",
       " {'text': ['potassium'],\n",
       "  'offsets': [[1399, 1408]],\n",
       "  'concept_id': 'D011188',\n",
       "  'semantic_type_id': 'ChemicalEntity'},\n",
       " {'text': ['calcium'],\n",
       "  'offsets': [[1413, 1420]],\n",
       "  'concept_id': 'D002118',\n",
       "  'semantic_type_id': 'ChemicalEntity'},\n",
       " {'text': ['lithium'],\n",
       "  'offsets': [[1438, 1445]],\n",
       "  'concept_id': 'D008094',\n",
       "  'semantic_type_id': 'ChemicalEntity'},\n",
       " {'text': ['lithium'],\n",
       "  'offsets': [[1464, 1471]],\n",
       "  'concept_id': 'D008094',\n",
       "  'semantic_type_id': 'ChemicalEntity'},\n",
       " {'text': ['PKCa'],\n",
       "  'offsets': [[1476, 1480]],\n",
       "  'concept_id': '18750',\n",
       "  'semantic_type_id': 'GeneOrGeneProduct'},\n",
       " {'text': ['mice'],\n",
       "  'offsets': [[1484, 1488]],\n",
       "  'concept_id': '10090',\n",
       "  'semantic_type_id': 'OrganismTaxon'},\n",
       " {'text': ['PKCa'],\n",
       "  'offsets': [[1521, 1525]],\n",
       "  'concept_id': '18750',\n",
       "  'semantic_type_id': 'GeneOrGeneProduct'},\n",
       " {'text': ['AQP2'],\n",
       "  'offsets': [[1536, 1540]],\n",
       "  'concept_id': '11827',\n",
       "  'semantic_type_id': 'GeneOrGeneProduct'},\n",
       " {'text': ['UT-A1'],\n",
       "  'offsets': [[1545, 1550]],\n",
       "  'concept_id': '27411',\n",
       "  'semantic_type_id': 'GeneOrGeneProduct'},\n",
       " {'text': ['lithium'],\n",
       "  'offsets': [[1590, 1597]],\n",
       "  'concept_id': 'D008094',\n",
       "  'semantic_type_id': 'ChemicalEntity'},\n",
       " {'text': ['NDI'],\n",
       "  'offsets': [[1606, 1609]],\n",
       "  'concept_id': 'D018500',\n",
       "  'semantic_type_id': 'DiseaseOrPhenotypicFeature'},\n",
       " {'text': ['polyuria'],\n",
       "  'offsets': [[1654, 1662]],\n",
       "  'concept_id': 'D011141',\n",
       "  'semantic_type_id': 'DiseaseOrPhenotypicFeature'},\n",
       " {'text': ['lithium'],\n",
       "  'offsets': [[1679, 1686]],\n",
       "  'concept_id': 'D008094',\n",
       "  'semantic_type_id': 'ChemicalEntity'}]"
      ]
     },
     "execution_count": 10,
     "metadata": {},
     "output_type": "execute_result"
    }
   ],
   "source": [
    "entities"
   ]
  },
  {
   "cell_type": "code",
   "execution_count": 15,
   "id": "dadd8a91-44b9-427a-8a4e-63b5b3f59d3c",
   "metadata": {
    "scrolled": true,
    "tags": []
   },
   "outputs": [],
   "source": [
    "entities_extracted"
   ]
  },
  {
   "cell_type": "code",
   "execution_count": 16,
   "id": "182962b2-3859-49aa-bf64-0bdc8baba8d2",
   "metadata": {
    "tags": []
   },
   "outputs": [
    {
     "data": {
      "text/plain": [
       "[{'entity': 'nephrogenic diabetes insipidus (NDI)',\n",
       "  'confidence': '5',\n",
       "  'category': 'Disease',\n",
       "  'pmid': '25006961',\n",
       "  'type': 'abstract'}]"
      ]
     },
     "execution_count": 16,
     "metadata": {},
     "output_type": "execute_result"
    }
   ],
   "source": [
    "disease_entities_extracted = [e for e in entities_extracted if e['category'] == 'Disease']\n",
    "disease_entities_extracted"
   ]
  },
  {
   "cell_type": "code",
   "execution_count": 8,
   "id": "088cdf0c-0386-4278-9a50-aa78eaceaf23",
   "metadata": {
    "tags": []
   },
   "outputs": [
    {
     "name": "stdout",
     "output_type": "stream",
     "text": [
      "[\n",
      "    {\n",
      "        \"source_name\": \"Deoxyguanosine kinase\",\n",
      "        \"source_type\": \"MolecularFunction\",\n",
      "        \"target_name\": \"Deficiency\",\n",
      "        \"target_type\": \"Condition\",\n",
      "        \"relation_type\": \"BioMedGPS::AssociatedWith::Gene:Condition\",\n",
      "        \"pmid\": \"19394258\",\n",
      "        \"type\": \"abstract\"\n",
      "    },\n",
      "    {\n",
      "        \"source_name\": \"Mitochondrial DNA depletion\",\n",
      "        \"source_type\": \"Condition\",\n",
      "        \"target_name\": \"Hepatocerebral phenotype\",\n",
      "        \"target_type\": \"Anatomy\",\n",
      "        \"relation_type\": \"BioMedGPS::AssociatedWith::Condition:Anatomy\",\n",
      "        \"pmid\": \"19394258\",\n",
      "        \"type\": \"abstract\"\n",
      "    },\n",
      "    {\n",
      "        \"source_name\": \"DGUOK gene\",\n",
      "        \"source_type\": \"Gene\",\n",
      "        \"target_name\": \"Splice site mutation\",\n",
      "        \"target_type\": \"Concept\",\n",
      "        \"relation_type\": \"BioMedGPS::Modulator::Gene:Concept\",\n",
      "        \"pmid\": \"19394258\",\n",
      "        \"type\": \"abstract\"\n",
      "    },\n",
      "    {\n",
      "        \"source_name\": \"Clinical features\",\n",
      "        \"source_type\": \"Anatomy\",\n",
      "        \"target_name\": \"Radiologic features\",\n",
      "        \"target_type\": \"Anatomy\",\n",
      "        \"relation_type\": \"BioMedGPS::Interaction::Anatomy:Anatomy\",\n",
      "        \"pmid\": \"19394258\",\n",
      "        \"type\": \"abstract\"\n",
      "    },\n",
      "    {\n",
      "        \"source_name\": \"Genetic features\",\n",
      "        \"source_type\": \"Gene\",\n",
      "        \"target_name\": \"Clinical, radiologic, and genetic features\",\n",
      "        \"target_type\": \"Condition\",\n",
      "        \"relation_type\": \"BioMedGPS::AssociatedWith::Gene:Condition\",\n",
      "        \"pmid\": \"19394258\",\n",
      "        \"type\": \"abstract\"\n",
      "    },\n",
      "    {\n",
      "        \"source_name\": \"Homozygous mutation (c.444-62C> A)\",\n",
      "        \"source_type\": \"Concept\",\n",
      "        \"target_name\": \"Combined respiratory chain deficiencies\",\n",
      "        \"target_type\": \"Condition\",\n",
      "        \"relation_type\": \"BioMedGPS::AssociatedWith::Concept:Condition\",\n",
      "        \"pmid\": \"19394258\",\n",
      "        \"type\": \"abstract\"\n",
      "    },\n",
      "    {\n",
      "        \"source_name\": \"Mitochondrial DNA depletion\",\n",
      "        \"source_type\": \"Condition\",\n",
      "        \"target_name\": \"Liver\",\n",
      "        \"target_type\": \"Anatomy\",\n",
      "        \"relation_type\": \"BioMedGPS::LocatedIn::Condition:Anatomy\",\n",
      "        \"pmid\": \"19394258\",\n",
      "        \"type\": \"abstract\"\n",
      "    },\n",
      "    {\n",
      "        \"source_name\": \"Brain MRIs\",\n",
      "        \"source_type\": \"Anatomy\",\n",
      "        \"target_name\": \"Normal\",\n",
      "        \"target_type\": \"Concept\",\n",
      "        \"relation_type\": \"BioMedGPS::AssociatedWith::Anatomy:Concept\",\n",
      "        \"pmid\": \"19394258\",\n",
      "        \"type\": \"abstract\"\n",
      "    },\n",
      "    {\n",
      "        \"source_name\": \"Subtentorial abnormal myelination\",\n",
      "        \"source_type\": \"Anatomy\",\n",
      "        \"target_name\": \"Moderate hyperintensity in the bilateral pallidi\",\n",
      "        \"target_type\": \"Anatomy\",\n",
      "        \"relation_type\": \"BioMedGPS::Interaction::Anatomy:Anatomy\",\n",
      "        \"pmid\": \"19394258\",\n",
      "        \"type\": \"abstract\"\n",
      "    },\n",
      "    {\n",
      "        \"source_name\": \"Intron 3 (in position -62)\",\n",
      "        \"source_type\": \"Gene\",\n",
      "        \"target_name\": \"Cryptic splice site\",\n",
      "        \"target_type\": \"Concept\",\n",
      "        \"relation_type\": \"BioMedGPS::Modulator::Gene:Concept\",\n",
      "        \"pmid\": \"19394258\",\n",
      "        \"type\": \"abstract\"\n",
      "    },\n",
      "    {\n",
      "        \"source_name\": \"Putative impact of the insertion\",\n",
      "        \"source_type\": \"Concept\",\n",
      "        \"target_name\": \"Serious clashes in protein conformation\",\n",
      "        \"target_type\": \"Condition\",\n",
      "        \"relation_type\": \"BioMedGPS::AssociatedWith::Concept:Condition\",\n",
      "        \"pmid\": \"19394258\",\n",
      "        \"type\": \"abstract\"\n",
      "    },\n",
      "    {\n",
      "        \"source_name\": \"Common haplotype\",\n",
      "        \"source_type\": \"Concept\",\n",
      "        \"target_name\": \"Disease\",\n",
      "        \"target_type\": \"Condition\",\n",
      "        \"relation_type\": \"BioMedGPS::AssociatedWith::Concept:Condition\",\n",
      "        \"pmid\": \"19394258\",\n",
      "        \"type\": \"abstract\"\n",
      "    }\n",
      "]\n",
      "[\n",
      "    {\n",
      "        \"source_name\": \"Autism spectrum disorders\",\n",
      "        \"source_type\": \"Disease\",\n",
      "        \"target_name\": \"Anxiety\",\n",
      "        \"target_type\": \"Symptom\",\n",
      "        \"relation_type\": \"BioMedGPS::AssociatedWith::Disease:Symptom\",\n",
      "        \"key_sentence\": \"Increased rates of anxiety in individuals with Autism spectrum disorders\",\n",
      "        \"pmid\": \"19565319\",\n",
      "        \"type\": \"abstract\"\n",
      "    },\n",
      "    {\n",
      "        \"source_name\": \"Adenosine A(2A) receptor gene (ADORA2A)\",\n",
      "        \"source_type\": \"Gene\",\n",
      "        \"target_name\": \"Panic disorder\",\n",
      "        \"target_type\": \"Disease\",\n",
      "        \"relation_type\": \"BioMedGPS::AssociatedWith::Gene:Disease\",\n",
      "        \"key_sentence\": \"The adenosine A(2A) receptor gene is associated with panic disorder\",\n",
      "        \"pmid\": \"19565319\",\n",
      "        \"type\": \"abstract\"\n",
      "    },\n",
      "    {\n",
      "        \"source_name\": \"Adenosine A(2A) receptor gene (ADORA2A)\",\n",
      "        \"source_type\": \"Gene\",\n",
      "        \"target_name\": \"Caudate nucleus\",\n",
      "        \"target_type\": \"Anatomy\",\n",
      "        \"relation_type\": \"BioMedGPS::LocatedIn::Gene:Anatomy\",\n",
      "        \"key_sentence\": \"The adenosine A(2A) receptor gene is strongly expressed in the caudate nucleus\",\n",
      "        \"pmid\": \"19565319\",\n",
      "        \"type\": \"abstract\"\n",
      "    },\n",
      "    {\n",
      "        \"source_name\": \"22q11.2 deletion syndrome\",\n",
      "        \"source_type\": \"Disease\",\n",
      "        \"target_name\": \"Autistic symptoms\",\n",
      "        \"target_type\": \"Symptom\",\n",
      "        \"relation_type\": \"BioMedGPS::AssociatedWith::Disease:Symptom\",\n",
      "        \"key_sentence\": \"Autistic symptoms are increased in individuals with 22q11.2 deletion syndrome\",\n",
      "        \"pmid\": \"19565319\",\n",
      "        \"type\": \"abstract\"\n",
      "    },\n",
      "    {\n",
      "        \"source_name\": \"ADORA2A\",\n",
      "        \"source_type\": \"Gene\",\n",
      "        \"target_name\": \"ASD individuals\",\n",
      "        \"target_type\": \"Exposure\",\n",
      "        \"relation_type\": \"BioMedGPS::AssociatedWith::Gene:Exposure\",\n",
      "        \"key_sentence\": \"Large 22q11.2 deletions and duplications have been observed in ASD individuals\",\n",
      "        \"pmid\": \"19565319\",\n",
      "        \"type\": \"abstract\"\n",
      "    },\n",
      "    {\n",
      "        \"source_name\": \"rs2236624-CC\",\n",
      "        \"source_type\": \"Variant\",\n",
      "        \"target_name\": \"Autism spectrum disorders\",\n",
      "        \"target_type\": \"Disease\",\n",
      "        \"relation_type\": \"BioMedGPS::AssociatedWith::Variant:Disease\",\n",
      "        \"key_sentence\": \"Nominal association with the disorder was observed for rs2236624-CC\",\n",
      "        \"pmid\": \"19565319\",\n",
      "        \"type\": \"abstract\"\n",
      "    },\n",
      "    {\n",
      "        \"source_name\": \"rs37614, rs57518, and rs35320474\",\n",
      "        \"source_type\": \"Variants\",\n",
      "        \"target_name\": \"ASD symptoms\",\n",
      "        \"target_type\": \"Symptom\",\n",
      "        \"relation_type\": \"BioMedGPS::AssociatedWith::Variant:Symptom\",\n",
      "        \"key_sentence\": \"Phenotypic variability in ASD symptoms was influenced by rs37614, rs57518, and rs35320474\",\n",
      "        \"pmid\": \"19565319\",\n",
      "        \"type\": \"abstract\"\n",
      "    },\n",
      "    {\n",
      "        \"source_name\": \"ADORA2A variants\",\n",
      "        \"source_type\": \"Variants\",\n",
      "        \"target_name\": \"Anxiety\",\n",
      "        \"target_type\": \"Symptom\",\n",
      "        \"relation_type\": \"BioMedGPS::AssociatedWith::Variant:Symptom\",\n",
      "        \"key_sentence\": \"Association of ADORA2A variants with anxiety was replicated for individuals with ASD\",\n",
      "        \"pmid\": \"19565319\",\n",
      "        \"type\": \"abstract\"\n",
      "    }\n",
      "]\n"
     ]
    }
   ],
   "source": [
    "import os, sys\n",
    "import contextlib\n",
    "\n",
    "model_name = 'llama3:latest'\n",
    "\n",
    "i = 4\n",
    "while i < len(datas['test']):\n",
    "    data = datas['test'][i]\n",
    "    pmid = data['pmid']\n",
    "    passages = data['passages']\n",
    "    relations = data['relations']\n",
    "    abstract = passages[1]['text'][0]\n",
    "    abstract_offset = passages[1]['offsets'][0]\n",
    "    metadata = {\n",
    "        'pmid': pmid,\n",
    "        'type': 'abstract',\n",
    "    }\n",
    "\n",
    "    with open(os.devnull, \"w\") as f, contextlib.redirect_stdout(f):\n",
    "        relations_extracted = graph_prompt(abstract, model=model_name, metadata=metadata)\n",
    "    \n",
    "    if relations_extracted:\n",
    "        # disease_entities_extracted = [e for e in entities_extracted if e['category'] == 'Disease']\n",
    "        # print(disease_entities_extracted)\n",
    "        entities_str = json.dumps(relations_extracted, indent=4)\n",
    "        print(entities_str)\n",
    "    else:\n",
    "        print(\"No entities found.\")\n",
    "    # break\n",
    "    i += 1\n",
    "    if i >= 6:\n",
    "        break"
   ]
  },
  {
   "cell_type": "code",
   "execution_count": 37,
   "id": "3d37cd7f-2d11-4209-96c2-a046d952071d",
   "metadata": {
    "tags": []
   },
   "outputs": [
    {
     "data": {
      "text/plain": [
       "[({'novel': 'No', 'type': 'Bind', 'concept_1': 'D013134', 'concept_2': '1813'},\n",
       "  11),\n",
       " ({'novel': 'No', 'type': 'Bind', 'concept_1': 'D013134', 'concept_2': '1812'},\n",
       "  11),\n",
       " ({'novel': 'No', 'type': 'Bind', 'concept_1': 'C534628', 'concept_2': '1813'},\n",
       "  11),\n",
       " ({'novel': 'No', 'type': 'Bind', 'concept_1': 'C534628', 'concept_2': '1812'},\n",
       "  11),\n",
       " ({'novel': 'No',\n",
       "   'type': 'Bind',\n",
       "   'concept_1': '822075',\n",
       "   'concept_2': '836269'},\n",
       "  14),\n",
       " ({'novel': 'No', 'type': 'Bind', 'concept_1': 'D002118', 'concept_2': '2979'},\n",
       "  16),\n",
       " ({'novel': 'Novel', 'type': 'Bind', 'concept_1': '84515', 'concept_2': '595'},\n",
       "  68),\n",
       " ({'novel': 'No', 'type': 'Bind', 'concept_1': '7421', 'concept_2': 'D014807'},\n",
       "  71),\n",
       " ({'novel': 'No', 'type': 'Bind', 'concept_1': '2022', 'concept_2': '7040'},\n",
       "  76)]"
      ]
     },
     "execution_count": 37,
     "metadata": {},
     "output_type": "execute_result"
    }
   ],
   "source": [
    "[(r, i) for i,d in enumerate(datas['test']) for r in d['relations'] if r['type'] == 'Bind']"
   ]
  },
  {
   "cell_type": "code",
   "execution_count": 38,
   "id": "afbc4ee0-cf20-462b-8742-df2802b8ae75",
   "metadata": {
    "tags": []
   },
   "outputs": [
    {
     "data": {
      "text/plain": [
       "{'pmid': '8829135',\n",
       " 'passages': [{'type': 'title',\n",
       "   'text': ['Nefiracetam (DM-9384) reverses apomorphine-induced amnesia of a passive avoidance response: delayed emergence of the memory retention effects.'],\n",
       "   'offsets': [[0, 142]]},\n",
       "  {'type': 'abstract',\n",
       "   'text': ['Nefiracetam is a novel pyrrolidone derivative which attenuates scopolamine-induced learning and post-training consolidation deficits. Given that apomorphine inhibits passive avoidance retention when given during training or in a defined 10-12h post-training period, we evaluated the ability of nefiracetam to attenuate amnesia induced by dopaminergic agonism. A step-down passive avoidance paradigm was employed and nefiracetam (3 mg/kg) and apomorphine (0.5 mg/kg) were given alone or in combination during training and at the 10-12h post-training period of consolidation. Co-administration of nefiracetam and apomorphine during training or 10h thereafter produced no significant anti-amnesic effect. However, administration of nefiracetam during training completely reversed the amnesia induced by apomorphine at the 10h post-training time and the converse was also true. These effects were not mediated by a dopaminergic mechanism as nefiracetam, at millimolar concentrations, failed to displace either [3H]SCH 23390 or [3H]spiperone binding from D1 or D2 dopamine receptor subtypes, respectively. It is suggested that nefiracetam augments molecular processes in the early stages of events which ultimately lead to consolidation of memory.'],\n",
       "   'offsets': [[143, 1385]]}],\n",
       " 'entities': [{'text': ['Nefiracetam'],\n",
       "   'offsets': [[0, 11]],\n",
       "   'concept_id': 'C058876',\n",
       "   'semantic_type_id': 'ChemicalEntity'},\n",
       "  {'text': ['DM-9384'],\n",
       "   'offsets': [[13, 20]],\n",
       "   'concept_id': 'C058876',\n",
       "   'semantic_type_id': 'ChemicalEntity'},\n",
       "  {'text': ['apomorphine'],\n",
       "   'offsets': [[31, 42]],\n",
       "   'concept_id': 'D001058',\n",
       "   'semantic_type_id': 'ChemicalEntity'},\n",
       "  {'text': ['amnesia'],\n",
       "   'offsets': [[51, 58]],\n",
       "   'concept_id': 'D000647',\n",
       "   'semantic_type_id': 'DiseaseOrPhenotypicFeature'},\n",
       "  {'text': ['Nefiracetam'],\n",
       "   'offsets': [[143, 154]],\n",
       "   'concept_id': 'C058876',\n",
       "   'semantic_type_id': 'ChemicalEntity'},\n",
       "  {'text': ['pyrrolidone'],\n",
       "   'offsets': [[166, 177]],\n",
       "   'concept_id': 'D011760',\n",
       "   'semantic_type_id': 'ChemicalEntity'},\n",
       "  {'text': ['scopolamine'],\n",
       "   'offsets': [[206, 217]],\n",
       "   'concept_id': 'D012601',\n",
       "   'semantic_type_id': 'ChemicalEntity'},\n",
       "  {'text': ['learning and post-training consolidation deficits'],\n",
       "   'offsets': [[226, 275]],\n",
       "   'concept_id': 'D007859',\n",
       "   'semantic_type_id': 'DiseaseOrPhenotypicFeature'},\n",
       "  {'text': ['apomorphine'],\n",
       "   'offsets': [[288, 299]],\n",
       "   'concept_id': 'D001058',\n",
       "   'semantic_type_id': 'ChemicalEntity'},\n",
       "  {'text': ['nefiracetam'],\n",
       "   'offsets': [[437, 448]],\n",
       "   'concept_id': 'C058876',\n",
       "   'semantic_type_id': 'ChemicalEntity'},\n",
       "  {'text': ['amnesia'],\n",
       "   'offsets': [[462, 469]],\n",
       "   'concept_id': 'D000647',\n",
       "   'semantic_type_id': 'DiseaseOrPhenotypicFeature'},\n",
       "  {'text': ['dopaminergic agonism'],\n",
       "   'offsets': [[481, 501]],\n",
       "   'concept_id': 'D018491',\n",
       "   'semantic_type_id': 'ChemicalEntity'},\n",
       "  {'text': ['nefiracetam'],\n",
       "   'offsets': [[559, 570]],\n",
       "   'concept_id': 'C058876',\n",
       "   'semantic_type_id': 'ChemicalEntity'},\n",
       "  {'text': ['apomorphine'],\n",
       "   'offsets': [[585, 596]],\n",
       "   'concept_id': 'D001058',\n",
       "   'semantic_type_id': 'ChemicalEntity'},\n",
       "  {'text': ['nefiracetam'],\n",
       "   'offsets': [[738, 749]],\n",
       "   'concept_id': 'C058876',\n",
       "   'semantic_type_id': 'ChemicalEntity'},\n",
       "  {'text': ['apomorphine'],\n",
       "   'offsets': [[754, 765]],\n",
       "   'concept_id': 'D001058',\n",
       "   'semantic_type_id': 'ChemicalEntity'},\n",
       "  {'text': ['amnesic'],\n",
       "   'offsets': [[829, 836]],\n",
       "   'concept_id': 'D000647',\n",
       "   'semantic_type_id': 'DiseaseOrPhenotypicFeature'},\n",
       "  {'text': ['nefiracetam'],\n",
       "   'offsets': [[872, 883]],\n",
       "   'concept_id': 'C058876',\n",
       "   'semantic_type_id': 'ChemicalEntity'},\n",
       "  {'text': ['amnesia'],\n",
       "   'offsets': [[924, 931]],\n",
       "   'concept_id': 'D000647',\n",
       "   'semantic_type_id': 'DiseaseOrPhenotypicFeature'},\n",
       "  {'text': ['apomorphine'],\n",
       "   'offsets': [[943, 954]],\n",
       "   'concept_id': 'D001058',\n",
       "   'semantic_type_id': 'ChemicalEntity'},\n",
       "  {'text': ['nefiracetam'],\n",
       "   'offsets': [[1080, 1091]],\n",
       "   'concept_id': 'C058876',\n",
       "   'semantic_type_id': 'ChemicalEntity'},\n",
       "  {'text': ['3H'],\n",
       "   'offsets': [[1150, 1152]],\n",
       "   'concept_id': 'D014316',\n",
       "   'semantic_type_id': 'ChemicalEntity'},\n",
       "  {'text': ['SCH 23390'],\n",
       "   'offsets': [[1153, 1162]],\n",
       "   'concept_id': 'C534628',\n",
       "   'semantic_type_id': 'ChemicalEntity'},\n",
       "  {'text': ['3H'],\n",
       "   'offsets': [[1167, 1169]],\n",
       "   'concept_id': 'D014316',\n",
       "   'semantic_type_id': 'ChemicalEntity'},\n",
       "  {'text': ['spiperone'],\n",
       "   'offsets': [[1170, 1179]],\n",
       "   'concept_id': 'D013134',\n",
       "   'semantic_type_id': 'ChemicalEntity'},\n",
       "  {'text': ['D1 or D2 dopamine receptor'],\n",
       "   'offsets': [[1193, 1219]],\n",
       "   'concept_id': '1812,1813',\n",
       "   'semantic_type_id': 'GeneOrGeneProduct'},\n",
       "  {'text': ['nefiracetam'],\n",
       "   'offsets': [[1265, 1276]],\n",
       "   'concept_id': 'C058876',\n",
       "   'semantic_type_id': 'ChemicalEntity'}],\n",
       " 'relations': [{'novel': 'No',\n",
       "   'type': 'Positive_Correlation',\n",
       "   'concept_1': 'D012601',\n",
       "   'concept_2': 'D007859'},\n",
       "  {'novel': 'No', 'type': 'Bind', 'concept_1': 'D013134', 'concept_2': '1813'},\n",
       "  {'novel': 'No', 'type': 'Bind', 'concept_1': 'D013134', 'concept_2': '1812'},\n",
       "  {'novel': 'No', 'type': 'Bind', 'concept_1': 'C534628', 'concept_2': '1813'},\n",
       "  {'novel': 'No', 'type': 'Bind', 'concept_1': 'C534628', 'concept_2': '1812'},\n",
       "  {'novel': 'Novel',\n",
       "   'type': 'Positive_Correlation',\n",
       "   'concept_1': 'D018491',\n",
       "   'concept_2': 'D000647'},\n",
       "  {'novel': 'No',\n",
       "   'type': 'Positive_Correlation',\n",
       "   'concept_1': 'D000647',\n",
       "   'concept_2': 'D001058'},\n",
       "  {'novel': 'Novel',\n",
       "   'type': 'Negative_Correlation',\n",
       "   'concept_1': 'C058876',\n",
       "   'concept_2': 'D012601'},\n",
       "  {'novel': 'Novel',\n",
       "   'type': 'Negative_Correlation',\n",
       "   'concept_1': 'C058876',\n",
       "   'concept_2': 'D007859'},\n",
       "  {'novel': 'Novel',\n",
       "   'type': 'Negative_Correlation',\n",
       "   'concept_1': 'C058876',\n",
       "   'concept_2': 'D018491'},\n",
       "  {'novel': 'Novel',\n",
       "   'type': 'Negative_Correlation',\n",
       "   'concept_1': 'C058876',\n",
       "   'concept_2': 'D001058'},\n",
       "  {'novel': 'Novel',\n",
       "   'type': 'Negative_Correlation',\n",
       "   'concept_1': 'C058876',\n",
       "   'concept_2': 'D000647'}]}"
      ]
     },
     "execution_count": 38,
     "metadata": {},
     "output_type": "execute_result"
    }
   ],
   "source": [
    "datas['test'][11]"
   ]
  },
  {
   "cell_type": "code",
   "execution_count": 7,
   "id": "b26dc6db-729c-4f23-822b-bed2b7671cd8",
   "metadata": {
    "scrolled": true,
    "tags": []
   },
   "outputs": [
    {
     "data": {
      "text/plain": [
       "{'Association',\n",
       " 'Bind',\n",
       " 'Comparison',\n",
       " 'Conversion',\n",
       " 'Cotreatment',\n",
       " 'Drug_Interaction',\n",
       " 'Negative_Correlation',\n",
       " 'Positive_Correlation'}"
      ]
     },
     "execution_count": 7,
     "metadata": {},
     "output_type": "execute_result"
    }
   ],
   "source": [
    "set([tri['type'] for d in datas['test'] for tri in d['relations']])"
   ]
  },
  {
   "cell_type": "code",
   "execution_count": 11,
   "id": "dd5e9502-f7e8-4fe7-a500-46666bd9aa8e",
   "metadata": {
    "tags": []
   },
   "outputs": [
    {
     "data": {
      "text/plain": [
       "[{'novel': 'Novel',\n",
       "  'type': 'Comparison',\n",
       "  'concept_1': 'D019259',\n",
       "  'concept_2': 'D000068698'},\n",
       " {'novel': 'No',\n",
       "  'type': 'Comparison',\n",
       "  'concept_1': 'D010656',\n",
       "  'concept_2': 'D004809'},\n",
       " {'novel': 'Novel',\n",
       "  'type': 'Comparison',\n",
       "  'concept_1': 'D007479',\n",
       "  'concept_2': 'C044834'},\n",
       " {'novel': 'Novel',\n",
       "  'type': 'Comparison',\n",
       "  'concept_1': 'C108761',\n",
       "  'concept_2': 'D014635'},\n",
       " {'novel': 'Novel',\n",
       "  'type': 'Comparison',\n",
       "  'concept_1': 'D020927',\n",
       "  'concept_2': 'D015742'},\n",
       " {'novel': 'Novel',\n",
       "  'type': 'Comparison',\n",
       "  'concept_1': 'D003687',\n",
       "  'concept_2': 'D000661'}]"
      ]
     },
     "execution_count": 11,
     "metadata": {},
     "output_type": "execute_result"
    }
   ],
   "source": [
    "[tri for d in datas['test'] for tri in d['relations'] if tri['type'] == 'Comparison']"
   ]
  },
  {
   "cell_type": "code",
   "execution_count": 8,
   "id": "d1b8997e-4bfa-4180-a27d-245ed4ef0493",
   "metadata": {
    "tags": []
   },
   "outputs": [
    {
     "data": {
      "text/plain": [
       "[122, 1815]"
      ]
     },
     "execution_count": 8,
     "metadata": {},
     "output_type": "execute_result"
    }
   ],
   "source": [
    "abstract_offset"
   ]
  },
  {
   "cell_type": "code",
   "execution_count": 9,
   "id": "936e8d88-21be-465d-b483-8202cd5dd037",
   "metadata": {
    "collapsed": true,
    "jupyter": {
     "outputs_hidden": true
    },
    "tags": []
   },
   "outputs": [
    {
     "data": {
      "text/plain": [
       "'OBJECTIVE: Congenital long QT syndrome (LQTS) with in utero onset of the rhythm disturbances is associated with a poor prognosis. In this study we investigated a newborn patient with fetal bradycardia, 2:1 atrioventricular block and ventricular tachycardia soon after birth. METHODS: Mutational analysis and DNA sequencing were conducted in a newborn. The 2:1 atrioventricular block improved to 1:1 conduction only after intravenous lidocaine infusion or a high dose of mexiletine, which also controlled the ventricular tachycardia. RESULTS: A novel, spontaneous LQTS-3 mutation was identified in the transmembrane segment 6 of domain IV of the Na(v)1.5 cardiac sodium channel, with a G-->A substitution at codon 1763, which changed a valine (GTG) to a methionine (ATG). The proband was heterozygous but the mutation was absent in the parents and the sister. Expression of this mutant channel in tsA201 mammalian cells by site-directed mutagenesis revealed a persistent tetrodotoxin-sensitive but lidocaine-resistant current that was associated with a positive shift of the steady-state inactivation curve, steeper activation curve and faster recovery from inactivation. We also found a similar electrophysiological profile for the neighboring V1764M mutant. But, the other neighboring I1762A mutant had no persistent current and was still associated with a positive shift of inactivation. CONCLUSIONS: These findings suggest that the Na(v)1.5/V1763M channel dysfunction and possible neighboring mutants contribute to a persistent inward current due to altered inactivation kinetics and clinically congenital LQTS with perinatal onset of arrhythmias that responded to lidocaine and mexiletine.'"
      ]
     },
     "execution_count": 9,
     "metadata": {},
     "output_type": "execute_result"
    }
   ],
   "source": [
    "abstract"
   ]
  },
  {
   "cell_type": "code",
   "execution_count": 12,
   "id": "b9abd114-9df0-4128-8f64-de31bdd3bd8f",
   "metadata": {
    "tags": []
   },
   "outputs": [],
   "source": [
    "def highlight_entities_label(s, start_idx, entities, color='#66CC66'):\n",
    "    left = f\"<span style='background-color: {color}'>\"\n",
    "    right = \"</span>\"\n",
    "    final = \"\"\n",
    "    last_r = 0\n",
    "    for entity in entities:\n",
    "        l, r = entity['offsets'][0]\n",
    "        if not l >= start_idx:\n",
    "            continue\n",
    "        l -= start_idx\n",
    "        r -= start_idx\n",
    "        final += s[last_r:l]\n",
    "        final += left + s[l:r] + right\n",
    "        last_r = r\n",
    "    final += s[r:]\n",
    "    return final"
   ]
  },
  {
   "cell_type": "code",
   "execution_count": 13,
   "id": "9e348e99-504f-42db-9488-dd0c6223843e",
   "metadata": {
    "collapsed": true,
    "jupyter": {
     "outputs_hidden": true
    },
    "tags": []
   },
   "outputs": [
    {
     "data": {
      "text/html": [
       "<span style='background-color: #66CC66'>Lithium</span>, an effective antipsychotic, induces <span style='background-color: #66CC66'>nephrogenic diabetes insipidus</span> (<span style='background-color: #66CC66'>NDI</span>) in  40% of <span style='background-color: #66CC66'>patients</span>. The decreased capacity to concentrate urine is likely due to <span style='background-color: #66CC66'>lithium</span> acutely disrupting the <span style='background-color: #66CC66'>cAMP</span> pathway and chronically reducing <span style='background-color: #66CC66'>urea transporter</span> (<span style='background-color: #66CC66'>UT-A1</span>) and water channel (<span style='background-color: #66CC66'>AQP2</span>) expression in the inner medulla. Targeting an alternative signaling pathway, such as <span style='background-color: #66CC66'>PKC</span>-mediated signaling, may be an effective method of treating <span style='background-color: #66CC66'>lithium</span>-induced <span style='background-color: #66CC66'>polyuria</span>. <span style='background-color: #66CC66'>PKC-alpha</span> null <span style='background-color: #66CC66'>mice</span> (<span style='background-color: #66CC66'>PKCa</span> KO) and strain-matched wild type (WT) controls were treated with <span style='background-color: #66CC66'>lithium</span> for 0, 3 or 5 days. WT <span style='background-color: #66CC66'>mice</span> had increased urine output and lowered urine osmolality after 3 and 5 days of treatment whereas <span style='background-color: #66CC66'>PKCa</span> KO <span style='background-color: #66CC66'>mice</span> had no change in urine output or concentration. Western blot analysis revealed that <span style='background-color: #66CC66'>AQP2</span> expression in medullary tissues was lowered after 3 and 5 days in WT <span style='background-color: #66CC66'>mice</span>; however, <span style='background-color: #66CC66'>AQP2</span> was unchanged in <span style='background-color: #66CC66'>PKCa</span> KO. Similar results were observed with <span style='background-color: #66CC66'>UT-A1</span> expression. Animals were also treated with <span style='background-color: #66CC66'>lithium</span> for 6 weeks. <span style='background-color: #66CC66'>Lithium</span>-treated WT <span style='background-color: #66CC66'>mice</span> had 19-fold increased urine output whereas treated <span style='background-color: #66CC66'>PKCa</span> KO animals had a 4-fold increase in output. <span style='background-color: #66CC66'>AQP2</span> and <span style='background-color: #66CC66'>UT-A1</span> expression was lowered in 6 week <span style='background-color: #66CC66'>lithium</span>-treated WT animals whereas in treated <span style='background-color: #66CC66'>PKCa</span> KO <span style='background-color: #66CC66'>mice</span>, <span style='background-color: #66CC66'>AQP2</span> was only reduced by 2-fold and <span style='background-color: #66CC66'>UT-A1</span> expression was unaffected. Urinary <span style='background-color: #66CC66'>sodium</span>, <span style='background-color: #66CC66'>potassium</span> and <span style='background-color: #66CC66'>calcium</span> were elevated in <span style='background-color: #66CC66'>lithium</span>-fed WT but not in <span style='background-color: #66CC66'>lithium</span>-fed <span style='background-color: #66CC66'>PKCa</span> KO <span style='background-color: #66CC66'>mice</span>. Our data show that ablation of <span style='background-color: #66CC66'>PKCa</span> preserves <span style='background-color: #66CC66'>AQP2</span> and <span style='background-color: #66CC66'>UT-A1</span> protein expression and localization in <span style='background-color: #66CC66'>lithium</span>-induced <span style='background-color: #66CC66'>NDI</span>, and prevents the development of the severe <span style='background-color: #66CC66'>polyuria</span> associated with <span style='background-color: #66CC66'>lithium</span> therapy."
      ],
      "text/plain": [
       "<IPython.core.display.HTML object>"
      ]
     },
     "execution_count": 13,
     "metadata": {},
     "output_type": "execute_result"
    }
   ],
   "source": [
    "from IPython.display import HTML\n",
    "\n",
    "label = highlight_entities_label(abstract, abstract_offset[0], entities)\n",
    "HTML(label)"
   ]
  },
  {
   "cell_type": "code",
   "execution_count": 14,
   "id": "ac1387a0-dd26-42bb-8c66-92917cf93f9f",
   "metadata": {
    "collapsed": true,
    "jupyter": {
     "outputs_hidden": true
    },
    "scrolled": true,
    "tags": []
   },
   "outputs": [
    {
     "ename": "TypeError",
     "evalue": "'NoneType' object is not iterable",
     "output_type": "error",
     "traceback": [
      "\u001b[0;31m---------------------------------------------------------------------------\u001b[0m",
      "\u001b[0;31mTypeError\u001b[0m                                 Traceback (most recent call last)",
      "Cell \u001b[0;32mIn[14], line 10\u001b[0m\n\u001b[1;32m      8\u001b[0m         final \u001b[38;5;241m=\u001b[39m re\u001b[38;5;241m.\u001b[39msub(\u001b[38;5;124m'\u001b[39m\u001b[38;5;124m(?i)\u001b[39m\u001b[38;5;124m'\u001b[39m\u001b[38;5;241m+\u001b[39mre\u001b[38;5;241m.\u001b[39mescape(entity_text), \u001b[38;5;28;01mlambda\u001b[39;00m m: left\u001b[38;5;241m+\u001b[39mentity_text\u001b[38;5;241m+\u001b[39mright, final)\n\u001b[1;32m      9\u001b[0m     \u001b[38;5;28;01mreturn\u001b[39;00m final\n\u001b[0;32m---> 10\u001b[0m predicted \u001b[38;5;241m=\u001b[39m \u001b[43mhighlight_entities_extracted\u001b[49m\u001b[43m(\u001b[49m\u001b[43mabstract\u001b[49m\u001b[43m,\u001b[49m\u001b[43m \u001b[49m\u001b[43mentities_extracted\u001b[49m\u001b[43m)\u001b[49m\n\u001b[1;32m     11\u001b[0m HTML(predicted)\n",
      "Cell \u001b[0;32mIn[14], line 6\u001b[0m, in \u001b[0;36mhighlight_entities_extracted\u001b[0;34m(s, entities, color)\u001b[0m\n\u001b[1;32m      4\u001b[0m right \u001b[38;5;241m=\u001b[39m \u001b[38;5;124m\"\u001b[39m\u001b[38;5;124m</span>\u001b[39m\u001b[38;5;124m\"\u001b[39m\n\u001b[1;32m      5\u001b[0m final \u001b[38;5;241m=\u001b[39m s[:]\n\u001b[0;32m----> 6\u001b[0m \u001b[38;5;28;01mfor\u001b[39;00m entity \u001b[38;5;129;01min\u001b[39;00m entities:\n\u001b[1;32m      7\u001b[0m     entity_text \u001b[38;5;241m=\u001b[39m entity[\u001b[38;5;124m'\u001b[39m\u001b[38;5;124mentity\u001b[39m\u001b[38;5;124m'\u001b[39m]\n\u001b[1;32m      8\u001b[0m     final \u001b[38;5;241m=\u001b[39m re\u001b[38;5;241m.\u001b[39msub(\u001b[38;5;124m'\u001b[39m\u001b[38;5;124m(?i)\u001b[39m\u001b[38;5;124m'\u001b[39m\u001b[38;5;241m+\u001b[39mre\u001b[38;5;241m.\u001b[39mescape(entity_text), \u001b[38;5;28;01mlambda\u001b[39;00m m: left\u001b[38;5;241m+\u001b[39mentity_text\u001b[38;5;241m+\u001b[39mright, final)\n",
      "\u001b[0;31mTypeError\u001b[0m: 'NoneType' object is not iterable"
     ]
    }
   ],
   "source": [
    "def highlight_entities_extracted(s, entities, color='#00CCFF'):\n",
    "    import re\n",
    "    left = f\"<span style='background-color: {color}'>\"\n",
    "    right = \"</span>\"\n",
    "    final = s[:]\n",
    "    for entity in entities:\n",
    "        entity_text = entity['entity']\n",
    "        final = re.sub('(?i)'+re.escape(entity_text), lambda m: left+entity_text+right, final)\n",
    "    return final\n",
    "predicted = highlight_entities_extracted(abstract, entities_extracted)\n",
    "HTML(predicted)"
   ]
  },
  {
   "cell_type": "code",
   "execution_count": 25,
   "id": "dc04aadb-db35-4193-8dc7-4e72bbce8e3f",
   "metadata": {
    "collapsed": true,
    "jupyter": {
     "outputs_hidden": true
    },
    "scrolled": true,
    "tags": []
   },
   "outputs": [
    {
     "data": {
      "text/plain": [
       "[{'entity': 'Congenital long QT syndrome (LQTS)',\n",
       "  'importance': 5,\n",
       "  'category': 'Disease',\n",
       "  'pmid': '15485686',\n",
       "  'type': 'abstract'},\n",
       " {'entity': 'In utero onset of rhythm disturbances',\n",
       "  'importance': 3,\n",
       "  'category': 'BiologicalProcess',\n",
       "  'pmid': '15485686',\n",
       "  'type': 'abstract'},\n",
       " {'entity': 'Newborn patient',\n",
       "  'importance': 4,\n",
       "  'category': 'Anatomy',\n",
       "  'pmid': '15485686',\n",
       "  'type': 'abstract'},\n",
       " {'entity': 'Fetal bradycardia',\n",
       "  'importance': 3,\n",
       "  'category': 'Symptom',\n",
       "  'pmid': '15485686',\n",
       "  'type': 'abstract'},\n",
       " {'entity': '2:1 atrioventricular block',\n",
       "  'importance': 4,\n",
       "  'category': 'Pathway',\n",
       "  'pmid': '15485686',\n",
       "  'type': 'abstract'},\n",
       " {'entity': 'Ventricular tachycardia',\n",
       "  'importance': 3,\n",
       "  'category': 'Symptom',\n",
       "  'pmid': '15485686',\n",
       "  'type': 'abstract'},\n",
       " {'entity': 'Mutational analysis and DNA sequencing',\n",
       "  'importance': 4,\n",
       "  'category': 'MolecularFunction',\n",
       "  'pmid': '15485686',\n",
       "  'type': 'abstract'},\n",
       " {'entity': 'Lidocaine infusion',\n",
       "  'importance': 3,\n",
       "  'category': 'Compound',\n",
       "  'pmid': '15485686',\n",
       "  'type': 'abstract'},\n",
       " {'entity': 'High dose of mexiletine',\n",
       "  'importance': 3,\n",
       "  'category': 'Compound',\n",
       "  'pmid': '15485686',\n",
       "  'type': 'abstract'},\n",
       " {'entity': 'Na(v)1.5 cardiac sodium channel',\n",
       "  'importance': 5,\n",
       "  'category': 'Anatomy',\n",
       "  'pmid': '15485686',\n",
       "  'type': 'abstract'},\n",
       " {'entity': 'Transmembrane segment 6 of domain IV',\n",
       "  'importance': 3,\n",
       "  'category': 'CellularComponent',\n",
       "  'pmid': '15485686',\n",
       "  'type': 'abstract'},\n",
       " {'entity': 'G-->A substitution at codon 1763',\n",
       "  'importance': 4,\n",
       "  'category': 'MolecularFunction',\n",
       "  'pmid': '15485686',\n",
       "  'type': 'abstract'},\n",
       " {'entity': 'Valine (GTG)',\n",
       "  'importance': 2,\n",
       "  'category': 'Compound',\n",
       "  'pmid': '15485686',\n",
       "  'type': 'abstract'},\n",
       " {'entity': 'Methionine (ATG)',\n",
       "  'importance': 2,\n",
       "  'category': 'Compound',\n",
       "  'pmid': '15485686',\n",
       "  'type': 'abstract'},\n",
       " {'entity': 'Persistent tetrodotoxin-sensitive but lidocaine-resistant current',\n",
       "  'importance': 4,\n",
       "  'category': 'Metabolite',\n",
       "  'pmid': '15485686',\n",
       "  'type': 'abstract'},\n",
       " {'entity': 'Positive shift of the steady-state inactivation curve',\n",
       "  'importance': 3,\n",
       "  'category': 'BiologicalProcess',\n",
       "  'pmid': '15485686',\n",
       "  'type': 'abstract'},\n",
       " {'entity': 'Steep activation curve',\n",
       "  'importance': 2,\n",
       "  'category': 'BiologicalProcess',\n",
       "  'pmid': '15485686',\n",
       "  'type': 'abstract'},\n",
       " {'entity': 'Faster recovery from inactivation',\n",
       "  'importance': 3,\n",
       "  'category': 'BiologicalProcess',\n",
       "  'pmid': '15485686',\n",
       "  'type': 'abstract'},\n",
       " {'entity': 'V1764M mutant',\n",
       "  'importance': 3,\n",
       "  'category': 'Mutation',\n",
       "  'pmid': '15485686',\n",
       "  'type': 'abstract'},\n",
       " {'entity': 'I1762A mutant',\n",
       "  'importance': 2,\n",
       "  'category': 'Mutation',\n",
       "  'pmid': '15485686',\n",
       "  'type': 'abstract'}]"
      ]
     },
     "execution_count": 25,
     "metadata": {},
     "output_type": "execute_result"
    }
   ],
   "source": [
    "entities_extracted"
   ]
  },
  {
   "cell_type": "code",
   "execution_count": 13,
   "id": "1bf78dc6-55dc-4842-a706-171e672b201c",
   "metadata": {
    "tags": []
   },
   "outputs": [],
   "source": []
  },
  {
   "cell_type": "code",
   "execution_count": 21,
   "id": "1cfc35ac-d352-4822-b83c-fe663ccd0c43",
   "metadata": {},
   "outputs": [],
   "source": [
    "import re"
   ]
  },
  {
   "cell_type": "code",
   "execution_count": 28,
   "id": "d26199a1-9207-493b-8334-212378e9a2de",
   "metadata": {
    "tags": []
   },
   "outputs": [],
   "source": [
    "confusion_matrix = {\"test\":[0,0,0]}\n",
    "categories = []\n",
    "\n",
    "def match_entity(entity_a, entity_b):\n",
    "    return entity_a['category'] == entity_b['category'] and\\\n",
    "model.query(entity_a['entity'], top_k=1)[2] == model.query(entity_b['entity'], top_k=1)[2]\n",
    "\n",
    "def macro_avg_f1_score(ans, gt):\n",
    "    # for sample_ans, sample_gt in zip(ans, gt):\n",
    "        # for category in categories:\n",
    "            # get all entities in the category\n",
    "    # ans_entities = [entity['entity']\n",
    "    #                 for entity in sample_ans if entity['category'] == category]\n",
    "    # ans_entities = [entity['entity'] for entity in ans]\n",
    "    # # gt_entities = [entity['text']\n",
    "    # #                for entity in sample_gt if entity['category'] == category]\n",
    "    # gt_entities = [entity['text'][0] for entity in gt]\n",
    "    # TP = len(set(ans_entities) & set(gt_entities))\n",
    "    # FP = len(set(ans_entities) - set(gt_entities))\n",
    "    # FN = len(set(gt_entities) - set(ans_entities))\n",
    "    # confusion_matrix[\"test\"][0] += TP\n",
    "    # confusion_matrix[\"test\"][1] += FP\n",
    "    # confusion_matrix[\"test\"][2] += FN\n",
    "    # f1_score = []\n",
    "    # # for category in categories:\n",
    "    # TP, FP, FN = confusion_matrix[\"test\"]\n",
    "    # precision = TP/(TP+FP) if TP+FP else float('nan')\n",
    "    # recall = TP/(TP+FN) if TP+FN else float('nan')\n",
    "    # f1_score.append(2*(precision * recall) / (precision + recall))\n",
    "    # return sum(f1_score) / len(f1_score)\n",
    "\n",
    "macro_avg_f1_score(entities_extracted, entities)"
   ]
  },
  {
   "cell_type": "code",
   "execution_count": 44,
   "id": "4faa1853-24fe-4d37-8d31-da9fa1f8c1da",
   "metadata": {
    "collapsed": true,
    "jupyter": {
     "outputs_hidden": true
    },
    "scrolled": true,
    "tags": []
   },
   "outputs": [
    {
     "data": {
      "text/plain": [
       "[{'entity': 'Congenital long QT syndrome (LQTS)',\n",
       "  'importance': 5,\n",
       "  'category': 'Disease',\n",
       "  'pmid': '15485686',\n",
       "  'type': 'abstract'},\n",
       " {'entity': 'In utero onset of rhythm disturbances',\n",
       "  'importance': 3,\n",
       "  'category': 'BiologicalProcess',\n",
       "  'pmid': '15485686',\n",
       "  'type': 'abstract'},\n",
       " {'entity': 'Newborn patient',\n",
       "  'importance': 4,\n",
       "  'category': 'Anatomy',\n",
       "  'pmid': '15485686',\n",
       "  'type': 'abstract'},\n",
       " {'entity': 'Fetal bradycardia',\n",
       "  'importance': 3,\n",
       "  'category': 'Symptom',\n",
       "  'pmid': '15485686',\n",
       "  'type': 'abstract'},\n",
       " {'entity': '2:1 atrioventricular block',\n",
       "  'importance': 4,\n",
       "  'category': 'Pathway',\n",
       "  'pmid': '15485686',\n",
       "  'type': 'abstract'},\n",
       " {'entity': 'Ventricular tachycardia',\n",
       "  'importance': 3,\n",
       "  'category': 'Symptom',\n",
       "  'pmid': '15485686',\n",
       "  'type': 'abstract'},\n",
       " {'entity': 'Mutational analysis and DNA sequencing',\n",
       "  'importance': 4,\n",
       "  'category': 'MolecularFunction',\n",
       "  'pmid': '15485686',\n",
       "  'type': 'abstract'},\n",
       " {'entity': 'Lidocaine infusion',\n",
       "  'importance': 3,\n",
       "  'category': 'Compound',\n",
       "  'pmid': '15485686',\n",
       "  'type': 'abstract'},\n",
       " {'entity': 'High dose of mexiletine',\n",
       "  'importance': 3,\n",
       "  'category': 'Compound',\n",
       "  'pmid': '15485686',\n",
       "  'type': 'abstract'},\n",
       " {'entity': 'Na(v)1.5 cardiac sodium channel',\n",
       "  'importance': 5,\n",
       "  'category': 'Anatomy',\n",
       "  'pmid': '15485686',\n",
       "  'type': 'abstract'},\n",
       " {'entity': 'Transmembrane segment 6 of domain IV',\n",
       "  'importance': 3,\n",
       "  'category': 'CellularComponent',\n",
       "  'pmid': '15485686',\n",
       "  'type': 'abstract'},\n",
       " {'entity': 'G-->A substitution at codon 1763',\n",
       "  'importance': 4,\n",
       "  'category': 'MolecularFunction',\n",
       "  'pmid': '15485686',\n",
       "  'type': 'abstract'},\n",
       " {'entity': 'Valine (GTG)',\n",
       "  'importance': 2,\n",
       "  'category': 'Compound',\n",
       "  'pmid': '15485686',\n",
       "  'type': 'abstract'},\n",
       " {'entity': 'Methionine (ATG)',\n",
       "  'importance': 2,\n",
       "  'category': 'Compound',\n",
       "  'pmid': '15485686',\n",
       "  'type': 'abstract'},\n",
       " {'entity': 'Persistent tetrodotoxin-sensitive but lidocaine-resistant current',\n",
       "  'importance': 4,\n",
       "  'category': 'Metabolite',\n",
       "  'pmid': '15485686',\n",
       "  'type': 'abstract'},\n",
       " {'entity': 'Positive shift of the steady-state inactivation curve',\n",
       "  'importance': 3,\n",
       "  'category': 'BiologicalProcess',\n",
       "  'pmid': '15485686',\n",
       "  'type': 'abstract'},\n",
       " {'entity': 'Steep activation curve',\n",
       "  'importance': 2,\n",
       "  'category': 'BiologicalProcess',\n",
       "  'pmid': '15485686',\n",
       "  'type': 'abstract'},\n",
       " {'entity': 'Faster recovery from inactivation',\n",
       "  'importance': 3,\n",
       "  'category': 'BiologicalProcess',\n",
       "  'pmid': '15485686',\n",
       "  'type': 'abstract'},\n",
       " {'entity': 'V1764M mutant',\n",
       "  'importance': 3,\n",
       "  'category': 'Mutation',\n",
       "  'pmid': '15485686',\n",
       "  'type': 'abstract'},\n",
       " {'entity': 'I1762A mutant',\n",
       "  'importance': 2,\n",
       "  'category': 'Mutation',\n",
       "  'pmid': '15485686',\n",
       "  'type': 'abstract'}]"
      ]
     },
     "execution_count": 44,
     "metadata": {},
     "output_type": "execute_result"
    }
   ],
   "source": [
    "entities_extracted"
   ]
  },
  {
   "cell_type": "code",
   "execution_count": 10,
   "id": "b1edc533-5c0f-4760-8b88-84e142aff668",
   "metadata": {
    "scrolled": true,
    "tags": []
   },
   "outputs": [
    {
     "data": {
      "text/plain": [
       "{'text': ['long QT syndrome'],\n",
       " 'offsets': [[56, 72]],\n",
       " 'concept_id': 'D008133',\n",
       " 'semantic_type_id': 'DiseaseOrPhenotypicFeature'}"
      ]
     },
     "execution_count": 10,
     "metadata": {},
     "output_type": "execute_result"
    }
   ],
   "source": [
    "entities[1]"
   ]
  },
  {
   "cell_type": "code",
   "execution_count": 11,
   "id": "29885e07-3b4d-4be2-ac6f-50d15fb1cdaa",
   "metadata": {
    "tags": []
   },
   "outputs": [
    {
     "data": {
      "text/plain": [
       "{'entity': 'Congenital long QT syndrome (LQTS)',\n",
       " 'importance': 5,\n",
       " 'category': 'Disease',\n",
       " 'pmid': '15485686',\n",
       " 'type': 'abstract'}"
      ]
     },
     "execution_count": 11,
     "metadata": {},
     "output_type": "execute_result"
    }
   ],
   "source": [
    "entities_extracted[0]"
   ]
  },
  {
   "cell_type": "code",
   "execution_count": 10,
   "id": "658036e5-52f5-4f40-9875-ec8bd370a1fc",
   "metadata": {},
   "outputs": [
    {
     "data": {
      "text/plain": [
       "{'CellLine',\n",
       " 'ChemicalEntity',\n",
       " 'DiseaseOrPhenotypicFeature',\n",
       " 'GeneOrGeneProduct',\n",
       " 'OrganismTaxon',\n",
       " 'SequenceVariant'}"
      ]
     },
     "execution_count": 10,
     "metadata": {},
     "output_type": "execute_result"
    }
   ],
   "source": [
    "set([j['semantic_type_id'] for i in datas[\"test\"] for j in i['entities']])"
   ]
  },
  {
   "cell_type": "code",
   "execution_count": 3,
   "id": "ba1393ce-3242-42a4-ad02-8f4cd40703fb",
   "metadata": {
    "tags": []
   },
   "outputs": [],
   "source": [
    "# PROXY\n",
    "import subprocess\n",
    "import os\n",
    "\n",
    "result = subprocess.run('bash -c \"source /etc/network_turbo && env | grep proxy\"', shell=True, capture_output=True, text=True)\n",
    "output = result.stdout\n",
    "for line in output.splitlines():\n",
    "    if '=' in line:\n",
    "        var, value = line.split('=', 1)\n",
    "        os.environ[var] = value\n",
    "    \n",
    "os.environ['HF_HOME'] = '/autodl-tmp/hf'\n",
    "\n",
    "\n",
    "from text2knowledge.normalizer import Normalizer"
   ]
  },
  {
   "cell_type": "code",
   "execution_count": 4,
   "id": "fa47c888-e7a8-4229-829b-214636eb7e42",
   "metadata": {
    "tags": []
   },
   "outputs": [],
   "source": [
    "class Arg:\n",
    "    def __init__(self, model_name_or_path, dictionary_path):\n",
    "        self.model_name_or_path = model_name_or_path\n",
    "        self.show_embeddings = False\n",
    "        self.show_predictions = True\n",
    "        self.dictionary_path = dictionary_path\n",
    "        self.use_cuda = True\n",
    "arg_d = Arg(\"dmis-lab/biosyn-biobert-ncbi-disease\", \"/root/text2knowledge/data/dictionary/merged/dict_Disease_20210630.txt\")\n",
    "arg_c = Arg(\"dmis-lab/biosyn-sapbert-bc5cdr-chemical\", \"/root/text2knowledge/data/dictionary/dict_ChemicalCompound_20210630.txt\")\n",
    "arg_m = Arg(\"dmis-lab/biosyn-sapbert-bc5cdr-chemical\", \"/root/text2knowledge/data/dictionary/yang/dict_Metabolite.txt\")\n",
    "arg_cc = Arg(\"dmis-lab/biosyn-sapbert-bc5cdr-chemical\", \"/root/text2knowledge/data/dictionary/yang/dict_CellularComponent.txt\")\n",
    "args_ccc = Arg(\"dmis-lab/biosyn-biobert-ncbi-disease\", \"/root/text2knowledge/data/dictionary/yang/dict_CellularComponent.txt\")"
   ]
  },
  {
   "cell_type": "code",
   "execution_count": 5,
   "id": "b804e89e",
   "metadata": {},
   "outputs": [
    {
     "name": "stderr",
     "output_type": "stream",
     "text": [
      "/root/miniconda3/lib/python3.8/site-packages/huggingface_hub/file_download.py:678: FutureWarning: 'cached_download' is the legacy way to download files from the HF hub, please consider upgrading to 'hf_hub_download'\n",
      "  warnings.warn(\n"
     ]
    },
    {
     "data": {
      "application/vnd.jupyter.widget-view+json": {
       "model_id": "17472394931643d3b0d1ffde36054bce",
       "version_major": 2,
       "version_minor": 0
      },
      "text/plain": [
       "sparse_encoder.pk:   0%|          | 0.00/68.5k [00:00<?, ?B/s]"
      ]
     },
     "metadata": {},
     "output_type": "display_data"
    },
    {
     "name": "stderr",
     "output_type": "stream",
     "text": [
      "/root/miniconda3/lib/python3.8/site-packages/sklearn/base.py:348: InconsistentVersionWarning: Trying to unpickle estimator TfidfTransformer from version 1.0.2 when using version 1.3.2. This might lead to breaking code or invalid results. Use at your own risk. For more info please refer to:\n",
      "https://scikit-learn.org/stable/model_persistence.html#security-maintainability-limitations\n",
      "  warnings.warn(\n",
      "/root/miniconda3/lib/python3.8/site-packages/sklearn/base.py:348: InconsistentVersionWarning: Trying to unpickle estimator TfidfVectorizer from version 1.0.2 when using version 1.3.2. This might lead to breaking code or invalid results. Use at your own risk. For more info please refer to:\n",
      "https://scikit-learn.org/stable/model_persistence.html#security-maintainability-limitations\n",
      "  warnings.warn(\n"
     ]
    },
    {
     "data": {
      "application/vnd.jupyter.widget-view+json": {
       "model_id": "bbce691868eb4c4a94819ef862274d37",
       "version_major": 2,
       "version_minor": 0
      },
      "text/plain": [
       "sparse_weight.pt:   0%|          | 0.00/824 [00:00<?, ?B/s]"
      ]
     },
     "metadata": {},
     "output_type": "display_data"
    },
    {
     "name": "stdout",
     "output_type": "stream",
     "text": [
      "Loaded dictionary from cached file /root/autodl-tmp/tmp/cached_biosyn-sapbert-bc2gn_dict_Gene.pk\n"
     ]
    }
   ],
   "source": [
    "gene_normalizer = Normalizer(Arg(\"dmis-lab/biosyn-sapbert-bc2gn\", \"/root/text2knowledge/data/dictionary/merged/dict_Gene.txt\"))"
   ]
  },
  {
   "cell_type": "code",
   "execution_count": 7,
   "id": "f508ac70",
   "metadata": {},
   "outputs": [
    {
     "data": {
      "text/plain": [
       "0.2550491213744335"
      ]
     },
     "execution_count": 7,
     "metadata": {},
     "output_type": "execute_result"
    }
   ],
   "source": [
    "s = [0.2, 0.21052631578947364, 0.12903225806451613, 0.5652173913043479, 0.10526315789473684, 0.34146341463414637, 0.19354838709677416, 0, 0.23529411764705882, 0, 0.39999999999999997, 0.5217391304347827, 0.5454545454545455, 0, 0.25454545454545446, 0.35714285714285715, 0.43902439024390244, 0.608695652173913, 0.15384615384615385, 0.38095238095238093, 0.13043478260869565, 0.37500000000000006, 0, 0.08333333333333333, 0.3333333333333333, 0.25, 0.31999999999999995, 0.27027027027027023, 0.689655172413793, 0.02898550724637681, 0.07692307692307691, 0.11764705882352941, 0.17777777777777776, 0.4666666666666667, 0.17391304347826086, 0.039215686274509796, 0, 0, 0.4, 0.3783783783783784, 0.14814814814814814, 0.0909090909090909, 0.15789473684210525, 0, 0.0625, 0, 0, 0.47619047619047616, 0.5, 0.3673469387755102, 0.5945945945945946, 0, 0.5294117647058824, 0, 0, 0.0909090909090909, 0.5, 0.368421052631579, 0.5135135135135135, 0.12121212121212123, 0.15384615384615385, 0.37037037037037035, 0.13157894736842107, 0.08695652173913042, 0.23076923076923078, 0.04444444444444445, 0.711111111111111, 0.20512820512820512, 0.8, 0.12903225806451615, 0, 0.04347826086956522, 0.6666666666666666, 0.8095238095238095, 0.7407407407407407, 0.09523809523809523, 0.5263157894736842, 0, 0.3333333333333333, 0.08695652173913045, 0.05405405405405406, 0.05263157894736842, 0.5, 0.15384615384615385, 0.4838709677419354, 0.05]\n",
    "sum(s) / len(s)"
   ]
  },
  {
   "cell_type": "code",
   "execution_count": null,
   "id": "aef37a9e",
   "metadata": {},
   "outputs": [],
   "source": []
  },
  {
   "cell_type": "code",
   "execution_count": 8,
   "id": "09393247",
   "metadata": {},
   "outputs": [
    {
     "name": "stderr",
     "output_type": "stream",
     "text": [
      "/root/miniconda3/lib/python3.8/site-packages/biosyn-0.1-py3.8.egg/biosyn/biosyn.py:26: UserWarning: To copy construct from a tensor, it is recommended to use sourceTensor.clone().detach() or sourceTensor.clone().detach().requires_grad_(True), rather than torch.tensor(sourceTensor).\n"
     ]
    },
    {
     "data": {
      "text/plain": [
       "{'mention': 'na v 1 5 cardiac sodium channel',\n",
       " 'predictions': [{'name': 'voltage-gated sodium channel subunit alpha Nav1.5',\n",
       "   'id': 'EntrezGene:6331'},\n",
       "  {'name': 'sodium channel, voltage-gated, type V, alpha',\n",
       "   'id': 'ENTREZ:20271'},\n",
       "  {'name': 'SCN5A', 'id': 'EntrezGene:6331|11311'},\n",
       "  {'name': 'voltage-gated sodium channel subunit alpha Nav1.1',\n",
       "   'id': 'EntrezGene:6323'},\n",
       "  {'name': 'voltage-gated sodium channel subunit alpha Nav1.3',\n",
       "   'id': 'EntrezGene:6328'}]}"
      ]
     },
     "execution_count": 8,
     "metadata": {},
     "output_type": "execute_result"
    }
   ],
   "source": [
    "gene_normalizer.normalize('Na(v)1.5 cardiac sodium channel')"
   ]
  },
  {
   "cell_type": "code",
   "execution_count": 3,
   "id": "0b54a5d7",
   "metadata": {},
   "outputs": [
    {
     "name": "stderr",
     "output_type": "stream",
     "text": [
      "/root/miniconda3/lib/python3.8/site-packages/huggingface_hub/file_download.py:678: FutureWarning: 'cached_download' is the legacy way to download files from the HF hub, please consider upgrading to 'hf_hub_download'\n",
      "  warnings.warn(\n",
      "/root/miniconda3/lib/python3.8/site-packages/sklearn/base.py:348: InconsistentVersionWarning: Trying to unpickle estimator TfidfTransformer from version 0.21.2 when using version 1.3.2. This might lead to breaking code or invalid results. Use at your own risk. For more info please refer to:\n",
      "https://scikit-learn.org/stable/model_persistence.html#security-maintainability-limitations\n",
      "  warnings.warn(\n",
      "/root/miniconda3/lib/python3.8/site-packages/sklearn/base.py:348: InconsistentVersionWarning: Trying to unpickle estimator TfidfVectorizer from version 0.21.2 when using version 1.3.2. This might lead to breaking code or invalid results. Use at your own risk. For more info please refer to:\n",
      "https://scikit-learn.org/stable/model_persistence.html#security-maintainability-limitations\n",
      "  warnings.warn(\n"
     ]
    },
    {
     "name": "stdout",
     "output_type": "stream",
     "text": [
      "Loaded dictionary from cached file /root/autodl-tmp/tmp/cached_biosyn-biobert-ncbi-disease_dict_Disease.pk\n"
     ]
    }
   ],
   "source": [
    "disease_normalizer = Normalizer(Arg(\"dmis-lab/biosyn-biobert-ncbi-disease\", \"/root/text2knowledge/data/dictionary/merged/dict_Disease.txt\"))"
   ]
  },
  {
   "cell_type": "code",
   "execution_count": 4,
   "id": "40d646c1",
   "metadata": {},
   "outputs": [
    {
     "name": "stderr",
     "output_type": "stream",
     "text": [
      "/root/miniconda3/lib/python3.8/site-packages/biosyn-0.1-py3.8.egg/biosyn/biosyn.py:26: UserWarning: To copy construct from a tensor, it is recommended to use sourceTensor.clone().detach() or sourceTensor.clone().detach().requires_grad_(True), rather than torch.tensor(sourceTensor).\n"
     ]
    },
    {
     "data": {
      "text/plain": [
       "{'mention': 'death',\n",
       " 'predictions': [{'name': 'Death, Sudden|Sudden Death', 'id': 'MESH:D003645'},\n",
       "  {'name': 'exhaustion', 'id': 'SYMP:0000186'},\n",
       "  {'name': 'Familial Sudden Death', 'id': 'MESH:C566172'},\n",
       "  {'name': 'complete', 'id': 'MONDO:0700063'},\n",
       "  {'name': 'Cachexia', 'id': 'MESH:D002100'}]}"
      ]
     },
     "execution_count": 4,
     "metadata": {},
     "output_type": "execute_result"
    }
   ],
   "source": [
    "disease_normalizer.normalize('death')"
   ]
  },
  {
   "cell_type": "code",
   "execution_count": 5,
   "id": "42da6d53",
   "metadata": {},
   "outputs": [
    {
     "data": {
      "application/vnd.jupyter.widget-view+json": {
       "model_id": "b92b4633da174403abc50c0cc0e64f20",
       "version_major": 2,
       "version_minor": 0
      },
      "text/plain": [
       "pytorch_model.bin:   0%|          | 0.00/433M [00:00<?, ?B/s]"
      ]
     },
     "metadata": {},
     "output_type": "display_data"
    },
    {
     "data": {
      "application/vnd.jupyter.widget-view+json": {
       "model_id": "00e0d896dd6743dc8c47683b61e95fd8",
       "version_major": 2,
       "version_minor": 0
      },
      "text/plain": [
       "tokenizer_config.json:   0%|          | 0.00/359 [00:00<?, ?B/s]"
      ]
     },
     "metadata": {},
     "output_type": "display_data"
    },
    {
     "data": {
      "application/vnd.jupyter.widget-view+json": {
       "model_id": "b4179c14b7834bef91bcc56e70d53463",
       "version_major": 2,
       "version_minor": 0
      },
      "text/plain": [
       "vocab.txt:   0%|          | 0.00/213k [00:00<?, ?B/s]"
      ]
     },
     "metadata": {},
     "output_type": "display_data"
    },
    {
     "data": {
      "application/vnd.jupyter.widget-view+json": {
       "model_id": "b9b17f82d2f344668347f7f01b971920",
       "version_major": 2,
       "version_minor": 0
      },
      "text/plain": [
       "tokenizer.json:   0%|          | 0.00/436k [00:00<?, ?B/s]"
      ]
     },
     "metadata": {},
     "output_type": "display_data"
    },
    {
     "data": {
      "application/vnd.jupyter.widget-view+json": {
       "model_id": "5907c7d3e28b4e338044b44f8aab36ba",
       "version_major": 2,
       "version_minor": 0
      },
      "text/plain": [
       "special_tokens_map.json:   0%|          | 0.00/112 [00:00<?, ?B/s]"
      ]
     },
     "metadata": {},
     "output_type": "display_data"
    },
    {
     "data": {
      "application/vnd.jupyter.widget-view+json": {
       "model_id": "e0a9f8430b1f40aea4765f8a38b8947e",
       "version_major": 2,
       "version_minor": 0
      },
      "text/plain": [
       "sparse_encoder.pk:   0%|          | 0.00/66.9k [00:00<?, ?B/s]"
      ]
     },
     "metadata": {},
     "output_type": "display_data"
    },
    {
     "name": "stderr",
     "output_type": "stream",
     "text": [
      "/root/miniconda3/lib/python3.8/site-packages/sklearn/base.py:348: InconsistentVersionWarning: Trying to unpickle estimator TfidfTransformer from version 0.21.2 when using version 1.3.2. This might lead to breaking code or invalid results. Use at your own risk. For more info please refer to:\n",
      "https://scikit-learn.org/stable/model_persistence.html#security-maintainability-limitations\n",
      "  warnings.warn(\n",
      "/root/miniconda3/lib/python3.8/site-packages/sklearn/base.py:348: InconsistentVersionWarning: Trying to unpickle estimator TfidfVectorizer from version 0.21.2 when using version 1.3.2. This might lead to breaking code or invalid results. Use at your own risk. For more info please refer to:\n",
      "https://scikit-learn.org/stable/model_persistence.html#security-maintainability-limitations\n",
      "  warnings.warn(\n"
     ]
    },
    {
     "data": {
      "application/vnd.jupyter.widget-view+json": {
       "model_id": "ea553b1880ea4c139e73e9f3b630c570",
       "version_major": 2,
       "version_minor": 0
      },
      "text/plain": [
       "sparse_weight.pt:   0%|          | 0.00/392 [00:00<?, ?B/s]"
      ]
     },
     "metadata": {},
     "output_type": "display_data"
    }
   ],
   "source": [
    "chemical_normalizer3 = Normalizer(arg_cc)\n",
    "chemical_normalizer4 = Normalizer(args_ccc)"
   ]
  },
  {
   "cell_type": "code",
   "execution_count": 10,
   "id": "e3797bc9",
   "metadata": {},
   "outputs": [
    {
     "name": "stderr",
     "output_type": "stream",
     "text": [
      "/root/miniconda3/lib/python3.8/site-packages/biosyn-0.1-py3.8.egg/biosyn/biosyn.py:26: UserWarning: To copy construct from a tensor, it is recommended to use sourceTensor.clone().detach() or sourceTensor.clone().detach().requires_grad_(True), rather than torch.tensor(sourceTensor).\n",
      "  return {key: torch.tensor(val[idx]) for key, val in self.encodings.items()}\n"
     ]
    },
    {
     "name": "stdout",
     "output_type": "stream",
     "text": [
      "Loaded dictionary from cached file /root/autodl-tmp/tmp/cached_biosyn-sapbert-bc5cdr-chemical_dict_ChemicalCompound_20210630.pk\n"
     ]
    },
    {
     "data": {
      "text/plain": [
       "{'mention': 'cyclin dependent kinase',\n",
       " 'predictions': [{'name': 'EC 2.7.3.2 (creatine kinase) inhibitor|EC 2.7.3.2 (creatine kinase) inhibitors|CK inhibitors|creatine kinase inhibitor|creatine kinase (EC 2.7.3.2) inhibitor|creatine kinase (EC 2.7.3.2) inhibitors|CPK inhibitor|creatine phosphokinase inhibitors|creatine kinase inhibitors|CPK inhibitors|CK inhibitor|creatine phosphokinase inhibitor|cpkinhibitor|cpkinhibitors|creatinephosphokinaseinhibitor|ckinhibitors|creatinekinaseinhibitors|ckinhibitor|creatinekinaseinhibitor|creatinephosphokinaseinhibitors',\n",
       "   'id': 'CHEBI:73354'},\n",
       "  {'name': 'cladieunicellin K', 'id': 'MESH:C000588686'},\n",
       "  {'name': 'cyclic ketone|Cyclic ketone|cyclicketones|cyclicketone',\n",
       "   'id': 'CHEBI:3992'},\n",
       "  {'name': \"2',3'-dideoxycarbocyclic thymidine\", 'id': 'MESH:C585686'},\n",
       "  {'name': 'CpG-KSK13|cpgksk13', 'id': 'MESH:C544079'}]}"
      ]
     },
     "execution_count": 10,
     "metadata": {},
     "output_type": "execute_result"
    }
   ],
   "source": [
    "chemical_normalizer.normalize(\"Cyclin-dependent kinase\")"
   ]
  },
  {
   "cell_type": "code",
   "execution_count": 6,
   "id": "987aa674",
   "metadata": {},
   "outputs": [
    {
     "name": "stdout",
     "output_type": "stream",
     "text": [
      "Loaded dictionary from cached file /root/autodl-tmp/tmp/cached_biosyn-sapbert-bc5cdr-chemical_dict_CellularComponent.pk\n"
     ]
    },
    {
     "name": "stderr",
     "output_type": "stream",
     "text": [
      "/root/miniconda3/lib/python3.8/site-packages/biosyn-0.1-py3.8.egg/biosyn/biosyn.py:26: UserWarning: To copy construct from a tensor, it is recommended to use sourceTensor.clone().detach() or sourceTensor.clone().detach().requires_grad_(True), rather than torch.tensor(sourceTensor).\n",
      "  return {key: torch.tensor(val[idx]) for key, val in self.encodings.items()}\n"
     ]
    },
    {
     "data": {
      "text/plain": [
       "{'mention': 'cyclin dependent kinase',\n",
       " 'predictions': [{'name': 'cytoplasmic cyclin-dependent protein kinase holoenzyme complex|CDK holoenzyme',\n",
       "   'id': 'GO:0000308'},\n",
       "  {'name': 'cyclin-dependent protein kinase holoenzyme complex|CDK holoenzyme',\n",
       "   'id': 'GO:0000307'},\n",
       "  {'name': 'nuclear cyclin-dependent protein kinase holoenzyme complex|CDK holoenzyme',\n",
       "   'id': 'GO:0019908'},\n",
       "  {'name': 'cyclin E2-CDK2 complex', 'id': 'GO:0097135'},\n",
       "  {'name': 'cyclin D2-CDK6 complex', 'id': 'GO:0097132'}]}"
      ]
     },
     "execution_count": 6,
     "metadata": {},
     "output_type": "execute_result"
    }
   ],
   "source": [
    "chemical_normalizer3.normalize(\"Cyclin-dependent kinase\")"
   ]
  },
  {
   "cell_type": "code",
   "execution_count": 7,
   "id": "628e1591",
   "metadata": {},
   "outputs": [
    {
     "name": "stderr",
     "output_type": "stream",
     "text": [
      "/root/miniconda3/lib/python3.8/site-packages/biosyn-0.1-py3.8.egg/biosyn/biosyn.py:26: UserWarning: To copy construct from a tensor, it is recommended to use sourceTensor.clone().detach() or sourceTensor.clone().detach().requires_grad_(True), rather than torch.tensor(sourceTensor).\n",
      "  return {key: torch.tensor(val[idx]) for key, val in self.encodings.items()}\n",
      "100%|██████████| 4517/4517 [00:00<00:00, 614142.15it/s]\n",
      "100%|██████████| 5/5 [00:00<00:00, 21.65it/s]\n",
      "embedding dictionary: 100%|██████████| 5/5 [00:00<00:00,  5.93it/s]"
     ]
    },
    {
     "name": "stdout",
     "output_type": "stream",
     "text": [
      "Saving dictionary into cached file /root/autodl-tmp/tmp/cached_biosyn-biobert-ncbi-disease_dict_CellularComponent.pk\n"
     ]
    },
    {
     "name": "stderr",
     "output_type": "stream",
     "text": [
      "\n"
     ]
    },
    {
     "data": {
      "text/plain": [
       "{'mention': 'cyclin dependent kinase',\n",
       " 'predictions': [{'name': 'cytoplasmic cyclin-dependent protein kinase holoenzyme complex|CDK holoenzyme',\n",
       "   'id': 'GO:0000308'},\n",
       "  {'name': 'cyclin E1-CDK2 complex', 'id': 'GO:0097134'},\n",
       "  {'name': 'cyclin-dependent protein kinase holoenzyme complex|CDK holoenzyme',\n",
       "   'id': 'GO:0000307'},\n",
       "  {'name': 'cyclin D2-CDK6 complex', 'id': 'GO:0097132'},\n",
       "  {'name': 'cyclin E2-CDK2 complex', 'id': 'GO:0097135'}]}"
      ]
     },
     "execution_count": 7,
     "metadata": {},
     "output_type": "execute_result"
    }
   ],
   "source": [
    "chemical_normalizer4.normalize(\"Cyclin-dependent kinase\")"
   ]
  },
  {
   "cell_type": "code",
   "execution_count": 7,
   "id": "2d47c767",
   "metadata": {},
   "outputs": [
    {
     "name": "stdout",
     "output_type": "stream",
     "text": [
      "Loaded dictionary from cached file /root/autodl-tmp/tmp/cached_biosyn-sapbert-bc5cdr-chemical_dict_CellularComponent.pk\n"
     ]
    },
    {
     "data": {
      "text/plain": [
       "{'mention': 'phosphatidylinositol',\n",
       " 'predictions': [{'name': 'piP-body', 'id': 'GO:0071547'},\n",
       "  {'name': 'polytene chromosome interband', 'id': 'GO:0005705'},\n",
       "  {'name': 'pterinosome', 'id': 'GO:0043700'},\n",
       "  {'name': 'Pi Mi complex', 'id': 'GO:0062071'},\n",
       "  {'name': 'plasma membrane|juxtamembrane|cellular membrane|cell membrane|cytoplasmic membrane|plasmalemma|integral component of plasma membrane|bacterial inner membrane|inner endospore membrane|plasma membrane lipid bilayer|integral to plasma membrane',\n",
       "   'id': 'GO:0005886'}]}"
      ]
     },
     "execution_count": 7,
     "metadata": {},
     "output_type": "execute_result"
    }
   ],
   "source": [
    "chemical_normalizer3.normalize(\"Phosphatidylinositol\")"
   ]
  },
  {
   "cell_type": "code",
   "execution_count": 5,
   "id": "6b57b766-6b76-46c4-aec4-d47c8c26f1f9",
   "metadata": {
    "tags": []
   },
   "outputs": [
    {
     "name": "stdout",
     "output_type": "stream",
     "text": [
      "Loaded dictionary from cached file ./tmp/cached_biosyn-biobert-ncbi-disease_dict_Disease_20210630.pk\n"
     ]
    },
    {
     "data": {
      "text/plain": [
       "{'mention': 'ovarian endometrioid cystadenofibroma',\n",
       " 'predictions': [{'name': 'Ovarian Fibromata', 'id': 'MESH:C562391'},\n",
       "  {'name': 'Ovarian gynandroblastoma', 'id': 'MESH:C538459'},\n",
       "  {'name': 'Teratoma, Ovarian|Dermoid Cyst, Ovarian', 'id': 'MESH:C562731'},\n",
       "  {'name': 'Androblastoma of ovary|Sertoli-leydig cell tumor of the ovary',\n",
       "   'id': 'MESH:C537588'},\n",
       "  {'name': 'Neonatal ovarian cyst|Fetal ovarian cyst', 'id': 'MESH:C536396'}]}"
      ]
     },
     "execution_count": 5,
     "metadata": {},
     "output_type": "execute_result"
    }
   ],
   "source": [
    "disease_normalizer.normalize(\"ovarian endometrioid cystadenofibroma\")"
   ]
  },
  {
   "cell_type": "code",
   "execution_count": 6,
   "id": "72e4e708",
   "metadata": {},
   "outputs": [
    {
     "name": "stdout",
     "output_type": "stream",
     "text": [
      "Loaded dictionary from cached file ./tmp/cached_biosyn-biobert-ncbi-disease_dict_Disease_20210630.pk\n"
     ]
    },
    {
     "data": {
      "text/plain": [
       "{'mention': 'hypochondriacal disorder',\n",
       " 'predictions': [{'name': 'Hypochondriacal neurosis|Hypochondria|HYPOCHONDRIASIS|Hypochondriacal Neuroses|hypochondriacal neurosis|Hypochondriacal disorder|Hypochondriasis|Hypochondriacal Neurosis|Neurosis, Hypochondriacal',\n",
       "   'id': 'MESH:D006998'},\n",
       "  {'name': 'Premenstrual Dysphoric Disorder|Disorder, Premenstrual Dysphoric|Dysphoric Disorder, Premenstrual|Premenstrual Dysphoric Syndrome|Syndrome, Premenstrual Dysphoric',\n",
       "   'id': 'MESH:D065446'},\n",
       "  {'name': 'Schizophrenia and Disorders with Psychotic Features',\n",
       "   'id': 'MESH:D019967'},\n",
       "  {'name': 'Trauma and Stressor Related Disorders|', 'id': 'MESH:D000068099'},\n",
       "  {'name': 'Ameloonychohypohidrotic syndrome|Hypocalcified-hypoplastic enamel, onycholysis with subungual hyperkeratosis, and hypohidrosis',\n",
       "   'id': 'MESH:C538245'}]}"
      ]
     },
     "execution_count": 6,
     "metadata": {},
     "output_type": "execute_result"
    }
   ],
   "source": [
    "disease_normalizer.normalize(\"hypochondriacal disorder\")"
   ]
  },
  {
   "cell_type": "code",
   "execution_count": null,
   "id": "e56a3d71",
   "metadata": {},
   "outputs": [],
   "source": []
  },
  {
   "cell_type": "code",
   "execution_count": 21,
   "id": "58c1d39f-bd1f-4d69-8e18-c0f22a22a44f",
   "metadata": {
    "tags": []
   },
   "outputs": [
    {
     "name": "stdout",
     "output_type": "stream",
     "text": [
      "Loaded dictionary from cached file ./tmp/cached_biosyn-biobert-ncbi-disease_dict_Disease_20210630.pk\n",
      "{'mention': 'nephrogenic diabetes insipidus ndi',\n",
      " 'predictions': [{'name': 'diabetes insipidus, nephrogenic, x-linked|congenital nephrogenic diabetes insipidus|diabetes insipidus, nephrogenic, type ii|vasopressin-resistant diabetes insipidus|nephrogenic diabetes insipidus, type is|diabetes insipidus, nephrogenic, autosomal|acquired nephrogenic diabetes insipiduses|congenital nephrogenic diabetes insipiduses|acquired nephrogenic diabetes insipidus|diabetes insipidus renalis|adh-resistant diabetes insipidus|nephrogenic diabetes insipidus|adh-resistant diabetes insipiduses|diabetes insipidus, nephrogenics|diabetes insipidus, nephrogenic, type 1|diabetes insipidus, nephrogenic|diabetes insipidus, nephrogenic, type i|nephrogenic diabetes insipidus, type iis|nephrogenic diabetes insipidus, type i|nephrogenic diabetes insipidus, type ii|vasopressin resistant diabetes insipidus|Familial nephrogenic diabetes insipidus|Congenital nephrogenic diabetes insipidus|ADH-resistant diabetes insipidus|Renal diabetes insipidus|Hereditary nephrogenic diabetes insipidus|Vasopressin-resistant diabetes insipidus|Vasopressin-resistant hyposthenuria|Diabetes Insipidus, Nephrogenic|Nephrogenic diabetes insipidus|NDI - Nephrogenic diabetes insipidus|DIABETES INSIPIDUS NEPHROGENIC|Acquired nephrogenic diabetes insipidus|-Acquired Nephrogenic Diabetes Insipidus|Secondary nephrogenic diabetes insipidus|Acquired Nephrogenic Diabetes Insipidus|ADH-Resistant Diabetes Insipidus|Congenital Nephrogenic Diabetes Insipidus|Diabetes Insipidus, Nephrogenic, Autosomal|Diabetes Insipidus, Nephrogenic, Type 1|Diabetes Insipidus, Nephrogenic, Type I|Diabetes Insipidus, Nephrogenic, Type II|Diabetes Insipidus, Nephrogenic, X-Linked|Diabetes Insipidus Renalis|Nephrogenic Diabetes Insipidus|Nephrogenic Diabetes Insipidus, Type I|Nephrogenic Diabetes Insipidus, Type II|Vasopressin-Resistant Diabetes Insipidus',\n",
      "                  'id': 'OMIM:125800,MESH:D018500'},\n",
      "                 {'name': 'Dipsogenic Diabetes Insipidus',\n",
      "                  'id': 'MESH:C548013'},\n",
      "                 {'name': 'Diabetes Mellitus, Noninsulin-Dependent, 1|Noninsulin-Dependent Diabetes Mellitus 1',\n",
      "                  'id': 'OMIM:601283,MESH:C563359'},\n",
      "                 {'name': 'diabetes insipiduses|diabetes insipidus|DI - Diabetes insipidus|Diabetes insipidus|Diabetes insipidus (disorder)|Diabetes Insipidus',\n",
      "                  'id': 'MESH:D003919'},\n",
      "                 {'name': 'Nephrogenic Syndrome of Inappropriate Antidiuresis|NSIAD',\n",
      "                  'id': 'OMIM:300539,MESH:C564491'}]}\n"
     ]
    }
   ],
   "source": [
    "import pprint\n",
    "for disease_entity in disease_entities_extracted:\n",
    "    result = disease_normalizer.normalize(disease_entity[\"entity\"])\n",
    "    pprint.pp(result)"
   ]
  },
  {
   "cell_type": "code",
   "execution_count": 6,
   "id": "c92943f7-fd60-48c1-8eb2-9df3792f7f45",
   "metadata": {
    "tags": []
   },
   "outputs": [
    {
     "ename": "NameError",
     "evalue": "name 'entities_extracted' is not defined",
     "output_type": "error",
     "traceback": [
      "\u001b[0;31m---------------------------------------------------------------------------\u001b[0m",
      "\u001b[0;31mNameError\u001b[0m                                 Traceback (most recent call last)",
      "Cell \u001b[0;32mIn[6], line 33\u001b[0m\n\u001b[1;32m      9\u001b[0m     \u001b[38;5;28;01mpass\u001b[39;00m\n\u001b[1;32m     10\u001b[0m     \u001b[38;5;66;03m# for sample_ans, sample_gt in zip(ans, gt):\u001b[39;00m\n\u001b[1;32m     11\u001b[0m         \u001b[38;5;66;03m# for category in categories:\u001b[39;00m\n\u001b[1;32m     12\u001b[0m             \u001b[38;5;66;03m# get all entities in the category\u001b[39;00m\n\u001b[0;32m   (...)\u001b[0m\n\u001b[1;32m     30\u001b[0m     \u001b[38;5;66;03m# f1_score.append(2*(precision * recall) / (precision + recall))\u001b[39;00m\n\u001b[1;32m     31\u001b[0m     \u001b[38;5;66;03m# return sum(f1_score) / len(f1_score)\u001b[39;00m\n\u001b[0;32m---> 33\u001b[0m macro_avg_f1_score(\u001b[43mentities_extracted\u001b[49m, entities)\n",
      "\u001b[0;31mNameError\u001b[0m: name 'entities_extracted' is not defined"
     ]
    }
   ],
   "source": [
    "confusion_matrix = {\"test\":[0,0,0]}\n",
    "categories = []\n",
    "\n",
    "def match_entity(entity_a, entity_b):\n",
    "    return entity_a['category'] == entity_b['category'] and\\\n",
    "model.query(entity_a['entity'], top_k=1)[2] == model.query(entity_b['entity'], top_k=1)[2]\n",
    "\n",
    "def macro_avg_f1_score(ans, gt):\n",
    "    pass\n",
    "    # for sample_ans, sample_gt in zip(ans, gt):\n",
    "        # for category in categories:\n",
    "            # get all entities in the category\n",
    "    # ans_entities = [entity['entity']\n",
    "    #                 for entity in sample_ans if entity['category'] == category]\n",
    "    # ans_entities = [entity['entity'] for entity in ans]\n",
    "    # # gt_entities = [entity['text']\n",
    "    # #                for entity in sample_gt if entity['category'] == category]\n",
    "    # gt_entities = [entity['text'][0] for entity in gt]\n",
    "    # TP = len(set(ans_entities) & set(gt_entities))\n",
    "    # FP = len(set(ans_entities) - set(gt_entities))\n",
    "    # FN = len(set(gt_entities) - set(ans_entities))\n",
    "    # confusion_matrix[\"test\"][0] += TP\n",
    "    # confusion_matrix[\"test\"][1] += FP\n",
    "    # confusion_matrix[\"test\"][2] += FN\n",
    "    # f1_score = []\n",
    "    # # for category in categories:\n",
    "    # TP, FP, FN = confusion_matrix[\"test\"]\n",
    "    # precision = TP/(TP+FP) if TP+FP else float('nan')\n",
    "    # recall = TP/(TP+FN) if TP+FN else float('nan')\n",
    "    # f1_score.append(2*(precision * recall) / (precision + recall))\n",
    "    # return sum(f1_score) / len(f1_score)\n",
    "\n",
    "macro_avg_f1_score(entities_extracted, entities)"
   ]
  },
  {
   "cell_type": "code",
   "execution_count": 1,
   "id": "abbdb50e-bfda-4fdf-9bdf-47ef3a023efb",
   "metadata": {
    "tags": []
   },
   "outputs": [
    {
     "data": {
      "text/plain": [
       "1"
      ]
     },
     "execution_count": 1,
     "metadata": {},
     "output_type": "execute_result"
    }
   ],
   "source": [
    "1"
   ]
  },
  {
   "cell_type": "code",
   "execution_count": null,
   "id": "ce2c256e-5007-4a25-92d8-264294eea6c7",
   "metadata": {},
   "outputs": [],
   "source": []
  }
 ],
 "metadata": {
  "kernelspec": {
   "display_name": "Python 3 (ipykernel)",
   "language": "python",
   "name": "python3"
  },
  "language_info": {
   "codemirror_mode": {
    "name": "ipython",
    "version": 3
   },
   "file_extension": ".py",
   "mimetype": "text/x-python",
   "name": "python",
   "nbconvert_exporter": "python",
   "pygments_lexer": "ipython3",
   "version": "3.8.10"
  }
 },
 "nbformat": 4,
 "nbformat_minor": 5
}
