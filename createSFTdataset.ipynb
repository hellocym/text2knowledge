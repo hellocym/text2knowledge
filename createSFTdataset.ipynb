{
 "cells": [
  {
   "cell_type": "code",
   "execution_count": 1,
   "id": "c4a9d4d4-525b-4f0b-97c6-53616afd356c",
   "metadata": {
    "tags": []
   },
   "outputs": [],
   "source": [
    "# PROXY\n",
    "import subprocess\n",
    "import os\n",
    "\n",
    "result = subprocess.run('bash -c \"source /etc/network_turbo && env | grep proxy\"', shell=True, capture_output=True, text=True)\n",
    "output = result.stdout\n",
    "for line in output.splitlines():\n",
    "    if '=' in line:\n",
    "        var, value = line.split('=', 1)\n",
    "        os.environ[var] = value\n",
    "    \n",
    "os.environ['HF_HOME'] = '/autodl-tmp/hf'"
   ]
  },
  {
   "cell_type": "code",
   "execution_count": 2,
   "id": "d963d9ae-2107-47d7-a3c4-cce26546e5bd",
   "metadata": {
    "tags": []
   },
   "outputs": [
    {
     "name": "stderr",
     "output_type": "stream",
     "text": [
      "/root/miniconda3/lib/python3.8/site-packages/datasets/load.py:1461: FutureWarning: The repository for bigbio/biored contains custom code which must be executed to correctly load the dataset. You can inspect the repository content at https://hf.co/datasets/bigbio/biored\n",
      "You can avoid this message in future by passing the argument `trust_remote_code=True`.\n",
      "Passing `trust_remote_code=True` will be mandatory to load this dataset from the next major release of `datasets`.\n",
      "  warnings.warn(\n"
     ]
    }
   ],
   "source": [
    "from datasets import load_dataset\n",
    "datas = load_dataset(\"bigbio/biored\")"
   ]
  },
  {
   "cell_type": "code",
   "execution_count": 43,
   "id": "41479c19-993a-4a4a-af54-963d0290154f",
   "metadata": {},
   "outputs": [],
   "source": [
    "from pprint import pprint as print\n",
    "import json\n",
    "\n",
    "def categorize(s):\n",
    "    if s == 'ChemicalEntity':\n",
    "        return 'Compound'\n",
    "    if s == 'DiseaseOrPhenotypicFeature':\n",
    "        return 'Disease'\n",
    "    if s == 'GeneOrGeneProduct':\n",
    "        return 'Gene'\n",
    "    if s == 'CellLine':\n",
    "        return 'CellLine'\n",
    "\n",
    "dataset = []\n",
    "i = 0\n",
    "while i < len(datas['train']):\n",
    "    data = datas['train'][i]\n",
    "    passages = data['passages']\n",
    "    entities = data['entities']\n",
    "    abstract = passages[1]['text'][0]\n",
    "    # print(abstract)\n",
    "    # print(entities)\n",
    "    l = []\n",
    "\n",
    "    for e in entities:\n",
    "        s = e['semantic_type_id']\n",
    "        if s == 'ChemicalEntity':\n",
    "            c =  'Compound'\n",
    "        elif s == 'DiseaseOrPhenotypicFeature':\n",
    "            c = 'Disease'\n",
    "        elif s == 'GeneOrGeneProduct':\n",
    "            c = 'Gene'\n",
    "        elif s == 'CellLine':\n",
    "            c = 'CellLine'\n",
    "        else:\n",
    "            continue\n",
    "        l.append({\n",
    "             \"entity\": e['text'][0],\n",
    "            \"category\": c\n",
    "        })\n",
    "    \n",
    "    instruct = {\n",
    "        \"instruction\": \"\"\"To ensure the analysis is both comprehensive and accurate, it is crucial to identify and categorize biomedical entities from the text strictly according to the provided categories. Your output should only include entities that fit into the following categories: ['CellLine','ChemicalEntity','DiseaseOrPhenotypicFeature','GeneOrGeneProduct']. Any entities that do not align with these categories must be omitted.\n",
    "For each identified entity, detail the following in a JSON list format:\n",
    "- Entity name (it must be a biomedical entity precisely fitting into the provided categories)\n",
    "- The applicable category from the provided list\n",
    "Remember, adherence to the category list is non-negotiable. Continuous refinement should be based on aligning strictly with the provided categories, improving the accuracy and relevance of identified entities.\n",
    "You should ensure the output fits the json format, DO NOT add comments in any forms to category if there are more than one possible answers.\"\"\",\n",
    "        \"input\": abstract,\n",
    "        \"output\": str(l)\n",
    "    }\n",
    "    dataset.append(instruct)\n",
    "    i += 1"
   ]
  },
  {
   "cell_type": "code",
   "execution_count": 47,
   "id": "dda5a3a9-99f3-4a0a-9ac7-2dc669f970d4",
   "metadata": {
    "tags": []
   },
   "outputs": [],
   "source": [
    "with open('BioRed.json', 'w', encoding='utf-8') as f:\n",
    "    json.dump(dataset, f, ensure_ascii=False, indent=4)"
   ]
  },
  {
   "cell_type": "code",
   "execution_count": 45,
   "id": "eec0fd3b-ba74-438f-baf1-e51d1ee01328",
   "metadata": {
    "tags": []
   },
   "outputs": [
    {
     "data": {
      "text/plain": [
       "['Gene',\n",
       " 'Protein',\n",
       " 'Compound',\n",
       " 'Disease',\n",
       " 'Symptom',\n",
       " 'Pathway',\n",
       " 'Anatomy',\n",
       " 'Metabolite',\n",
       " 'MolecularFunction',\n",
       " 'BiologicalProcess',\n",
       " 'CellularComponent']"
      ]
     },
     "execution_count": 45,
     "metadata": {},
     "output_type": "execute_result"
    }
   ],
   "source": [
    "['Gene', 'Protein', 'Compound', 'Disease', 'Symptom', 'Pathway', 'Anatomy', 'Metabolite', 'MolecularFunction', 'BiologicalProcess', 'CellularComponent']"
   ]
  },
  {
   "cell_type": "code",
   "execution_count": 20,
   "id": "49dac9c1-f1e7-424e-bb19-9077e2d6e635",
   "metadata": {
    "tags": []
   },
   "outputs": [
    {
     "data": {
      "text/plain": [
       "{'CellLine',\n",
       " 'ChemicalEntity',\n",
       " 'DiseaseOrPhenotypicFeature',\n",
       " 'GeneOrGeneProduct',\n",
       " 'OrganismTaxon',\n",
       " 'SequenceVariant'}"
      ]
     },
     "execution_count": 20,
     "metadata": {},
     "output_type": "execute_result"
    }
   ],
   "source": [
    "set([j['semantic_type_id'] for i in datas[\"train\"] for j in i['entities']])"
   ]
  },
  {
   "cell_type": "code",
   "execution_count": null,
   "id": "8f84e153-9fff-47b2-a008-83fd9c2a2500",
   "metadata": {},
   "outputs": [],
   "source": []
  }
 ],
 "metadata": {
  "kernelspec": {
   "display_name": "Python 3 (ipykernel)",
   "language": "python",
   "name": "python3"
  },
  "language_info": {
   "codemirror_mode": {
    "name": "ipython",
    "version": 3
   },
   "file_extension": ".py",
   "mimetype": "text/x-python",
   "name": "python",
   "nbconvert_exporter": "python",
   "pygments_lexer": "ipython3",
   "version": "3.8.10"
  }
 },
 "nbformat": 4,
 "nbformat_minor": 5
}
