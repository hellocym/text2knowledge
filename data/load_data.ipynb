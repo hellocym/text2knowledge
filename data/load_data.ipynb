{
 "cells": [
  {
   "cell_type": "code",
   "execution_count": 16,
   "id": "21c5adda-316b-4dce-85ab-740c0acce8a0",
   "metadata": {},
   "outputs": [],
   "source": [
    "import subprocess\n",
    "import os\n",
    "\n",
    "result = subprocess.run('bash -c \"source /etc/network_turbo && env | grep proxy\"', shell=True, capture_output=True, text=True)\n",
    "output = result.stdout\n",
    "for line in output.splitlines():\n",
    "    if '=' in line:\n",
    "        var, value = line.split('=', 1)\n",
    "        os.environ[var] = value"
   ]
  },
  {
   "cell_type": "code",
   "execution_count": 17,
   "id": "27894ff7-10eb-488f-a646-afb61a7b096d",
   "metadata": {},
   "outputs": [],
   "source": [
    "import os\n",
    "os.environ['HF_HOME'] = '/root/autodl-tmp'"
   ]
  },
  {
   "cell_type": "code",
   "execution_count": 2,
   "id": "60af2ba7-212f-4f7e-be15-8bdebeea7463",
   "metadata": {},
   "outputs": [
    {
     "name": "stderr",
     "output_type": "stream",
     "text": [
      "/tmp/ipykernel_1883/3821747307.py:4: DtypeWarning: Columns (6,8) have mixed types. Specify dtype option on import or set low_memory=False.\n",
      "  df = pd.read_csv(file_path, sep='\\t')\n"
     ]
    }
   ],
   "source": [
    "import pandas as pd\n",
    "\n",
    "file_path = 'entities.tsv'\n",
    "df = pd.read_csv(file_path, sep='\\t')"
   ]
  },
  {
   "cell_type": "code",
   "execution_count": 11,
   "id": "861e0a63-f8f6-476d-aa2c-f035e08c3829",
   "metadata": {},
   "outputs": [
    {
     "data": {
      "text/plain": [
       "0                    obsolete sudden onset of severe chills\n",
       "1                                         dry hacking cough\n",
       "2                                   pulmonary consolidation\n",
       "3                                                  enanthem\n",
       "4                                                   anxiety\n",
       "                                ...                        \n",
       "814974                               IL-9 signaling pathway\n",
       "814975            Complement activation - classical pathway\n",
       "814976                                    Heme biosynthesis\n",
       "814977    FAS pathway and stress induction of HSP regula...\n",
       "814978          Hepatocyte growth factor receptor signaling\n",
       "Name: name, Length: 814979, dtype: object"
      ]
     },
     "execution_count": 11,
     "metadata": {},
     "output_type": "execute_result"
    }
   ],
   "source": [
    "df.loc[:,'name']"
   ]
  },
  {
   "cell_type": "code",
   "execution_count": 12,
   "id": "dc065178-9fdf-4a5e-9689-57521f60c376",
   "metadata": {},
   "outputs": [
    {
     "data": {
      "text/plain": [
       "0              SYMP:0000149\n",
       "1              SYMP:0000259\n",
       "2              SYMP:0000729\n",
       "3              SYMP:0000746\n",
       "4              SYMP:0000412\n",
       "                ...        \n",
       "814974     WikiPathways:WP8\n",
       "814975    WikiPathways:WP81\n",
       "814976    WikiPathways:WP86\n",
       "814977    WikiPathways:WP89\n",
       "814978    WikiPathways:WP94\n",
       "Name: id, Length: 814979, dtype: object"
      ]
     },
     "execution_count": 12,
     "metadata": {},
     "output_type": "execute_result"
    }
   ],
   "source": [
    "df.loc[:,'id']"
   ]
  },
  {
   "cell_type": "code",
   "execution_count": 19,
   "id": "6422e788-bef2-49f0-8c7a-b7079a186586",
   "metadata": {
    "scrolled": true
   },
   "outputs": [
    {
     "data": {
      "application/vnd.jupyter.widget-view+json": {
       "model_id": "f5897bf12ae44bd2bd11f51477edb216",
       "version_major": 2,
       "version_minor": 0
      },
      "text/plain": [
       "tokenizer_config.json:   0%|          | 0.00/28.0 [00:00<?, ?B/s]"
      ]
     },
     "metadata": {},
     "output_type": "display_data"
    },
    {
     "data": {
      "application/vnd.jupyter.widget-view+json": {
       "model_id": "232d4946f22f49beb057092fb415c054",
       "version_major": 2,
       "version_minor": 0
      },
      "text/plain": [
       "config.json:   0%|          | 0.00/385 [00:00<?, ?B/s]"
      ]
     },
     "metadata": {},
     "output_type": "display_data"
    },
    {
     "data": {
      "application/vnd.jupyter.widget-view+json": {
       "model_id": "ef2c2fc3ee7947c8bffcf6ad5493c92f",
       "version_major": 2,
       "version_minor": 0
      },
      "text/plain": [
       "vocab.txt:   0%|          | 0.00/226k [00:00<?, ?B/s]"
      ]
     },
     "metadata": {},
     "output_type": "display_data"
    },
    {
     "data": {
      "application/vnd.jupyter.widget-view+json": {
       "model_id": "35648e707d824c129460e85267f0a382",
       "version_major": 2,
       "version_minor": 0
      },
      "text/plain": [
       "pytorch_model.bin:   0%|          | 0.00/440M [00:00<?, ?B/s]"
      ]
     },
     "metadata": {},
     "output_type": "display_data"
    },
    {
     "name": "stderr",
     "output_type": "stream",
     "text": [
      "Some weights of the model checkpoint at microsoft/BiomedNLP-BiomedBERT-base-uncased-abstract-fulltext were not used when initializing BertModel: ['cls.seq_relationship.weight', 'cls.predictions.decoder.weight', 'cls.predictions.transform.LayerNorm.bias', 'cls.predictions.transform.LayerNorm.weight', 'cls.predictions.bias', 'cls.predictions.transform.dense.bias', 'cls.seq_relationship.bias', 'cls.predictions.transform.dense.weight', 'cls.predictions.decoder.bias']\n",
      "- This IS expected if you are initializing BertModel from the checkpoint of a model trained on another task or with another architecture (e.g. initializing a BertForSequenceClassification model from a BertForPreTraining model).\n",
      "- This IS NOT expected if you are initializing BertModel from the checkpoint of a model that you expect to be exactly identical (initializing a BertForSequenceClassification model from a BertForSequenceClassification model).\n"
     ]
    }
   ],
   "source": [
    "import transformers_embedder as tre\n",
    "\n",
    "tokenizer = tre.Tokenizer(\"microsoft/BiomedNLP-BiomedBERT-base-uncased-abstract-fulltext\")\n",
    "\n",
    "model = tre.TransformersEmbedder(\n",
    "    \"microsoft/BiomedNLP-BiomedBERT-base-uncased-abstract-fulltext\", subword_pooling_strategy=\"sparse\", layer_pooling_strategy=\"mean\"\n",
    ")\n",
    "\n",
    "example = \"This is a sample sentence\"\n",
    "inputs = tokenizer(example, return_tensors=True)"
   ]
  },
  {
   "cell_type": "code",
   "execution_count": 35,
   "id": "7b9528f7-8547-4068-8926-3b69f18e65cd",
   "metadata": {},
   "outputs": [
    {
     "data": {
      "text/plain": [
       "tensor(18.2025, grad_fn=<LinalgVectorNormBackward0>)"
      ]
     },
     "execution_count": 35,
     "metadata": {},
     "output_type": "execute_result"
    }
   ],
   "source": [
    "import torch\n",
    "\n",
    "outputs = model(**inputs)\n",
    "torch.norm(outputs.word_embeddings[:,1])"
   ]
  },
  {
   "cell_type": "code",
   "execution_count": null,
   "id": "f2ad71cd-ddce-450f-a53b-ac65cda33d4a",
   "metadata": {},
   "outputs": [],
   "source": []
  }
 ],
 "metadata": {
  "kernelspec": {
   "display_name": "Python 3 (ipykernel)",
   "language": "python",
   "name": "python3"
  },
  "language_info": {
   "codemirror_mode": {
    "name": "ipython",
    "version": 3
   },
   "file_extension": ".py",
   "mimetype": "text/x-python",
   "name": "python",
   "nbconvert_exporter": "python",
   "pygments_lexer": "ipython3",
   "version": "3.10.8"
  }
 },
 "nbformat": 4,
 "nbformat_minor": 5
}
