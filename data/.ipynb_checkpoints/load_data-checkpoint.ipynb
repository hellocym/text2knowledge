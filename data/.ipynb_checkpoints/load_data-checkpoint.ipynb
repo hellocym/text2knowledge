{
 "cells": [
  {
   "cell_type": "code",
   "execution_count": 2,
   "id": "60af2ba7-212f-4f7e-be15-8bdebeea7463",
   "metadata": {},
   "outputs": [
    {
     "name": "stderr",
     "output_type": "stream",
     "text": [
      "/tmp/ipykernel_1883/3821747307.py:4: DtypeWarning: Columns (6,8) have mixed types. Specify dtype option on import or set low_memory=False.\n",
      "  df = pd.read_csv(file_path, sep='\\t')\n"
     ]
    }
   ],
   "source": [
    "import pandas as pd\n",
    "\n",
    "file_path = 'entities.tsv'\n",
    "df = pd.read_csv(file_path, sep='\\t')"
   ]
  },
  {
   "cell_type": "code",
   "execution_count": 11,
   "id": "861e0a63-f8f6-476d-aa2c-f035e08c3829",
   "metadata": {},
   "outputs": [
    {
     "data": {
      "text/plain": [
       "0                    obsolete sudden onset of severe chills\n",
       "1                                         dry hacking cough\n",
       "2                                   pulmonary consolidation\n",
       "3                                                  enanthem\n",
       "4                                                   anxiety\n",
       "                                ...                        \n",
       "814974                               IL-9 signaling pathway\n",
       "814975            Complement activation - classical pathway\n",
       "814976                                    Heme biosynthesis\n",
       "814977    FAS pathway and stress induction of HSP regula...\n",
       "814978          Hepatocyte growth factor receptor signaling\n",
       "Name: name, Length: 814979, dtype: object"
      ]
     },
     "execution_count": 11,
     "metadata": {},
     "output_type": "execute_result"
    }
   ],
   "source": [
    "df.loc[:,'name']"
   ]
  },
  {
   "cell_type": "code",
   "execution_count": 12,
   "id": "dc065178-9fdf-4a5e-9689-57521f60c376",
   "metadata": {},
   "outputs": [
    {
     "data": {
      "text/plain": [
       "0              SYMP:0000149\n",
       "1              SYMP:0000259\n",
       "2              SYMP:0000729\n",
       "3              SYMP:0000746\n",
       "4              SYMP:0000412\n",
       "                ...        \n",
       "814974     WikiPathways:WP8\n",
       "814975    WikiPathways:WP81\n",
       "814976    WikiPathways:WP86\n",
       "814977    WikiPathways:WP89\n",
       "814978    WikiPathways:WP94\n",
       "Name: id, Length: 814979, dtype: object"
      ]
     },
     "execution_count": 12,
     "metadata": {},
     "output_type": "execute_result"
    }
   ],
   "source": [
    "df.loc[:,'id']"
   ]
  },
  {
   "cell_type": "code",
   "execution_count": null,
   "id": "6422e788-bef2-49f0-8c7a-b7079a186586",
   "metadata": {},
   "outputs": [],
   "source": []
  }
 ],
 "metadata": {
  "kernelspec": {
   "display_name": "Python 3 (ipykernel)",
   "language": "python",
   "name": "python3"
  },
  "language_info": {
   "codemirror_mode": {
    "name": "ipython",
    "version": 3
   },
   "file_extension": ".py",
   "mimetype": "text/x-python",
   "name": "python",
   "nbconvert_exporter": "python",
   "pygments_lexer": "ipython3",
   "version": "3.10.8"
  }
 },
 "nbformat": 4,
 "nbformat_minor": 5
}
