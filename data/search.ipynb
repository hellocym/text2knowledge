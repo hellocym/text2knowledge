{
 "cells": [
  {
   "cell_type": "code",
   "execution_count": 1,
   "id": "7fdf5d9e-a714-4451-a37e-2df44029ce83",
   "metadata": {
    "tags": []
   },
   "outputs": [],
   "source": [
    "import faiss"
   ]
  },
  {
   "cell_type": "code",
   "execution_count": 2,
   "id": "a83aab7a-12df-4b00-a3e6-0cb73e984e77",
   "metadata": {
    "tags": []
   },
   "outputs": [],
   "source": [
    "index = faiss.read_index(\"biovecs.index\")"
   ]
  },
  {
   "cell_type": "code",
   "execution_count": 3,
   "id": "561e0dfd-2802-4396-b48e-4833d3395b32",
   "metadata": {
    "tags": []
   },
   "outputs": [
    {
     "name": "stderr",
     "output_type": "stream",
     "text": [
      "Some weights of the model checkpoint at microsoft/BiomedNLP-BiomedBERT-base-uncased-abstract-fulltext were not used when initializing BertModel: ['cls.predictions.bias', 'cls.predictions.transform.LayerNorm.weight', 'cls.predictions.decoder.weight', 'cls.seq_relationship.weight', 'cls.predictions.transform.dense.bias', 'cls.seq_relationship.bias', 'cls.predictions.transform.dense.weight', 'cls.predictions.transform.LayerNorm.bias', 'cls.predictions.decoder.bias']\n",
      "- This IS expected if you are initializing BertModel from the checkpoint of a model trained on another task or with another architecture (e.g. initializing a BertForSequenceClassification model from a BertForPreTraining model).\n",
      "- This IS NOT expected if you are initializing BertModel from the checkpoint of a model that you expect to be exactly identical (initializing a BertForSequenceClassification model from a BertForSequenceClassification model).\n"
     ]
    }
   ],
   "source": [
    "import transformers_embedder as tre\n",
    "\n",
    "tokenizer = tre.Tokenizer(\"microsoft/BiomedNLP-BiomedBERT-base-uncased-abstract-fulltext\")\n",
    "\n",
    "model = tre.TransformersEmbedder(\n",
    "    \"microsoft/BiomedNLP-BiomedBERT-base-uncased-abstract-fulltext\", subword_pooling_strategy=\"sparse\", layer_pooling_strategy=\"mean\"\n",
    ")"
   ]
  },
  {
   "cell_type": "code",
   "execution_count": 3,
   "id": "80d35a4b-5105-4c17-a657-4cb81765b008",
   "metadata": {
    "tags": []
   },
   "outputs": [
    {
     "ename": "NameError",
     "evalue": "name 'tokenizer' is not defined",
     "output_type": "error",
     "traceback": [
      "\u001b[0;31m---------------------------------------------------------------------------\u001b[0m",
      "\u001b[0;31mNameError\u001b[0m                                 Traceback (most recent call last)",
      "Cell \u001b[0;32mIn[3], line 6\u001b[0m\n\u001b[1;32m      1\u001b[0m \u001b[38;5;28;01mimport\u001b[39;00m \u001b[38;5;21;01mtorch\u001b[39;00m\n\u001b[1;32m      4\u001b[0m example \u001b[38;5;241m=\u001b[39m \u001b[38;5;124m\"\u001b[39m\u001b[38;5;124mlong QT syndrome\u001b[39m\u001b[38;5;124m\"\u001b[39m\n\u001b[0;32m----> 6\u001b[0m inputs \u001b[38;5;241m=\u001b[39m \u001b[43mtokenizer\u001b[49m([example], return_tensors\u001b[38;5;241m=\u001b[39m\u001b[38;5;28;01mTrue\u001b[39;00m, padding\u001b[38;5;241m=\u001b[39m\u001b[38;5;28;01mTrue\u001b[39;00m)\n\u001b[1;32m      7\u001b[0m outputs \u001b[38;5;241m=\u001b[39m model(\u001b[38;5;241m*\u001b[39m\u001b[38;5;241m*\u001b[39minputs)\n\u001b[1;32m      8\u001b[0m embs \u001b[38;5;241m=\u001b[39m outputs\u001b[38;5;241m.\u001b[39mword_embeddings\n",
      "\u001b[0;31mNameError\u001b[0m: name 'tokenizer' is not defined"
     ]
    }
   ],
   "source": [
    "import torch\n",
    "\n",
    "\n",
    "example = \"long QT syndrome\"\n",
    "\n",
    "inputs = tokenizer([example], return_tensors=True, padding=True)\n",
    "outputs = model(**inputs)\n",
    "embs = outputs.word_embeddings"
   ]
  },
  {
   "cell_type": "code",
   "execution_count": null,
   "id": "b8216bd4-6e38-4522-91c6-4d5f2fcea1f4",
   "metadata": {
    "tags": []
   },
   "outputs": [],
   "source": [
    "q = (embs.sum(dim=1)/embs.shape[1]).detach().numpy()"
   ]
  },
  {
   "cell_type": "code",
   "execution_count": 29,
   "id": "fc3d19ca-0655-41d3-b6c2-23c5c1511e10",
   "metadata": {
    "tags": []
   },
   "outputs": [],
   "source": [
    "faiss.normalize_L2(q)"
   ]
  },
  {
   "cell_type": "code",
   "execution_count": 30,
   "id": "a72db4ba-5c7c-42af-ae63-5ff8ba11bd94",
   "metadata": {
    "tags": []
   },
   "outputs": [
    {
     "data": {
      "text/plain": [
       "(1, 768)"
      ]
     },
     "execution_count": 30,
     "metadata": {},
     "output_type": "execute_result"
    }
   ],
   "source": [
    "q.shape"
   ]
  },
  {
   "cell_type": "code",
   "execution_count": null,
   "id": "0e5a9360-1ae9-499b-8805-64796a499a4c",
   "metadata": {},
   "outputs": [],
   "source": []
  },
  {
   "cell_type": "code",
   "execution_count": 31,
   "id": "c208b9c6-d3a3-41d3-abda-1f78c8438987",
   "metadata": {
    "tags": []
   },
   "outputs": [],
   "source": [
    "import numpy as np\n",
    "\n",
    "k = 10\n",
    "D, I = index.search(q, k)"
   ]
  },
  {
   "cell_type": "code",
   "execution_count": 32,
   "id": "1368d66c-8ebc-44cd-ae2b-9ba26ca6f5ac",
   "metadata": {
    "tags": []
   },
   "outputs": [
    {
     "data": {
      "text/plain": [
       "array([[11832, 21876,  2749,  9339, 30463, 10193, 18950,  4606,  4001,\n",
       "         3963]])"
      ]
     },
     "execution_count": 32,
     "metadata": {},
     "output_type": "execute_result"
    }
   ],
   "source": [
    "I"
   ]
  },
  {
   "cell_type": "code",
   "execution_count": 33,
   "id": "dec8f7cd-6278-431a-93ce-26a87e5b9e85",
   "metadata": {
    "tags": []
   },
   "outputs": [
    {
     "data": {
      "text/plain": [
       "69644"
      ]
     },
     "execution_count": 33,
     "metadata": {},
     "output_type": "execute_result"
    }
   ],
   "source": [
    "index.ntotal"
   ]
  },
  {
   "cell_type": "code",
   "execution_count": 24,
   "id": "9cba2b29-cb27-4513-aafe-a0a0b337ae12",
   "metadata": {
    "tags": []
   },
   "outputs": [
    {
     "data": {
      "text/plain": [
       "array([[1.0000001 , 1.        , 0.97408867, 0.9739084 , 0.97290725,\n",
       "        0.97148776, 0.9711767 , 0.9706549 , 0.9706289 , 0.9706289 ]],\n",
       "      dtype=float32)"
      ]
     },
     "execution_count": 24,
     "metadata": {},
     "output_type": "execute_result"
    }
   ],
   "source": [
    "D"
   ]
  },
  {
   "cell_type": "code",
   "execution_count": null,
   "id": "58bac734-5bb5-4102-b33c-f7cd936e5871",
   "metadata": {},
   "outputs": [],
   "source": []
  }
 ],
 "metadata": {
  "kernelspec": {
   "display_name": "Python 3 (ipykernel)",
   "language": "python",
   "name": "python3"
  },
  "language_info": {
   "codemirror_mode": {
    "name": "ipython",
    "version": 3
   },
   "file_extension": ".py",
   "mimetype": "text/x-python",
   "name": "python",
   "nbconvert_exporter": "python",
   "pygments_lexer": "ipython3",
   "version": "3.8.10"
  }
 },
 "nbformat": 4,
 "nbformat_minor": 5
}
