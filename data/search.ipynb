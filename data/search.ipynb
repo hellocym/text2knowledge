{
 "cells": [
  {
   "cell_type": "code",
   "execution_count": 1,
   "id": "7fdf5d9e-a714-4451-a37e-2df44029ce83",
   "metadata": {
    "tags": []
   },
   "outputs": [],
   "source": [
    "import faiss"
   ]
  },
  {
   "cell_type": "code",
   "execution_count": 2,
   "id": "a83aab7a-12df-4b00-a3e6-0cb73e984e77",
   "metadata": {
    "tags": []
   },
   "outputs": [],
   "source": [
    "index = faiss.read_index(\"biovecs.index\")"
   ]
  },
  {
   "cell_type": "code",
   "execution_count": 4,
   "id": "561e0dfd-2802-4396-b48e-4833d3395b32",
   "metadata": {
    "tags": []
   },
   "outputs": [
    {
     "name": "stderr",
     "output_type": "stream",
     "text": [
      "Some weights of the model checkpoint at microsoft/BiomedNLP-BiomedBERT-base-uncased-abstract-fulltext were not used when initializing BertModel: ['cls.predictions.transform.dense.bias', 'cls.predictions.decoder.bias', 'cls.predictions.bias', 'cls.predictions.transform.LayerNorm.weight', 'cls.predictions.transform.LayerNorm.bias', 'cls.seq_relationship.weight', 'cls.seq_relationship.bias', 'cls.predictions.decoder.weight', 'cls.predictions.transform.dense.weight']\n",
      "- This IS expected if you are initializing BertModel from the checkpoint of a model trained on another task or with another architecture (e.g. initializing a BertForSequenceClassification model from a BertForPreTraining model).\n",
      "- This IS NOT expected if you are initializing BertModel from the checkpoint of a model that you expect to be exactly identical (initializing a BertForSequenceClassification model from a BertForSequenceClassification model).\n"
     ]
    }
   ],
   "source": [
    "import transformers_embedder as tre\n",
    "\n",
    "tokenizer = tre.Tokenizer(\"microsoft/BiomedNLP-BiomedBERT-base-uncased-abstract-fulltext\")\n",
    "\n",
    "model = tre.TransformersEmbedder(\n",
    "    \"microsoft/BiomedNLP-BiomedBERT-base-uncased-abstract-fulltext\", subword_pooling_strategy=\"sparse\", layer_pooling_strategy=\"mean\"\n",
    ")"
   ]
  },
  {
   "cell_type": "code",
   "execution_count": 5,
   "id": "80d35a4b-5105-4c17-a657-4cb81765b008",
   "metadata": {
    "tags": []
   },
   "outputs": [
    {
     "data": {
      "text/plain": [
       "tensor(18.0842, grad_fn=<LinalgVectorNormBackward0>)"
      ]
     },
     "execution_count": 5,
     "metadata": {},
     "output_type": "execute_result"
    }
   ],
   "source": [
    "import torch\n",
    "\n",
    "\n",
    "example = \"neck pain\"\n",
    "\n",
    "inputs = tokenizer([example], return_tensors=True, padding=True)\n",
    "outputs = model(**inputs)\n",
    "embs = outputs.word_embeddings"
   ]
  },
  {
   "cell_type": "code",
   "execution_count": 27,
   "id": "b8216bd4-6e38-4522-91c6-4d5f2fcea1f4",
   "metadata": {
    "tags": []
   },
   "outputs": [],
   "source": [
    "q = (embs.sum(dim=1)/embs.shape[1]).detach().numpy()"
   ]
  },
  {
   "cell_type": "code",
   "execution_count": 28,
   "id": "fc3d19ca-0655-41d3-b6c2-23c5c1511e10",
   "metadata": {
    "tags": []
   },
   "outputs": [],
   "source": [
    "faiss.normalize_L2(q)"
   ]
  },
  {
   "cell_type": "code",
   "execution_count": 29,
   "id": "a72db4ba-5c7c-42af-ae63-5ff8ba11bd94",
   "metadata": {
    "tags": []
   },
   "outputs": [
    {
     "data": {
      "text/plain": [
       "(1, 768)"
      ]
     },
     "execution_count": 29,
     "metadata": {},
     "output_type": "execute_result"
    }
   ],
   "source": [
    "q.shape"
   ]
  },
  {
   "cell_type": "code",
   "execution_count": null,
   "id": "0e5a9360-1ae9-499b-8805-64796a499a4c",
   "metadata": {},
   "outputs": [],
   "source": []
  },
  {
   "cell_type": "code",
   "execution_count": 30,
   "id": "c208b9c6-d3a3-41d3-abda-1f78c8438987",
   "metadata": {
    "tags": []
   },
   "outputs": [],
   "source": [
    "import numpy as np\n",
    "\n",
    "k = 10\n",
    "D, I = index.search(q, k)"
   ]
  },
  {
   "cell_type": "code",
   "execution_count": 31,
   "id": "1368d66c-8ebc-44cd-ae2b-9ba26ca6f5ac",
   "metadata": {
    "tags": []
   },
   "outputs": [
    {
     "data": {
      "text/plain": [
       "array([[ 1315,    17,   717,   648,  1323,   811,   146,  1045, 23246,\n",
       "          192]])"
      ]
     },
     "execution_count": 31,
     "metadata": {},
     "output_type": "execute_result"
    }
   ],
   "source": [
    "I"
   ]
  },
  {
   "cell_type": "code",
   "execution_count": null,
   "id": "dec8f7cd-6278-431a-93ce-26a87e5b9e85",
   "metadata": {},
   "outputs": [],
   "source": []
  }
 ],
 "metadata": {
  "kernelspec": {
   "display_name": "Python 3 (ipykernel)",
   "language": "python",
   "name": "python3"
  },
  "language_info": {
   "codemirror_mode": {
    "name": "ipython",
    "version": 3
   },
   "file_extension": ".py",
   "mimetype": "text/x-python",
   "name": "python",
   "nbconvert_exporter": "python",
   "pygments_lexer": "ipython3",
   "version": "3.8.10"
  }
 },
 "nbformat": 4,
 "nbformat_minor": 5
}
