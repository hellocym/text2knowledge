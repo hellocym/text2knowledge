{
 "cells": [
  {
   "cell_type": "code",
   "execution_count": 1,
   "metadata": {},
   "outputs": [
    {
     "name": "stderr",
     "output_type": "stream",
     "text": [
      "/var/folders/n2/3051ffsn14v1vp9h7j67ql2w0000gn/T/ipykernel_55102/3821747307.py:4: DtypeWarning: Columns (5,6,8) have mixed types. Specify dtype option on import or set low_memory=False.\n",
      "  df = pd.read_csv(file_path, sep='\\t')\n"
     ]
    }
   ],
   "source": [
    "import pandas as pd\n",
    "\n",
    "file_path = 'entities.tsv'\n",
    "df = pd.read_csv(file_path, sep='\\t')"
   ]
  },
  {
   "cell_type": "code",
   "execution_count": 6,
   "metadata": {},
   "outputs": [
    {
     "data": {
      "text/plain": [
       "array(['Symptom', 'Disease', 'Gene', 'MolecularFunction',\n",
       "       'CellularComponent', 'Metabolite', 'BiologicalProcess',\n",
       "       'PharmacologicClass', 'Anatomy', 'SideEffect', 'Compound',\n",
       "       'Pathway'], dtype=object)"
      ]
     },
     "execution_count": 6,
     "metadata": {},
     "output_type": "execute_result"
    }
   ],
   "source": [
    "df['label'].unique()"
   ]
  },
  {
   "cell_type": "code",
   "execution_count": null,
   "metadata": {},
   "outputs": [],
   "source": [
    "for label in df['label'].unique():\n",
    "    # 筛选所有标签为label的行\n",
    "    rows = df[df['label'] == label]\n",
    "    # 将这些行以id||name的形式，存到dictionary/dict_{label}.txt中\n",
    "    with open(f'dictionary/merged/dict_{label}.txt', 'w') as f:\n",
    "        for _, row in rows.iterrows():\n",
    "            f.write(f'{row[\"id\"]}||{row[\"name\"]}\\n')"
   ]
  },
  {
   "cell_type": "code",
   "execution_count": 10,
   "metadata": {},
   "outputs": [],
   "source": [
    "# 将所有txt合并存到dictionary/dict.txt\n",
    "\n",
    "import os\n",
    "\n",
    "for fn in os.listdir('dictionary/merged'):\n",
    "    if fn.endswith('.txt'):\n",
    "        with open('dictionary/merged/'+fn, 'r') as f:\n",
    "            for line in f:\n",
    "                with open('dictionary/dict.txt', 'a') as f:\n",
    "                    f.write(line)"
   ]
  },
  {
   "cell_type": "code",
   "execution_count": null,
   "metadata": {},
   "outputs": [],
   "source": []
  }
 ],
 "metadata": {
  "kernelspec": {
   "display_name": "Python 3",
   "language": "python",
   "name": "python3"
  },
  "language_info": {
   "codemirror_mode": {
    "name": "ipython",
    "version": 3
   },
   "file_extension": ".py",
   "mimetype": "text/x-python",
   "name": "python",
   "nbconvert_exporter": "python",
   "pygments_lexer": "ipython3",
   "version": "3.11.11"
  }
 },
 "nbformat": 4,
 "nbformat_minor": 2
}
