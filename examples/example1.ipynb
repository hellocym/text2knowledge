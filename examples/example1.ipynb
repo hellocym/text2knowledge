{
 "cells": [
  {
   "cell_type": "code",
   "execution_count": null,
   "metadata": {},
   "outputs": [],
   "source": [
    "import scipdf"
   ]
  },
  {
   "cell_type": "code",
   "execution_count": null,
   "metadata": {},
   "outputs": [],
   "source": [
    "article_dict = scipdf.parse_pdf_to_dict(\"./input/pdf_37231448.pdf\", grobid_url=\"https://kermitt2-grobid.hf.space\")"
   ]
  },
  {
   "cell_type": "code",
   "execution_count": null,
   "metadata": {},
   "outputs": [],
   "source": [
    "scipdf.parse_figures('./input/', output_folder='figures')"
   ]
  },
  {
   "cell_type": "code",
   "execution_count": 1,
   "metadata": {},
   "outputs": [],
   "source": [
    "import re\n",
    "import time\n",
    "from selenium import webdriver\n",
    "from selenium.webdriver.chrome.options import Options\n",
    "from selenium.webdriver.common.by import By\n",
    "from selenium.webdriver.common.keys import Keys\n",
    "\n",
    "# Start a webdriver instance and open ChatGPT\n",
    "chrome_options = Options()\n",
    "# You need to launch another chrome instance with the --remote-debugging-port=9222 flag. The instance contains all the cookies and login information. So you can keep your login information in the browser and use it in the webdriver instance.\n",
    "# If you use macOS, you can use the following command to launch another chrome instance:\n",
    "# /Applications/Google\\ Chrome.app/Contents/MacOS/Google\\ Chrome --remote-debugging-port=9222\n",
    "# NOTICE: You need to close all other chrome instances before launching the new one.\n",
    "# If you launch chrome successfully, you can see the following message:\n",
    "# DevTools listening on ws://127.0.0.1:9222/devtools/browser/ef03fa20-25f2-4c27-ac46-d56403301a40\n",
    "chrome_options.debugger_address = \"localhost:9222\"\n",
    "driver = webdriver.Chrome(options=chrome_options)"
   ]
  },
  {
   "cell_type": "code",
   "execution_count": 4,
   "metadata": {},
   "outputs": [],
   "source": [
    "url = 'https://chat.lmsys.org/'\n",
    "driver.get(url)\n",
    "driver.implicitly_wait(5)"
   ]
  },
  {
   "cell_type": "code",
   "execution_count": 5,
   "metadata": {},
   "outputs": [],
   "source": [
    "alert = driver.switch_to.alert\n",
    "alert.dismiss()"
   ]
  },
  {
   "cell_type": "code",
   "execution_count": 6,
   "metadata": {},
   "outputs": [],
   "source": [
    "component = driver.find_element(By.ID, 'component-1')\n",
    "# Find all the buttons within the \"component-1\"\n",
    "buttons = component.find_elements(By.TAG_NAME, 'button')\n",
    "\n",
    "# Check if the third button exists and then click it (assuming it's 0-based index)\n",
    "if len(buttons) >= 3:\n",
    "    buttons[2].click()\n",
    "else:\n",
    "    print(\"The third button doesn't exist.\")"
   ]
  },
  {
   "cell_type": "code",
   "execution_count": 7,
   "metadata": {},
   "outputs": [
    {
     "name": "stdout",
     "output_type": "stream",
     "text": [
      "Skip the currect option: ✓\n",
      "llama-2-70b-chat\n",
      "Skip the currect option: llama-2-13b-chat\n",
      "Skip the currect option: llama-2-7b-chat\n",
      "Skip the currect option: zephyr-7b-alpha\n",
      "Skip the currect option: qwen-14b-chat\n",
      "Skip the currect option: mistral-7b-instruct\n",
      "Skip the currect option: codellama-34b-instruct\n"
     ]
    },
    {
     "ename": "StaleElementReferenceException",
     "evalue": "Message: stale element reference: stale element not found\n  (Session info: chrome=118.0.5993.70); For documentation on this error, please visit: https://www.selenium.dev/documentation/webdriver/troubleshooting/errors#stale-element-reference-exception\nStacktrace:\n0   chromedriver                        0x0000000103010510 chromedriver + 4310288\n1   chromedriver                        0x00000001030084bc chromedriver + 4277436\n2   chromedriver                        0x0000000102c3bb6c chromedriver + 293740\n3   chromedriver                        0x0000000102c40e2c chromedriver + 314924\n4   chromedriver                        0x0000000102c42e48 chromedriver + 323144\n5   chromedriver                        0x0000000102c42f74 chromedriver + 323444\n6   chromedriver                        0x0000000102c7b948 chromedriver + 555336\n7   chromedriver                        0x0000000102c76774 chromedriver + 534388\n8   chromedriver                        0x0000000102cbbe60 chromedriver + 818784\n9   chromedriver                        0x0000000102c74fd0 chromedriver + 528336\n10  chromedriver                        0x0000000102c75e7c chromedriver + 532092\n11  chromedriver                        0x0000000102fd6834 chromedriver + 4073524\n12  chromedriver                        0x0000000102fda7fc chromedriver + 4089852\n13  chromedriver                        0x0000000102fdac58 chromedriver + 4090968\n14  chromedriver                        0x0000000102fe08f8 chromedriver + 4114680\n15  chromedriver                        0x0000000102fdb234 chromedriver + 4092468\n16  chromedriver                        0x0000000102fb5604 chromedriver + 3937796\n17  chromedriver                        0x0000000102ff7ee8 chromedriver + 4210408\n18  chromedriver                        0x0000000102ff8064 chromedriver + 4210788\n19  chromedriver                        0x0000000103008134 chromedriver + 4276532\n20  libsystem_pthread.dylib             0x00000001a56d3fa8 _pthread_start + 148\n21  libsystem_pthread.dylib             0x00000001a56ceda0 thread_start + 8\n",
     "output_type": "error",
     "traceback": [
      "\u001b[0;31m---------------------------------------------------------------------------\u001b[0m",
      "\u001b[0;31mStaleElementReferenceException\u001b[0m            Traceback (most recent call last)",
      "\u001b[1;32m/Users/jy006/Downloads/Antibody/test.ipynb Cell 8\u001b[0m line \u001b[0;36m1\n\u001b[1;32m     <a href='vscode-notebook-cell:/Users/jy006/Downloads/Antibody/test.ipynb#X10sZmlsZQ%3D%3D?line=10'>11</a>\u001b[0m \u001b[39m# Find a li element which its name is vicuna-33b\u001b[39;00m\n\u001b[1;32m     <a href='vscode-notebook-cell:/Users/jy006/Downloads/Antibody/test.ipynb#X10sZmlsZQ%3D%3D?line=11'>12</a>\u001b[0m \u001b[39mfor\u001b[39;00m li_option \u001b[39min\u001b[39;00m li_options:\n\u001b[0;32m---> <a href='vscode-notebook-cell:/Users/jy006/Downloads/Antibody/test.ipynb#X10sZmlsZQ%3D%3D?line=12'>13</a>\u001b[0m     attribute \u001b[39m=\u001b[39m li_option\u001b[39m.\u001b[39;49mtext\n\u001b[1;32m     <a href='vscode-notebook-cell:/Users/jy006/Downloads/Antibody/test.ipynb#X10sZmlsZQ%3D%3D?line=13'>14</a>\u001b[0m     \u001b[39mif\u001b[39;00m attribute \u001b[39m==\u001b[39m \u001b[39m'\u001b[39m\u001b[39mvicuna-33b\u001b[39m\u001b[39m'\u001b[39m:\n\u001b[1;32m     <a href='vscode-notebook-cell:/Users/jy006/Downloads/Antibody/test.ipynb#X10sZmlsZQ%3D%3D?line=14'>15</a>\u001b[0m         desired_li_element \u001b[39m=\u001b[39m li_option\n",
      "File \u001b[0;32m~/miniconda3/envs/guide-scoper/lib/python3.9/site-packages/selenium/webdriver/remote/webelement.py:89\u001b[0m, in \u001b[0;36mWebElement.text\u001b[0;34m(self)\u001b[0m\n\u001b[1;32m     86\u001b[0m \u001b[39m@property\u001b[39m\n\u001b[1;32m     87\u001b[0m \u001b[39mdef\u001b[39;00m \u001b[39mtext\u001b[39m(\u001b[39mself\u001b[39m) \u001b[39m-\u001b[39m\u001b[39m>\u001b[39m \u001b[39mstr\u001b[39m:\n\u001b[1;32m     88\u001b[0m \u001b[39m    \u001b[39m\u001b[39m\"\"\"The text of the element.\"\"\"\u001b[39;00m\n\u001b[0;32m---> 89\u001b[0m     \u001b[39mreturn\u001b[39;00m \u001b[39mself\u001b[39;49m\u001b[39m.\u001b[39;49m_execute(Command\u001b[39m.\u001b[39;49mGET_ELEMENT_TEXT)[\u001b[39m\"\u001b[39m\u001b[39mvalue\u001b[39m\u001b[39m\"\u001b[39m]\n",
      "File \u001b[0;32m~/miniconda3/envs/guide-scoper/lib/python3.9/site-packages/selenium/webdriver/remote/webelement.py:394\u001b[0m, in \u001b[0;36mWebElement._execute\u001b[0;34m(self, command, params)\u001b[0m\n\u001b[1;32m    392\u001b[0m     params \u001b[39m=\u001b[39m {}\n\u001b[1;32m    393\u001b[0m params[\u001b[39m\"\u001b[39m\u001b[39mid\u001b[39m\u001b[39m\"\u001b[39m] \u001b[39m=\u001b[39m \u001b[39mself\u001b[39m\u001b[39m.\u001b[39m_id\n\u001b[0;32m--> 394\u001b[0m \u001b[39mreturn\u001b[39;00m \u001b[39mself\u001b[39;49m\u001b[39m.\u001b[39;49m_parent\u001b[39m.\u001b[39;49mexecute(command, params)\n",
      "File \u001b[0;32m~/miniconda3/envs/guide-scoper/lib/python3.9/site-packages/selenium/webdriver/remote/webdriver.py:344\u001b[0m, in \u001b[0;36mWebDriver.execute\u001b[0;34m(self, driver_command, params)\u001b[0m\n\u001b[1;32m    342\u001b[0m response \u001b[39m=\u001b[39m \u001b[39mself\u001b[39m\u001b[39m.\u001b[39mcommand_executor\u001b[39m.\u001b[39mexecute(driver_command, params)\n\u001b[1;32m    343\u001b[0m \u001b[39mif\u001b[39;00m response:\n\u001b[0;32m--> 344\u001b[0m     \u001b[39mself\u001b[39;49m\u001b[39m.\u001b[39;49merror_handler\u001b[39m.\u001b[39;49mcheck_response(response)\n\u001b[1;32m    345\u001b[0m     response[\u001b[39m\"\u001b[39m\u001b[39mvalue\u001b[39m\u001b[39m\"\u001b[39m] \u001b[39m=\u001b[39m \u001b[39mself\u001b[39m\u001b[39m.\u001b[39m_unwrap_value(response\u001b[39m.\u001b[39mget(\u001b[39m\"\u001b[39m\u001b[39mvalue\u001b[39m\u001b[39m\"\u001b[39m, \u001b[39mNone\u001b[39;00m))\n\u001b[1;32m    346\u001b[0m     \u001b[39mreturn\u001b[39;00m response\n",
      "File \u001b[0;32m~/miniconda3/envs/guide-scoper/lib/python3.9/site-packages/selenium/webdriver/remote/errorhandler.py:229\u001b[0m, in \u001b[0;36mErrorHandler.check_response\u001b[0;34m(self, response)\u001b[0m\n\u001b[1;32m    227\u001b[0m         alert_text \u001b[39m=\u001b[39m value[\u001b[39m\"\u001b[39m\u001b[39malert\u001b[39m\u001b[39m\"\u001b[39m]\u001b[39m.\u001b[39mget(\u001b[39m\"\u001b[39m\u001b[39mtext\u001b[39m\u001b[39m\"\u001b[39m)\n\u001b[1;32m    228\u001b[0m     \u001b[39mraise\u001b[39;00m exception_class(message, screen, stacktrace, alert_text)  \u001b[39m# type: ignore[call-arg]  # mypy is not smart enough here\u001b[39;00m\n\u001b[0;32m--> 229\u001b[0m \u001b[39mraise\u001b[39;00m exception_class(message, screen, stacktrace)\n",
      "\u001b[0;31mStaleElementReferenceException\u001b[0m: Message: stale element reference: stale element not found\n  (Session info: chrome=118.0.5993.70); For documentation on this error, please visit: https://www.selenium.dev/documentation/webdriver/troubleshooting/errors#stale-element-reference-exception\nStacktrace:\n0   chromedriver                        0x0000000103010510 chromedriver + 4310288\n1   chromedriver                        0x00000001030084bc chromedriver + 4277436\n2   chromedriver                        0x0000000102c3bb6c chromedriver + 293740\n3   chromedriver                        0x0000000102c40e2c chromedriver + 314924\n4   chromedriver                        0x0000000102c42e48 chromedriver + 323144\n5   chromedriver                        0x0000000102c42f74 chromedriver + 323444\n6   chromedriver                        0x0000000102c7b948 chromedriver + 555336\n7   chromedriver                        0x0000000102c76774 chromedriver + 534388\n8   chromedriver                        0x0000000102cbbe60 chromedriver + 818784\n9   chromedriver                        0x0000000102c74fd0 chromedriver + 528336\n10  chromedriver                        0x0000000102c75e7c chromedriver + 532092\n11  chromedriver                        0x0000000102fd6834 chromedriver + 4073524\n12  chromedriver                        0x0000000102fda7fc chromedriver + 4089852\n13  chromedriver                        0x0000000102fdac58 chromedriver + 4090968\n14  chromedriver                        0x0000000102fe08f8 chromedriver + 4114680\n15  chromedriver                        0x0000000102fdb234 chromedriver + 4092468\n16  chromedriver                        0x0000000102fb5604 chromedriver + 3937796\n17  chromedriver                        0x0000000102ff7ee8 chromedriver + 4210408\n18  chromedriver                        0x0000000102ff8064 chromedriver + 4210788\n19  chromedriver                        0x0000000103008134 chromedriver + 4276532\n20  libsystem_pthread.dylib             0x00000001a56d3fa8 _pthread_start + 148\n21  libsystem_pthread.dylib             0x00000001a56ceda0 thread_start + 8\n"
     ]
    }
   ],
   "source": [
    "component = driver.find_element(By.ID, 'component-76')\n",
    "selectors = component.find_elements(By.TAG_NAME, 'input')\n",
    "\n",
    "if len(selectors) == 1:\n",
    "    selectors[0].click()\n",
    "    time.sleep(5)\n",
    "    ul_elements = component.find_elements(By.TAG_NAME, 'ul')\n",
    "    if len(ul_elements) == 1:\n",
    "        li_options = ul_elements[0].find_elements(By.TAG_NAME, \"li\")\n",
    "\n",
    "        # Find a li element which its name is vicuna-33b\n",
    "        for li_option in li_options:\n",
    "            attribute = li_option.text\n",
    "            if attribute == 'vicuna-33b':\n",
    "                desired_li_element = li_option\n",
    "                desired_li_element.click()\n",
    "            else:\n",
    "                print(\"Skip the currect option: %s\" % attribute)\n",
    "    else:\n",
    "        print(\"Cannot find a matched ul element.\")\n",
    "else:\n",
    "    print(\"Cannot find a matched element.\")"
   ]
  },
  {
   "cell_type": "code",
   "execution_count": null,
   "metadata": {},
   "outputs": [],
   "source": [
    "component = driver.find_element(By.ID, 'component-79')\n",
    "textareas = component.find_elements(By.TAG_NAME, 'textarea')\n",
    "\n",
    "if len(textareas) == 1:\n",
    "    textarea = textareas[0]\n",
    "    textarea.clear()\n",
    "    textarea.send_keys(\"Dose this article use any animal models according to its abstract? Please output a json file which contains two fields: result and description. result only accepts yes/no two values.<br/><br/>PET (pre-eclamptic toxaemia) has recently been linked with alterations in production of a VEGFR1 [VEGF (vascular endothelial growth factor) receptor 1] splice variant that acts as a circulating inhibitor. We have recently described a family of naturally occurring splice variants of VEGF, termed VEGF xxx b, that also appear to act as inhibitors of conventional VEGF xxx -mediated angiogenesis. To determine whether alteration in splicing of VEGF-VEGFR family members extended beyond VEGFR1, we investigated the effect of pre-eclampsia on placental VEGF xxx b mRNA and protein expression. VEGF xxx and VEGF xxx b mRNA and protein were both found in normal human term placentae. VEGF xxx protein formed the majority of the total VEGF protein (980 + \\u2212 195 pg/mg), whereas VEGF xxx b (11.5 pg/mg) was found to form a small part of the total VEGF protein expression (1.5 + \\u2212 0.24 %). Evidence for VEGF b, VEGF b and VEGF b expression was found. In pre-eclamptic placentae, there was a significant down-regulation of VEGF xxx b isoforms, but a small up-regulation of VEGF xxx isoforms. In normal placenta VEGF xxx b and VEGF xxx concentrations were positively correlated (r = 0.69, P < 0.02), whereas in pre-eclamptic placentae, there was a significant negative correlation between VEGF xxx b and VEGF xxx protein expression (r = \\u2212 0.8, P < 0.02), indicating that there was a significant uncoupling of the splicing regulation of the VEGF isoforms. Combined with previous studies showing increased soluble VEGFR1 isoforms in human pre-eclampsia, these data suggest that there may be a common mechanism in pre-eclampsia that involves dysregulation of mRNA splicing of members of the VEGF-VEGFR axis.\")\n",
    "    textarea\n",
    "else:\n",
    "    print(\"Cannot find a textare element.\")"
   ]
  },
  {
   "cell_type": "code",
   "execution_count": null,
   "metadata": {},
   "outputs": [],
   "source": [
    "component = driver.find_element(By.ID, 'component-81')\n",
    "buttons = component.find_elements(By.TAG_NAME, 'button')\n",
    "\n",
    "if len(buttons) == 1:\n",
    "    button = buttons[0]\n",
    "    button.click()\n",
    "    print(\"Wait for response\")\n",
    "    time.sleep(5)\n",
    "else:\n",
    "    print(\"Cannot find a matched button.\")"
   ]
  }
 ],
 "metadata": {
  "kernelspec": {
   "display_name": "guide-scoper",
   "language": "python",
   "name": "python3"
  },
  "language_info": {
   "codemirror_mode": {
    "name": "ipython",
    "version": 3
   },
   "file_extension": ".py",
   "mimetype": "text/x-python",
   "name": "python",
   "nbconvert_exporter": "python",
   "pygments_lexer": "ipython3",
   "version": "3.9.18"
  }
 },
 "nbformat": 4,
 "nbformat_minor": 2
}
