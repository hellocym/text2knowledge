{
 "cells": [
  {
   "cell_type": "code",
   "execution_count": 1,
   "id": "2f948b20-44aa-4e6e-b676-a5e961547fc2",
   "metadata": {
    "tags": []
   },
   "outputs": [],
   "source": [
    "# PROXY\n",
    "import subprocess\n",
    "import os\n",
    "\n",
    "result = subprocess.run('bash -c \"source /etc/network_turbo && env | grep proxy\"', shell=True, capture_output=True, text=True)\n",
    "output = result.stdout\n",
    "for line in output.splitlines():\n",
    "    if '=' in line:\n",
    "        var, value = line.split('=', 1)\n",
    "        os.environ[var] = value\n",
    "    \n",
    "os.environ['HF_HOME'] = '/autodl-tmp/hf'"
   ]
  },
  {
   "cell_type": "code",
   "execution_count": 2,
   "id": "8dbcbed7-0ecb-4ddc-8982-acb13fe3dd93",
   "metadata": {
    "tags": []
   },
   "outputs": [
    {
     "name": "stderr",
     "output_type": "stream",
     "text": [
      "/root/miniconda3/lib/python3.8/site-packages/datasets/load.py:1461: FutureWarning: The repository for bigbio/biored contains custom code which must be executed to correctly load the dataset. You can inspect the repository content at https://hf.co/datasets/bigbio/biored\n",
      "You can avoid this message in future by passing the argument `trust_remote_code=True`.\n",
      "Passing `trust_remote_code=True` will be mandatory to load this dataset from the next major release of `datasets`.\n",
      "  warnings.warn(\n",
      "Using the latest cached version of the module from /autodl-tmp/hf/modules/datasets_modules/datasets/bigbio--biored/18063bd2d68db98142aaf46df1a6436e066ae226b6d0fbe293bd452e7bcdce23 (last modified on Thu May 16 01:52:27 2024) since it couldn't be found locally at bigbio/biored, or remotely on the Hugging Face Hub.\n"
     ]
    }
   ],
   "source": [
    "from datasets import load_dataset\n",
    "datas = load_dataset(\"bigbio/biored\")"
   ]
  },
  {
   "cell_type": "code",
   "execution_count": 3,
   "id": "21aebb7f-b2e1-4265-bc89-e4fffa1156c5",
   "metadata": {
    "tags": []
   },
   "outputs": [
    {
     "name": "stdout",
     "output_type": "stream",
     "text": [
      " [{\n",
      "\"DGUOK\": \"<Gene name: DGUOK, type: Gene>\",\n",
      "\"dGK\": \"<Protein name: dGK, type: Protein>\"\n",
      "},\n",
      "{\n",
      "\"Mitochondrial DNA depletion\": \"<Disease name: Mitochondrial DNA depletion, type: Disease>\",\n",
      "\"hepatocerebral phenotype\": \"<Symptom or Disease: hepatocerebral phenotype, type: Symptom/Disease>\"\n",
      "},\n",
      "{\n",
      "\"DGUOK gene\": \"<Gene name: DGUOK, type: Gene>\",\n",
      "\"dGK kinase domain\": \"<MolecularFunction: dGK kinase domain, type: MolecularFunction>\"\n",
      "}]An exception occurred: \"entity\" not in json string output. You must use \"###{key}###\" to enclose the {key}.\n",
      "Current invalid json format: {\n",
      "\"DGUOK\": \"<Gene name: DGUOK, type: Gene>\",\n",
      "\"dGK\": \"<Protein name: dGK, type: Protein>\"\n",
      "},\n",
      "{\n",
      "\"Mitochondrial DNA depletion\": \"<Disease name: Mitochondrial DNA depletion, type: Disease>\",\n",
      "\"hepatocerebral phenotype\": \"<Symptom or Disease: hepatocerebral phenotype, type: Symptom/Disease>\"\n",
      "},\n",
      "{\n",
      "\"DGUOK gene\": \"<Gene name: DGUOK, type: Gene>\",\n",
      "\"dGK kinase domain\": \"<MolecularFunction: dGK kinase domain, type: MolecularFunction>\"\n",
      "}\n",
      " {\n",
      "\"DGUOK gene\": \"<Gene name: DGUOK, type: Gene>\",\n",
      "\"dGK kinase domain\": \"<MolecularFunction: dGK kinase domain, type: MolecularFunction>\",\n",
      "\"Mitochondrial DNA depletion\": \"<Disease name: Mitochondrial DNA depletion, type: Disease>\",\n",
      "\"hepatocerebral phenotype\": \"<Symptom or Disease: hepatocerebral phenotype, type: Symptom/Disease>\",\n",
      "\"c.444-62C>A\": \"<Mutation: c.444-62C>A, type: Mutation>\"\n",
      "}An exception occurred: \"entity\" not in json string output. You must use \"###{key}###\" to enclose the {key}.\n",
      "Current invalid json format: {\n",
      "\"DGUOK gene\": \"<Gene name: DGUOK, type: Gene>\",\n",
      "\"dGK kinase domain\": \"<MolecularFunction: dGK kinase domain, type: MolecularFunction>\",\n",
      "\"Mitochondrial DNA depletion\": \"<Disease name: Mitochondrial DNA depletion, type: Disease>\",\n",
      "\"hepatocerebral phenotype\": \"<Symptom or Disease: hepatocerebral phenotype, type: Symptom/Disease>\",\n",
      "\"c.444-62C>A\": \"<Mutation: c.444-62C>A, type: Mutation>\"\n",
      "}\n",
      " {\n",
      "\"DGUOK gene\": \"<Gene name: DGUOK, type: Gene>\",\n",
      "\"dGK kinase domain\": {\"Entity\": \"dGK kinase domain\", \"type\": {\"Category\": \"MolecularFunction\"}},\n",
      "\"Mitochondrial DNA depletion\": {\"Entity\": \"Mitochondrial DNA depletion\", \"type\": {\"Category\": \"Disease\"}},\n",
      "\"hepatocerebral phenotype\": {\"Entity\": \"hepatocerebral phenotype\", \"type\": {\"Category\": \"Symptom/Disease\"}},\n",
      "\"c.444-62C>A mutation\": {\"Entity\": \"c.444-62C>A\", \"type\": {\"Category\": \"Mutation\"}}\n",
      "}An exception occurred: \"entity\" not in json string output. You must use \"###{key}###\" to enclose the {key}.\n",
      "Current invalid json format: {\n",
      "\"DGUOK gene\": \"<Gene name: DGUOK, type: Gene>\",\n",
      "\"dGK kinase domain\": {\"Entity\": \"dGK kinase domain\", \"type\": {\"Category\": \"MolecularFunction\"}},\n",
      "\"Mitochondrial DNA depletion\": {\"Entity\": \"Mitochondrial DNA depletion\", \"type\": {\"Category\": \"Disease\"}},\n",
      "\"hepatocerebral phenotype\": {\"Entity\": \"hepatocerebral phenotype\", \"type\": {\"Category\": \"Symptom/Disease\"}},\n",
      "\"c.444-62C>A mutation\": {\"Entity\": \"c.444-62C>A\", \"type\": {\"Category\": \"Mutation\"}}\n",
      "}\n",
      "\n",
      "\n",
      "ERROR ### Here is the buggy response:  {} \n",
      "\n",
      "\n",
      "If you get `404 Client Error: Not Found`, please check if the model name is correct or you have installed the model. If you get `500 Server Error: Internal Server Error`, please check if the model is running.\n",
      "No entities found.\n"
     ]
    }
   ],
   "source": [
    "import json\n",
    "import os, sys\n",
    "import contextlib\n",
    "from text2knowledge.strategy1 import extract_concepts, extract_concepts_strict\n",
    "\n",
    "\n",
    "model_name = 'mistral:latest'\n",
    "i = 4\n",
    "while i < len(datas['test']):\n",
    "    data = datas['test'][i]\n",
    "    pmid = data['pmid']\n",
    "    passages = data['passages']\n",
    "    entities = data['entities']\n",
    "    abstract = passages[1]['text'][0]\n",
    "    abstract_offset = passages[1]['offsets'][0]\n",
    "    metadata = {\n",
    "        'pmid': pmid,\n",
    "        'type': 'abstract',\n",
    "    }\n",
    "\n",
    "    #with open(os.devnull, \"w\") as f, contextlib.redirect_stdout(f):\n",
    "    entities_extracted = extract_concepts_strict(abstract, model=model_name, metadata=metadata)\n",
    "    \n",
    "    if entities_extracted:\n",
    "        disease_entities_extracted = [e for e in entities_extracted if e['category'] == 'Disease']\n",
    "        # print(disease_entities_extracted)\n",
    "        entities_str = json.dumps(entities_extracted, indent=4)\n",
    "        # print(entities_str)\n",
    "    else:\n",
    "        print(\"No entities found.\")\n",
    "    break\n",
    "    # i += 1\n",
    "    # if i >= 2:\n",
    "    #     break"
   ]
  },
  {
   "cell_type": "code",
   "execution_count": 4,
   "id": "1c533261-3fd9-4ead-8c84-2d621c9a81ad",
   "metadata": {
    "tags": []
   },
   "outputs": [
    {
     "data": {
      "text/plain": [
       "'Deoxyguanosine kinase (dGK) deficiency is a frequent cause of mitochondrial DNA depletion associated with a hepatocerebral phenotype. In this study, we describe a new splice site mutation in the DGUOK gene and the clinical, radiologic, and genetic features of these DGUOK patients. This new DGUOK homozygous mutation (c.444-62C>A) was identified in three patients from two North-African consanguineous families with combined respiratory chain deficiencies and mitochondrial DNA depletion in the liver. Brain MRIs are normal in DGUOK patients in the literature. Interestingly, we found subtentorial abnormal myelination and moderate hyperintensity in the bilateral pallidi in our patients. This new mutation creates a cryptic splice site in intron 3 (in position -62) and is predicted to result in a larger protein with an in-frame insertion of 20 amino acids. In silico analysis of the putative impact of the insertion shows serious clashes in protein conformation: this insertion disrupts the alpha5 helix of the dGK kinase domain, rendering the protein unable to bind purine deoxyribonucleosides. In addition, a common haplotype that segregated with the disease in both families was detected by haplotype reconstruction with 10 markers (microsatellites and SNPs), which span 4.6 Mb of DNA covering the DGUOK locus. In conclusion, we report a new DGUOK splice site mutation that provide insight into a critical protein domain (dGK kinase domain) and the first founder mutation in a North-African population.'"
      ]
     },
     "execution_count": 4,
     "metadata": {},
     "output_type": "execute_result"
    }
   ],
   "source": [
    "abstract"
   ]
  },
  {
   "cell_type": "code",
   "execution_count": null,
   "id": "07b96361-7a43-4a37-9713-27c6eeb41ca5",
   "metadata": {},
   "outputs": [],
   "source": []
  }
 ],
 "metadata": {
  "kernelspec": {
   "display_name": "Python 3 (ipykernel)",
   "language": "python",
   "name": "python3"
  },
  "language_info": {
   "codemirror_mode": {
    "name": "ipython",
    "version": 3
   },
   "file_extension": ".py",
   "mimetype": "text/x-python",
   "name": "python",
   "nbconvert_exporter": "python",
   "pygments_lexer": "ipython3",
   "version": "3.8.10"
  }
 },
 "nbformat": 4,
 "nbformat_minor": 5
}
